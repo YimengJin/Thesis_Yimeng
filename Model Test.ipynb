{
 "cells": [
  {
   "cell_type": "markdown",
   "source": [
    "## 1D Model"
   ],
   "metadata": {
    "collapsed": false,
    "pycharm": {
     "name": "#%% md\n"
    }
   }
  },
  {
   "cell_type": "code",
   "execution_count": 60,
   "outputs": [],
   "source": [
    "import numpy as np\n",
    "import matplotlib.pyplot as plt\n",
    "import matplotlib.image as mpimg\n",
    "from matplotlib import rcParams\n",
    "import torch\n",
    "from botorch.models import SingleTaskGP, ModelListGP\n",
    "from botorch.fit import fit_gpytorch_model\n",
    "from botorch.utils import standardize\n",
    "from gpytorch.mlls import ExactMarginalLogLikelihood\n",
    "from botorch.acquisition.monte_carlo import qExpectedImprovement\n",
    "from botorch.acquisition.analytic import UpperConfidenceBound, ProbabilityOfImprovement\n",
    "from botorch.optim import optimize_acqf\n",
    "from botorch.cross_validation import gen_loo_cv_folds\n",
    "import math\n",
    "import GPy"
   ],
   "metadata": {
    "collapsed": false,
    "pycharm": {
     "name": "#%%\n"
    }
   }
  },
  {
   "cell_type": "markdown",
   "source": [],
   "metadata": {
    "collapsed": false,
    "pycharm": {
     "name": "#%% md\n"
    }
   }
  },
  {
   "cell_type": "code",
   "execution_count": 61,
   "outputs": [
    {
     "data": {
      "text/plain": "<Figure size 432x288 with 1 Axes>",
      "image/png": "[encoded data removed]"
     },
     "metadata": {
      "needs_background": "light"
     },
     "output_type": "display_data"
    }
   ],
   "source": [
    "def f(X):\n",
    "    y = []\n",
    "    for x in X:\n",
    "        y.append(np.sin(x) + 1.5 * np.exp(-(x - 4.3) ** 2))\n",
    "    return torch.tensor(np.array(y))\n",
    "\n",
    "\n",
    "bounds = np.array([[0., 10.]])\n",
    "fig, ax = plt.subplots()\n",
    "x = np.linspace(bounds[0, 0], bounds[0, 1], 100)\n",
    "y_true = np.array([f(np.atleast_2d(xi)) for xi in x])\n",
    "ax.plot(x, y_true)\n",
    "ax.set_xlabel('x')\n",
    "ax.set_ylabel('f(x)')\n",
    "ax.set_title('1D function')\n",
    "plt.show()"
   ],
   "metadata": {
    "collapsed": false,
    "pycharm": {
     "name": "#%%\n"
    }
   }
  },
  {
   "cell_type": "markdown",
   "source": [
    "## Retrieve initial dataset to start with"
   ],
   "metadata": {
    "collapsed": false,
    "pycharm": {
     "name": "#%% md\n"
    }
   }
  },
  {
   "cell_type": "code",
   "execution_count": 62,
   "outputs": [
    {
     "name": "stdout",
     "output_type": "stream",
     "text": [
      "intial x values:tensor([[0.9388],\n",
      "        [0.8869],\n",
      "        [0.8441],\n",
      "        [0.3322],\n",
      "        [0.5532],\n",
      "        [0.1604],\n",
      "        [0.7755],\n",
      "        [0.6646],\n",
      "        [0.3245],\n",
      "        [0.4329],\n",
      "        [0.8476],\n",
      "        [0.0194],\n",
      "        [0.8957],\n",
      "        [0.9325],\n",
      "        [0.8174],\n",
      "        [0.3808],\n",
      "        [0.6322],\n",
      "        [0.8599],\n",
      "        [0.2329],\n",
      "        [0.0359]]) initial y values:tensor([[0.8069],\n",
      "        [0.7751],\n",
      "        [0.7474],\n",
      "        [0.3261],\n",
      "        [0.5254],\n",
      "        [0.1597],\n",
      "        [0.7001],\n",
      "        [0.6167],\n",
      "        [0.3189],\n",
      "        [0.4195],\n",
      "        [0.7497],\n",
      "        [0.0194],\n",
      "        [0.7806],\n",
      "        [0.8031],\n",
      "        [0.7294],\n",
      "        [0.3717],\n",
      "        [0.5909],\n",
      "        [0.7578],\n",
      "        [0.2308],\n",
      "        [0.0359]]) Best initial y:0.8068637847900391\n"
     ]
    }
   ],
   "source": [
    "def generate_init_data(n):\n",
    "    train_x = torch.rand(n, 1)\n",
    "    exact_objective = f(train_x).unsqueeze(-1)\n",
    "    best_observation = exact_objective.max().item()\n",
    "    return train_x, exact_objective, best_observation\n",
    "\n",
    "init_data_no = 20\n",
    "\n",
    "init_x, init_y, best_init_y = generate_init_data(init_data_no)\n",
    "bounds = torch.tensor([[0.], [10.]])\n",
    "print(f\"intial x values:{init_x}\",\\\n",
    "      f\"initial y values:{init_y}\", \\\n",
    "      f\"Best initial y:{best_init_y}\")"
   ],
   "metadata": {
    "collapsed": false,
    "pycharm": {
     "name": "#%%\n"
    }
   }
  },
  {
   "cell_type": "markdown",
   "source": [
    "## General Model"
   ],
   "metadata": {
    "collapsed": false,
    "pycharm": {
     "name": "#%% md\n"
    }
   }
  },
  {
   "cell_type": "code",
   "execution_count": 63,
   "outputs": [],
   "source": [
    "def generate_next_sample(init_x, init_y, bounds, n, acq):\n",
    "    model = SingleTaskGP(init_x, init_y)\n",
    "    mll = ExactMarginalLogLikelihood(model.likelihood, model)\n",
    "    fit_gpytorch_model(mll)\n",
    "    next_sample, _ = optimize_acqf(\n",
    "        acq_function=acq,\n",
    "        bounds=bounds,\n",
    "        q=n,\n",
    "        num_restarts=200,\n",
    "        raw_samples=512,\n",
    "        options={\"batch_limit\": 5, \"maxiter\": 200})\n",
    "    return next_sample"
   ],
   "metadata": {
    "collapsed": false,
    "pycharm": {
     "name": "#%%\n"
    }
   }
  },
  {
   "cell_type": "markdown",
   "source": [
    "## EI"
   ],
   "metadata": {
    "collapsed": false,
    "pycharm": {
     "name": "#%% md\n"
    }
   }
  },
  {
   "cell_type": "code",
   "execution_count": 64,
   "outputs": [],
   "source": [
    "EI = qExpectedImprovement(\n",
    "    model=model,\n",
    "    best_f=best_init_y)"
   ],
   "metadata": {
    "collapsed": false,
    "pycharm": {
     "name": "#%%\n"
    }
   }
  },
  {
   "cell_type": "markdown",
   "source": [
    "## PI"
   ],
   "metadata": {
    "collapsed": false,
    "pycharm": {
     "name": "#%% md\n"
    }
   }
  },
  {
   "cell_type": "code",
   "execution_count": 65,
   "outputs": [
    {
     "name": "stdout",
     "output_type": "stream",
     "text": [
      "No. of optimisation runs:0\n",
      "The next sample is: tensor([[1.0271]])\n",
      "Best point performed: 0.8558209538459778\n",
      "No. of optimisation runs:1\n",
      "The next sample is: tensor([[1.1324]])\n",
      "Best point performed: 0.9055059552192688\n",
      "No. of optimisation runs:2\n",
      "The next sample is: tensor([[1.2418]])\n",
      "Best point performed: 0.9464821219444275\n",
      "No. of optimisation runs:3\n",
      "The next sample is: tensor([[1.3448]])\n",
      "Best point performed: 0.9748032689094543\n",
      "No. of optimisation runs:4\n",
      "The next sample is: tensor([[1.4395]])\n",
      "Best point performed: 0.9918152093887329\n",
      "No. of optimisation runs:5\n",
      "The next sample is: tensor([[1.5243]])\n",
      "Best point performed: 0.9995932579040527\n",
      "No. of optimisation runs:6\n",
      "The next sample is: tensor([[1.5796]])\n",
      "Best point performed: 1.0008774995803833\n",
      "No. of optimisation runs:7\n",
      "The next sample is: tensor([[1.5891]])\n",
      "Best point performed: 1.0008774995803833\n",
      "No. of optimisation runs:8\n",
      "The next sample is: tensor([[1.5936]])\n",
      "Best point performed: 1.0008774995803833\n",
      "No. of optimisation runs:9\n",
      "The next sample is: tensor([[1.5881]])\n",
      "Best point performed: 1.0008774995803833\n",
      "No. of optimisation runs:10\n",
      "The next sample is: tensor([[1.5938]])\n",
      "Best point performed: 1.0008774995803833\n",
      "No. of optimisation runs:11\n",
      "The next sample is: tensor([[1.5938]])\n",
      "Best point performed: 1.0008774995803833\n",
      "No. of optimisation runs:12\n",
      "The next sample is: tensor([[1.5936]])\n",
      "Best point performed: 1.0008774995803833\n",
      "No. of optimisation runs:13\n",
      "The next sample is: tensor([[1.5936]])\n",
      "Best point performed: 1.0008774995803833\n",
      "No. of optimisation runs:14\n",
      "The next sample is: tensor([[1.5938]])\n",
      "Best point performed: 1.0008774995803833\n",
      "No. of optimisation runs:15\n",
      "The next sample is: tensor([[1.5888]])\n",
      "Best point performed: 1.0008774995803833\n",
      "No. of optimisation runs:16\n",
      "The next sample is: tensor([[1.5886]])\n",
      "Best point performed: 1.0008774995803833\n",
      "No. of optimisation runs:17\n",
      "The next sample is: tensor([[1.5931]])\n",
      "Best point performed: 1.0008774995803833\n",
      "No. of optimisation runs:18\n",
      "The next sample is: tensor([[1.5932]])\n",
      "Best point performed: 1.0008774995803833\n",
      "No. of optimisation runs:19\n",
      "The next sample is: tensor([[1.5933]])\n",
      "Best point performed: 1.0008774995803833\n"
     ]
    }
   ],
   "source": [
    "def generate_next_sample(init_x, init_y, best_init_y, bounds, n):\n",
    "    model = SingleTaskGP(init_x, init_y)\n",
    "    mll = ExactMarginalLogLikelihood(model.likelihood, model)\n",
    "    fit_gpytorch_model(mll)\n",
    "    PI = ProbabilityOfImprovement(\n",
    "        model=model,\n",
    "        best_f=best_init_y)\n",
    "    next_sample, _ = optimize_acqf(\n",
    "        acq_function=PI,\n",
    "        bounds=bounds,\n",
    "        q=n,\n",
    "        num_restarts=200,\n",
    "        raw_samples=512,\n",
    "        options={\"batch_limit\": 5, \"maxiter\": 200})\n",
    "    return next_sample\n",
    "\n",
    "\n",
    "n_runs = 20 # no. of BO runs\n",
    "for i in range(n_runs):\n",
    "    print(f\"No. of optimisation runs:{i}\")\n",
    "    next_sample = generate_next_sample(init_x, init_y, best_init_y, bounds, n=1)\n",
    "    new_result = f(next_sample).unsqueeze(-1)\n",
    "\n",
    "    print(f\"The next sample is: {next_sample}\")\n",
    "\n",
    "    init_x = torch.cat([init_x, next_sample])\n",
    "    init_y = torch.cat([init_y, new_result])\n",
    "    best_init_y = init_y.max().item()\n",
    "    print(f\"Best point performed: {best_init_y}\")"
   ],
   "metadata": {
    "collapsed": false,
    "pycharm": {
     "name": "#%%\n"
    }
   }
  },
  {
   "cell_type": "markdown",
   "source": [
    "## Result Visualisation"
   ],
   "metadata": {
    "collapsed": false,
    "pycharm": {
     "name": "#%% md\n"
    }
   }
  },
  {
   "cell_type": "code",
   "execution_count": 66,
   "outputs": [
    {
     "data": {
      "text/plain": "<Figure size 432x288 with 1 Axes>",
      "image/png": "[encoded data removed]"
     },
     "metadata": {
      "needs_background": "light"
     },
     "output_type": "display_data"
    }
   ],
   "source": [
    "model = SingleTaskGP(init_x, init_y)\n",
    "model.eval()\n",
    "\n",
    "# Initialize plot\n",
    "f, ax = plt.subplots(1, 1, figsize=(6, 4))\n",
    "# test model on 101 regular spaced points on the interval [0, 10]\n",
    "test_x = torch.linspace(0, 10, 101)\n",
    "# no need for gradients\n",
    "with torch.no_grad():\n",
    "    # compute posterior\n",
    "    posterior = model.posterior(test_x)\n",
    "    # Get upper and lower confidence bounds (2 standard deviations from the mean)\n",
    "    lower, upper = posterior.mvn.confidence_region()\n",
    "    # Plot training points as black stars\n",
    "    ax.plot(init_x.cpu().numpy(), init_y.cpu().numpy(), 'k*')\n",
    "    # Plot posterior means as blue line\n",
    "    ax.plot(test_x.cpu().numpy(), posterior.mean.cpu().numpy(), 'b')\n",
    "    # Shade between the lower and upper confidence bounds\n",
    "    ax.fill_between(test_x.cpu().numpy(), lower.cpu().numpy(), upper.cpu().numpy(), alpha=0.5)\n",
    "ax.legend(['Observed Data', 'Mean', 'Confidence'])\n",
    "plt.tight_layout()\n",
    "plt.show()"
   ],
   "metadata": {
    "collapsed": false,
    "pycharm": {
     "name": "#%%\n"
    }
   }
  },
  {
   "cell_type": "code",
   "execution_count": null,
   "outputs": [],
   "source": [],
   "metadata": {
    "collapsed": false,
    "pycharm": {
     "name": "#%%\n"
    }
   }
  }
 ],
 "metadata": {
  "kernelspec": {
   "display_name": "Python 3",
   "language": "python",
   "name": "python3"
  },
  "language_info": {
   "codemirror_mode": {
    "name": "ipython",
    "version": 2
   },
   "file_extension": ".py",
   "mimetype": "text/x-python",
   "name": "python",
   "nbconvert_exporter": "python",
   "pygments_lexer": "ipython2",
   "version": "2.7.6"
  }
 },
 "nbformat": 4,
 "nbformat_minor": 0
}