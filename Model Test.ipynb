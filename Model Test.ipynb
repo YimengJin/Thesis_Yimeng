{
 "cells": [
  {
   "cell_type": "markdown",
   "source": [
    "## 1D Model"
   ],
   "metadata": {
    "collapsed": false,
    "pycharm": {
     "name": "#%% md\n"
    }
   }
  },
  {
   "cell_type": "code",
   "execution_count": 54,
   "outputs": [],
   "source": [
    "import numpy as np\n",
    "import matplotlib.pyplot as plt\n",
    "import matplotlib.image as mpimg\n",
    "from matplotlib import rcParams\n",
    "import torch\n",
    "from botorch.models import SingleTaskGP, ModelListGP\n",
    "from botorch.fit import fit_gpytorch_model\n",
    "from botorch.utils import standardize\n",
    "from gpytorch.mlls import ExactMarginalLogLikelihood\n",
    "from botorch.acquisition.monte_carlo import qExpectedImprovement\n",
    "from botorch.acquisition.analytic import UpperConfidenceBound, ProbabilityOfImprovement\n",
    "from botorch.optim import optimize_acqf\n",
    "from botorch.cross_validation import gen_loo_cv_folds\n",
    "import math\n",
    "import GPy"
   ],
   "metadata": {
    "collapsed": false,
    "pycharm": {
     "name": "#%%\n"
    }
   }
  },
  {
   "cell_type": "markdown",
   "source": [],
   "metadata": {
    "collapsed": false,
    "pycharm": {
     "name": "#%% md\n"
    }
   }
  },
  {
   "cell_type": "code",
   "execution_count": 55,
   "outputs": [
    {
     "data": {
      "text/plain": "<Figure size 432x288 with 1 Axes>",
      "image/png": "[encoded data removed]"
     },
     "metadata": {
      "needs_background": "light"
     },
     "output_type": "display_data"
    }
   ],
   "source": [
    "def f(X):\n",
    "    y = []\n",
    "    for x in X:\n",
    "        y.append(np.sin(x) + 1.5 * np.exp(-(x - 4.3) ** 2))\n",
    "    return torch.tensor(np.array(y))\n",
    "\n",
    "\n",
    "bounds = np.array([[0., 10.]])\n",
    "fig, ax = plt.subplots()\n",
    "x = np.linspace(bounds[0, 0], bounds[0, 1], 100)\n",
    "y_true = np.array([f(np.atleast_2d(xi)) for xi in x])\n",
    "ax.plot(x, y_true)\n",
    "ax.set_xlabel('x')\n",
    "ax.set_ylabel('f(x)')\n",
    "ax.set_title('1D function')\n",
    "plt.show()"
   ],
   "metadata": {
    "collapsed": false,
    "pycharm": {
     "name": "#%%\n"
    }
   }
  },
  {
   "cell_type": "markdown",
   "source": [
    "## Retrieve initial dataset to start with"
   ],
   "metadata": {
    "collapsed": false,
    "pycharm": {
     "name": "#%% md\n"
    }
   }
  },
  {
   "cell_type": "code",
   "execution_count": 56,
   "outputs": [
    {
     "name": "stdout",
     "output_type": "stream",
     "text": [
      "intial x values:tensor([[0.6503],\n",
      "        [0.1705],\n",
      "        [0.8158],\n",
      "        [0.3529],\n",
      "        [0.0327],\n",
      "        [0.3641],\n",
      "        [0.9451],\n",
      "        [0.3450],\n",
      "        [0.9256],\n",
      "        [0.3642],\n",
      "        [0.9540],\n",
      "        [0.2865],\n",
      "        [0.3564],\n",
      "        [0.4381],\n",
      "        [0.5643],\n",
      "        [0.5592],\n",
      "        [0.2257],\n",
      "        [0.1509],\n",
      "        [0.7755],\n",
      "        [0.9386]]) initial y values:tensor([[0.6054],\n",
      "        [0.1697],\n",
      "        [0.7283],\n",
      "        [0.3456],\n",
      "        [0.0327],\n",
      "        [0.3561],\n",
      "        [0.8106],\n",
      "        [0.3382],\n",
      "        [0.7990],\n",
      "        [0.3562],\n",
      "        [0.8157],\n",
      "        [0.2826],\n",
      "        [0.3489],\n",
      "        [0.4242],\n",
      "        [0.5348],\n",
      "        [0.5305],\n",
      "        [0.2238],\n",
      "        [0.1503],\n",
      "        [0.7000],\n",
      "        [0.8067]]) Best initial y:0.815746545791626\n"
     ]
    },
    {
     "data": {
      "text/plain": "tensor([[ 0.],\n        [10.]])"
     },
     "execution_count": 56,
     "metadata": {},
     "output_type": "execute_result"
    }
   ],
   "source": [
    "def generate_init_data(n):\n",
    "    train_x = torch.rand(n, 1)\n",
    "    exact_objective = f(train_x).unsqueeze(-1)\n",
    "    best_observation = exact_objective.max().item()\n",
    "    return train_x, exact_objective, best_observation\n",
    "\n",
    "init_data_no = 20\n",
    "\n",
    "init_x, init_y, best_init_y = generate_init_data(init_data_no)\n",
    "bounds = torch.tensor([[0.], [10.]])\n",
    "print(f\"intial x values:{init_x}\",\\\n",
    "      f\"initial y values:{init_y}\", \\\n",
    "      f\"Best initial y:{best_init_y}\")\n"
   ],
   "metadata": {
    "collapsed": false,
    "pycharm": {
     "name": "#%%\n"
    }
   }
  },
  {
   "cell_type": "markdown",
   "source": [
    "## EI"
   ],
   "metadata": {
    "collapsed": false,
    "pycharm": {
     "name": "#%% md\n"
    }
   }
  },
  {
   "cell_type": "code",
   "execution_count": 45,
   "outputs": [
    {
     "name": "stdout",
     "output_type": "stream",
     "text": [
      "No. of optimisation runs:0\n",
      "The next sample is: tensor([[2.0717]])\n",
      "Best point performed: 0.8876107335090637\n",
      "No. of optimisation runs:1\n",
      "The next sample is: tensor([[1.5509]])\n",
      "Best point performed: 1.000584602355957\n",
      "No. of optimisation runs:2\n",
      "The next sample is: tensor([[10.]])\n",
      "Best point performed: 1.000584602355957\n",
      "No. of optimisation runs:3\n",
      "The next sample is: tensor([[4.0962]])\n",
      "Best point performed: 1.000584602355957\n",
      "No. of optimisation runs:4\n",
      "The next sample is: tensor([[6.0513]])\n",
      "Best point performed: 1.000584602355957\n"
     ]
    }
   ],
   "source": [
    "def generate_next_sample(init_x, init_y, best_init_y, bounds, n):\n",
    "    model = SingleTaskGP(init_x, init_y)\n",
    "    mll = ExactMarginalLogLikelihood(model.likelihood, model)\n",
    "    fit_gpytorch_model(mll)\n",
    "    EI = qExpectedImprovement(\n",
    "        model=model,\n",
    "        best_f=best_init_y)\n",
    "    next_sample, _ = optimize_acqf(\n",
    "        acq_function=EI,\n",
    "        bounds=bounds,\n",
    "        q=n,\n",
    "        num_restarts=200,\n",
    "        raw_samples=512,\n",
    "        options={\"batch_limit\": 5, \"maxiter\": 200})\n",
    "    return next_sample\n",
    "\n",
    "\n",
    "n_runs = 5 # no. of BO runs\n",
    "for i in range(n_runs):\n",
    "    print(f\"No. of optimisation runs:{i}\")\n",
    "    next_sample = generate_next_sample(init_x, init_y, best_init_y, bounds, n=1)\n",
    "    new_result = f(next_sample).unsqueeze(-1)\n",
    "\n",
    "    print(f\"The next sample is: {next_sample}\")\n",
    "\n",
    "    init_x = torch.cat([init_x, next_sample])\n",
    "    init_y = torch.cat([init_y, new_result])\n",
    "    best_init_y = init_y.max().item()\n",
    "    print(f\"Best point performed: {best_init_y}\")"
   ],
   "metadata": {
    "collapsed": false,
    "pycharm": {
     "name": "#%%\n"
    }
   }
  },
  {
   "cell_type": "markdown",
   "source": [
    "## PI"
   ],
   "metadata": {
    "collapsed": false,
    "pycharm": {
     "name": "#%% md\n"
    }
   }
  },
  {
   "cell_type": "code",
   "execution_count": 51,
   "outputs": [
    {
     "name": "stdout",
     "output_type": "stream",
     "text": [
      "No. of optimisation runs:0\n",
      "The next sample is: tensor([[1.0117]])\n",
      "Best point performed: 0.8477461338043213\n",
      "No. of optimisation runs:1\n",
      "The next sample is: tensor([[1.1173]])\n",
      "Best point performed: 0.8989976644515991\n",
      "No. of optimisation runs:2\n",
      "The next sample is: tensor([[1.2204]])\n",
      "Best point performed: 0.9393410086631775\n",
      "No. of optimisation runs:3\n",
      "The next sample is: tensor([[1.3265]])\n",
      "Best point performed: 0.9705315828323364\n",
      "No. of optimisation runs:4\n",
      "The next sample is: tensor([[1.4261]])\n",
      "Best point performed: 0.989935576915741\n",
      "No. of optimisation runs:5\n",
      "The next sample is: tensor([[1.5127]])\n",
      "Best point performed: 0.9989496469497681\n",
      "No. of optimisation runs:6\n",
      "The next sample is: tensor([[1.5735]])\n",
      "Best point performed: 1.000882863998413\n",
      "No. of optimisation runs:7\n",
      "The next sample is: tensor([[1.5929]])\n",
      "Best point performed: 1.000882863998413\n",
      "No. of optimisation runs:8\n",
      "The next sample is: tensor([[1.5887]])\n",
      "Best point performed: 1.000882863998413\n",
      "No. of optimisation runs:9\n",
      "The next sample is: tensor([[1.5886]])\n",
      "Best point performed: 1.000882863998413\n",
      "No. of optimisation runs:10\n",
      "The next sample is: tensor([[1.5933]])\n",
      "Best point performed: 1.000882863998413\n",
      "No. of optimisation runs:11\n",
      "The next sample is: tensor([[1.5933]])\n",
      "Best point performed: 1.000882863998413\n",
      "No. of optimisation runs:12\n",
      "The next sample is: tensor([[1.5929]])\n",
      "Best point performed: 1.000882863998413\n",
      "No. of optimisation runs:13\n",
      "The next sample is: tensor([[1.5938]])\n",
      "Best point performed: 1.000882863998413\n",
      "No. of optimisation runs:14\n",
      "The next sample is: tensor([[1.5882]])\n",
      "Best point performed: 1.000882863998413\n",
      "No. of optimisation runs:15\n",
      "The next sample is: tensor([[1.5895]])\n",
      "Best point performed: 1.000882863998413\n",
      "No. of optimisation runs:16\n",
      "The next sample is: tensor([[1.5884]])\n",
      "Best point performed: 1.000882863998413\n",
      "No. of optimisation runs:17\n",
      "The next sample is: tensor([[1.5929]])\n",
      "Best point performed: 1.000882863998413\n",
      "No. of optimisation runs:18\n",
      "The next sample is: tensor([[1.5930]])\n",
      "Best point performed: 1.000882863998413\n",
      "No. of optimisation runs:19\n",
      "The next sample is: tensor([[1.5927]])\n",
      "Best point performed: 1.000882863998413\n"
     ]
    }
   ],
   "source": [
    "def generate_next_sample(init_x, init_y, best_init_y, bounds, n):\n",
    "    model = SingleTaskGP(init_x, init_y)\n",
    "    mll = ExactMarginalLogLikelihood(model.likelihood, model)\n",
    "    fit_gpytorch_model(mll)\n",
    "    PI = ProbabilityOfImprovement(\n",
    "        model=model,\n",
    "        best_f=best_init_y)\n",
    "    next_sample, _ = optimize_acqf(\n",
    "        acq_function=PI,\n",
    "        bounds=bounds,\n",
    "        q=n,\n",
    "        num_restarts=200,\n",
    "        raw_samples=512,\n",
    "        options={\"batch_limit\": 5, \"maxiter\": 200})\n",
    "    return next_sample\n",
    "\n",
    "\n",
    "n_runs = 20 # no. of BO runs\n",
    "for i in range(n_runs):\n",
    "    print(f\"No. of optimisation runs:{i}\")\n",
    "    next_sample = generate_next_sample(init_x, init_y, best_init_y, bounds, n=1)\n",
    "    new_result = f(next_sample).unsqueeze(-1)\n",
    "\n",
    "    print(f\"The next sample is: {next_sample}\")\n",
    "\n",
    "    init_x = torch.cat([init_x, next_sample])\n",
    "    init_y = torch.cat([init_y, new_result])\n",
    "    best_init_y = init_y.max().item()\n",
    "    print(f\"Best point performed: {best_init_y}\")"
   ],
   "metadata": {
    "collapsed": false,
    "pycharm": {
     "name": "#%%\n"
    }
   }
  },
  {
   "cell_type": "markdown",
   "source": [
    "## Result Visualisation"
   ],
   "metadata": {
    "collapsed": false,
    "pycharm": {
     "name": "#%% md\n"
    }
   }
  },
  {
   "cell_type": "code",
   "execution_count": 52,
   "outputs": [
    {
     "data": {
      "text/plain": "<Figure size 432x288 with 1 Axes>",
      "image/png": "[encoded data removed]"
     },
     "metadata": {
      "needs_background": "light"
     },
     "output_type": "display_data"
    }
   ],
   "source": [
    "model = SingleTaskGP(init_x, init_y)\n",
    "model.eval()\n",
    "\n",
    "# Initialize plot\n",
    "f, ax = plt.subplots(1, 1, figsize=(6, 4))\n",
    "# test model on 101 regular spaced points on the interval [0, 10]\n",
    "test_x = torch.linspace(0, 10, 101)\n",
    "# no need for gradients\n",
    "with torch.no_grad():\n",
    "    # compute posterior\n",
    "    posterior = model.posterior(test_x)\n",
    "    # Get upper and lower confidence bounds (2 standard deviations from the mean)\n",
    "    lower, upper = posterior.mvn.confidence_region()\n",
    "    # Plot training points as black stars\n",
    "    ax.plot(init_x.cpu().numpy(), init_y.cpu().numpy(), 'k*')\n",
    "    # Plot posterior means as blue line\n",
    "    ax.plot(test_x.cpu().numpy(), posterior.mean.cpu().numpy(), 'b')\n",
    "    # Shade between the lower and upper confidence bounds\n",
    "    ax.fill_between(test_x.cpu().numpy(), lower.cpu().numpy(), upper.cpu().numpy(), alpha=0.5)\n",
    "ax.legend(['Observed Data', 'Mean', 'Confidence'])\n",
    "plt.tight_layout()\n",
    "plt.show()"
   ],
   "metadata": {
    "collapsed": false,
    "pycharm": {
     "name": "#%%\n"
    }
   }
  },
  {
   "cell_type": "code",
   "execution_count": null,
   "outputs": [],
   "source": [],
   "metadata": {
    "collapsed": false,
    "pycharm": {
     "name": "#%%\n"
    }
   }
  }
 ],
 "metadata": {
  "kernelspec": {
   "display_name": "Python 3",
   "language": "python",
   "name": "python3"
  },
  "language_info": {
   "codemirror_mode": {
    "name": "ipython",
    "version": 2
   },
   "file_extension": ".py",
   "mimetype": "text/x-python",
   "name": "python",
   "nbconvert_exporter": "python",
   "pygments_lexer": "ipython2",
   "version": "2.7.6"
  }
 },
 "nbformat": 4,
 "nbformat_minor": 0
}