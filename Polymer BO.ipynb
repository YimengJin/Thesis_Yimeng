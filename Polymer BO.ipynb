{
 "cells": [
  {
   "cell_type": "markdown",
   "source": [
    "## Bayesian Optimisation for Antimicrobial Polymer Discovery"
   ],
   "metadata": {
    "collapsed": false,
    "pycharm": {
     "name": "#%% md\n"
    }
   }
  },
  {
   "cell_type": "code",
   "execution_count": 45,
   "outputs": [],
   "source": [
    "import numpy as np\n",
    "import matplotlib.pyplot as plt\n",
    "import matplotlib.image as mpimg\n",
    "from matplotlib import rcParams\n",
    "import torch\n",
    "from botorch.models import SingleTaskGP, ModelListGP\n",
    "from botorch.fit import fit_gpytorch_model\n",
    "from botorch.utils import standardize\n",
    "from gpytorch.mlls import ExactMarginalLogLikelihood\n",
    "from botorch.acquisition.monte_carlo import qExpectedImprovement\n",
    "from botorch.acquisition.analytic import UpperConfidenceBound, ProbabilityOfImprovement\n",
    "from botorch.optim import optimize_acqf\n",
    "from botorch.cross_validation import gen_loo_cv_folds\n",
    "import math\n",
    "import GPy\n",
    "import pandas as pd"
   ],
   "metadata": {
    "collapsed": false,
    "pycharm": {
     "name": "#%%\n"
    }
   }
  },
  {
   "cell_type": "markdown",
   "source": [
    "## Retrieve Training dataset and assign variables\n",
    "To enable mixed search space, utilise MixedSingleTaskGP which uses a special kernel to combine continuous and categorical data."
   ],
   "metadata": {
    "collapsed": false,
    "pycharm": {
     "name": "#%% md\n"
    }
   }
  },
  {
   "cell_type": "code",
   "execution_count": 46,
   "outputs": [
    {
     "data": {
      "text/plain": "       type_A type_B1 type_B2 type_C  composition_A  composition_B1  \\\n0    Boc-AEAm    PEAm     NaN   HEAm            0.5            0.30   \n1    Boc-AEAm    PEAm     NaN   HEAm            0.5            0.30   \n2    Boc-AEAm    PEAm     NaN   HEAm            0.5            0.30   \n3    Boc-AEAm    PEAm     NaN    NaN            0.7            0.30   \n4    Boc-AEAm    PEAm     NaN    NaN            0.7            0.30   \n..        ...     ...     ...    ...            ...             ...   \n156    AAPTAC    PEAm   NIPAm   HEAm            0.3            0.00   \n157    AAPTAC    PEAm   NIPAm   HEAm            0.3            0.70   \n158    AAPTAC    PEAm   NIPAm   HEAm            0.3            0.47   \n159    AAPTAC    PEAm   NIPAm   HEAm            0.3            0.23   \n160    AAPTAC    PEAm   NIPAm   HEAm            0.3            0.00   \n\n     composition_B2  MIC_PAO1_PA  \n0              0.00           32  \n1              0.00           64  \n2              0.00           64  \n3              0.00          128  \n4              0.00           64  \n..              ...          ...  \n156            0.47          128  \n157            0.00          128  \n158            0.23          128  \n159            0.47          128  \n160            0.70          128  \n\n[161 rows x 8 columns]",
      "text/html": "<div>\n<style scoped>\n    .dataframe tbody tr th:only-of-type {\n        vertical-align: middle;\n    }\n\n    .dataframe tbody tr th {\n        vertical-align: top;\n    }\n\n    .dataframe thead th {\n        text-align: right;\n    }\n</style>\n<table border=\"1\" class=\"dataframe\">\n  <thead>\n    <tr style=\"text-align: right;\">\n      <th></th>\n      <th>type_A</th>\n      <th>type_B1</th>\n      <th>type_B2</th>\n      <th>type_C</th>\n      <th>composition_A</th>\n      <th>composition_B1</th>\n      <th>composition_B2</th>\n      <th>MIC_PAO1_PA</th>\n    </tr>\n  </thead>\n  <tbody>\n    <tr>\n      <th>0</th>\n      <td>Boc-AEAm</td>\n      <td>PEAm</td>\n      <td>NaN</td>\n      <td>HEAm</td>\n      <td>0.5</td>\n      <td>0.30</td>\n      <td>0.00</td>\n      <td>32</td>\n    </tr>\n    <tr>\n      <th>1</th>\n      <td>Boc-AEAm</td>\n      <td>PEAm</td>\n      <td>NaN</td>\n      <td>HEAm</td>\n      <td>0.5</td>\n      <td>0.30</td>\n      <td>0.00</td>\n      <td>64</td>\n    </tr>\n    <tr>\n      <th>2</th>\n      <td>Boc-AEAm</td>\n      <td>PEAm</td>\n      <td>NaN</td>\n      <td>HEAm</td>\n      <td>0.5</td>\n      <td>0.30</td>\n      <td>0.00</td>\n      <td>64</td>\n    </tr>\n    <tr>\n      <th>3</th>\n      <td>Boc-AEAm</td>\n      <td>PEAm</td>\n      <td>NaN</td>\n      <td>NaN</td>\n      <td>0.7</td>\n      <td>0.30</td>\n      <td>0.00</td>\n      <td>128</td>\n    </tr>\n    <tr>\n      <th>4</th>\n      <td>Boc-AEAm</td>\n      <td>PEAm</td>\n      <td>NaN</td>\n      <td>NaN</td>\n      <td>0.7</td>\n      <td>0.30</td>\n      <td>0.00</td>\n      <td>64</td>\n    </tr>\n    <tr>\n      <th>...</th>\n      <td>...</td>\n      <td>...</td>\n      <td>...</td>\n      <td>...</td>\n      <td>...</td>\n      <td>...</td>\n      <td>...</td>\n      <td>...</td>\n    </tr>\n    <tr>\n      <th>156</th>\n      <td>AAPTAC</td>\n      <td>PEAm</td>\n      <td>NIPAm</td>\n      <td>HEAm</td>\n      <td>0.3</td>\n      <td>0.00</td>\n      <td>0.47</td>\n      <td>128</td>\n    </tr>\n    <tr>\n      <th>157</th>\n      <td>AAPTAC</td>\n      <td>PEAm</td>\n      <td>NIPAm</td>\n      <td>HEAm</td>\n      <td>0.3</td>\n      <td>0.70</td>\n      <td>0.00</td>\n      <td>128</td>\n    </tr>\n    <tr>\n      <th>158</th>\n      <td>AAPTAC</td>\n      <td>PEAm</td>\n      <td>NIPAm</td>\n      <td>HEAm</td>\n      <td>0.3</td>\n      <td>0.47</td>\n      <td>0.23</td>\n      <td>128</td>\n    </tr>\n    <tr>\n      <th>159</th>\n      <td>AAPTAC</td>\n      <td>PEAm</td>\n      <td>NIPAm</td>\n      <td>HEAm</td>\n      <td>0.3</td>\n      <td>0.23</td>\n      <td>0.47</td>\n      <td>128</td>\n    </tr>\n    <tr>\n      <th>160</th>\n      <td>AAPTAC</td>\n      <td>PEAm</td>\n      <td>NIPAm</td>\n      <td>HEAm</td>\n      <td>0.3</td>\n      <td>0.00</td>\n      <td>0.70</td>\n      <td>128</td>\n    </tr>\n  </tbody>\n</table>\n<p>161 rows × 8 columns</p>\n</div>"
     },
     "execution_count": 46,
     "metadata": {},
     "output_type": "execute_result"
    }
   ],
   "source": [
    "data = pd.read_csv('modified_data.csv',usecols=[1,2,3,4,5,6,7,23])\n",
    "data"
   ],
   "metadata": {
    "collapsed": false,
    "pycharm": {
     "name": "#%%\n"
    }
   }
  },
  {
   "cell_type": "code",
   "execution_count": 86,
   "outputs": [
    {
     "data": {
      "text/plain": "(tensor([[0.5000, 0.3000, 0.0000],\n         [0.5000, 0.3000, 0.0000],\n         [0.5000, 0.3000, 0.0000],\n         [0.7000, 0.3000, 0.0000],\n         [0.7000, 0.3000, 0.0000],\n         [0.7000, 0.3000, 0.0000],\n         [0.5000, 0.3000, 0.0000],\n         [0.5000, 0.3000, 0.0000],\n         [0.5000, 0.3000, 0.0000],\n         [0.5000, 0.3000, 0.0000],\n         [0.5000, 0.3000, 0.0000],\n         [0.5000, 0.3000, 0.0000],\n         [0.7000, 0.3000, 0.0000],\n         [0.7000, 0.3000, 0.0000],\n         [0.5000, 0.3000, 0.0000],\n         [0.5000, 0.3000, 0.0000],\n         [0.5000, 0.3000, 0.0000],\n         [0.5000, 0.3000, 0.0000],\n         [0.5000, 0.3000, 0.0000],\n         [0.5000, 0.3000, 0.0000],\n         [0.5000, 0.3000, 0.0000],\n         [0.5000, 0.3000, 0.0000],\n         [0.5000, 0.3000, 0.0000],\n         [0.5000, 0.3000, 0.0000],\n         [0.5000, 0.3000, 0.0000],\n         [0.5000, 0.3000, 0.0000],\n         [0.5000, 0.3000, 0.0000],\n         [0.5000, 0.3000, 0.0000],\n         [0.5000, 0.3000, 0.0000],\n         [0.5000, 0.3000, 0.0000],\n         [0.5000, 0.1500, 0.0000],\n         [0.5000, 0.1500, 0.0000],\n         [0.5000, 0.3000, 0.0000],\n         [0.5000, 0.3000, 0.0000],\n         [0.5000, 0.3000, 0.0000],\n         [0.5000, 0.3000, 0.0000],\n         [0.5000, 0.3000, 0.0000],\n         [0.5000, 0.3000, 0.0000],\n         [0.5000, 0.3000, 0.0000],\n         [0.5000, 0.3000, 0.0000],\n         [0.5000, 0.3000, 0.0000],\n         [1.0000, 0.0000, 0.0000],\n         [0.7000, 0.0000, 0.0000],\n         [0.7000, 0.1000, 0.0000],\n         [0.7000, 0.0700, 0.0300],\n         [0.7000, 0.0300, 0.0700],\n         [0.7000, 0.0000, 0.1000],\n         [0.7000, 0.2000, 0.0000],\n         [0.7000, 0.1300, 0.0700],\n         [0.7000, 0.0700, 0.1300],\n         [0.7000, 0.0000, 0.2000],\n         [0.7000, 0.3000, 0.0000],\n         [0.7000, 0.2000, 0.1000],\n         [0.7000, 0.1000, 0.2000],\n         [0.7000, 0.0000, 0.3000],\n         [0.5000, 0.0000, 0.0000],\n         [0.5000, 0.1700, 0.0000],\n         [0.5000, 0.1100, 0.0600],\n         [0.5000, 0.0600, 0.1100],\n         [0.5000, 0.0000, 0.1700],\n         [0.5000, 0.3300, 0.0000],\n         [0.5000, 0.2200, 0.1100],\n         [0.5000, 0.1100, 0.2200],\n         [0.5000, 0.0000, 0.3300],\n         [0.5000, 0.5000, 0.0000],\n         [0.5000, 0.3300, 0.1700],\n         [0.5000, 0.1700, 0.3300],\n         [0.5000, 0.0000, 0.5000],\n         [0.3000, 0.0000, 0.0000],\n         [0.3000, 0.2300, 0.0000],\n         [0.3000, 0.1600, 0.0700],\n         [0.3000, 0.0800, 0.1500],\n         [0.3000, 0.0000, 0.2300],\n         [0.3000, 0.4700, 0.0000],\n         [0.3000, 0.3100, 0.1600],\n         [0.3000, 0.1600, 0.3100],\n         [0.3000, 0.0000, 0.4700],\n         [0.3000, 0.7000, 0.0000],\n         [0.3000, 0.4700, 0.2300],\n         [0.3000, 0.2300, 0.4700],\n         [0.3000, 0.0000, 0.7000],\n         [1.0000, 0.0000, 0.0000],\n         [0.7000, 0.0000, 0.0000],\n         [0.7000, 0.1000, 0.0000],\n         [0.7000, 0.0700, 0.0300],\n         [0.7000, 0.0300, 0.0700],\n         [0.7000, 0.0000, 0.1000],\n         [0.7000, 0.2000, 0.0000],\n         [0.7000, 0.1300, 0.0700],\n         [0.7000, 0.0700, 0.1300],\n         [0.7000, 0.0000, 0.2000],\n         [0.7000, 0.3000, 0.0000],\n         [0.7000, 0.2000, 0.1000],\n         [0.7000, 0.1000, 0.2000],\n         [0.7000, 0.0000, 0.3000],\n         [0.5000, 0.0000, 0.0000],\n         [0.5000, 0.1700, 0.0000],\n         [0.5000, 0.1100, 0.0600],\n         [0.5000, 0.0600, 0.1100],\n         [0.5000, 0.0000, 0.1700],\n         [0.5000, 0.3300, 0.0000],\n         [0.5000, 0.2200, 0.1100],\n         [0.5000, 0.1100, 0.2200],\n         [0.5000, 0.0000, 0.3300],\n         [0.5000, 0.5000, 0.0000],\n         [0.5000, 0.3300, 0.1700],\n         [0.5000, 0.1700, 0.3300],\n         [0.5000, 0.0000, 0.5000],\n         [0.3000, 0.0000, 0.0000],\n         [0.3000, 0.2300, 0.0000],\n         [0.3000, 0.1600, 0.0700],\n         [0.3000, 0.0800, 0.1500],\n         [0.3000, 0.0000, 0.2300],\n         [0.3000, 0.4700, 0.0000],\n         [0.3000, 0.3100, 0.1600],\n         [0.3000, 0.1600, 0.3100],\n         [0.3000, 0.0000, 0.4700],\n         [0.3000, 0.7000, 0.0000],\n         [0.3000, 0.4700, 0.2300],\n         [0.3000, 0.2300, 0.4700],\n         [0.3000, 0.0000, 0.7000],\n         [1.0000, 0.0000, 0.0000],\n         [0.7000, 0.0000, 0.0000],\n         [0.7000, 0.1000, 0.0000],\n         [0.7000, 0.0700, 0.0300],\n         [0.7000, 0.0300, 0.0700],\n         [0.7000, 0.0000, 0.1000],\n         [0.7000, 0.2000, 0.0000],\n         [0.7000, 0.1300, 0.0700],\n         [0.7000, 0.0700, 0.1300],\n         [0.7000, 0.0000, 0.2000],\n         [0.7000, 0.3000, 0.0000],\n         [0.7000, 0.2000, 0.1000],\n         [0.7000, 0.1000, 0.2000],\n         [0.7000, 0.0000, 0.3000],\n         [0.5000, 0.0000, 0.0000],\n         [0.5000, 0.1700, 0.0000],\n         [0.5000, 0.1100, 0.0600],\n         [0.5000, 0.0600, 0.1100],\n         [0.5000, 0.0000, 0.1700],\n         [0.5000, 0.3300, 0.0000],\n         [0.5000, 0.2200, 0.1100],\n         [0.5000, 0.1100, 0.2200],\n         [0.5000, 0.0000, 0.3300],\n         [0.5000, 0.5000, 0.0000],\n         [0.5000, 0.3300, 0.1700],\n         [0.5000, 0.1700, 0.3300],\n         [0.5000, 0.0000, 0.5000],\n         [0.3000, 0.0000, 0.0000],\n         [0.3000, 0.2300, 0.0000],\n         [0.3000, 0.1600, 0.0700],\n         [0.3000, 0.0800, 0.1500],\n         [0.3000, 0.0000, 0.2300],\n         [0.3000, 0.4700, 0.0000],\n         [0.3000, 0.3100, 0.1600],\n         [0.3000, 0.1600, 0.3100],\n         [0.3000, 0.0000, 0.4700],\n         [0.3000, 0.7000, 0.0000],\n         [0.3000, 0.4700, 0.2300],\n         [0.3000, 0.2300, 0.4700],\n         [0.3000, 0.0000, 0.7000]], dtype=torch.float64),\n tensor([ 32.,  64.,  64., 128.,  64.,  64., 256., 256., 256., 256., 256., 256.,\n         256., 256., 256.,  64.,  32.,  32.,  64.,  64., 128.,  64.,  32.,  32.,\n         256., 256., 256.,  64., 256., 256., 128.,  64.,  64.,  64.,  32.,  64.,\n          32.,  64., 128., 128., 128., 128., 128., 128., 128., 128., 128., 128.,\n         128., 128., 128., 128., 128., 128., 128., 128., 128., 128., 128., 128.,\n          64.,  64., 128., 128., 128.,  32.,  32., 128., 128., 128., 128., 128.,\n         128., 128.,  32.,  64., 128., 128., 128.,  32., 128., 128., 128., 128.,\n         128., 128., 128., 128., 128., 128., 128., 128., 128., 128., 128., 128.,\n         128., 128., 128., 128., 128., 128., 128., 128., 128., 128., 128., 128.,\n         128., 128., 128., 128., 128., 128., 128., 128., 128., 128., 128., 128.,\n         128., 128., 128., 128., 128., 128., 128., 128., 128., 128., 128., 128.,\n         128., 128., 128., 128., 128., 128., 128., 128., 128., 128., 128., 128.,\n         128., 128., 128., 128., 128., 128., 128., 128., 128., 128., 128., 128.,\n         128., 128., 128., 128., 128.], dtype=torch.float64),\n tensor(32., dtype=torch.float64))"
     },
     "execution_count": 86,
     "metadata": {},
     "output_type": "execute_result"
    }
   ],
   "source": [
    "train_y = torch.tensor(data.iloc[ : ,7].values,dtype = float)\n",
    "train_x= torch.tensor(data.iloc[:,4:7].values)\n",
    "best_y = min(train_y)\n",
    "train_x, train_y, best_y"
   ],
   "metadata": {
    "collapsed": false,
    "pycharm": {
     "name": "#%%\n"
    }
   }
  },
  {
   "cell_type": "markdown",
   "source": [
    "## Generate the next point (regardless of the type)"
   ],
   "metadata": {
    "collapsed": false,
    "pycharm": {
     "name": "#%% md\n"
    }
   }
  },
  {
   "cell_type": "code",
   "execution_count": 87,
   "outputs": [
    {
     "ename": "IndexError",
     "evalue": "Dimension out of range (expected to be in range of [-1, 0], but got -2)",
     "output_type": "error",
     "traceback": [
      "\u001B[0;31m---------------------------------------------------------------------------\u001B[0m",
      "\u001B[0;31mIndexError\u001B[0m                                Traceback (most recent call last)",
      "\u001B[0;32m<ipython-input-87-41bd0a527826>\u001B[0m in \u001B[0;36m<module>\u001B[0;34m\u001B[0m\n\u001B[0;32m----> 1\u001B[0;31m \u001B[0mSurrogate\u001B[0m \u001B[0;34m=\u001B[0m \u001B[0mSingleTaskGP\u001B[0m\u001B[0;34m(\u001B[0m\u001B[0mtrain_X\u001B[0m \u001B[0;34m=\u001B[0m \u001B[0mtrain_x\u001B[0m\u001B[0;34m,\u001B[0m \u001B[0mtrain_Y\u001B[0m \u001B[0;34m=\u001B[0m \u001B[0mtrain_y\u001B[0m\u001B[0;34m)\u001B[0m\u001B[0;34m\u001B[0m\u001B[0;34m\u001B[0m\u001B[0m\n\u001B[0m\u001B[1;32m      2\u001B[0m \u001B[0mmll\u001B[0m \u001B[0;34m=\u001B[0m \u001B[0mExactMarginalLogLikelihood\u001B[0m\u001B[0;34m(\u001B[0m\u001B[0mSurrogate\u001B[0m\u001B[0;34m.\u001B[0m\u001B[0mlikelihood\u001B[0m\u001B[0;34m,\u001B[0m \u001B[0mSurrogate\u001B[0m\u001B[0;34m)\u001B[0m\u001B[0;34m\u001B[0m\u001B[0;34m\u001B[0m\u001B[0m\n\u001B[1;32m      3\u001B[0m \u001B[0mbounds\u001B[0m \u001B[0;34m=\u001B[0m \u001B[0mtorch\u001B[0m\u001B[0;34m.\u001B[0m\u001B[0mtensor\u001B[0m\u001B[0;34m(\u001B[0m\u001B[0;34m[\u001B[0m\u001B[0;34m[\u001B[0m\u001B[0;36m0\u001B[0m\u001B[0;34m,\u001B[0m \u001B[0;36m1\u001B[0m\u001B[0;34m]\u001B[0m\u001B[0;34m,\u001B[0m \u001B[0;34m[\u001B[0m\u001B[0;36m0\u001B[0m\u001B[0;34m,\u001B[0m \u001B[0;36m1\u001B[0m\u001B[0;34m]\u001B[0m\u001B[0;34m,\u001B[0m\u001B[0;34m[\u001B[0m\u001B[0;36m0\u001B[0m\u001B[0;34m,\u001B[0m\u001B[0;36m1\u001B[0m\u001B[0;34m]\u001B[0m\u001B[0;34m]\u001B[0m\u001B[0;34m)\u001B[0m\u001B[0;34m\u001B[0m\u001B[0;34m\u001B[0m\u001B[0m\n\u001B[1;32m      4\u001B[0m \u001B[0mEI\u001B[0m \u001B[0;34m=\u001B[0m \u001B[0mqExpectedImprovement\u001B[0m\u001B[0;34m(\u001B[0m\u001B[0mmodel\u001B[0m \u001B[0;34m=\u001B[0m \u001B[0mSurrogate\u001B[0m\u001B[0;34m,\u001B[0m \u001B[0mbest_f\u001B[0m \u001B[0;34m=\u001B[0m \u001B[0mbest_y\u001B[0m\u001B[0;34m)\u001B[0m\u001B[0;34m\u001B[0m\u001B[0;34m\u001B[0m\u001B[0m\n\u001B[1;32m      5\u001B[0m next_sample, _ = optimize_acqf(\n",
      "\u001B[0;32m~/Thesis_Yimeng/lib/python3.6/site-packages/botorch/models/gp_regression.py\u001B[0m in \u001B[0;36m__init__\u001B[0;34m(self, train_X, train_Y, likelihood, covar_module, outcome_transform)\u001B[0m\n\u001B[1;32m     87\u001B[0m         \u001B[0;32mif\u001B[0m \u001B[0moutcome_transform\u001B[0m \u001B[0;32mis\u001B[0m \u001B[0;32mnot\u001B[0m \u001B[0;32mNone\u001B[0m\u001B[0;34m:\u001B[0m\u001B[0;34m\u001B[0m\u001B[0;34m\u001B[0m\u001B[0m\n\u001B[1;32m     88\u001B[0m             \u001B[0mtrain_Y\u001B[0m\u001B[0;34m,\u001B[0m \u001B[0m_\u001B[0m \u001B[0;34m=\u001B[0m \u001B[0moutcome_transform\u001B[0m\u001B[0;34m(\u001B[0m\u001B[0mtrain_Y\u001B[0m\u001B[0;34m)\u001B[0m\u001B[0;34m\u001B[0m\u001B[0;34m\u001B[0m\u001B[0m\n\u001B[0;32m---> 89\u001B[0;31m         \u001B[0mvalidate_input_scaling\u001B[0m\u001B[0;34m(\u001B[0m\u001B[0mtrain_X\u001B[0m\u001B[0;34m=\u001B[0m\u001B[0mtrain_X\u001B[0m\u001B[0;34m,\u001B[0m \u001B[0mtrain_Y\u001B[0m\u001B[0;34m=\u001B[0m\u001B[0mtrain_Y\u001B[0m\u001B[0;34m)\u001B[0m\u001B[0;34m\u001B[0m\u001B[0;34m\u001B[0m\u001B[0m\n\u001B[0m\u001B[1;32m     90\u001B[0m         \u001B[0mself\u001B[0m\u001B[0;34m.\u001B[0m\u001B[0m_validate_tensor_args\u001B[0m\u001B[0;34m(\u001B[0m\u001B[0mX\u001B[0m\u001B[0;34m=\u001B[0m\u001B[0mtrain_X\u001B[0m\u001B[0;34m,\u001B[0m \u001B[0mY\u001B[0m\u001B[0;34m=\u001B[0m\u001B[0mtrain_Y\u001B[0m\u001B[0;34m)\u001B[0m\u001B[0;34m\u001B[0m\u001B[0;34m\u001B[0m\u001B[0m\n\u001B[1;32m     91\u001B[0m         \u001B[0mself\u001B[0m\u001B[0;34m.\u001B[0m\u001B[0m_set_dimensions\u001B[0m\u001B[0;34m(\u001B[0m\u001B[0mtrain_X\u001B[0m\u001B[0;34m=\u001B[0m\u001B[0mtrain_X\u001B[0m\u001B[0;34m,\u001B[0m \u001B[0mtrain_Y\u001B[0m\u001B[0;34m=\u001B[0m\u001B[0mtrain_Y\u001B[0m\u001B[0;34m)\u001B[0m\u001B[0;34m\u001B[0m\u001B[0;34m\u001B[0m\u001B[0m\n",
      "\u001B[0;32m~/Thesis_Yimeng/lib/python3.6/site-packages/botorch/models/utils.py\u001B[0m in \u001B[0;36mvalidate_input_scaling\u001B[0;34m(train_X, train_Y, train_Yvar, raise_on_fail)\u001B[0m\n\u001B[1;32m    223\u001B[0m             \u001B[0;32mraise\u001B[0m \u001B[0mInputDataError\u001B[0m\u001B[0;34m(\u001B[0m\u001B[0;34m\"Input data contains negative variances.\"\u001B[0m\u001B[0;34m)\u001B[0m\u001B[0;34m\u001B[0m\u001B[0;34m\u001B[0m\u001B[0m\n\u001B[1;32m    224\u001B[0m     \u001B[0mcheck_min_max_scaling\u001B[0m\u001B[0;34m(\u001B[0m\u001B[0mX\u001B[0m\u001B[0;34m=\u001B[0m\u001B[0mtrain_X\u001B[0m\u001B[0;34m,\u001B[0m \u001B[0mraise_on_fail\u001B[0m\u001B[0;34m=\u001B[0m\u001B[0mraise_on_fail\u001B[0m\u001B[0;34m)\u001B[0m\u001B[0;34m\u001B[0m\u001B[0;34m\u001B[0m\u001B[0m\n\u001B[0;32m--> 225\u001B[0;31m     \u001B[0mcheck_standardization\u001B[0m\u001B[0;34m(\u001B[0m\u001B[0mY\u001B[0m\u001B[0;34m=\u001B[0m\u001B[0mtrain_Y\u001B[0m\u001B[0;34m,\u001B[0m \u001B[0mraise_on_fail\u001B[0m\u001B[0;34m=\u001B[0m\u001B[0mraise_on_fail\u001B[0m\u001B[0;34m)\u001B[0m\u001B[0;34m\u001B[0m\u001B[0;34m\u001B[0m\u001B[0m\n\u001B[0m\u001B[1;32m    226\u001B[0m \u001B[0;34m\u001B[0m\u001B[0m\n\u001B[1;32m    227\u001B[0m \u001B[0;34m\u001B[0m\u001B[0m\n",
      "\u001B[0;32m~/Thesis_Yimeng/lib/python3.6/site-packages/botorch/models/utils.py\u001B[0m in \u001B[0;36mcheck_standardization\u001B[0;34m(Y, atol_mean, atol_std, raise_on_fail)\u001B[0m\n\u001B[1;32m    176\u001B[0m     \"\"\"\n\u001B[1;32m    177\u001B[0m     \u001B[0;32mwith\u001B[0m \u001B[0mtorch\u001B[0m\u001B[0;34m.\u001B[0m\u001B[0mno_grad\u001B[0m\u001B[0;34m(\u001B[0m\u001B[0;34m)\u001B[0m\u001B[0;34m:\u001B[0m\u001B[0;34m\u001B[0m\u001B[0;34m\u001B[0m\u001B[0m\n\u001B[0;32m--> 178\u001B[0;31m         \u001B[0mYmean\u001B[0m\u001B[0;34m,\u001B[0m \u001B[0mYstd\u001B[0m \u001B[0;34m=\u001B[0m \u001B[0mtorch\u001B[0m\u001B[0;34m.\u001B[0m\u001B[0mmean\u001B[0m\u001B[0;34m(\u001B[0m\u001B[0mY\u001B[0m\u001B[0;34m,\u001B[0m \u001B[0mdim\u001B[0m\u001B[0;34m=\u001B[0m\u001B[0;34m-\u001B[0m\u001B[0;36m2\u001B[0m\u001B[0;34m)\u001B[0m\u001B[0;34m,\u001B[0m \u001B[0mtorch\u001B[0m\u001B[0;34m.\u001B[0m\u001B[0mstd\u001B[0m\u001B[0;34m(\u001B[0m\u001B[0mY\u001B[0m\u001B[0;34m,\u001B[0m \u001B[0mdim\u001B[0m\u001B[0;34m=\u001B[0m\u001B[0;34m-\u001B[0m\u001B[0;36m2\u001B[0m\u001B[0;34m)\u001B[0m\u001B[0;34m\u001B[0m\u001B[0;34m\u001B[0m\u001B[0m\n\u001B[0m\u001B[1;32m    179\u001B[0m         \u001B[0;32mif\u001B[0m \u001B[0mtorch\u001B[0m\u001B[0;34m.\u001B[0m\u001B[0mabs\u001B[0m\u001B[0;34m(\u001B[0m\u001B[0mYmean\u001B[0m\u001B[0;34m)\u001B[0m\u001B[0;34m.\u001B[0m\u001B[0mmax\u001B[0m\u001B[0;34m(\u001B[0m\u001B[0;34m)\u001B[0m \u001B[0;34m>\u001B[0m \u001B[0matol_mean\u001B[0m \u001B[0;32mor\u001B[0m \u001B[0mtorch\u001B[0m\u001B[0;34m.\u001B[0m\u001B[0mabs\u001B[0m\u001B[0;34m(\u001B[0m\u001B[0mYstd\u001B[0m \u001B[0;34m-\u001B[0m \u001B[0;36m1\u001B[0m\u001B[0;34m)\u001B[0m\u001B[0;34m.\u001B[0m\u001B[0mmax\u001B[0m\u001B[0;34m(\u001B[0m\u001B[0;34m)\u001B[0m \u001B[0;34m>\u001B[0m \u001B[0matol_std\u001B[0m\u001B[0;34m:\u001B[0m\u001B[0;34m\u001B[0m\u001B[0;34m\u001B[0m\u001B[0m\n\u001B[1;32m    180\u001B[0m             msg = (\n",
      "\u001B[0;31mIndexError\u001B[0m: Dimension out of range (expected to be in range of [-1, 0], but got -2)"
     ]
    }
   ],
   "source": [
    "Surrogate = SingleTaskGP(train_X = train_x, train_Y = train_y)\n",
    "mll = ExactMarginalLogLikelihood(Surrogate.likelihood, Surrogate)\n",
    "bounds = torch.tensor([[0, 1], [0, 1],[0,1]])\n",
    "EI = qExpectedImprovement(model = Surrogate, best_f = best_y)\n",
    "next_sample, _ = optimize_acqf(\n",
    "        acq_function=EI,\n",
    "        bounds=bounds,\n",
    "        q=n,\n",
    "        num_restarts=200,\n",
    "        raw_samples=512,\n",
    "        options={\"batch_limit\": 5, \"maxiter\": 200})\n",
    "next_sample"
   ],
   "metadata": {
    "collapsed": false,
    "pycharm": {
     "name": "#%%\n"
    }
   }
  },
  {
   "cell_type": "code",
   "execution_count": null,
   "outputs": [],
   "source": [],
   "metadata": {
    "collapsed": false,
    "pycharm": {
     "name": "#%%\n"
    }
   }
  }
 ],
 "metadata": {
  "kernelspec": {
   "display_name": "Python 3",
   "language": "python",
   "name": "python3"
  },
  "language_info": {
   "codemirror_mode": {
    "name": "ipython",
    "version": 2
   },
   "file_extension": ".py",
   "mimetype": "text/x-python",
   "name": "python",
   "nbconvert_exporter": "python",
   "pygments_lexer": "ipython2",
   "version": "2.7.6"
  }
 },
 "nbformat": 4,
 "nbformat_minor": 0
}