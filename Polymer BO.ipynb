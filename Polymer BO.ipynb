{
 "cells": [
  {
   "cell_type": "markdown",
   "source": [
    "## Bayesian Optimisation for Antimicrobial Polymer Discovery"
   ],
   "metadata": {
    "collapsed": false,
    "pycharm": {
     "name": "#%% md\n"
    }
   }
  },
  {
   "cell_type": "code",
   "execution_count": 12,
   "outputs": [],
   "source": [
    "import numpy as np\n",
    "import matplotlib.pyplot as plt\n",
    "import matplotlib.image as mpimg\n",
    "from matplotlib import rcParams\n",
    "import torch\n",
    "from botorch.models import SingleTaskGP, ModelListGP\n",
    "from botorch.models.gp_regression_mixed import MixedSingleTaskGP\n",
    "from botorch.fit import fit_gpytorch_model\n",
    "from botorch.utils import standardize\n",
    "from gpytorch.mlls import ExactMarginalLogLikelihood\n",
    "from botorch.acquisition.monte_carlo import qExpectedImprovement\n",
    "from botorch.acquisition.analytic import UpperConfidenceBound, ProbabilityOfImprovement, ExpectedImprovement\n",
    "from botorch.optim import optimize_acqf, optimize_acqf_mixed\n",
    "from botorch.cross_validation import gen_loo_cv_folds\n",
    "import math\n",
    "import pandas as pd"
   ],
   "metadata": {
    "collapsed": false,
    "pycharm": {
     "name": "#%%\n"
    }
   }
  },
  {
   "cell_type": "markdown",
   "source": [
    "## Retrieve Training dataset and assign variables\n",
    "To enable mixed search space, utilise MixedSingleTaskGP which uses a special kernel to combine continuous and categorical data."
   ],
   "metadata": {
    "collapsed": false,
    "pycharm": {
     "name": "#%% md\n"
    }
   }
  },
  {
   "cell_type": "code",
   "execution_count": 13,
   "outputs": [
    {
     "data": {
      "text/plain": "       type_A type_B1 type_B2 type_C  composition_A  composition_B1  \\\n0    Boc-AEAm    PEAm     NaN   HEAm            0.5            0.30   \n1    Boc-AEAm    PEAm     NaN   HEAm            0.5            0.30   \n2    Boc-AEAm    PEAm     NaN   HEAm            0.5            0.30   \n3    Boc-AEAm    PEAm     NaN    NaN            0.7            0.30   \n4    Boc-AEAm    PEAm     NaN    NaN            0.7            0.30   \n..        ...     ...     ...    ...            ...             ...   \n156    AAPTAC    PEAm   NIPAm   HEAm            0.3            0.00   \n157    AAPTAC    PEAm   NIPAm   HEAm            0.3            0.70   \n158    AAPTAC    PEAm   NIPAm   HEAm            0.3            0.47   \n159    AAPTAC    PEAm   NIPAm   HEAm            0.3            0.23   \n160    AAPTAC    PEAm   NIPAm   HEAm            0.3            0.00   \n\n     composition_B2  MIC_PAO1_PA  \n0              0.00           32  \n1              0.00           64  \n2              0.00           64  \n3              0.00          128  \n4              0.00           64  \n..              ...          ...  \n156            0.47          128  \n157            0.00          128  \n158            0.23          128  \n159            0.47          128  \n160            0.70          128  \n\n[161 rows x 8 columns]",
      "text/html": "<div>\n<style scoped>\n    .dataframe tbody tr th:only-of-type {\n        vertical-align: middle;\n    }\n\n    .dataframe tbody tr th {\n        vertical-align: top;\n    }\n\n    .dataframe thead th {\n        text-align: right;\n    }\n</style>\n<table border=\"1\" class=\"dataframe\">\n  <thead>\n    <tr style=\"text-align: right;\">\n      <th></th>\n      <th>type_A</th>\n      <th>type_B1</th>\n      <th>type_B2</th>\n      <th>type_C</th>\n      <th>composition_A</th>\n      <th>composition_B1</th>\n      <th>composition_B2</th>\n      <th>MIC_PAO1_PA</th>\n    </tr>\n  </thead>\n  <tbody>\n    <tr>\n      <th>0</th>\n      <td>Boc-AEAm</td>\n      <td>PEAm</td>\n      <td>NaN</td>\n      <td>HEAm</td>\n      <td>0.5</td>\n      <td>0.30</td>\n      <td>0.00</td>\n      <td>32</td>\n    </tr>\n    <tr>\n      <th>1</th>\n      <td>Boc-AEAm</td>\n      <td>PEAm</td>\n      <td>NaN</td>\n      <td>HEAm</td>\n      <td>0.5</td>\n      <td>0.30</td>\n      <td>0.00</td>\n      <td>64</td>\n    </tr>\n    <tr>\n      <th>2</th>\n      <td>Boc-AEAm</td>\n      <td>PEAm</td>\n      <td>NaN</td>\n      <td>HEAm</td>\n      <td>0.5</td>\n      <td>0.30</td>\n      <td>0.00</td>\n      <td>64</td>\n    </tr>\n    <tr>\n      <th>3</th>\n      <td>Boc-AEAm</td>\n      <td>PEAm</td>\n      <td>NaN</td>\n      <td>NaN</td>\n      <td>0.7</td>\n      <td>0.30</td>\n      <td>0.00</td>\n      <td>128</td>\n    </tr>\n    <tr>\n      <th>4</th>\n      <td>Boc-AEAm</td>\n      <td>PEAm</td>\n      <td>NaN</td>\n      <td>NaN</td>\n      <td>0.7</td>\n      <td>0.30</td>\n      <td>0.00</td>\n      <td>64</td>\n    </tr>\n    <tr>\n      <th>...</th>\n      <td>...</td>\n      <td>...</td>\n      <td>...</td>\n      <td>...</td>\n      <td>...</td>\n      <td>...</td>\n      <td>...</td>\n      <td>...</td>\n    </tr>\n    <tr>\n      <th>156</th>\n      <td>AAPTAC</td>\n      <td>PEAm</td>\n      <td>NIPAm</td>\n      <td>HEAm</td>\n      <td>0.3</td>\n      <td>0.00</td>\n      <td>0.47</td>\n      <td>128</td>\n    </tr>\n    <tr>\n      <th>157</th>\n      <td>AAPTAC</td>\n      <td>PEAm</td>\n      <td>NIPAm</td>\n      <td>HEAm</td>\n      <td>0.3</td>\n      <td>0.70</td>\n      <td>0.00</td>\n      <td>128</td>\n    </tr>\n    <tr>\n      <th>158</th>\n      <td>AAPTAC</td>\n      <td>PEAm</td>\n      <td>NIPAm</td>\n      <td>HEAm</td>\n      <td>0.3</td>\n      <td>0.47</td>\n      <td>0.23</td>\n      <td>128</td>\n    </tr>\n    <tr>\n      <th>159</th>\n      <td>AAPTAC</td>\n      <td>PEAm</td>\n      <td>NIPAm</td>\n      <td>HEAm</td>\n      <td>0.3</td>\n      <td>0.23</td>\n      <td>0.47</td>\n      <td>128</td>\n    </tr>\n    <tr>\n      <th>160</th>\n      <td>AAPTAC</td>\n      <td>PEAm</td>\n      <td>NIPAm</td>\n      <td>HEAm</td>\n      <td>0.3</td>\n      <td>0.00</td>\n      <td>0.70</td>\n      <td>128</td>\n    </tr>\n  </tbody>\n</table>\n<p>161 rows × 8 columns</p>\n</div>"
     },
     "execution_count": 13,
     "metadata": {},
     "output_type": "execute_result"
    }
   ],
   "source": [
    "data = pd.read_csv('modified_data.csv',usecols=[1,2,3,4,5,6,7,23])\n",
    "data"
   ],
   "metadata": {
    "collapsed": false,
    "pycharm": {
     "name": "#%%\n"
    }
   }
  },
  {
   "cell_type": "markdown",
   "source": [
    "## Introduce Dummy Variables"
   ],
   "metadata": {
    "collapsed": false,
    "pycharm": {
     "name": "#%% md\n"
    }
   }
  },
  {
   "cell_type": "code",
   "execution_count": 14,
   "outputs": [
    {
     "data": {
      "text/plain": "     composition_A  composition_B1  composition_B2  MIC_PAO1_PA  \\\n0              0.5            0.30            0.00           32   \n1              0.5            0.30            0.00           64   \n2              0.5            0.30            0.00           64   \n3              0.7            0.30            0.00          128   \n4              0.7            0.30            0.00           64   \n..             ...             ...             ...          ...   \n156            0.3            0.00            0.47          128   \n157            0.3            0.70            0.00          128   \n158            0.3            0.47            0.23          128   \n159            0.3            0.23            0.47          128   \n160            0.3            0.00            0.70          128   \n\n     type_A_Boc-AEAm  type_A_DMAEA  type_B1_EHA  type_B1_PEAm  type_C_HEAm  \\\n0                  1             0            0             1            1   \n1                  1             0            0             1            1   \n2                  1             0            0             1            1   \n3                  1             0            0             1            0   \n4                  1             0            0             1            0   \n..               ...           ...          ...           ...          ...   \n156                0             0            0             1            1   \n157                0             0            0             1            1   \n158                0             0            0             1            1   \n159                0             0            0             1            1   \n160                0             0            0             1            1   \n\n     type_C_PEGA  \n0              0  \n1              0  \n2              0  \n3              0  \n4              0  \n..           ...  \n156            0  \n157            0  \n158            0  \n159            0  \n160            0  \n\n[161 rows x 10 columns]",
      "text/html": "<div>\n<style scoped>\n    .dataframe tbody tr th:only-of-type {\n        vertical-align: middle;\n    }\n\n    .dataframe tbody tr th {\n        vertical-align: top;\n    }\n\n    .dataframe thead th {\n        text-align: right;\n    }\n</style>\n<table border=\"1\" class=\"dataframe\">\n  <thead>\n    <tr style=\"text-align: right;\">\n      <th></th>\n      <th>composition_A</th>\n      <th>composition_B1</th>\n      <th>composition_B2</th>\n      <th>MIC_PAO1_PA</th>\n      <th>type_A_Boc-AEAm</th>\n      <th>type_A_DMAEA</th>\n      <th>type_B1_EHA</th>\n      <th>type_B1_PEAm</th>\n      <th>type_C_HEAm</th>\n      <th>type_C_PEGA</th>\n    </tr>\n  </thead>\n  <tbody>\n    <tr>\n      <th>0</th>\n      <td>0.5</td>\n      <td>0.30</td>\n      <td>0.00</td>\n      <td>32</td>\n      <td>1</td>\n      <td>0</td>\n      <td>0</td>\n      <td>1</td>\n      <td>1</td>\n      <td>0</td>\n    </tr>\n    <tr>\n      <th>1</th>\n      <td>0.5</td>\n      <td>0.30</td>\n      <td>0.00</td>\n      <td>64</td>\n      <td>1</td>\n      <td>0</td>\n      <td>0</td>\n      <td>1</td>\n      <td>1</td>\n      <td>0</td>\n    </tr>\n    <tr>\n      <th>2</th>\n      <td>0.5</td>\n      <td>0.30</td>\n      <td>0.00</td>\n      <td>64</td>\n      <td>1</td>\n      <td>0</td>\n      <td>0</td>\n      <td>1</td>\n      <td>1</td>\n      <td>0</td>\n    </tr>\n    <tr>\n      <th>3</th>\n      <td>0.7</td>\n      <td>0.30</td>\n      <td>0.00</td>\n      <td>128</td>\n      <td>1</td>\n      <td>0</td>\n      <td>0</td>\n      <td>1</td>\n      <td>0</td>\n      <td>0</td>\n    </tr>\n    <tr>\n      <th>4</th>\n      <td>0.7</td>\n      <td>0.30</td>\n      <td>0.00</td>\n      <td>64</td>\n      <td>1</td>\n      <td>0</td>\n      <td>0</td>\n      <td>1</td>\n      <td>0</td>\n      <td>0</td>\n    </tr>\n    <tr>\n      <th>...</th>\n      <td>...</td>\n      <td>...</td>\n      <td>...</td>\n      <td>...</td>\n      <td>...</td>\n      <td>...</td>\n      <td>...</td>\n      <td>...</td>\n      <td>...</td>\n      <td>...</td>\n    </tr>\n    <tr>\n      <th>156</th>\n      <td>0.3</td>\n      <td>0.00</td>\n      <td>0.47</td>\n      <td>128</td>\n      <td>0</td>\n      <td>0</td>\n      <td>0</td>\n      <td>1</td>\n      <td>1</td>\n      <td>0</td>\n    </tr>\n    <tr>\n      <th>157</th>\n      <td>0.3</td>\n      <td>0.70</td>\n      <td>0.00</td>\n      <td>128</td>\n      <td>0</td>\n      <td>0</td>\n      <td>0</td>\n      <td>1</td>\n      <td>1</td>\n      <td>0</td>\n    </tr>\n    <tr>\n      <th>158</th>\n      <td>0.3</td>\n      <td>0.47</td>\n      <td>0.23</td>\n      <td>128</td>\n      <td>0</td>\n      <td>0</td>\n      <td>0</td>\n      <td>1</td>\n      <td>1</td>\n      <td>0</td>\n    </tr>\n    <tr>\n      <th>159</th>\n      <td>0.3</td>\n      <td>0.23</td>\n      <td>0.47</td>\n      <td>128</td>\n      <td>0</td>\n      <td>0</td>\n      <td>0</td>\n      <td>1</td>\n      <td>1</td>\n      <td>0</td>\n    </tr>\n    <tr>\n      <th>160</th>\n      <td>0.3</td>\n      <td>0.00</td>\n      <td>0.70</td>\n      <td>128</td>\n      <td>0</td>\n      <td>0</td>\n      <td>0</td>\n      <td>1</td>\n      <td>1</td>\n      <td>0</td>\n    </tr>\n  </tbody>\n</table>\n<p>161 rows × 10 columns</p>\n</div>"
     },
     "execution_count": 14,
     "metadata": {},
     "output_type": "execute_result"
    }
   ],
   "source": [
    "data_with_dummies = pd.get_dummies(data,drop_first = True)\n",
    "data_with_dummies"
   ],
   "metadata": {
    "collapsed": false,
    "pycharm": {
     "name": "#%%\n"
    }
   }
  },
  {
   "cell_type": "code",
   "execution_count": 27,
   "outputs": [
    {
     "data": {
      "text/plain": "(tensor([[0.5000, 0.3000, 0.0000],\n         [0.5000, 0.3000, 0.0000],\n         [0.5000, 0.3000, 0.0000],\n         [0.7000, 0.3000, 0.0000],\n         [0.7000, 0.3000, 0.0000],\n         [0.7000, 0.3000, 0.0000],\n         [0.5000, 0.3000, 0.0000],\n         [0.5000, 0.3000, 0.0000],\n         [0.5000, 0.3000, 0.0000],\n         [0.5000, 0.3000, 0.0000],\n         [0.5000, 0.3000, 0.0000],\n         [0.5000, 0.3000, 0.0000],\n         [0.7000, 0.3000, 0.0000],\n         [0.7000, 0.3000, 0.0000],\n         [0.5000, 0.3000, 0.0000],\n         [0.5000, 0.3000, 0.0000],\n         [0.5000, 0.3000, 0.0000],\n         [0.5000, 0.3000, 0.0000],\n         [0.5000, 0.3000, 0.0000],\n         [0.5000, 0.3000, 0.0000],\n         [0.5000, 0.3000, 0.0000],\n         [0.5000, 0.3000, 0.0000],\n         [0.5000, 0.3000, 0.0000],\n         [0.5000, 0.3000, 0.0000],\n         [0.5000, 0.3000, 0.0000],\n         [0.5000, 0.3000, 0.0000],\n         [0.5000, 0.3000, 0.0000],\n         [0.5000, 0.3000, 0.0000],\n         [0.5000, 0.3000, 0.0000],\n         [0.5000, 0.3000, 0.0000],\n         [0.5000, 0.1500, 0.0000],\n         [0.5000, 0.1500, 0.0000],\n         [0.5000, 0.3000, 0.0000],\n         [0.5000, 0.3000, 0.0000],\n         [0.5000, 0.3000, 0.0000],\n         [0.5000, 0.3000, 0.0000],\n         [0.5000, 0.3000, 0.0000],\n         [0.5000, 0.3000, 0.0000],\n         [0.5000, 0.3000, 0.0000],\n         [0.5000, 0.3000, 0.0000],\n         [0.5000, 0.3000, 0.0000],\n         [1.0000, 0.0000, 0.0000],\n         [0.7000, 0.0000, 0.0000],\n         [0.7000, 0.1000, 0.0000],\n         [0.7000, 0.0700, 0.0300],\n         [0.7000, 0.0300, 0.0700],\n         [0.7000, 0.0000, 0.1000],\n         [0.7000, 0.2000, 0.0000],\n         [0.7000, 0.1300, 0.0700],\n         [0.7000, 0.0700, 0.1300],\n         [0.7000, 0.0000, 0.2000],\n         [0.7000, 0.3000, 0.0000],\n         [0.7000, 0.2000, 0.1000],\n         [0.7000, 0.1000, 0.2000],\n         [0.7000, 0.0000, 0.3000],\n         [0.5000, 0.0000, 0.0000],\n         [0.5000, 0.1700, 0.0000],\n         [0.5000, 0.1100, 0.0600],\n         [0.5000, 0.0600, 0.1100],\n         [0.5000, 0.0000, 0.1700],\n         [0.5000, 0.3300, 0.0000],\n         [0.5000, 0.2200, 0.1100],\n         [0.5000, 0.1100, 0.2200],\n         [0.5000, 0.0000, 0.3300],\n         [0.5000, 0.5000, 0.0000],\n         [0.5000, 0.3300, 0.1700],\n         [0.5000, 0.1700, 0.3300],\n         [0.5000, 0.0000, 0.5000],\n         [0.3000, 0.0000, 0.0000],\n         [0.3000, 0.2300, 0.0000],\n         [0.3000, 0.1600, 0.0700],\n         [0.3000, 0.0800, 0.1500],\n         [0.3000, 0.0000, 0.2300],\n         [0.3000, 0.4700, 0.0000],\n         [0.3000, 0.3100, 0.1600],\n         [0.3000, 0.1600, 0.3100],\n         [0.3000, 0.0000, 0.4700],\n         [0.3000, 0.7000, 0.0000],\n         [0.3000, 0.4700, 0.2300],\n         [0.3000, 0.2300, 0.4700],\n         [0.3000, 0.0000, 0.7000],\n         [1.0000, 0.0000, 0.0000],\n         [0.7000, 0.0000, 0.0000],\n         [0.7000, 0.1000, 0.0000],\n         [0.7000, 0.0700, 0.0300],\n         [0.7000, 0.0300, 0.0700],\n         [0.7000, 0.0000, 0.1000],\n         [0.7000, 0.2000, 0.0000],\n         [0.7000, 0.1300, 0.0700],\n         [0.7000, 0.0700, 0.1300],\n         [0.7000, 0.0000, 0.2000],\n         [0.7000, 0.3000, 0.0000],\n         [0.7000, 0.2000, 0.1000],\n         [0.7000, 0.1000, 0.2000],\n         [0.7000, 0.0000, 0.3000],\n         [0.5000, 0.0000, 0.0000],\n         [0.5000, 0.1700, 0.0000],\n         [0.5000, 0.1100, 0.0600],\n         [0.5000, 0.0600, 0.1100],\n         [0.5000, 0.0000, 0.1700],\n         [0.5000, 0.3300, 0.0000],\n         [0.5000, 0.2200, 0.1100],\n         [0.5000, 0.1100, 0.2200],\n         [0.5000, 0.0000, 0.3300],\n         [0.5000, 0.5000, 0.0000],\n         [0.5000, 0.3300, 0.1700],\n         [0.5000, 0.1700, 0.3300],\n         [0.5000, 0.0000, 0.5000],\n         [0.3000, 0.0000, 0.0000],\n         [0.3000, 0.2300, 0.0000],\n         [0.3000, 0.1600, 0.0700],\n         [0.3000, 0.0800, 0.1500],\n         [0.3000, 0.0000, 0.2300],\n         [0.3000, 0.4700, 0.0000],\n         [0.3000, 0.3100, 0.1600],\n         [0.3000, 0.1600, 0.3100],\n         [0.3000, 0.0000, 0.4700],\n         [0.3000, 0.7000, 0.0000],\n         [0.3000, 0.4700, 0.2300],\n         [0.3000, 0.2300, 0.4700],\n         [0.3000, 0.0000, 0.7000],\n         [1.0000, 0.0000, 0.0000],\n         [0.7000, 0.0000, 0.0000],\n         [0.7000, 0.1000, 0.0000],\n         [0.7000, 0.0700, 0.0300],\n         [0.7000, 0.0300, 0.0700],\n         [0.7000, 0.0000, 0.1000],\n         [0.7000, 0.2000, 0.0000],\n         [0.7000, 0.1300, 0.0700],\n         [0.7000, 0.0700, 0.1300],\n         [0.7000, 0.0000, 0.2000],\n         [0.7000, 0.3000, 0.0000],\n         [0.7000, 0.2000, 0.1000],\n         [0.7000, 0.1000, 0.2000],\n         [0.7000, 0.0000, 0.3000],\n         [0.5000, 0.0000, 0.0000],\n         [0.5000, 0.1700, 0.0000],\n         [0.5000, 0.1100, 0.0600],\n         [0.5000, 0.0600, 0.1100],\n         [0.5000, 0.0000, 0.1700],\n         [0.5000, 0.3300, 0.0000],\n         [0.5000, 0.2200, 0.1100],\n         [0.5000, 0.1100, 0.2200],\n         [0.5000, 0.0000, 0.3300],\n         [0.5000, 0.5000, 0.0000],\n         [0.5000, 0.3300, 0.1700],\n         [0.5000, 0.1700, 0.3300],\n         [0.5000, 0.0000, 0.5000],\n         [0.3000, 0.0000, 0.0000],\n         [0.3000, 0.2300, 0.0000],\n         [0.3000, 0.1600, 0.0700],\n         [0.3000, 0.0800, 0.1500],\n         [0.3000, 0.0000, 0.2300],\n         [0.3000, 0.4700, 0.0000],\n         [0.3000, 0.3100, 0.1600],\n         [0.3000, 0.1600, 0.3100],\n         [0.3000, 0.0000, 0.4700],\n         [0.3000, 0.7000, 0.0000],\n         [0.3000, 0.4700, 0.2300],\n         [0.3000, 0.2300, 0.4700],\n         [0.3000, 0.0000, 0.7000]], dtype=torch.float64),\n tensor([[ 32.],\n         [ 64.],\n         [ 64.],\n         [128.],\n         [ 64.],\n         [ 64.],\n         [256.],\n         [256.],\n         [256.],\n         [256.],\n         [256.],\n         [256.],\n         [256.],\n         [256.],\n         [256.],\n         [ 64.],\n         [ 32.],\n         [ 32.],\n         [ 64.],\n         [ 64.],\n         [128.],\n         [ 64.],\n         [ 32.],\n         [ 32.],\n         [256.],\n         [256.],\n         [256.],\n         [ 64.],\n         [256.],\n         [256.],\n         [128.],\n         [ 64.],\n         [ 64.],\n         [ 64.],\n         [ 32.],\n         [ 64.],\n         [ 32.],\n         [ 64.],\n         [128.],\n         [128.],\n         [128.],\n         [128.],\n         [128.],\n         [128.],\n         [128.],\n         [128.],\n         [128.],\n         [128.],\n         [128.],\n         [128.],\n         [128.],\n         [128.],\n         [128.],\n         [128.],\n         [128.],\n         [128.],\n         [128.],\n         [128.],\n         [128.],\n         [128.],\n         [ 64.],\n         [ 64.],\n         [128.],\n         [128.],\n         [128.],\n         [ 32.],\n         [ 32.],\n         [128.],\n         [128.],\n         [128.],\n         [128.],\n         [128.],\n         [128.],\n         [128.],\n         [ 32.],\n         [ 64.],\n         [128.],\n         [128.],\n         [128.],\n         [ 32.],\n         [128.],\n         [128.],\n         [128.],\n         [128.],\n         [128.],\n         [128.],\n         [128.],\n         [128.],\n         [128.],\n         [128.],\n         [128.],\n         [128.],\n         [128.],\n         [128.],\n         [128.],\n         [128.],\n         [128.],\n         [128.],\n         [128.],\n         [128.],\n         [128.],\n         [128.],\n         [128.],\n         [128.],\n         [128.],\n         [128.],\n         [128.],\n         [128.],\n         [128.],\n         [128.],\n         [128.],\n         [128.],\n         [128.],\n         [128.],\n         [128.],\n         [128.],\n         [128.],\n         [128.],\n         [128.],\n         [128.],\n         [128.],\n         [128.],\n         [128.],\n         [128.],\n         [128.],\n         [128.],\n         [128.],\n         [128.],\n         [128.],\n         [128.],\n         [128.],\n         [128.],\n         [128.],\n         [128.],\n         [128.],\n         [128.],\n         [128.],\n         [128.],\n         [128.],\n         [128.],\n         [128.],\n         [128.],\n         [128.],\n         [128.],\n         [128.],\n         [128.],\n         [128.],\n         [128.],\n         [128.],\n         [128.],\n         [128.],\n         [128.],\n         [128.],\n         [128.],\n         [128.],\n         [128.],\n         [128.],\n         [128.],\n         [128.],\n         [128.],\n         [128.]], dtype=torch.float64),\n tensor([32.], dtype=torch.float64))"
     },
     "execution_count": 27,
     "metadata": {},
     "output_type": "execute_result"
    }
   ],
   "source": [
    "train_y_one_tensor = torch.tensor(data_with_dummies.iloc[:,3].values,dtype = float)\n",
    "train_y = torch.reshape(train_y_one_tensor,(len(train_y_one_tensor),1))\n",
    "train_x = torch.tensor(data.iloc[:,4:7].values)\n",
    "#train_x= torch.tensor(data_with_dummies.iloc[:,[0,1,2,4,5,6,7,8,9]].values)\n",
    "best_y = min(train_y)\n",
    "train_x, train_y, best_y"
   ],
   "metadata": {
    "collapsed": false,
    "pycharm": {
     "name": "#%%\n"
    }
   }
  },
  {
   "cell_type": "markdown",
   "source": [
    "# Generate the next point\n",
    "### SingleTaskGP:\n",
    "Only considers continuous inputs\n",
    "### MixedSingleTaskGP:\n",
    "Include discrete inputs and combines using a categorical kernel"
   ],
   "metadata": {
    "collapsed": false,
    "pycharm": {
     "name": "#%% md\n"
    }
   }
  },
  {
   "cell_type": "code",
   "execution_count": 29,
   "outputs": [
    {
     "data": {
      "text/plain": "tensor([[0.5851, 0.1811, 0.0589]])"
     },
     "execution_count": 29,
     "metadata": {},
     "output_type": "execute_result"
    }
   ],
   "source": [
    "#Surrogate = MixedSingleTaskGP(train_X = train_x, train_Y = train_y, cat_dims=[3,4,5,6,7,8])\n",
    "Surrogate = SingleTaskGP(train_X = train_x, train_Y = train_y)\n",
    "mll = ExactMarginalLogLikelihood(Surrogate.likelihood, Surrogate)\n",
    "EI = qExpectedImprovement(model = Surrogate, best_f = best_y)\n",
    "UCB = UpperConfidenceBound(model = Surrogate, beta = 0.2)\n",
    "# new_point_analytic, _ = optimize_acqf_mixed(\n",
    "#     acq_function=EI,\n",
    "#     bounds=([[0.0] * 6, [1.0] * 6]),\n",
    "#     q = 1,\n",
    "#     fixed_features_list= [{ 'composition_A':'0.5' }],\n",
    "#     num_restarts=20,\n",
    "#     raw_samples=100,\n",
    "#     options={},\n",
    "# )\n",
    "\n",
    "#Type not considered\n",
    "new_point_analytic, _ = optimize_acqf(\n",
    "    acq_function=EI,\n",
    "    bounds=torch.tensor([[0.0] * 3, [1.0] * 3]),\n",
    "    q=1,\n",
    "    num_restarts=20,\n",
    "    raw_samples=100,\n",
    "    options={},\n",
    ")\n",
    "new_point_analytic"
   ],
   "metadata": {
    "collapsed": false,
    "pycharm": {
     "name": "#%%\n"
    }
   }
  },
  {
   "cell_type": "code",
   "execution_count": null,
   "outputs": [],
   "source": [],
   "metadata": {
    "collapsed": false,
    "pycharm": {
     "name": "#%%\n"
    }
   }
  }
 ],
 "metadata": {
  "kernelspec": {
   "display_name": "Python 3",
   "language": "python",
   "name": "python3"
  },
  "language_info": {
   "codemirror_mode": {
    "name": "ipython",
    "version": 2
   },
   "file_extension": ".py",
   "mimetype": "text/x-python",
   "name": "python",
   "nbconvert_exporter": "python",
   "pygments_lexer": "ipython2",
   "version": "2.7.6"
  }
 },
 "nbformat": 4,
 "nbformat_minor": 0
}