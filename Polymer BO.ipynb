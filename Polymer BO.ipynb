{
 "cells": [
  {
   "cell_type": "markdown",
   "source": [
    "## Bayesian Optimisation for Antimicrobial Polymer Discovery"
   ],
   "metadata": {
    "collapsed": false
   }
  },
  {
   "cell_type": "code",
   "execution_count": 1,
   "outputs": [],
   "source": [
    "import numpy as np\n",
    "import matplotlib.pyplot as plt\n",
    "import matplotlib.image as mpimg\n",
    "from matplotlib import rcParams\n",
    "import torch\n",
    "from botorch.models import SingleTaskGP, ModelListGP, fully_bayesian\n",
    "from botorch.models.gp_regression_mixed import MixedSingleTaskGP\n",
    "from botorch.fit import fit_gpytorch_model, fit_fully_bayesian_model_nuts\n",
    "from botorch.utils import standardize\n",
    "from gpytorch.mlls import ExactMarginalLogLikelihood\n",
    "from botorch.acquisition.monte_carlo import qExpectedImprovement, qUpperConfidenceBound\n",
    "from botorch.acquisition.analytic import UpperConfidenceBound, ProbabilityOfImprovement, ExpectedImprovement\n",
    "from botorch.optim import optimize_acqf, optimize_acqf_mixed\n",
    "from botorch.cross_validation import gen_loo_cv_folds\n",
    "import math\n",
    "import pandas as pd\n",
    "import sklearn\n",
    "from sklearn.model_selection import train_test_split, RandomizedSearchCV, cross_val_score\n",
    "from sklearn.metrics import confusion_matrix, classification_report, accuracy_score, roc_curve, auc"
   ],
   "metadata": {
    "collapsed": false
   }
  },
  {
   "cell_type": "markdown",
   "source": [
    "## Retrieve Training dataset and assign variables\n",
    "To enable mixed search space, utilise MixedSingleTaskGP which uses a special kernel to combine continuous and categorical data."
   ],
   "metadata": {
    "collapsed": false
   }
  },
  {
   "cell_type": "code",
   "execution_count": 2,
   "outputs": [
    {
     "data": {
      "text/plain": "     Polymer Index    type_A type_B1 type_B2 type_C  composition_A  \\\n0                1  Boc-AEAm    PEAm    None   HEAm            0.5   \n1                2  Boc-AEAm    PEAm    None   HEAm            0.5   \n2                3  Boc-AEAm    PEAm    None   HEAm            0.5   \n3                4  Boc-AEAm    PEAm    None   None            0.7   \n4                5  Boc-AEAm    PEAm    None   None            0.7   \n..             ...       ...     ...     ...    ...            ...   \n152            157    AAPTAC    PEAm   NIPAm   HEAm            0.3   \n153            158    AAPTAC    PEAm   NIPAm   HEAm            0.3   \n154            159    AAPTAC    PEAm   NIPAm   HEAm            0.3   \n155            160    AAPTAC    PEAm   NIPAm   HEAm            0.3   \n156            161    AAPTAC    PEAm   NIPAm   HEAm            0.3   \n\n     composition_B1  composition_B2  composition_C block_sequence_theoretical  \\\n0              0.30            0.00           0.20                        ABC   \n1              0.30            0.00           0.20                        ABC   \n2              0.30            0.00           0.20                        ABC   \n3              0.30            0.00           0.00                         AB   \n4              0.30            0.00           0.00                         AB   \n..              ...             ...            ...                        ...   \n152            0.00            0.47           0.23                        ABC   \n153            0.70            0.00           0.00                        ABC   \n154            0.47            0.23           0.00                        ABC   \n155            0.23            0.47           0.00                        ABC   \n156            0.00            0.70           0.00                        ABC   \n\n     ...   A2   B2   C2   A3   B3   C3  A4   B4   C4 cLogP_predicted  \n0    ...  0.0  0.0  0.0  0.0  0.0  0.0   0  0.0  0.0         0.67630  \n1    ...  0.0  0.0  0.0  0.0  0.0  0.0   0  0.0  0.0         0.67630  \n2    ...  0.0  0.0  0.0  0.0  0.0  0.0   0  0.0  0.0         0.67630  \n3    ...  0.0  0.0  0.0  0.0  0.0  0.0   0  0.0  0.0         1.05270  \n4    ...  0.0  0.0  0.0  0.0  0.0  0.0   0  0.0  0.0         1.05270  \n..   ...  ...  ...  ...  ...  ...  ...  ..  ...  ...             ...  \n152  ...  0.0  0.0  0.0  0.0  0.0  0.0   0  0.0  0.0        -1.33796  \n153  ...  0.0  0.0  0.0  0.0  0.0  0.0   0  0.0  0.0        -0.16180  \n154  ...  0.0  0.0  0.0  0.0  0.0  0.0   0  0.0  0.0        -0.45137  \n155  ...  0.0  0.0  0.0  0.0  0.0  0.0   0  0.0  0.0        -0.75353  \n156  ...  0.0  0.0  0.0  0.0  0.0  0.0   0  0.0  0.0        -1.04310  \n\n[157 rows x 38 columns]",
      "text/html": "<div>\n<style scoped>\n    .dataframe tbody tr th:only-of-type {\n        vertical-align: middle;\n    }\n\n    .dataframe tbody tr th {\n        vertical-align: top;\n    }\n\n    .dataframe thead th {\n        text-align: right;\n    }\n</style>\n<table border=\"1\" class=\"dataframe\">\n  <thead>\n    <tr style=\"text-align: right;\">\n      <th></th>\n      <th>Polymer Index</th>\n      <th>type_A</th>\n      <th>type_B1</th>\n      <th>type_B2</th>\n      <th>type_C</th>\n      <th>composition_A</th>\n      <th>composition_B1</th>\n      <th>composition_B2</th>\n      <th>composition_C</th>\n      <th>block_sequence_theoretical</th>\n      <th>...</th>\n      <th>A2</th>\n      <th>B2</th>\n      <th>C2</th>\n      <th>A3</th>\n      <th>B3</th>\n      <th>C3</th>\n      <th>A4</th>\n      <th>B4</th>\n      <th>C4</th>\n      <th>cLogP_predicted</th>\n    </tr>\n  </thead>\n  <tbody>\n    <tr>\n      <th>0</th>\n      <td>1</td>\n      <td>Boc-AEAm</td>\n      <td>PEAm</td>\n      <td>None</td>\n      <td>HEAm</td>\n      <td>0.5</td>\n      <td>0.30</td>\n      <td>0.00</td>\n      <td>0.20</td>\n      <td>ABC</td>\n      <td>...</td>\n      <td>0.0</td>\n      <td>0.0</td>\n      <td>0.0</td>\n      <td>0.0</td>\n      <td>0.0</td>\n      <td>0.0</td>\n      <td>0</td>\n      <td>0.0</td>\n      <td>0.0</td>\n      <td>0.67630</td>\n    </tr>\n    <tr>\n      <th>1</th>\n      <td>2</td>\n      <td>Boc-AEAm</td>\n      <td>PEAm</td>\n      <td>None</td>\n      <td>HEAm</td>\n      <td>0.5</td>\n      <td>0.30</td>\n      <td>0.00</td>\n      <td>0.20</td>\n      <td>ABC</td>\n      <td>...</td>\n      <td>0.0</td>\n      <td>0.0</td>\n      <td>0.0</td>\n      <td>0.0</td>\n      <td>0.0</td>\n      <td>0.0</td>\n      <td>0</td>\n      <td>0.0</td>\n      <td>0.0</td>\n      <td>0.67630</td>\n    </tr>\n    <tr>\n      <th>2</th>\n      <td>3</td>\n      <td>Boc-AEAm</td>\n      <td>PEAm</td>\n      <td>None</td>\n      <td>HEAm</td>\n      <td>0.5</td>\n      <td>0.30</td>\n      <td>0.00</td>\n      <td>0.20</td>\n      <td>ABC</td>\n      <td>...</td>\n      <td>0.0</td>\n      <td>0.0</td>\n      <td>0.0</td>\n      <td>0.0</td>\n      <td>0.0</td>\n      <td>0.0</td>\n      <td>0</td>\n      <td>0.0</td>\n      <td>0.0</td>\n      <td>0.67630</td>\n    </tr>\n    <tr>\n      <th>3</th>\n      <td>4</td>\n      <td>Boc-AEAm</td>\n      <td>PEAm</td>\n      <td>None</td>\n      <td>None</td>\n      <td>0.7</td>\n      <td>0.30</td>\n      <td>0.00</td>\n      <td>0.00</td>\n      <td>AB</td>\n      <td>...</td>\n      <td>0.0</td>\n      <td>0.0</td>\n      <td>0.0</td>\n      <td>0.0</td>\n      <td>0.0</td>\n      <td>0.0</td>\n      <td>0</td>\n      <td>0.0</td>\n      <td>0.0</td>\n      <td>1.05270</td>\n    </tr>\n    <tr>\n      <th>4</th>\n      <td>5</td>\n      <td>Boc-AEAm</td>\n      <td>PEAm</td>\n      <td>None</td>\n      <td>None</td>\n      <td>0.7</td>\n      <td>0.30</td>\n      <td>0.00</td>\n      <td>0.00</td>\n      <td>AB</td>\n      <td>...</td>\n      <td>0.0</td>\n      <td>0.0</td>\n      <td>0.0</td>\n      <td>0.0</td>\n      <td>0.0</td>\n      <td>0.0</td>\n      <td>0</td>\n      <td>0.0</td>\n      <td>0.0</td>\n      <td>1.05270</td>\n    </tr>\n    <tr>\n      <th>...</th>\n      <td>...</td>\n      <td>...</td>\n      <td>...</td>\n      <td>...</td>\n      <td>...</td>\n      <td>...</td>\n      <td>...</td>\n      <td>...</td>\n      <td>...</td>\n      <td>...</td>\n      <td>...</td>\n      <td>...</td>\n      <td>...</td>\n      <td>...</td>\n      <td>...</td>\n      <td>...</td>\n      <td>...</td>\n      <td>...</td>\n      <td>...</td>\n      <td>...</td>\n      <td>...</td>\n    </tr>\n    <tr>\n      <th>152</th>\n      <td>157</td>\n      <td>AAPTAC</td>\n      <td>PEAm</td>\n      <td>NIPAm</td>\n      <td>HEAm</td>\n      <td>0.3</td>\n      <td>0.00</td>\n      <td>0.47</td>\n      <td>0.23</td>\n      <td>ABC</td>\n      <td>...</td>\n      <td>0.0</td>\n      <td>0.0</td>\n      <td>0.0</td>\n      <td>0.0</td>\n      <td>0.0</td>\n      <td>0.0</td>\n      <td>0</td>\n      <td>0.0</td>\n      <td>0.0</td>\n      <td>-1.33796</td>\n    </tr>\n    <tr>\n      <th>153</th>\n      <td>158</td>\n      <td>AAPTAC</td>\n      <td>PEAm</td>\n      <td>NIPAm</td>\n      <td>HEAm</td>\n      <td>0.3</td>\n      <td>0.70</td>\n      <td>0.00</td>\n      <td>0.00</td>\n      <td>ABC</td>\n      <td>...</td>\n      <td>0.0</td>\n      <td>0.0</td>\n      <td>0.0</td>\n      <td>0.0</td>\n      <td>0.0</td>\n      <td>0.0</td>\n      <td>0</td>\n      <td>0.0</td>\n      <td>0.0</td>\n      <td>-0.16180</td>\n    </tr>\n    <tr>\n      <th>154</th>\n      <td>159</td>\n      <td>AAPTAC</td>\n      <td>PEAm</td>\n      <td>NIPAm</td>\n      <td>HEAm</td>\n      <td>0.3</td>\n      <td>0.47</td>\n      <td>0.23</td>\n      <td>0.00</td>\n      <td>ABC</td>\n      <td>...</td>\n      <td>0.0</td>\n      <td>0.0</td>\n      <td>0.0</td>\n      <td>0.0</td>\n      <td>0.0</td>\n      <td>0.0</td>\n      <td>0</td>\n      <td>0.0</td>\n      <td>0.0</td>\n      <td>-0.45137</td>\n    </tr>\n    <tr>\n      <th>155</th>\n      <td>160</td>\n      <td>AAPTAC</td>\n      <td>PEAm</td>\n      <td>NIPAm</td>\n      <td>HEAm</td>\n      <td>0.3</td>\n      <td>0.23</td>\n      <td>0.47</td>\n      <td>0.00</td>\n      <td>ABC</td>\n      <td>...</td>\n      <td>0.0</td>\n      <td>0.0</td>\n      <td>0.0</td>\n      <td>0.0</td>\n      <td>0.0</td>\n      <td>0.0</td>\n      <td>0</td>\n      <td>0.0</td>\n      <td>0.0</td>\n      <td>-0.75353</td>\n    </tr>\n    <tr>\n      <th>156</th>\n      <td>161</td>\n      <td>AAPTAC</td>\n      <td>PEAm</td>\n      <td>NIPAm</td>\n      <td>HEAm</td>\n      <td>0.3</td>\n      <td>0.00</td>\n      <td>0.70</td>\n      <td>0.00</td>\n      <td>ABC</td>\n      <td>...</td>\n      <td>0.0</td>\n      <td>0.0</td>\n      <td>0.0</td>\n      <td>0.0</td>\n      <td>0.0</td>\n      <td>0.0</td>\n      <td>0</td>\n      <td>0.0</td>\n      <td>0.0</td>\n      <td>-1.04310</td>\n    </tr>\n  </tbody>\n</table>\n<p>157 rows × 38 columns</p>\n</div>"
     },
     "execution_count": 2,
     "metadata": {},
     "output_type": "execute_result"
    }
   ],
   "source": [
    "data = pd.read_excel('dataset_final.xlsx', sheet_name = 'Dataset_Complete_modified')\n",
    "data"
   ],
   "metadata": {
    "collapsed": false
   }
  },
  {
   "cell_type": "code",
   "execution_count": 3,
   "outputs": [
    {
     "name": "stderr",
     "output_type": "stream",
     "text": [
      "/var/folders/dh/dgy1v49j4rs7lcfxbxnn5bzm0000gn/T/ipykernel_40736/1185648202.py:1: FutureWarning: The default value of numeric_only in DataFrame.corr is deprecated. In a future version, it will default to False. Select only valid columns or specify the value of numeric_only to silence this warning.\n",
      "  data.corr()\n"
     ]
    },
    {
     "data": {
      "text/plain": "                  Polymer Index  composition_A  composition_B1  \\\nPolymer Index          1.000000      -0.237395       -0.209524   \ncomposition_A         -0.237395       1.000000       -0.282589   \ncomposition_B1        -0.209524      -0.282589        1.000000   \ncomposition_B2         0.402446      -0.310371       -0.399126   \ncomposition_C          0.045304      -0.412450       -0.309069   \nNumber of blocks      -0.515925      -0.010745        0.271207   \ndpn                   -0.249226      -0.004903        0.120026   \nTarget                -0.410508       0.113958        0.257981   \nNMR                   -0.556035       0.207758        0.273500   \nGPC                   -0.257679      -0.182915        0.010997   \nclogP                  0.634861      -0.479834        0.884044   \nDispersity             0.689745       0.080743       -0.216975   \nA1                    -0.263964       0.099391        0.123526   \nB1                     0.473301       0.023722       -0.242328   \nC1                     0.606697      -0.075715       -0.303346   \nA2                    -0.243827       0.045402        0.129752   \nB2                    -0.438501      -0.031455        0.221584   \nC2                    -0.387557      -0.029569        0.180416   \nA3                    -0.226511      -0.016070        0.118880   \nB3                    -0.190109      -0.015225        0.112632   \nC3                    -0.172808      -0.013064        0.096645   \nA4                          NaN            NaN             NaN   \nB4                    -0.151171      -0.011290        0.083517   \nC4                    -0.151171      -0.011290        0.083517   \ncLogP_predicted       -0.679035      -0.086684        0.364220   \n\n                  composition_B2  composition_C  Number of blocks       dpn  \\\nPolymer Index           0.402446       0.045304         -0.515925 -0.249226   \ncomposition_A          -0.310371      -0.412450         -0.010745 -0.004903   \ncomposition_B1         -0.399126      -0.309069          0.271207  0.120026   \ncomposition_B2          1.000000      -0.286314         -0.275958 -0.117630   \ncomposition_C          -0.286314       1.000000          0.016395  0.002952   \nNumber of blocks       -0.275958       0.016395          1.000000  0.280251   \ndpn                    -0.117630       0.002952          0.280251  1.000000   \nTarget                 -0.274649      -0.096356          0.386098  0.884207   \nNMR                    -0.471571      -0.010390          0.408109  0.766664   \nGPC                    -0.175124       0.344606          0.324969  0.784606   \nclogP                   0.186638      -0.517585               NaN       NaN   \nDispersity              0.166071      -0.030110         -0.228574 -0.094875   \nA1                     -0.132917      -0.089494          0.029182 -0.031850   \nB1                      0.254903      -0.036993         -0.846407 -0.204843   \nC1                      0.315025       0.062952         -0.806769 -0.286753   \nA2                     -0.127162      -0.047429          0.452140  0.114781   \nB2                     -0.228049       0.038591          0.623867  0.265455   \nC2                     -0.214375       0.063775          0.595649  0.222880   \nA3                     -0.116507       0.014118          0.632507  0.203834   \nB3                     -0.110385       0.013376          0.467679  0.084057   \nC3                     -0.094716       0.011478          0.401295  0.118917   \nA4                           NaN            NaN               NaN       NaN   \nB4                     -0.081850       0.009919          0.541927  0.062328   \nC4                     -0.081850       0.009919          0.541927  0.062328   \ncLogP_predicted        -0.102905      -0.170816          0.222334  0.096098   \n\n                    Target       NMR       GPC  ...        A2        B2  \\\nPolymer Index    -0.410508 -0.556035 -0.257679  ... -0.243827 -0.438501   \ncomposition_A     0.113958  0.207758 -0.182915  ...  0.045402 -0.031455   \ncomposition_B1    0.257981  0.273500  0.010997  ...  0.129752  0.221584   \ncomposition_B2   -0.274649 -0.471571 -0.175124  ... -0.127162 -0.228049   \ncomposition_C    -0.096356 -0.010390  0.344606  ... -0.047429  0.038591   \nNumber of blocks  0.386098  0.408109  0.324969  ...  0.452140  0.623867   \ndpn               0.884207  0.766664  0.784606  ...  0.114781  0.265455   \nTarget            1.000000  0.889259  0.813675  ...  0.128931  0.297960   \nNMR               0.889259  1.000000  0.679494  ...  0.141521  0.343140   \nGPC               0.813675  0.679494  1.000000  ...  0.075559  0.213651   \nclogP             0.015188 -0.115580 -0.552616  ...       NaN       NaN   \nDispersity       -0.341800 -0.365729 -0.271123  ... -0.055636 -0.235016   \nA1                0.003110  0.093950 -0.172585  ... -0.312328  0.365521   \nB1               -0.269878 -0.314810 -0.206726  ... -0.345395 -0.819525   \nC1               -0.380436 -0.427405 -0.216417  ... -0.339051 -0.584820   \nA2                0.128931  0.141521  0.075559  ...  1.000000 -0.055853   \nB2                0.297960  0.343140  0.213651  ... -0.055853  1.000000   \nC2                0.256310  0.223529  0.229229  ...  0.099935  0.458673   \nA3                0.312228  0.312518  0.319477  ... -0.028535  0.395170   \nB3                0.089902  0.110646  0.074642  ...  0.646694 -0.048484   \nC3                0.116247  0.178843  0.083392  ...  0.193589  0.321258   \nA4                     NaN       NaN       NaN  ...       NaN       NaN   \nB4                0.236861  0.162049  0.294095  ... -0.020046  0.173096   \nC4                0.236861  0.162049  0.294095  ... -0.020046  0.173096   \ncLogP_predicted   0.118706  0.229514 -0.272896  ...  0.115944  0.177560   \n\n                        C2        A3        B3        C3  A4        B4  \\\nPolymer Index    -0.387557 -0.226511 -0.190109 -0.172808 NaN -0.151171   \ncomposition_A    -0.029569 -0.016070 -0.015225 -0.013064 NaN -0.011290   \ncomposition_B1    0.180416  0.118880  0.112632  0.096645 NaN  0.083517   \ncomposition_B2   -0.214375 -0.116507 -0.110385 -0.094716 NaN -0.081850   \ncomposition_C     0.063775  0.014118  0.013376  0.011478 NaN  0.009919   \nNumber of blocks  0.595649  0.632507  0.467679  0.401295 NaN  0.541927   \ndpn               0.222880  0.203834  0.084057  0.118917 NaN  0.062328   \nTarget            0.256310  0.312228  0.089902  0.116247 NaN  0.236861   \nNMR               0.223529  0.312518  0.110646  0.178843 NaN  0.162049   \nGPC               0.229229  0.319477  0.074642  0.083392 NaN  0.294095   \nclogP                  NaN       NaN       NaN       NaN NaN       NaN   \nDispersity       -0.188989 -0.079019 -0.073867 -0.061661 NaN -0.074667   \nA1                0.264884 -0.189429 -0.332217 -0.055702 NaN -0.133080   \nB1               -0.555616 -0.418686 -0.328882 -0.296743 NaN -0.294140   \nC1               -0.732660 -0.377816 -0.277999 -0.277745 NaN -0.290837   \nA2                0.099935 -0.028535  0.646694  0.193589 NaN -0.020046   \nB2                0.458673  0.395170 -0.048484  0.321258 NaN  0.173096   \nC2                1.000000  0.245194  0.232308 -0.039107 NaN  0.172256   \nA3                0.245194  1.000000 -0.024770  0.187300 NaN  0.702530   \nB3                0.232308 -0.024770  1.000000  0.111592 NaN -0.017402   \nC3               -0.039107  0.187300  0.111592  1.000000 NaN -0.014932   \nA4                     NaN       NaN       NaN       NaN NaN       NaN   \nB4                0.172256  0.702530 -0.017402 -0.014932 NaN  1.000000   \nC4                0.172256  0.702530 -0.017402 -0.014932 NaN  1.000000   \ncLogP_predicted   0.158069  0.092514  0.087652  0.075210 NaN  0.064994   \n\n                        C4  cLogP_predicted  \nPolymer Index    -0.151171        -0.679035  \ncomposition_A    -0.011290        -0.086684  \ncomposition_B1    0.083517         0.364220  \ncomposition_B2   -0.081850        -0.102905  \ncomposition_C     0.009919        -0.170816  \nNumber of blocks  0.541927         0.222334  \ndpn               0.062328         0.096098  \nTarget            0.236861         0.118706  \nNMR               0.162049         0.229514  \nGPC               0.294095        -0.272896  \nclogP                  NaN         0.666717  \nDispersity       -0.074667        -0.063593  \nA1               -0.133080         0.129705  \nB1               -0.294140        -0.199492  \nC1               -0.290837        -0.272750  \nA2               -0.020046         0.115944  \nB2                0.173096         0.177560  \nC2                0.172256         0.158069  \nA3                0.702530         0.092514  \nB3               -0.017402         0.087652  \nC3               -0.014932         0.075210  \nA4                     NaN              NaN  \nB4                1.000000         0.064994  \nC4                1.000000         0.064994  \ncLogP_predicted   0.064994         1.000000  \n\n[25 rows x 25 columns]",
      "text/html": "<div>\n<style scoped>\n    .dataframe tbody tr th:only-of-type {\n        vertical-align: middle;\n    }\n\n    .dataframe tbody tr th {\n        vertical-align: top;\n    }\n\n    .dataframe thead th {\n        text-align: right;\n    }\n</style>\n<table border=\"1\" class=\"dataframe\">\n  <thead>\n    <tr style=\"text-align: right;\">\n      <th></th>\n      <th>Polymer Index</th>\n      <th>composition_A</th>\n      <th>composition_B1</th>\n      <th>composition_B2</th>\n      <th>composition_C</th>\n      <th>Number of blocks</th>\n      <th>dpn</th>\n      <th>Target</th>\n      <th>NMR</th>\n      <th>GPC</th>\n      <th>...</th>\n      <th>A2</th>\n      <th>B2</th>\n      <th>C2</th>\n      <th>A3</th>\n      <th>B3</th>\n      <th>C3</th>\n      <th>A4</th>\n      <th>B4</th>\n      <th>C4</th>\n      <th>cLogP_predicted</th>\n    </tr>\n  </thead>\n  <tbody>\n    <tr>\n      <th>Polymer Index</th>\n      <td>1.000000</td>\n      <td>-0.237395</td>\n      <td>-0.209524</td>\n      <td>0.402446</td>\n      <td>0.045304</td>\n      <td>-0.515925</td>\n      <td>-0.249226</td>\n      <td>-0.410508</td>\n      <td>-0.556035</td>\n      <td>-0.257679</td>\n      <td>...</td>\n      <td>-0.243827</td>\n      <td>-0.438501</td>\n      <td>-0.387557</td>\n      <td>-0.226511</td>\n      <td>-0.190109</td>\n      <td>-0.172808</td>\n      <td>NaN</td>\n      <td>-0.151171</td>\n      <td>-0.151171</td>\n      <td>-0.679035</td>\n    </tr>\n    <tr>\n      <th>composition_A</th>\n      <td>-0.237395</td>\n      <td>1.000000</td>\n      <td>-0.282589</td>\n      <td>-0.310371</td>\n      <td>-0.412450</td>\n      <td>-0.010745</td>\n      <td>-0.004903</td>\n      <td>0.113958</td>\n      <td>0.207758</td>\n      <td>-0.182915</td>\n      <td>...</td>\n      <td>0.045402</td>\n      <td>-0.031455</td>\n      <td>-0.029569</td>\n      <td>-0.016070</td>\n      <td>-0.015225</td>\n      <td>-0.013064</td>\n      <td>NaN</td>\n      <td>-0.011290</td>\n      <td>-0.011290</td>\n      <td>-0.086684</td>\n    </tr>\n    <tr>\n      <th>composition_B1</th>\n      <td>-0.209524</td>\n      <td>-0.282589</td>\n      <td>1.000000</td>\n      <td>-0.399126</td>\n      <td>-0.309069</td>\n      <td>0.271207</td>\n      <td>0.120026</td>\n      <td>0.257981</td>\n      <td>0.273500</td>\n      <td>0.010997</td>\n      <td>...</td>\n      <td>0.129752</td>\n      <td>0.221584</td>\n      <td>0.180416</td>\n      <td>0.118880</td>\n      <td>0.112632</td>\n      <td>0.096645</td>\n      <td>NaN</td>\n      <td>0.083517</td>\n      <td>0.083517</td>\n      <td>0.364220</td>\n    </tr>\n    <tr>\n      <th>composition_B2</th>\n      <td>0.402446</td>\n      <td>-0.310371</td>\n      <td>-0.399126</td>\n      <td>1.000000</td>\n      <td>-0.286314</td>\n      <td>-0.275958</td>\n      <td>-0.117630</td>\n      <td>-0.274649</td>\n      <td>-0.471571</td>\n      <td>-0.175124</td>\n      <td>...</td>\n      <td>-0.127162</td>\n      <td>-0.228049</td>\n      <td>-0.214375</td>\n      <td>-0.116507</td>\n      <td>-0.110385</td>\n      <td>-0.094716</td>\n      <td>NaN</td>\n      <td>-0.081850</td>\n      <td>-0.081850</td>\n      <td>-0.102905</td>\n    </tr>\n    <tr>\n      <th>composition_C</th>\n      <td>0.045304</td>\n      <td>-0.412450</td>\n      <td>-0.309069</td>\n      <td>-0.286314</td>\n      <td>1.000000</td>\n      <td>0.016395</td>\n      <td>0.002952</td>\n      <td>-0.096356</td>\n      <td>-0.010390</td>\n      <td>0.344606</td>\n      <td>...</td>\n      <td>-0.047429</td>\n      <td>0.038591</td>\n      <td>0.063775</td>\n      <td>0.014118</td>\n      <td>0.013376</td>\n      <td>0.011478</td>\n      <td>NaN</td>\n      <td>0.009919</td>\n      <td>0.009919</td>\n      <td>-0.170816</td>\n    </tr>\n    <tr>\n      <th>Number of blocks</th>\n      <td>-0.515925</td>\n      <td>-0.010745</td>\n      <td>0.271207</td>\n      <td>-0.275958</td>\n      <td>0.016395</td>\n      <td>1.000000</td>\n      <td>0.280251</td>\n      <td>0.386098</td>\n      <td>0.408109</td>\n      <td>0.324969</td>\n      <td>...</td>\n      <td>0.452140</td>\n      <td>0.623867</td>\n      <td>0.595649</td>\n      <td>0.632507</td>\n      <td>0.467679</td>\n      <td>0.401295</td>\n      <td>NaN</td>\n      <td>0.541927</td>\n      <td>0.541927</td>\n      <td>0.222334</td>\n    </tr>\n    <tr>\n      <th>dpn</th>\n      <td>-0.249226</td>\n      <td>-0.004903</td>\n      <td>0.120026</td>\n      <td>-0.117630</td>\n      <td>0.002952</td>\n      <td>0.280251</td>\n      <td>1.000000</td>\n      <td>0.884207</td>\n      <td>0.766664</td>\n      <td>0.784606</td>\n      <td>...</td>\n      <td>0.114781</td>\n      <td>0.265455</td>\n      <td>0.222880</td>\n      <td>0.203834</td>\n      <td>0.084057</td>\n      <td>0.118917</td>\n      <td>NaN</td>\n      <td>0.062328</td>\n      <td>0.062328</td>\n      <td>0.096098</td>\n    </tr>\n    <tr>\n      <th>Target</th>\n      <td>-0.410508</td>\n      <td>0.113958</td>\n      <td>0.257981</td>\n      <td>-0.274649</td>\n      <td>-0.096356</td>\n      <td>0.386098</td>\n      <td>0.884207</td>\n      <td>1.000000</td>\n      <td>0.889259</td>\n      <td>0.813675</td>\n      <td>...</td>\n      <td>0.128931</td>\n      <td>0.297960</td>\n      <td>0.256310</td>\n      <td>0.312228</td>\n      <td>0.089902</td>\n      <td>0.116247</td>\n      <td>NaN</td>\n      <td>0.236861</td>\n      <td>0.236861</td>\n      <td>0.118706</td>\n    </tr>\n    <tr>\n      <th>NMR</th>\n      <td>-0.556035</td>\n      <td>0.207758</td>\n      <td>0.273500</td>\n      <td>-0.471571</td>\n      <td>-0.010390</td>\n      <td>0.408109</td>\n      <td>0.766664</td>\n      <td>0.889259</td>\n      <td>1.000000</td>\n      <td>0.679494</td>\n      <td>...</td>\n      <td>0.141521</td>\n      <td>0.343140</td>\n      <td>0.223529</td>\n      <td>0.312518</td>\n      <td>0.110646</td>\n      <td>0.178843</td>\n      <td>NaN</td>\n      <td>0.162049</td>\n      <td>0.162049</td>\n      <td>0.229514</td>\n    </tr>\n    <tr>\n      <th>GPC</th>\n      <td>-0.257679</td>\n      <td>-0.182915</td>\n      <td>0.010997</td>\n      <td>-0.175124</td>\n      <td>0.344606</td>\n      <td>0.324969</td>\n      <td>0.784606</td>\n      <td>0.813675</td>\n      <td>0.679494</td>\n      <td>1.000000</td>\n      <td>...</td>\n      <td>0.075559</td>\n      <td>0.213651</td>\n      <td>0.229229</td>\n      <td>0.319477</td>\n      <td>0.074642</td>\n      <td>0.083392</td>\n      <td>NaN</td>\n      <td>0.294095</td>\n      <td>0.294095</td>\n      <td>-0.272896</td>\n    </tr>\n    <tr>\n      <th>clogP</th>\n      <td>0.634861</td>\n      <td>-0.479834</td>\n      <td>0.884044</td>\n      <td>0.186638</td>\n      <td>-0.517585</td>\n      <td>NaN</td>\n      <td>NaN</td>\n      <td>0.015188</td>\n      <td>-0.115580</td>\n      <td>-0.552616</td>\n      <td>...</td>\n      <td>NaN</td>\n      <td>NaN</td>\n      <td>NaN</td>\n      <td>NaN</td>\n      <td>NaN</td>\n      <td>NaN</td>\n      <td>NaN</td>\n      <td>NaN</td>\n      <td>NaN</td>\n      <td>0.666717</td>\n    </tr>\n    <tr>\n      <th>Dispersity</th>\n      <td>0.689745</td>\n      <td>0.080743</td>\n      <td>-0.216975</td>\n      <td>0.166071</td>\n      <td>-0.030110</td>\n      <td>-0.228574</td>\n      <td>-0.094875</td>\n      <td>-0.341800</td>\n      <td>-0.365729</td>\n      <td>-0.271123</td>\n      <td>...</td>\n      <td>-0.055636</td>\n      <td>-0.235016</td>\n      <td>-0.188989</td>\n      <td>-0.079019</td>\n      <td>-0.073867</td>\n      <td>-0.061661</td>\n      <td>NaN</td>\n      <td>-0.074667</td>\n      <td>-0.074667</td>\n      <td>-0.063593</td>\n    </tr>\n    <tr>\n      <th>A1</th>\n      <td>-0.263964</td>\n      <td>0.099391</td>\n      <td>0.123526</td>\n      <td>-0.132917</td>\n      <td>-0.089494</td>\n      <td>0.029182</td>\n      <td>-0.031850</td>\n      <td>0.003110</td>\n      <td>0.093950</td>\n      <td>-0.172585</td>\n      <td>...</td>\n      <td>-0.312328</td>\n      <td>0.365521</td>\n      <td>0.264884</td>\n      <td>-0.189429</td>\n      <td>-0.332217</td>\n      <td>-0.055702</td>\n      <td>NaN</td>\n      <td>-0.133080</td>\n      <td>-0.133080</td>\n      <td>0.129705</td>\n    </tr>\n    <tr>\n      <th>B1</th>\n      <td>0.473301</td>\n      <td>0.023722</td>\n      <td>-0.242328</td>\n      <td>0.254903</td>\n      <td>-0.036993</td>\n      <td>-0.846407</td>\n      <td>-0.204843</td>\n      <td>-0.269878</td>\n      <td>-0.314810</td>\n      <td>-0.206726</td>\n      <td>...</td>\n      <td>-0.345395</td>\n      <td>-0.819525</td>\n      <td>-0.555616</td>\n      <td>-0.418686</td>\n      <td>-0.328882</td>\n      <td>-0.296743</td>\n      <td>NaN</td>\n      <td>-0.294140</td>\n      <td>-0.294140</td>\n      <td>-0.199492</td>\n    </tr>\n    <tr>\n      <th>C1</th>\n      <td>0.606697</td>\n      <td>-0.075715</td>\n      <td>-0.303346</td>\n      <td>0.315025</td>\n      <td>0.062952</td>\n      <td>-0.806769</td>\n      <td>-0.286753</td>\n      <td>-0.380436</td>\n      <td>-0.427405</td>\n      <td>-0.216417</td>\n      <td>...</td>\n      <td>-0.339051</td>\n      <td>-0.584820</td>\n      <td>-0.732660</td>\n      <td>-0.377816</td>\n      <td>-0.277999</td>\n      <td>-0.277745</td>\n      <td>NaN</td>\n      <td>-0.290837</td>\n      <td>-0.290837</td>\n      <td>-0.272750</td>\n    </tr>\n    <tr>\n      <th>A2</th>\n      <td>-0.243827</td>\n      <td>0.045402</td>\n      <td>0.129752</td>\n      <td>-0.127162</td>\n      <td>-0.047429</td>\n      <td>0.452140</td>\n      <td>0.114781</td>\n      <td>0.128931</td>\n      <td>0.141521</td>\n      <td>0.075559</td>\n      <td>...</td>\n      <td>1.000000</td>\n      <td>-0.055853</td>\n      <td>0.099935</td>\n      <td>-0.028535</td>\n      <td>0.646694</td>\n      <td>0.193589</td>\n      <td>NaN</td>\n      <td>-0.020046</td>\n      <td>-0.020046</td>\n      <td>0.115944</td>\n    </tr>\n    <tr>\n      <th>B2</th>\n      <td>-0.438501</td>\n      <td>-0.031455</td>\n      <td>0.221584</td>\n      <td>-0.228049</td>\n      <td>0.038591</td>\n      <td>0.623867</td>\n      <td>0.265455</td>\n      <td>0.297960</td>\n      <td>0.343140</td>\n      <td>0.213651</td>\n      <td>...</td>\n      <td>-0.055853</td>\n      <td>1.000000</td>\n      <td>0.458673</td>\n      <td>0.395170</td>\n      <td>-0.048484</td>\n      <td>0.321258</td>\n      <td>NaN</td>\n      <td>0.173096</td>\n      <td>0.173096</td>\n      <td>0.177560</td>\n    </tr>\n    <tr>\n      <th>C2</th>\n      <td>-0.387557</td>\n      <td>-0.029569</td>\n      <td>0.180416</td>\n      <td>-0.214375</td>\n      <td>0.063775</td>\n      <td>0.595649</td>\n      <td>0.222880</td>\n      <td>0.256310</td>\n      <td>0.223529</td>\n      <td>0.229229</td>\n      <td>...</td>\n      <td>0.099935</td>\n      <td>0.458673</td>\n      <td>1.000000</td>\n      <td>0.245194</td>\n      <td>0.232308</td>\n      <td>-0.039107</td>\n      <td>NaN</td>\n      <td>0.172256</td>\n      <td>0.172256</td>\n      <td>0.158069</td>\n    </tr>\n    <tr>\n      <th>A3</th>\n      <td>-0.226511</td>\n      <td>-0.016070</td>\n      <td>0.118880</td>\n      <td>-0.116507</td>\n      <td>0.014118</td>\n      <td>0.632507</td>\n      <td>0.203834</td>\n      <td>0.312228</td>\n      <td>0.312518</td>\n      <td>0.319477</td>\n      <td>...</td>\n      <td>-0.028535</td>\n      <td>0.395170</td>\n      <td>0.245194</td>\n      <td>1.000000</td>\n      <td>-0.024770</td>\n      <td>0.187300</td>\n      <td>NaN</td>\n      <td>0.702530</td>\n      <td>0.702530</td>\n      <td>0.092514</td>\n    </tr>\n    <tr>\n      <th>B3</th>\n      <td>-0.190109</td>\n      <td>-0.015225</td>\n      <td>0.112632</td>\n      <td>-0.110385</td>\n      <td>0.013376</td>\n      <td>0.467679</td>\n      <td>0.084057</td>\n      <td>0.089902</td>\n      <td>0.110646</td>\n      <td>0.074642</td>\n      <td>...</td>\n      <td>0.646694</td>\n      <td>-0.048484</td>\n      <td>0.232308</td>\n      <td>-0.024770</td>\n      <td>1.000000</td>\n      <td>0.111592</td>\n      <td>NaN</td>\n      <td>-0.017402</td>\n      <td>-0.017402</td>\n      <td>0.087652</td>\n    </tr>\n    <tr>\n      <th>C3</th>\n      <td>-0.172808</td>\n      <td>-0.013064</td>\n      <td>0.096645</td>\n      <td>-0.094716</td>\n      <td>0.011478</td>\n      <td>0.401295</td>\n      <td>0.118917</td>\n      <td>0.116247</td>\n      <td>0.178843</td>\n      <td>0.083392</td>\n      <td>...</td>\n      <td>0.193589</td>\n      <td>0.321258</td>\n      <td>-0.039107</td>\n      <td>0.187300</td>\n      <td>0.111592</td>\n      <td>1.000000</td>\n      <td>NaN</td>\n      <td>-0.014932</td>\n      <td>-0.014932</td>\n      <td>0.075210</td>\n    </tr>\n    <tr>\n      <th>A4</th>\n      <td>NaN</td>\n      <td>NaN</td>\n      <td>NaN</td>\n      <td>NaN</td>\n      <td>NaN</td>\n      <td>NaN</td>\n      <td>NaN</td>\n      <td>NaN</td>\n      <td>NaN</td>\n      <td>NaN</td>\n      <td>...</td>\n      <td>NaN</td>\n      <td>NaN</td>\n      <td>NaN</td>\n      <td>NaN</td>\n      <td>NaN</td>\n      <td>NaN</td>\n      <td>NaN</td>\n      <td>NaN</td>\n      <td>NaN</td>\n      <td>NaN</td>\n    </tr>\n    <tr>\n      <th>B4</th>\n      <td>-0.151171</td>\n      <td>-0.011290</td>\n      <td>0.083517</td>\n      <td>-0.081850</td>\n      <td>0.009919</td>\n      <td>0.541927</td>\n      <td>0.062328</td>\n      <td>0.236861</td>\n      <td>0.162049</td>\n      <td>0.294095</td>\n      <td>...</td>\n      <td>-0.020046</td>\n      <td>0.173096</td>\n      <td>0.172256</td>\n      <td>0.702530</td>\n      <td>-0.017402</td>\n      <td>-0.014932</td>\n      <td>NaN</td>\n      <td>1.000000</td>\n      <td>1.000000</td>\n      <td>0.064994</td>\n    </tr>\n    <tr>\n      <th>C4</th>\n      <td>-0.151171</td>\n      <td>-0.011290</td>\n      <td>0.083517</td>\n      <td>-0.081850</td>\n      <td>0.009919</td>\n      <td>0.541927</td>\n      <td>0.062328</td>\n      <td>0.236861</td>\n      <td>0.162049</td>\n      <td>0.294095</td>\n      <td>...</td>\n      <td>-0.020046</td>\n      <td>0.173096</td>\n      <td>0.172256</td>\n      <td>0.702530</td>\n      <td>-0.017402</td>\n      <td>-0.014932</td>\n      <td>NaN</td>\n      <td>1.000000</td>\n      <td>1.000000</td>\n      <td>0.064994</td>\n    </tr>\n    <tr>\n      <th>cLogP_predicted</th>\n      <td>-0.679035</td>\n      <td>-0.086684</td>\n      <td>0.364220</td>\n      <td>-0.102905</td>\n      <td>-0.170816</td>\n      <td>0.222334</td>\n      <td>0.096098</td>\n      <td>0.118706</td>\n      <td>0.229514</td>\n      <td>-0.272896</td>\n      <td>...</td>\n      <td>0.115944</td>\n      <td>0.177560</td>\n      <td>0.158069</td>\n      <td>0.092514</td>\n      <td>0.087652</td>\n      <td>0.075210</td>\n      <td>NaN</td>\n      <td>0.064994</td>\n      <td>0.064994</td>\n      <td>1.000000</td>\n    </tr>\n  </tbody>\n</table>\n<p>25 rows × 25 columns</p>\n</div>"
     },
     "execution_count": 3,
     "metadata": {},
     "output_type": "execute_result"
    }
   ],
   "source": [
    "data.corr()"
   ],
   "metadata": {
    "collapsed": false
   }
  },
  {
   "cell_type": "code",
   "execution_count": 4,
   "outputs": [],
   "source": [
    "data = data.drop(columns=['Polymer Index','Dispersity','clogP','block_sequence_theoretical', 'block_sequence_experimental','MIC_PAO1', 'MIC_PA','MIC_EC', 'MIC_AB', 'MIC_SA', 'MIC_MSmeg','GPC','Target','NMR'])\n",
    "data = data.replace({'>128':128,'>256':256, '32-64':64, '64-128':128,'128-256':256})"
   ],
   "metadata": {
    "collapsed": false
   }
  },
  {
   "cell_type": "markdown",
   "source": [
    "## Assign Classes"
   ],
   "metadata": {
    "collapsed": false
   }
  },
  {
   "cell_type": "code",
   "execution_count": 5,
   "outputs": [],
   "source": [
    "data['Category'] = data['MIC_PAO1_PA'].apply(lambda x: 1 if x <= 64 else 0)\n",
    "data = data.drop(columns = ['MIC_PAO1_PA'])"
   ],
   "metadata": {
    "collapsed": false
   }
  },
  {
   "cell_type": "code",
   "execution_count": 6,
   "outputs": [
    {
     "data": {
      "text/plain": "     composition_A  composition_B1  composition_B2  composition_C  \\\n0              0.5            0.30            0.00           0.20   \n1              0.5            0.30            0.00           0.20   \n2              0.5            0.30            0.00           0.20   \n3              0.7            0.30            0.00           0.00   \n4              0.7            0.30            0.00           0.00   \n..             ...             ...             ...            ...   \n152            0.3            0.00            0.47           0.23   \n153            0.3            0.70            0.00           0.00   \n154            0.3            0.47            0.23           0.00   \n155            0.3            0.23            0.47           0.00   \n156            0.3            0.00            0.70           0.00   \n\n     Number of blocks  dpn      A1      B1     C1   A2  ...   C4  \\\n0                   1  100  0.3330  0.3330  0.334  0.0  ...  0.0   \n1                   1   40  0.3325  0.3325  0.335  0.0  ...  0.0   \n2                   1   20  0.3300  0.3350  0.335  0.0  ...  0.0   \n3                   1  100  0.5000  0.5000  0.000  0.0  ...  0.0   \n4                   1   40  0.5000  0.5000  0.000  0.0  ...  0.0   \n..                ...  ...     ...     ...    ...  ...  ...  ...   \n152                 1   40  0.3325  0.3325  0.335  0.0  ...  0.0   \n153                 1   40  0.3325  0.3325  0.335  0.0  ...  0.0   \n154                 1   40  0.3325  0.3325  0.335  0.0  ...  0.0   \n155                 1   40  0.3325  0.3325  0.335  0.0  ...  0.0   \n156                 1   40  0.3325  0.3325  0.335  0.0  ...  0.0   \n\n     cLogP_predicted  Category  type_A_Boc-AEAm  type_A_DMAEA  type_B1_PEAm  \\\n0            0.67630         1                1             0             1   \n1            0.67630         1                1             0             1   \n2            0.67630         1                1             0             1   \n3            1.05270         0                1             0             1   \n4            1.05270         1                1             0             1   \n..               ...       ...              ...           ...           ...   \n152         -1.33796         0                0             0             1   \n153         -0.16180         0                0             0             1   \n154         -0.45137         0                0             0             1   \n155         -0.75353         0                0             0             1   \n156         -1.04310         0                0             0             1   \n\n     type_B2_None  type_C_HEAm  type_C_None  type_C_PEGA  \n0               1            1            0            0  \n1               1            1            0            0  \n2               1            1            0            0  \n3               1            0            1            0  \n4               1            0            1            0  \n..            ...          ...          ...          ...  \n152             0            1            0            0  \n153             0            1            0            0  \n154             0            1            0            0  \n155             0            1            0            0  \n156             0            1            0            0  \n\n[157 rows x 27 columns]",
      "text/html": "<div>\n<style scoped>\n    .dataframe tbody tr th:only-of-type {\n        vertical-align: middle;\n    }\n\n    .dataframe tbody tr th {\n        vertical-align: top;\n    }\n\n    .dataframe thead th {\n        text-align: right;\n    }\n</style>\n<table border=\"1\" class=\"dataframe\">\n  <thead>\n    <tr style=\"text-align: right;\">\n      <th></th>\n      <th>composition_A</th>\n      <th>composition_B1</th>\n      <th>composition_B2</th>\n      <th>composition_C</th>\n      <th>Number of blocks</th>\n      <th>dpn</th>\n      <th>A1</th>\n      <th>B1</th>\n      <th>C1</th>\n      <th>A2</th>\n      <th>...</th>\n      <th>C4</th>\n      <th>cLogP_predicted</th>\n      <th>Category</th>\n      <th>type_A_Boc-AEAm</th>\n      <th>type_A_DMAEA</th>\n      <th>type_B1_PEAm</th>\n      <th>type_B2_None</th>\n      <th>type_C_HEAm</th>\n      <th>type_C_None</th>\n      <th>type_C_PEGA</th>\n    </tr>\n  </thead>\n  <tbody>\n    <tr>\n      <th>0</th>\n      <td>0.5</td>\n      <td>0.30</td>\n      <td>0.00</td>\n      <td>0.20</td>\n      <td>1</td>\n      <td>100</td>\n      <td>0.3330</td>\n      <td>0.3330</td>\n      <td>0.334</td>\n      <td>0.0</td>\n      <td>...</td>\n      <td>0.0</td>\n      <td>0.67630</td>\n      <td>1</td>\n      <td>1</td>\n      <td>0</td>\n      <td>1</td>\n      <td>1</td>\n      <td>1</td>\n      <td>0</td>\n      <td>0</td>\n    </tr>\n    <tr>\n      <th>1</th>\n      <td>0.5</td>\n      <td>0.30</td>\n      <td>0.00</td>\n      <td>0.20</td>\n      <td>1</td>\n      <td>40</td>\n      <td>0.3325</td>\n      <td>0.3325</td>\n      <td>0.335</td>\n      <td>0.0</td>\n      <td>...</td>\n      <td>0.0</td>\n      <td>0.67630</td>\n      <td>1</td>\n      <td>1</td>\n      <td>0</td>\n      <td>1</td>\n      <td>1</td>\n      <td>1</td>\n      <td>0</td>\n      <td>0</td>\n    </tr>\n    <tr>\n      <th>2</th>\n      <td>0.5</td>\n      <td>0.30</td>\n      <td>0.00</td>\n      <td>0.20</td>\n      <td>1</td>\n      <td>20</td>\n      <td>0.3300</td>\n      <td>0.3350</td>\n      <td>0.335</td>\n      <td>0.0</td>\n      <td>...</td>\n      <td>0.0</td>\n      <td>0.67630</td>\n      <td>1</td>\n      <td>1</td>\n      <td>0</td>\n      <td>1</td>\n      <td>1</td>\n      <td>1</td>\n      <td>0</td>\n      <td>0</td>\n    </tr>\n    <tr>\n      <th>3</th>\n      <td>0.7</td>\n      <td>0.30</td>\n      <td>0.00</td>\n      <td>0.00</td>\n      <td>1</td>\n      <td>100</td>\n      <td>0.5000</td>\n      <td>0.5000</td>\n      <td>0.000</td>\n      <td>0.0</td>\n      <td>...</td>\n      <td>0.0</td>\n      <td>1.05270</td>\n      <td>0</td>\n      <td>1</td>\n      <td>0</td>\n      <td>1</td>\n      <td>1</td>\n      <td>0</td>\n      <td>1</td>\n      <td>0</td>\n    </tr>\n    <tr>\n      <th>4</th>\n      <td>0.7</td>\n      <td>0.30</td>\n      <td>0.00</td>\n      <td>0.00</td>\n      <td>1</td>\n      <td>40</td>\n      <td>0.5000</td>\n      <td>0.5000</td>\n      <td>0.000</td>\n      <td>0.0</td>\n      <td>...</td>\n      <td>0.0</td>\n      <td>1.05270</td>\n      <td>1</td>\n      <td>1</td>\n      <td>0</td>\n      <td>1</td>\n      <td>1</td>\n      <td>0</td>\n      <td>1</td>\n      <td>0</td>\n    </tr>\n    <tr>\n      <th>...</th>\n      <td>...</td>\n      <td>...</td>\n      <td>...</td>\n      <td>...</td>\n      <td>...</td>\n      <td>...</td>\n      <td>...</td>\n      <td>...</td>\n      <td>...</td>\n      <td>...</td>\n      <td>...</td>\n      <td>...</td>\n      <td>...</td>\n      <td>...</td>\n      <td>...</td>\n      <td>...</td>\n      <td>...</td>\n      <td>...</td>\n      <td>...</td>\n      <td>...</td>\n      <td>...</td>\n    </tr>\n    <tr>\n      <th>152</th>\n      <td>0.3</td>\n      <td>0.00</td>\n      <td>0.47</td>\n      <td>0.23</td>\n      <td>1</td>\n      <td>40</td>\n      <td>0.3325</td>\n      <td>0.3325</td>\n      <td>0.335</td>\n      <td>0.0</td>\n      <td>...</td>\n      <td>0.0</td>\n      <td>-1.33796</td>\n      <td>0</td>\n      <td>0</td>\n      <td>0</td>\n      <td>1</td>\n      <td>0</td>\n      <td>1</td>\n      <td>0</td>\n      <td>0</td>\n    </tr>\n    <tr>\n      <th>153</th>\n      <td>0.3</td>\n      <td>0.70</td>\n      <td>0.00</td>\n      <td>0.00</td>\n      <td>1</td>\n      <td>40</td>\n      <td>0.3325</td>\n      <td>0.3325</td>\n      <td>0.335</td>\n      <td>0.0</td>\n      <td>...</td>\n      <td>0.0</td>\n      <td>-0.16180</td>\n      <td>0</td>\n      <td>0</td>\n      <td>0</td>\n      <td>1</td>\n      <td>0</td>\n      <td>1</td>\n      <td>0</td>\n      <td>0</td>\n    </tr>\n    <tr>\n      <th>154</th>\n      <td>0.3</td>\n      <td>0.47</td>\n      <td>0.23</td>\n      <td>0.00</td>\n      <td>1</td>\n      <td>40</td>\n      <td>0.3325</td>\n      <td>0.3325</td>\n      <td>0.335</td>\n      <td>0.0</td>\n      <td>...</td>\n      <td>0.0</td>\n      <td>-0.45137</td>\n      <td>0</td>\n      <td>0</td>\n      <td>0</td>\n      <td>1</td>\n      <td>0</td>\n      <td>1</td>\n      <td>0</td>\n      <td>0</td>\n    </tr>\n    <tr>\n      <th>155</th>\n      <td>0.3</td>\n      <td>0.23</td>\n      <td>0.47</td>\n      <td>0.00</td>\n      <td>1</td>\n      <td>40</td>\n      <td>0.3325</td>\n      <td>0.3325</td>\n      <td>0.335</td>\n      <td>0.0</td>\n      <td>...</td>\n      <td>0.0</td>\n      <td>-0.75353</td>\n      <td>0</td>\n      <td>0</td>\n      <td>0</td>\n      <td>1</td>\n      <td>0</td>\n      <td>1</td>\n      <td>0</td>\n      <td>0</td>\n    </tr>\n    <tr>\n      <th>156</th>\n      <td>0.3</td>\n      <td>0.00</td>\n      <td>0.70</td>\n      <td>0.00</td>\n      <td>1</td>\n      <td>40</td>\n      <td>0.3325</td>\n      <td>0.3325</td>\n      <td>0.335</td>\n      <td>0.0</td>\n      <td>...</td>\n      <td>0.0</td>\n      <td>-1.04310</td>\n      <td>0</td>\n      <td>0</td>\n      <td>0</td>\n      <td>1</td>\n      <td>0</td>\n      <td>1</td>\n      <td>0</td>\n      <td>0</td>\n    </tr>\n  </tbody>\n</table>\n<p>157 rows × 27 columns</p>\n</div>"
     },
     "execution_count": 6,
     "metadata": {},
     "output_type": "execute_result"
    }
   ],
   "source": [
    "data_with_dummies = pd.get_dummies(data, drop_first=True)\n",
    "data_with_dummies"
   ],
   "metadata": {
    "collapsed": false
   }
  },
  {
   "cell_type": "code",
   "execution_count": 7,
   "outputs": [],
   "source": [
    "data_with_dummies.to_csv('modified_data.csv', index=False)"
   ],
   "metadata": {
    "collapsed": false
   }
  },
  {
   "cell_type": "code",
   "execution_count": 8,
   "outputs": [],
   "source": [
    "Y_train = data_with_dummies['Category']\n",
    "X = data_with_dummies.drop(columns = ['Category'])"
   ],
   "metadata": {
    "collapsed": false
   }
  },
  {
   "cell_type": "markdown",
   "source": [
    "## Standardise dataset"
   ],
   "metadata": {
    "collapsed": false
   }
  },
  {
   "cell_type": "code",
   "execution_count": 9,
   "outputs": [],
   "source": [
    "from sklearn.preprocessing import StandardScaler\n",
    "scaler = StandardScaler()"
   ],
   "metadata": {
    "collapsed": false
   }
  },
  {
   "cell_type": "code",
   "execution_count": 10,
   "outputs": [
    {
     "name": "stderr",
     "output_type": "stream",
     "text": [
      "/var/folders/dh/dgy1v49j4rs7lcfxbxnn5bzm0000gn/T/ipykernel_40736/675091857.py:1: FutureWarning: In a future version, `df.iloc[:, i] = newvals` will attempt to set the values inplace instead of always setting a new array. To retain the old behavior, use either `df[df.columns[i]] = newvals` or, if columns are non-unique, `df.isetitem(i, newvals)`\n",
      "  X.iloc[:, 0:18] = scaler.fit_transform(X.iloc[:, 0:18]) # Only standardise numerical values\n"
     ]
    },
    {
     "data": {
      "text/plain": "     composition_A  composition_B1  composition_B2  composition_C  \\\n0        -0.099386        0.735233       -0.720559       0.087317   \n1        -0.099386        0.735233       -0.720559       0.087317   \n2        -0.099386        0.735233       -0.720559       0.087317   \n3         1.148908        0.735233       -0.720559      -1.158941   \n4         1.148908        0.735233       -0.720559      -1.158941   \n..             ...             ...             ...            ...   \n152      -1.347681       -1.160195        2.238264       0.274256   \n153      -1.347681        3.262471       -0.720559      -1.158941   \n154      -1.347681        1.809309        0.727376      -1.158941   \n155      -1.347681        0.292966        2.238264      -1.158941   \n156      -1.347681       -1.160195        3.686199      -1.158941   \n\n     Number of blocks       dpn        A1        B1        C1        A2  ...  \\\n0           -0.382977  4.108432 -0.178481  0.358184  0.428247 -0.176477  ...   \n1           -0.382977 -0.163249 -0.184463  0.353758  0.437195 -0.176477  ...   \n2           -0.382977 -1.587142 -0.214375  0.375887  0.437195 -0.176477  ...   \n3           -0.382977  4.108432  1.819636  1.836417 -2.560361 -0.176477  ...   \n4           -0.382977 -0.163249  1.819636  1.836417 -2.560361 -0.176477  ...   \n..                ...       ...       ...       ...       ...       ...  ...   \n152         -0.382977 -0.163249 -0.184463  0.353758  0.437195 -0.176477  ...   \n153         -0.382977 -0.163249 -0.184463  0.353758  0.437195 -0.176477  ...   \n154         -0.382977 -0.163249 -0.184463  0.353758  0.437195 -0.176477  ...   \n155         -0.382977 -0.163249 -0.184463  0.353758  0.437195 -0.176477  ...   \n156         -0.382977 -0.163249 -0.184463  0.353758  0.437195 -0.176477  ...   \n\n           B4        C4  cLogP_predicted  type_A_Boc-AEAm  type_A_DMAEA  \\\n0   -0.113592 -0.113592          0.67630                1             0   \n1   -0.113592 -0.113592          0.67630                1             0   \n2   -0.113592 -0.113592          0.67630                1             0   \n3   -0.113592 -0.113592          1.05270                1             0   \n4   -0.113592 -0.113592          1.05270                1             0   \n..        ...       ...              ...              ...           ...   \n152 -0.113592 -0.113592         -1.33796                0             0   \n153 -0.113592 -0.113592         -0.16180                0             0   \n154 -0.113592 -0.113592         -0.45137                0             0   \n155 -0.113592 -0.113592         -0.75353                0             0   \n156 -0.113592 -0.113592         -1.04310                0             0   \n\n     type_B1_PEAm  type_B2_None  type_C_HEAm  type_C_None  type_C_PEGA  \n0               1             1            1            0            0  \n1               1             1            1            0            0  \n2               1             1            1            0            0  \n3               1             1            0            1            0  \n4               1             1            0            1            0  \n..            ...           ...          ...          ...          ...  \n152             1             0            1            0            0  \n153             1             0            1            0            0  \n154             1             0            1            0            0  \n155             1             0            1            0            0  \n156             1             0            1            0            0  \n\n[157 rows x 26 columns]",
      "text/html": "<div>\n<style scoped>\n    .dataframe tbody tr th:only-of-type {\n        vertical-align: middle;\n    }\n\n    .dataframe tbody tr th {\n        vertical-align: top;\n    }\n\n    .dataframe thead th {\n        text-align: right;\n    }\n</style>\n<table border=\"1\" class=\"dataframe\">\n  <thead>\n    <tr style=\"text-align: right;\">\n      <th></th>\n      <th>composition_A</th>\n      <th>composition_B1</th>\n      <th>composition_B2</th>\n      <th>composition_C</th>\n      <th>Number of blocks</th>\n      <th>dpn</th>\n      <th>A1</th>\n      <th>B1</th>\n      <th>C1</th>\n      <th>A2</th>\n      <th>...</th>\n      <th>B4</th>\n      <th>C4</th>\n      <th>cLogP_predicted</th>\n      <th>type_A_Boc-AEAm</th>\n      <th>type_A_DMAEA</th>\n      <th>type_B1_PEAm</th>\n      <th>type_B2_None</th>\n      <th>type_C_HEAm</th>\n      <th>type_C_None</th>\n      <th>type_C_PEGA</th>\n    </tr>\n  </thead>\n  <tbody>\n    <tr>\n      <th>0</th>\n      <td>-0.099386</td>\n      <td>0.735233</td>\n      <td>-0.720559</td>\n      <td>0.087317</td>\n      <td>-0.382977</td>\n      <td>4.108432</td>\n      <td>-0.178481</td>\n      <td>0.358184</td>\n      <td>0.428247</td>\n      <td>-0.176477</td>\n      <td>...</td>\n      <td>-0.113592</td>\n      <td>-0.113592</td>\n      <td>0.67630</td>\n      <td>1</td>\n      <td>0</td>\n      <td>1</td>\n      <td>1</td>\n      <td>1</td>\n      <td>0</td>\n      <td>0</td>\n    </tr>\n    <tr>\n      <th>1</th>\n      <td>-0.099386</td>\n      <td>0.735233</td>\n      <td>-0.720559</td>\n      <td>0.087317</td>\n      <td>-0.382977</td>\n      <td>-0.163249</td>\n      <td>-0.184463</td>\n      <td>0.353758</td>\n      <td>0.437195</td>\n      <td>-0.176477</td>\n      <td>...</td>\n      <td>-0.113592</td>\n      <td>-0.113592</td>\n      <td>0.67630</td>\n      <td>1</td>\n      <td>0</td>\n      <td>1</td>\n      <td>1</td>\n      <td>1</td>\n      <td>0</td>\n      <td>0</td>\n    </tr>\n    <tr>\n      <th>2</th>\n      <td>-0.099386</td>\n      <td>0.735233</td>\n      <td>-0.720559</td>\n      <td>0.087317</td>\n      <td>-0.382977</td>\n      <td>-1.587142</td>\n      <td>-0.214375</td>\n      <td>0.375887</td>\n      <td>0.437195</td>\n      <td>-0.176477</td>\n      <td>...</td>\n      <td>-0.113592</td>\n      <td>-0.113592</td>\n      <td>0.67630</td>\n      <td>1</td>\n      <td>0</td>\n      <td>1</td>\n      <td>1</td>\n      <td>1</td>\n      <td>0</td>\n      <td>0</td>\n    </tr>\n    <tr>\n      <th>3</th>\n      <td>1.148908</td>\n      <td>0.735233</td>\n      <td>-0.720559</td>\n      <td>-1.158941</td>\n      <td>-0.382977</td>\n      <td>4.108432</td>\n      <td>1.819636</td>\n      <td>1.836417</td>\n      <td>-2.560361</td>\n      <td>-0.176477</td>\n      <td>...</td>\n      <td>-0.113592</td>\n      <td>-0.113592</td>\n      <td>1.05270</td>\n      <td>1</td>\n      <td>0</td>\n      <td>1</td>\n      <td>1</td>\n      <td>0</td>\n      <td>1</td>\n      <td>0</td>\n    </tr>\n    <tr>\n      <th>4</th>\n      <td>1.148908</td>\n      <td>0.735233</td>\n      <td>-0.720559</td>\n      <td>-1.158941</td>\n      <td>-0.382977</td>\n      <td>-0.163249</td>\n      <td>1.819636</td>\n      <td>1.836417</td>\n      <td>-2.560361</td>\n      <td>-0.176477</td>\n      <td>...</td>\n      <td>-0.113592</td>\n      <td>-0.113592</td>\n      <td>1.05270</td>\n      <td>1</td>\n      <td>0</td>\n      <td>1</td>\n      <td>1</td>\n      <td>0</td>\n      <td>1</td>\n      <td>0</td>\n    </tr>\n    <tr>\n      <th>...</th>\n      <td>...</td>\n      <td>...</td>\n      <td>...</td>\n      <td>...</td>\n      <td>...</td>\n      <td>...</td>\n      <td>...</td>\n      <td>...</td>\n      <td>...</td>\n      <td>...</td>\n      <td>...</td>\n      <td>...</td>\n      <td>...</td>\n      <td>...</td>\n      <td>...</td>\n      <td>...</td>\n      <td>...</td>\n      <td>...</td>\n      <td>...</td>\n      <td>...</td>\n      <td>...</td>\n    </tr>\n    <tr>\n      <th>152</th>\n      <td>-1.347681</td>\n      <td>-1.160195</td>\n      <td>2.238264</td>\n      <td>0.274256</td>\n      <td>-0.382977</td>\n      <td>-0.163249</td>\n      <td>-0.184463</td>\n      <td>0.353758</td>\n      <td>0.437195</td>\n      <td>-0.176477</td>\n      <td>...</td>\n      <td>-0.113592</td>\n      <td>-0.113592</td>\n      <td>-1.33796</td>\n      <td>0</td>\n      <td>0</td>\n      <td>1</td>\n      <td>0</td>\n      <td>1</td>\n      <td>0</td>\n      <td>0</td>\n    </tr>\n    <tr>\n      <th>153</th>\n      <td>-1.347681</td>\n      <td>3.262471</td>\n      <td>-0.720559</td>\n      <td>-1.158941</td>\n      <td>-0.382977</td>\n      <td>-0.163249</td>\n      <td>-0.184463</td>\n      <td>0.353758</td>\n      <td>0.437195</td>\n      <td>-0.176477</td>\n      <td>...</td>\n      <td>-0.113592</td>\n      <td>-0.113592</td>\n      <td>-0.16180</td>\n      <td>0</td>\n      <td>0</td>\n      <td>1</td>\n      <td>0</td>\n      <td>1</td>\n      <td>0</td>\n      <td>0</td>\n    </tr>\n    <tr>\n      <th>154</th>\n      <td>-1.347681</td>\n      <td>1.809309</td>\n      <td>0.727376</td>\n      <td>-1.158941</td>\n      <td>-0.382977</td>\n      <td>-0.163249</td>\n      <td>-0.184463</td>\n      <td>0.353758</td>\n      <td>0.437195</td>\n      <td>-0.176477</td>\n      <td>...</td>\n      <td>-0.113592</td>\n      <td>-0.113592</td>\n      <td>-0.45137</td>\n      <td>0</td>\n      <td>0</td>\n      <td>1</td>\n      <td>0</td>\n      <td>1</td>\n      <td>0</td>\n      <td>0</td>\n    </tr>\n    <tr>\n      <th>155</th>\n      <td>-1.347681</td>\n      <td>0.292966</td>\n      <td>2.238264</td>\n      <td>-1.158941</td>\n      <td>-0.382977</td>\n      <td>-0.163249</td>\n      <td>-0.184463</td>\n      <td>0.353758</td>\n      <td>0.437195</td>\n      <td>-0.176477</td>\n      <td>...</td>\n      <td>-0.113592</td>\n      <td>-0.113592</td>\n      <td>-0.75353</td>\n      <td>0</td>\n      <td>0</td>\n      <td>1</td>\n      <td>0</td>\n      <td>1</td>\n      <td>0</td>\n      <td>0</td>\n    </tr>\n    <tr>\n      <th>156</th>\n      <td>-1.347681</td>\n      <td>-1.160195</td>\n      <td>3.686199</td>\n      <td>-1.158941</td>\n      <td>-0.382977</td>\n      <td>-0.163249</td>\n      <td>-0.184463</td>\n      <td>0.353758</td>\n      <td>0.437195</td>\n      <td>-0.176477</td>\n      <td>...</td>\n      <td>-0.113592</td>\n      <td>-0.113592</td>\n      <td>-1.04310</td>\n      <td>0</td>\n      <td>0</td>\n      <td>1</td>\n      <td>0</td>\n      <td>1</td>\n      <td>0</td>\n      <td>0</td>\n    </tr>\n  </tbody>\n</table>\n<p>157 rows × 26 columns</p>\n</div>"
     },
     "execution_count": 10,
     "metadata": {},
     "output_type": "execute_result"
    }
   ],
   "source": [
    "X.iloc[:, 0:18] = scaler.fit_transform(X.iloc[:, 0:18]) # Only standardise numerical values\n",
    "X_train = pd.DataFrame(X, columns = X.columns, index = X.index.values.tolist())\n",
    "X_train"
   ],
   "metadata": {
    "collapsed": false
   }
  },
  {
   "cell_type": "markdown",
   "source": [
    "## Random Forest Classifier"
   ],
   "metadata": {
    "collapsed": false
   }
  },
  {
   "cell_type": "code",
   "execution_count": 11,
   "outputs": [],
   "source": [
    "from sklearn.ensemble import RandomForestClassifier\n",
    "from sklearn.model_selection import RepeatedStratifiedKFold\n",
    "rf=RandomForestClassifier()"
   ],
   "metadata": {
    "collapsed": false
   }
  },
  {
   "cell_type": "code",
   "execution_count": 12,
   "outputs": [],
   "source": [
    "params = {'n_estimators': [10,100,200,400,500,1000], 'max_depth': [10,20,30,40,50,60,70,80,90,100,None], 'max_features': ['auto', 'sqrt','log2'], 'min_samples_leaf': [1,2,4], 'min_samples_split': [2,5,10], 'bootstrap': [True,False],'class_weight': ['balanced']}"
   ],
   "metadata": {
    "collapsed": false
   }
  },
  {
   "cell_type": "code",
   "execution_count": 13,
   "outputs": [],
   "source": [
    "cv = RepeatedStratifiedKFold(n_splits=4, n_repeats=5, random_state=0)\n",
    "rf_op = RandomizedSearchCV(rf, params, n_iter=20, cv=cv, scoring='f1', random_state=0, verbose=1, n_jobs=-1)"
   ],
   "metadata": {
    "collapsed": false
   }
  },
  {
   "cell_type": "markdown",
   "source": [
    "Take compositional parameters\n",
    "Top 3 numerical features: cLogP, composition_B1,composition_A\n",
    "Most important categorical feature: type_B2_none\n",
    "\n",
    "Parameters taken: cLogP, composition_A, composition_B1, composition_B2, composition_C"
   ],
   "metadata": {
    "collapsed": false
   }
  },
  {
   "cell_type": "code",
   "execution_count": 14,
   "outputs": [
    {
     "data": {
      "text/plain": "     cLogP_predicted  composition_A  composition_B1  composition_B2  \\\n0            0.67630      -0.099386        0.735233       -0.720559   \n1            0.67630      -0.099386        0.735233       -0.720559   \n2            0.67630      -0.099386        0.735233       -0.720559   \n3            1.05270       1.148908        0.735233       -0.720559   \n4            1.05270       1.148908        0.735233       -0.720559   \n..               ...            ...             ...             ...   \n152         -1.33796      -1.347681       -1.160195        2.238264   \n153         -0.16180      -1.347681        3.262471       -0.720559   \n154         -0.45137      -1.347681        1.809309        0.727376   \n155         -0.75353      -1.347681        0.292966        2.238264   \n156         -1.04310      -1.347681       -1.160195        3.686199   \n\n     composition_C  \n0         0.087317  \n1         0.087317  \n2         0.087317  \n3        -1.158941  \n4        -1.158941  \n..             ...  \n152       0.274256  \n153      -1.158941  \n154      -1.158941  \n155      -1.158941  \n156      -1.158941  \n\n[157 rows x 5 columns]",
      "text/html": "<div>\n<style scoped>\n    .dataframe tbody tr th:only-of-type {\n        vertical-align: middle;\n    }\n\n    .dataframe tbody tr th {\n        vertical-align: top;\n    }\n\n    .dataframe thead th {\n        text-align: right;\n    }\n</style>\n<table border=\"1\" class=\"dataframe\">\n  <thead>\n    <tr style=\"text-align: right;\">\n      <th></th>\n      <th>cLogP_predicted</th>\n      <th>composition_A</th>\n      <th>composition_B1</th>\n      <th>composition_B2</th>\n      <th>composition_C</th>\n    </tr>\n  </thead>\n  <tbody>\n    <tr>\n      <th>0</th>\n      <td>0.67630</td>\n      <td>-0.099386</td>\n      <td>0.735233</td>\n      <td>-0.720559</td>\n      <td>0.087317</td>\n    </tr>\n    <tr>\n      <th>1</th>\n      <td>0.67630</td>\n      <td>-0.099386</td>\n      <td>0.735233</td>\n      <td>-0.720559</td>\n      <td>0.087317</td>\n    </tr>\n    <tr>\n      <th>2</th>\n      <td>0.67630</td>\n      <td>-0.099386</td>\n      <td>0.735233</td>\n      <td>-0.720559</td>\n      <td>0.087317</td>\n    </tr>\n    <tr>\n      <th>3</th>\n      <td>1.05270</td>\n      <td>1.148908</td>\n      <td>0.735233</td>\n      <td>-0.720559</td>\n      <td>-1.158941</td>\n    </tr>\n    <tr>\n      <th>4</th>\n      <td>1.05270</td>\n      <td>1.148908</td>\n      <td>0.735233</td>\n      <td>-0.720559</td>\n      <td>-1.158941</td>\n    </tr>\n    <tr>\n      <th>...</th>\n      <td>...</td>\n      <td>...</td>\n      <td>...</td>\n      <td>...</td>\n      <td>...</td>\n    </tr>\n    <tr>\n      <th>152</th>\n      <td>-1.33796</td>\n      <td>-1.347681</td>\n      <td>-1.160195</td>\n      <td>2.238264</td>\n      <td>0.274256</td>\n    </tr>\n    <tr>\n      <th>153</th>\n      <td>-0.16180</td>\n      <td>-1.347681</td>\n      <td>3.262471</td>\n      <td>-0.720559</td>\n      <td>-1.158941</td>\n    </tr>\n    <tr>\n      <th>154</th>\n      <td>-0.45137</td>\n      <td>-1.347681</td>\n      <td>1.809309</td>\n      <td>0.727376</td>\n      <td>-1.158941</td>\n    </tr>\n    <tr>\n      <th>155</th>\n      <td>-0.75353</td>\n      <td>-1.347681</td>\n      <td>0.292966</td>\n      <td>2.238264</td>\n      <td>-1.158941</td>\n    </tr>\n    <tr>\n      <th>156</th>\n      <td>-1.04310</td>\n      <td>-1.347681</td>\n      <td>-1.160195</td>\n      <td>3.686199</td>\n      <td>-1.158941</td>\n    </tr>\n  </tbody>\n</table>\n<p>157 rows × 5 columns</p>\n</div>"
     },
     "execution_count": 14,
     "metadata": {},
     "output_type": "execute_result"
    }
   ],
   "source": [
    "X_train_RF = X_train[[\"cLogP_predicted\",\"composition_A\", \"composition_B1\",  \"composition_B2\", \"composition_C\"]]\n",
    "# Change X_train_RF here if input space is enlarged in later stages\n",
    "X_train_RF"
   ],
   "metadata": {
    "collapsed": false
   }
  },
  {
   "cell_type": "code",
   "execution_count": 15,
   "outputs": [
    {
     "name": "stdout",
     "output_type": "stream",
     "text": [
      "Fitting 20 folds for each of 20 candidates, totalling 400 fits\n"
     ]
    },
    {
     "name": "stderr",
     "output_type": "stream",
     "text": [
      "/Users/yimengjin/Desktop/Thesis/Thesis_Yimeng/venv/lib/python3.9/site-packages/sklearn/ensemble/_forest.py:425: FutureWarning: `max_features='auto'` has been deprecated in 1.1 and will be removed in 1.3. To keep the past behaviour, explicitly set `max_features='sqrt'` or remove this parameter as it is also the default value for RandomForestClassifiers and ExtraTreesClassifiers.\n",
      "  warn(\n",
      "/Users/yimengjin/Desktop/Thesis/Thesis_Yimeng/venv/lib/python3.9/site-packages/sklearn/ensemble/_forest.py:425: FutureWarning: `max_features='auto'` has been deprecated in 1.1 and will be removed in 1.3. To keep the past behaviour, explicitly set `max_features='sqrt'` or remove this parameter as it is also the default value for RandomForestClassifiers and ExtraTreesClassifiers.\n",
      "  warn(\n",
      "/Users/yimengjin/Desktop/Thesis/Thesis_Yimeng/venv/lib/python3.9/site-packages/sklearn/ensemble/_forest.py:425: FutureWarning: `max_features='auto'` has been deprecated in 1.1 and will be removed in 1.3. To keep the past behaviour, explicitly set `max_features='sqrt'` or remove this parameter as it is also the default value for RandomForestClassifiers and ExtraTreesClassifiers.\n",
      "  warn(\n",
      "/Users/yimengjin/Desktop/Thesis/Thesis_Yimeng/venv/lib/python3.9/site-packages/sklearn/ensemble/_forest.py:425: FutureWarning: `max_features='auto'` has been deprecated in 1.1 and will be removed in 1.3. To keep the past behaviour, explicitly set `max_features='sqrt'` or remove this parameter as it is also the default value for RandomForestClassifiers and ExtraTreesClassifiers.\n",
      "  warn(\n",
      "/Users/yimengjin/Desktop/Thesis/Thesis_Yimeng/venv/lib/python3.9/site-packages/sklearn/ensemble/_forest.py:425: FutureWarning: `max_features='auto'` has been deprecated in 1.1 and will be removed in 1.3. To keep the past behaviour, explicitly set `max_features='sqrt'` or remove this parameter as it is also the default value for RandomForestClassifiers and ExtraTreesClassifiers.\n",
      "  warn(\n",
      "/Users/yimengjin/Desktop/Thesis/Thesis_Yimeng/venv/lib/python3.9/site-packages/sklearn/ensemble/_forest.py:425: FutureWarning: `max_features='auto'` has been deprecated in 1.1 and will be removed in 1.3. To keep the past behaviour, explicitly set `max_features='sqrt'` or remove this parameter as it is also the default value for RandomForestClassifiers and ExtraTreesClassifiers.\n",
      "  warn(\n",
      "/Users/yimengjin/Desktop/Thesis/Thesis_Yimeng/venv/lib/python3.9/site-packages/sklearn/ensemble/_forest.py:425: FutureWarning: `max_features='auto'` has been deprecated in 1.1 and will be removed in 1.3. To keep the past behaviour, explicitly set `max_features='sqrt'` or remove this parameter as it is also the default value for RandomForestClassifiers and ExtraTreesClassifiers.\n",
      "  warn(\n",
      "/Users/yimengjin/Desktop/Thesis/Thesis_Yimeng/venv/lib/python3.9/site-packages/sklearn/ensemble/_forest.py:425: FutureWarning: `max_features='auto'` has been deprecated in 1.1 and will be removed in 1.3. To keep the past behaviour, explicitly set `max_features='sqrt'` or remove this parameter as it is also the default value for RandomForestClassifiers and ExtraTreesClassifiers.\n",
      "  warn(\n",
      "/Users/yimengjin/Desktop/Thesis/Thesis_Yimeng/venv/lib/python3.9/site-packages/sklearn/ensemble/_forest.py:425: FutureWarning: `max_features='auto'` has been deprecated in 1.1 and will be removed in 1.3. To keep the past behaviour, explicitly set `max_features='sqrt'` or remove this parameter as it is also the default value for RandomForestClassifiers and ExtraTreesClassifiers.\n",
      "  warn(\n",
      "/Users/yimengjin/Desktop/Thesis/Thesis_Yimeng/venv/lib/python3.9/site-packages/sklearn/ensemble/_forest.py:425: FutureWarning: `max_features='auto'` has been deprecated in 1.1 and will be removed in 1.3. To keep the past behaviour, explicitly set `max_features='sqrt'` or remove this parameter as it is also the default value for RandomForestClassifiers and ExtraTreesClassifiers.\n",
      "  warn(\n",
      "/Users/yimengjin/Desktop/Thesis/Thesis_Yimeng/venv/lib/python3.9/site-packages/sklearn/ensemble/_forest.py:425: FutureWarning: `max_features='auto'` has been deprecated in 1.1 and will be removed in 1.3. To keep the past behaviour, explicitly set `max_features='sqrt'` or remove this parameter as it is also the default value for RandomForestClassifiers and ExtraTreesClassifiers.\n",
      "  warn(\n",
      "/Users/yimengjin/Desktop/Thesis/Thesis_Yimeng/venv/lib/python3.9/site-packages/sklearn/ensemble/_forest.py:425: FutureWarning: `max_features='auto'` has been deprecated in 1.1 and will be removed in 1.3. To keep the past behaviour, explicitly set `max_features='sqrt'` or remove this parameter as it is also the default value for RandomForestClassifiers and ExtraTreesClassifiers.\n",
      "  warn(\n",
      "/Users/yimengjin/Desktop/Thesis/Thesis_Yimeng/venv/lib/python3.9/site-packages/sklearn/ensemble/_forest.py:425: FutureWarning: `max_features='auto'` has been deprecated in 1.1 and will be removed in 1.3. To keep the past behaviour, explicitly set `max_features='sqrt'` or remove this parameter as it is also the default value for RandomForestClassifiers and ExtraTreesClassifiers.\n",
      "  warn(\n",
      "/Users/yimengjin/Desktop/Thesis/Thesis_Yimeng/venv/lib/python3.9/site-packages/sklearn/ensemble/_forest.py:425: FutureWarning: `max_features='auto'` has been deprecated in 1.1 and will be removed in 1.3. To keep the past behaviour, explicitly set `max_features='sqrt'` or remove this parameter as it is also the default value for RandomForestClassifiers and ExtraTreesClassifiers.\n",
      "  warn(\n",
      "/Users/yimengjin/Desktop/Thesis/Thesis_Yimeng/venv/lib/python3.9/site-packages/sklearn/ensemble/_forest.py:425: FutureWarning: `max_features='auto'` has been deprecated in 1.1 and will be removed in 1.3. To keep the past behaviour, explicitly set `max_features='sqrt'` or remove this parameter as it is also the default value for RandomForestClassifiers and ExtraTreesClassifiers.\n",
      "  warn(\n",
      "/Users/yimengjin/Desktop/Thesis/Thesis_Yimeng/venv/lib/python3.9/site-packages/sklearn/ensemble/_forest.py:425: FutureWarning: `max_features='auto'` has been deprecated in 1.1 and will be removed in 1.3. To keep the past behaviour, explicitly set `max_features='sqrt'` or remove this parameter as it is also the default value for RandomForestClassifiers and ExtraTreesClassifiers.\n",
      "  warn(\n",
      "/Users/yimengjin/Desktop/Thesis/Thesis_Yimeng/venv/lib/python3.9/site-packages/sklearn/ensemble/_forest.py:425: FutureWarning: `max_features='auto'` has been deprecated in 1.1 and will be removed in 1.3. To keep the past behaviour, explicitly set `max_features='sqrt'` or remove this parameter as it is also the default value for RandomForestClassifiers and ExtraTreesClassifiers.\n",
      "  warn(\n",
      "/Users/yimengjin/Desktop/Thesis/Thesis_Yimeng/venv/lib/python3.9/site-packages/sklearn/ensemble/_forest.py:425: FutureWarning: `max_features='auto'` has been deprecated in 1.1 and will be removed in 1.3. To keep the past behaviour, explicitly set `max_features='sqrt'` or remove this parameter as it is also the default value for RandomForestClassifiers and ExtraTreesClassifiers.\n",
      "  warn(\n",
      "/Users/yimengjin/Desktop/Thesis/Thesis_Yimeng/venv/lib/python3.9/site-packages/sklearn/ensemble/_forest.py:425: FutureWarning: `max_features='auto'` has been deprecated in 1.1 and will be removed in 1.3. To keep the past behaviour, explicitly set `max_features='sqrt'` or remove this parameter as it is also the default value for RandomForestClassifiers and ExtraTreesClassifiers.\n",
      "  warn(\n",
      "/Users/yimengjin/Desktop/Thesis/Thesis_Yimeng/venv/lib/python3.9/site-packages/sklearn/ensemble/_forest.py:425: FutureWarning: `max_features='auto'` has been deprecated in 1.1 and will be removed in 1.3. To keep the past behaviour, explicitly set `max_features='sqrt'` or remove this parameter as it is also the default value for RandomForestClassifiers and ExtraTreesClassifiers.\n",
      "  warn(\n",
      "/Users/yimengjin/Desktop/Thesis/Thesis_Yimeng/venv/lib/python3.9/site-packages/sklearn/ensemble/_forest.py:425: FutureWarning: `max_features='auto'` has been deprecated in 1.1 and will be removed in 1.3. To keep the past behaviour, explicitly set `max_features='sqrt'` or remove this parameter as it is also the default value for RandomForestClassifiers and ExtraTreesClassifiers.\n",
      "  warn(\n",
      "/Users/yimengjin/Desktop/Thesis/Thesis_Yimeng/venv/lib/python3.9/site-packages/sklearn/ensemble/_forest.py:425: FutureWarning: `max_features='auto'` has been deprecated in 1.1 and will be removed in 1.3. To keep the past behaviour, explicitly set `max_features='sqrt'` or remove this parameter as it is also the default value for RandomForestClassifiers and ExtraTreesClassifiers.\n",
      "  warn(\n",
      "/Users/yimengjin/Desktop/Thesis/Thesis_Yimeng/venv/lib/python3.9/site-packages/sklearn/ensemble/_forest.py:425: FutureWarning: `max_features='auto'` has been deprecated in 1.1 and will be removed in 1.3. To keep the past behaviour, explicitly set `max_features='sqrt'` or remove this parameter as it is also the default value for RandomForestClassifiers and ExtraTreesClassifiers.\n",
      "  warn(\n",
      "/Users/yimengjin/Desktop/Thesis/Thesis_Yimeng/venv/lib/python3.9/site-packages/sklearn/ensemble/_forest.py:425: FutureWarning: `max_features='auto'` has been deprecated in 1.1 and will be removed in 1.3. To keep the past behaviour, explicitly set `max_features='sqrt'` or remove this parameter as it is also the default value for RandomForestClassifiers and ExtraTreesClassifiers.\n",
      "  warn(\n",
      "/Users/yimengjin/Desktop/Thesis/Thesis_Yimeng/venv/lib/python3.9/site-packages/sklearn/ensemble/_forest.py:425: FutureWarning: `max_features='auto'` has been deprecated in 1.1 and will be removed in 1.3. To keep the past behaviour, explicitly set `max_features='sqrt'` or remove this parameter as it is also the default value for RandomForestClassifiers and ExtraTreesClassifiers.\n",
      "  warn(\n",
      "/Users/yimengjin/Desktop/Thesis/Thesis_Yimeng/venv/lib/python3.9/site-packages/sklearn/ensemble/_forest.py:425: FutureWarning: `max_features='auto'` has been deprecated in 1.1 and will be removed in 1.3. To keep the past behaviour, explicitly set `max_features='sqrt'` or remove this parameter as it is also the default value for RandomForestClassifiers and ExtraTreesClassifiers.\n",
      "  warn(\n",
      "/Users/yimengjin/Desktop/Thesis/Thesis_Yimeng/venv/lib/python3.9/site-packages/sklearn/ensemble/_forest.py:425: FutureWarning: `max_features='auto'` has been deprecated in 1.1 and will be removed in 1.3. To keep the past behaviour, explicitly set `max_features='sqrt'` or remove this parameter as it is also the default value for RandomForestClassifiers and ExtraTreesClassifiers.\n",
      "  warn(\n",
      "/Users/yimengjin/Desktop/Thesis/Thesis_Yimeng/venv/lib/python3.9/site-packages/sklearn/ensemble/_forest.py:425: FutureWarning: `max_features='auto'` has been deprecated in 1.1 and will be removed in 1.3. To keep the past behaviour, explicitly set `max_features='sqrt'` or remove this parameter as it is also the default value for RandomForestClassifiers and ExtraTreesClassifiers.\n",
      "  warn(\n",
      "/Users/yimengjin/Desktop/Thesis/Thesis_Yimeng/venv/lib/python3.9/site-packages/sklearn/ensemble/_forest.py:425: FutureWarning: `max_features='auto'` has been deprecated in 1.1 and will be removed in 1.3. To keep the past behaviour, explicitly set `max_features='sqrt'` or remove this parameter as it is also the default value for RandomForestClassifiers and ExtraTreesClassifiers.\n",
      "  warn(\n",
      "/Users/yimengjin/Desktop/Thesis/Thesis_Yimeng/venv/lib/python3.9/site-packages/sklearn/ensemble/_forest.py:425: FutureWarning: `max_features='auto'` has been deprecated in 1.1 and will be removed in 1.3. To keep the past behaviour, explicitly set `max_features='sqrt'` or remove this parameter as it is also the default value for RandomForestClassifiers and ExtraTreesClassifiers.\n",
      "  warn(\n",
      "/Users/yimengjin/Desktop/Thesis/Thesis_Yimeng/venv/lib/python3.9/site-packages/sklearn/ensemble/_forest.py:425: FutureWarning: `max_features='auto'` has been deprecated in 1.1 and will be removed in 1.3. To keep the past behaviour, explicitly set `max_features='sqrt'` or remove this parameter as it is also the default value for RandomForestClassifiers and ExtraTreesClassifiers.\n",
      "  warn(\n",
      "/Users/yimengjin/Desktop/Thesis/Thesis_Yimeng/venv/lib/python3.9/site-packages/sklearn/ensemble/_forest.py:425: FutureWarning: `max_features='auto'` has been deprecated in 1.1 and will be removed in 1.3. To keep the past behaviour, explicitly set `max_features='sqrt'` or remove this parameter as it is also the default value for RandomForestClassifiers and ExtraTreesClassifiers.\n",
      "  warn(\n",
      "/Users/yimengjin/Desktop/Thesis/Thesis_Yimeng/venv/lib/python3.9/site-packages/sklearn/ensemble/_forest.py:425: FutureWarning: `max_features='auto'` has been deprecated in 1.1 and will be removed in 1.3. To keep the past behaviour, explicitly set `max_features='sqrt'` or remove this parameter as it is also the default value for RandomForestClassifiers and ExtraTreesClassifiers.\n",
      "  warn(\n",
      "/Users/yimengjin/Desktop/Thesis/Thesis_Yimeng/venv/lib/python3.9/site-packages/sklearn/ensemble/_forest.py:425: FutureWarning: `max_features='auto'` has been deprecated in 1.1 and will be removed in 1.3. To keep the past behaviour, explicitly set `max_features='sqrt'` or remove this parameter as it is also the default value for RandomForestClassifiers and ExtraTreesClassifiers.\n",
      "  warn(\n",
      "/Users/yimengjin/Desktop/Thesis/Thesis_Yimeng/venv/lib/python3.9/site-packages/sklearn/ensemble/_forest.py:425: FutureWarning: `max_features='auto'` has been deprecated in 1.1 and will be removed in 1.3. To keep the past behaviour, explicitly set `max_features='sqrt'` or remove this parameter as it is also the default value for RandomForestClassifiers and ExtraTreesClassifiers.\n",
      "  warn(\n",
      "/Users/yimengjin/Desktop/Thesis/Thesis_Yimeng/venv/lib/python3.9/site-packages/sklearn/ensemble/_forest.py:425: FutureWarning: `max_features='auto'` has been deprecated in 1.1 and will be removed in 1.3. To keep the past behaviour, explicitly set `max_features='sqrt'` or remove this parameter as it is also the default value for RandomForestClassifiers and ExtraTreesClassifiers.\n",
      "  warn(\n",
      "/Users/yimengjin/Desktop/Thesis/Thesis_Yimeng/venv/lib/python3.9/site-packages/sklearn/ensemble/_forest.py:425: FutureWarning: `max_features='auto'` has been deprecated in 1.1 and will be removed in 1.3. To keep the past behaviour, explicitly set `max_features='sqrt'` or remove this parameter as it is also the default value for RandomForestClassifiers and ExtraTreesClassifiers.\n",
      "  warn(\n",
      "/Users/yimengjin/Desktop/Thesis/Thesis_Yimeng/venv/lib/python3.9/site-packages/sklearn/ensemble/_forest.py:425: FutureWarning: `max_features='auto'` has been deprecated in 1.1 and will be removed in 1.3. To keep the past behaviour, explicitly set `max_features='sqrt'` or remove this parameter as it is also the default value for RandomForestClassifiers and ExtraTreesClassifiers.\n",
      "  warn(\n",
      "/Users/yimengjin/Desktop/Thesis/Thesis_Yimeng/venv/lib/python3.9/site-packages/sklearn/ensemble/_forest.py:425: FutureWarning: `max_features='auto'` has been deprecated in 1.1 and will be removed in 1.3. To keep the past behaviour, explicitly set `max_features='sqrt'` or remove this parameter as it is also the default value for RandomForestClassifiers and ExtraTreesClassifiers.\n",
      "  warn(\n",
      "/Users/yimengjin/Desktop/Thesis/Thesis_Yimeng/venv/lib/python3.9/site-packages/sklearn/ensemble/_forest.py:425: FutureWarning: `max_features='auto'` has been deprecated in 1.1 and will be removed in 1.3. To keep the past behaviour, explicitly set `max_features='sqrt'` or remove this parameter as it is also the default value for RandomForestClassifiers and ExtraTreesClassifiers.\n",
      "  warn(\n",
      "/Users/yimengjin/Desktop/Thesis/Thesis_Yimeng/venv/lib/python3.9/site-packages/sklearn/ensemble/_forest.py:425: FutureWarning: `max_features='auto'` has been deprecated in 1.1 and will be removed in 1.3. To keep the past behaviour, explicitly set `max_features='sqrt'` or remove this parameter as it is also the default value for RandomForestClassifiers and ExtraTreesClassifiers.\n",
      "  warn(\n",
      "/Users/yimengjin/Desktop/Thesis/Thesis_Yimeng/venv/lib/python3.9/site-packages/sklearn/ensemble/_forest.py:425: FutureWarning: `max_features='auto'` has been deprecated in 1.1 and will be removed in 1.3. To keep the past behaviour, explicitly set `max_features='sqrt'` or remove this parameter as it is also the default value for RandomForestClassifiers and ExtraTreesClassifiers.\n",
      "  warn(\n",
      "/Users/yimengjin/Desktop/Thesis/Thesis_Yimeng/venv/lib/python3.9/site-packages/sklearn/ensemble/_forest.py:425: FutureWarning: `max_features='auto'` has been deprecated in 1.1 and will be removed in 1.3. To keep the past behaviour, explicitly set `max_features='sqrt'` or remove this parameter as it is also the default value for RandomForestClassifiers and ExtraTreesClassifiers.\n",
      "  warn(\n",
      "/Users/yimengjin/Desktop/Thesis/Thesis_Yimeng/venv/lib/python3.9/site-packages/sklearn/ensemble/_forest.py:425: FutureWarning: `max_features='auto'` has been deprecated in 1.1 and will be removed in 1.3. To keep the past behaviour, explicitly set `max_features='sqrt'` or remove this parameter as it is also the default value for RandomForestClassifiers and ExtraTreesClassifiers.\n",
      "  warn(\n",
      "/Users/yimengjin/Desktop/Thesis/Thesis_Yimeng/venv/lib/python3.9/site-packages/sklearn/ensemble/_forest.py:425: FutureWarning: `max_features='auto'` has been deprecated in 1.1 and will be removed in 1.3. To keep the past behaviour, explicitly set `max_features='sqrt'` or remove this parameter as it is also the default value for RandomForestClassifiers and ExtraTreesClassifiers.\n",
      "  warn(\n",
      "/Users/yimengjin/Desktop/Thesis/Thesis_Yimeng/venv/lib/python3.9/site-packages/sklearn/ensemble/_forest.py:425: FutureWarning: `max_features='auto'` has been deprecated in 1.1 and will be removed in 1.3. To keep the past behaviour, explicitly set `max_features='sqrt'` or remove this parameter as it is also the default value for RandomForestClassifiers and ExtraTreesClassifiers.\n",
      "  warn(\n",
      "/Users/yimengjin/Desktop/Thesis/Thesis_Yimeng/venv/lib/python3.9/site-packages/sklearn/ensemble/_forest.py:425: FutureWarning: `max_features='auto'` has been deprecated in 1.1 and will be removed in 1.3. To keep the past behaviour, explicitly set `max_features='sqrt'` or remove this parameter as it is also the default value for RandomForestClassifiers and ExtraTreesClassifiers.\n",
      "  warn(\n",
      "/Users/yimengjin/Desktop/Thesis/Thesis_Yimeng/venv/lib/python3.9/site-packages/sklearn/ensemble/_forest.py:425: FutureWarning: `max_features='auto'` has been deprecated in 1.1 and will be removed in 1.3. To keep the past behaviour, explicitly set `max_features='sqrt'` or remove this parameter as it is also the default value for RandomForestClassifiers and ExtraTreesClassifiers.\n",
      "  warn(\n",
      "/Users/yimengjin/Desktop/Thesis/Thesis_Yimeng/venv/lib/python3.9/site-packages/sklearn/ensemble/_forest.py:425: FutureWarning: `max_features='auto'` has been deprecated in 1.1 and will be removed in 1.3. To keep the past behaviour, explicitly set `max_features='sqrt'` or remove this parameter as it is also the default value for RandomForestClassifiers and ExtraTreesClassifiers.\n",
      "  warn(\n",
      "/Users/yimengjin/Desktop/Thesis/Thesis_Yimeng/venv/lib/python3.9/site-packages/sklearn/ensemble/_forest.py:425: FutureWarning: `max_features='auto'` has been deprecated in 1.1 and will be removed in 1.3. To keep the past behaviour, explicitly set `max_features='sqrt'` or remove this parameter as it is also the default value for RandomForestClassifiers and ExtraTreesClassifiers.\n",
      "  warn(\n",
      "/Users/yimengjin/Desktop/Thesis/Thesis_Yimeng/venv/lib/python3.9/site-packages/sklearn/ensemble/_forest.py:425: FutureWarning: `max_features='auto'` has been deprecated in 1.1 and will be removed in 1.3. To keep the past behaviour, explicitly set `max_features='sqrt'` or remove this parameter as it is also the default value for RandomForestClassifiers and ExtraTreesClassifiers.\n",
      "  warn(\n",
      "/Users/yimengjin/Desktop/Thesis/Thesis_Yimeng/venv/lib/python3.9/site-packages/sklearn/ensemble/_forest.py:425: FutureWarning: `max_features='auto'` has been deprecated in 1.1 and will be removed in 1.3. To keep the past behaviour, explicitly set `max_features='sqrt'` or remove this parameter as it is also the default value for RandomForestClassifiers and ExtraTreesClassifiers.\n",
      "  warn(\n",
      "/Users/yimengjin/Desktop/Thesis/Thesis_Yimeng/venv/lib/python3.9/site-packages/sklearn/ensemble/_forest.py:425: FutureWarning: `max_features='auto'` has been deprecated in 1.1 and will be removed in 1.3. To keep the past behaviour, explicitly set `max_features='sqrt'` or remove this parameter as it is also the default value for RandomForestClassifiers and ExtraTreesClassifiers.\n",
      "  warn(\n",
      "/Users/yimengjin/Desktop/Thesis/Thesis_Yimeng/venv/lib/python3.9/site-packages/sklearn/ensemble/_forest.py:425: FutureWarning: `max_features='auto'` has been deprecated in 1.1 and will be removed in 1.3. To keep the past behaviour, explicitly set `max_features='sqrt'` or remove this parameter as it is also the default value for RandomForestClassifiers and ExtraTreesClassifiers.\n",
      "  warn(\n",
      "/Users/yimengjin/Desktop/Thesis/Thesis_Yimeng/venv/lib/python3.9/site-packages/sklearn/ensemble/_forest.py:425: FutureWarning: `max_features='auto'` has been deprecated in 1.1 and will be removed in 1.3. To keep the past behaviour, explicitly set `max_features='sqrt'` or remove this parameter as it is also the default value for RandomForestClassifiers and ExtraTreesClassifiers.\n",
      "  warn(\n",
      "/Users/yimengjin/Desktop/Thesis/Thesis_Yimeng/venv/lib/python3.9/site-packages/sklearn/ensemble/_forest.py:425: FutureWarning: `max_features='auto'` has been deprecated in 1.1 and will be removed in 1.3. To keep the past behaviour, explicitly set `max_features='sqrt'` or remove this parameter as it is also the default value for RandomForestClassifiers and ExtraTreesClassifiers.\n",
      "  warn(\n",
      "/Users/yimengjin/Desktop/Thesis/Thesis_Yimeng/venv/lib/python3.9/site-packages/sklearn/ensemble/_forest.py:425: FutureWarning: `max_features='auto'` has been deprecated in 1.1 and will be removed in 1.3. To keep the past behaviour, explicitly set `max_features='sqrt'` or remove this parameter as it is also the default value for RandomForestClassifiers and ExtraTreesClassifiers.\n",
      "  warn(\n",
      "/Users/yimengjin/Desktop/Thesis/Thesis_Yimeng/venv/lib/python3.9/site-packages/sklearn/ensemble/_forest.py:425: FutureWarning: `max_features='auto'` has been deprecated in 1.1 and will be removed in 1.3. To keep the past behaviour, explicitly set `max_features='sqrt'` or remove this parameter as it is also the default value for RandomForestClassifiers and ExtraTreesClassifiers.\n",
      "  warn(\n",
      "/Users/yimengjin/Desktop/Thesis/Thesis_Yimeng/venv/lib/python3.9/site-packages/sklearn/ensemble/_forest.py:425: FutureWarning: `max_features='auto'` has been deprecated in 1.1 and will be removed in 1.3. To keep the past behaviour, explicitly set `max_features='sqrt'` or remove this parameter as it is also the default value for RandomForestClassifiers and ExtraTreesClassifiers.\n",
      "  warn(\n",
      "/Users/yimengjin/Desktop/Thesis/Thesis_Yimeng/venv/lib/python3.9/site-packages/sklearn/ensemble/_forest.py:425: FutureWarning: `max_features='auto'` has been deprecated in 1.1 and will be removed in 1.3. To keep the past behaviour, explicitly set `max_features='sqrt'` or remove this parameter as it is also the default value for RandomForestClassifiers and ExtraTreesClassifiers.\n",
      "  warn(\n",
      "/Users/yimengjin/Desktop/Thesis/Thesis_Yimeng/venv/lib/python3.9/site-packages/sklearn/ensemble/_forest.py:425: FutureWarning: `max_features='auto'` has been deprecated in 1.1 and will be removed in 1.3. To keep the past behaviour, explicitly set `max_features='sqrt'` or remove this parameter as it is also the default value for RandomForestClassifiers and ExtraTreesClassifiers.\n",
      "  warn(\n",
      "/Users/yimengjin/Desktop/Thesis/Thesis_Yimeng/venv/lib/python3.9/site-packages/sklearn/ensemble/_forest.py:425: FutureWarning: `max_features='auto'` has been deprecated in 1.1 and will be removed in 1.3. To keep the past behaviour, explicitly set `max_features='sqrt'` or remove this parameter as it is also the default value for RandomForestClassifiers and ExtraTreesClassifiers.\n",
      "  warn(\n",
      "/Users/yimengjin/Desktop/Thesis/Thesis_Yimeng/venv/lib/python3.9/site-packages/sklearn/ensemble/_forest.py:425: FutureWarning: `max_features='auto'` has been deprecated in 1.1 and will be removed in 1.3. To keep the past behaviour, explicitly set `max_features='sqrt'` or remove this parameter as it is also the default value for RandomForestClassifiers and ExtraTreesClassifiers.\n",
      "  warn(\n",
      "/Users/yimengjin/Desktop/Thesis/Thesis_Yimeng/venv/lib/python3.9/site-packages/sklearn/ensemble/_forest.py:425: FutureWarning: `max_features='auto'` has been deprecated in 1.1 and will be removed in 1.3. To keep the past behaviour, explicitly set `max_features='sqrt'` or remove this parameter as it is also the default value for RandomForestClassifiers and ExtraTreesClassifiers.\n",
      "  warn(\n",
      "/Users/yimengjin/Desktop/Thesis/Thesis_Yimeng/venv/lib/python3.9/site-packages/sklearn/ensemble/_forest.py:425: FutureWarning: `max_features='auto'` has been deprecated in 1.1 and will be removed in 1.3. To keep the past behaviour, explicitly set `max_features='sqrt'` or remove this parameter as it is also the default value for RandomForestClassifiers and ExtraTreesClassifiers.\n",
      "  warn(\n",
      "/Users/yimengjin/Desktop/Thesis/Thesis_Yimeng/venv/lib/python3.9/site-packages/sklearn/ensemble/_forest.py:425: FutureWarning: `max_features='auto'` has been deprecated in 1.1 and will be removed in 1.3. To keep the past behaviour, explicitly set `max_features='sqrt'` or remove this parameter as it is also the default value for RandomForestClassifiers and ExtraTreesClassifiers.\n",
      "  warn(\n",
      "/Users/yimengjin/Desktop/Thesis/Thesis_Yimeng/venv/lib/python3.9/site-packages/sklearn/ensemble/_forest.py:425: FutureWarning: `max_features='auto'` has been deprecated in 1.1 and will be removed in 1.3. To keep the past behaviour, explicitly set `max_features='sqrt'` or remove this parameter as it is also the default value for RandomForestClassifiers and ExtraTreesClassifiers.\n",
      "  warn(\n",
      "/Users/yimengjin/Desktop/Thesis/Thesis_Yimeng/venv/lib/python3.9/site-packages/sklearn/ensemble/_forest.py:425: FutureWarning: `max_features='auto'` has been deprecated in 1.1 and will be removed in 1.3. To keep the past behaviour, explicitly set `max_features='sqrt'` or remove this parameter as it is also the default value for RandomForestClassifiers and ExtraTreesClassifiers.\n",
      "  warn(\n",
      "/Users/yimengjin/Desktop/Thesis/Thesis_Yimeng/venv/lib/python3.9/site-packages/sklearn/ensemble/_forest.py:425: FutureWarning: `max_features='auto'` has been deprecated in 1.1 and will be removed in 1.3. To keep the past behaviour, explicitly set `max_features='sqrt'` or remove this parameter as it is also the default value for RandomForestClassifiers and ExtraTreesClassifiers.\n",
      "  warn(\n",
      "/Users/yimengjin/Desktop/Thesis/Thesis_Yimeng/venv/lib/python3.9/site-packages/sklearn/ensemble/_forest.py:425: FutureWarning: `max_features='auto'` has been deprecated in 1.1 and will be removed in 1.3. To keep the past behaviour, explicitly set `max_features='sqrt'` or remove this parameter as it is also the default value for RandomForestClassifiers and ExtraTreesClassifiers.\n",
      "  warn(\n",
      "/Users/yimengjin/Desktop/Thesis/Thesis_Yimeng/venv/lib/python3.9/site-packages/sklearn/ensemble/_forest.py:425: FutureWarning: `max_features='auto'` has been deprecated in 1.1 and will be removed in 1.3. To keep the past behaviour, explicitly set `max_features='sqrt'` or remove this parameter as it is also the default value for RandomForestClassifiers and ExtraTreesClassifiers.\n",
      "  warn(\n",
      "/Users/yimengjin/Desktop/Thesis/Thesis_Yimeng/venv/lib/python3.9/site-packages/sklearn/ensemble/_forest.py:425: FutureWarning: `max_features='auto'` has been deprecated in 1.1 and will be removed in 1.3. To keep the past behaviour, explicitly set `max_features='sqrt'` or remove this parameter as it is also the default value for RandomForestClassifiers and ExtraTreesClassifiers.\n",
      "  warn(\n",
      "/Users/yimengjin/Desktop/Thesis/Thesis_Yimeng/venv/lib/python3.9/site-packages/sklearn/ensemble/_forest.py:425: FutureWarning: `max_features='auto'` has been deprecated in 1.1 and will be removed in 1.3. To keep the past behaviour, explicitly set `max_features='sqrt'` or remove this parameter as it is also the default value for RandomForestClassifiers and ExtraTreesClassifiers.\n",
      "  warn(\n",
      "/Users/yimengjin/Desktop/Thesis/Thesis_Yimeng/venv/lib/python3.9/site-packages/sklearn/ensemble/_forest.py:425: FutureWarning: `max_features='auto'` has been deprecated in 1.1 and will be removed in 1.3. To keep the past behaviour, explicitly set `max_features='sqrt'` or remove this parameter as it is also the default value for RandomForestClassifiers and ExtraTreesClassifiers.\n",
      "  warn(\n",
      "/Users/yimengjin/Desktop/Thesis/Thesis_Yimeng/venv/lib/python3.9/site-packages/sklearn/ensemble/_forest.py:425: FutureWarning: `max_features='auto'` has been deprecated in 1.1 and will be removed in 1.3. To keep the past behaviour, explicitly set `max_features='sqrt'` or remove this parameter as it is also the default value for RandomForestClassifiers and ExtraTreesClassifiers.\n",
      "  warn(\n",
      "/Users/yimengjin/Desktop/Thesis/Thesis_Yimeng/venv/lib/python3.9/site-packages/sklearn/ensemble/_forest.py:425: FutureWarning: `max_features='auto'` has been deprecated in 1.1 and will be removed in 1.3. To keep the past behaviour, explicitly set `max_features='sqrt'` or remove this parameter as it is also the default value for RandomForestClassifiers and ExtraTreesClassifiers.\n",
      "  warn(\n",
      "/Users/yimengjin/Desktop/Thesis/Thesis_Yimeng/venv/lib/python3.9/site-packages/sklearn/ensemble/_forest.py:425: FutureWarning: `max_features='auto'` has been deprecated in 1.1 and will be removed in 1.3. To keep the past behaviour, explicitly set `max_features='sqrt'` or remove this parameter as it is also the default value for RandomForestClassifiers and ExtraTreesClassifiers.\n",
      "  warn(\n",
      "/Users/yimengjin/Desktop/Thesis/Thesis_Yimeng/venv/lib/python3.9/site-packages/sklearn/ensemble/_forest.py:425: FutureWarning: `max_features='auto'` has been deprecated in 1.1 and will be removed in 1.3. To keep the past behaviour, explicitly set `max_features='sqrt'` or remove this parameter as it is also the default value for RandomForestClassifiers and ExtraTreesClassifiers.\n",
      "  warn(\n",
      "/Users/yimengjin/Desktop/Thesis/Thesis_Yimeng/venv/lib/python3.9/site-packages/sklearn/ensemble/_forest.py:425: FutureWarning: `max_features='auto'` has been deprecated in 1.1 and will be removed in 1.3. To keep the past behaviour, explicitly set `max_features='sqrt'` or remove this parameter as it is also the default value for RandomForestClassifiers and ExtraTreesClassifiers.\n",
      "  warn(\n",
      "/Users/yimengjin/Desktop/Thesis/Thesis_Yimeng/venv/lib/python3.9/site-packages/sklearn/ensemble/_forest.py:425: FutureWarning: `max_features='auto'` has been deprecated in 1.1 and will be removed in 1.3. To keep the past behaviour, explicitly set `max_features='sqrt'` or remove this parameter as it is also the default value for RandomForestClassifiers and ExtraTreesClassifiers.\n",
      "  warn(\n",
      "/Users/yimengjin/Desktop/Thesis/Thesis_Yimeng/venv/lib/python3.9/site-packages/sklearn/ensemble/_forest.py:425: FutureWarning: `max_features='auto'` has been deprecated in 1.1 and will be removed in 1.3. To keep the past behaviour, explicitly set `max_features='sqrt'` or remove this parameter as it is also the default value for RandomForestClassifiers and ExtraTreesClassifiers.\n",
      "  warn(\n",
      "/Users/yimengjin/Desktop/Thesis/Thesis_Yimeng/venv/lib/python3.9/site-packages/sklearn/ensemble/_forest.py:425: FutureWarning: `max_features='auto'` has been deprecated in 1.1 and will be removed in 1.3. To keep the past behaviour, explicitly set `max_features='sqrt'` or remove this parameter as it is also the default value for RandomForestClassifiers and ExtraTreesClassifiers.\n",
      "  warn(\n",
      "/Users/yimengjin/Desktop/Thesis/Thesis_Yimeng/venv/lib/python3.9/site-packages/sklearn/ensemble/_forest.py:425: FutureWarning: `max_features='auto'` has been deprecated in 1.1 and will be removed in 1.3. To keep the past behaviour, explicitly set `max_features='sqrt'` or remove this parameter as it is also the default value for RandomForestClassifiers and ExtraTreesClassifiers.\n",
      "  warn(\n",
      "/Users/yimengjin/Desktop/Thesis/Thesis_Yimeng/venv/lib/python3.9/site-packages/sklearn/ensemble/_forest.py:425: FutureWarning: `max_features='auto'` has been deprecated in 1.1 and will be removed in 1.3. To keep the past behaviour, explicitly set `max_features='sqrt'` or remove this parameter as it is also the default value for RandomForestClassifiers and ExtraTreesClassifiers.\n",
      "  warn(\n",
      "/Users/yimengjin/Desktop/Thesis/Thesis_Yimeng/venv/lib/python3.9/site-packages/sklearn/ensemble/_forest.py:425: FutureWarning: `max_features='auto'` has been deprecated in 1.1 and will be removed in 1.3. To keep the past behaviour, explicitly set `max_features='sqrt'` or remove this parameter as it is also the default value for RandomForestClassifiers and ExtraTreesClassifiers.\n",
      "  warn(\n",
      "/Users/yimengjin/Desktop/Thesis/Thesis_Yimeng/venv/lib/python3.9/site-packages/sklearn/ensemble/_forest.py:425: FutureWarning: `max_features='auto'` has been deprecated in 1.1 and will be removed in 1.3. To keep the past behaviour, explicitly set `max_features='sqrt'` or remove this parameter as it is also the default value for RandomForestClassifiers and ExtraTreesClassifiers.\n",
      "  warn(\n",
      "/Users/yimengjin/Desktop/Thesis/Thesis_Yimeng/venv/lib/python3.9/site-packages/sklearn/ensemble/_forest.py:425: FutureWarning: `max_features='auto'` has been deprecated in 1.1 and will be removed in 1.3. To keep the past behaviour, explicitly set `max_features='sqrt'` or remove this parameter as it is also the default value for RandomForestClassifiers and ExtraTreesClassifiers.\n",
      "  warn(\n",
      "/Users/yimengjin/Desktop/Thesis/Thesis_Yimeng/venv/lib/python3.9/site-packages/sklearn/ensemble/_forest.py:425: FutureWarning: `max_features='auto'` has been deprecated in 1.1 and will be removed in 1.3. To keep the past behaviour, explicitly set `max_features='sqrt'` or remove this parameter as it is also the default value for RandomForestClassifiers and ExtraTreesClassifiers.\n",
      "  warn(\n",
      "/Users/yimengjin/Desktop/Thesis/Thesis_Yimeng/venv/lib/python3.9/site-packages/sklearn/ensemble/_forest.py:425: FutureWarning: `max_features='auto'` has been deprecated in 1.1 and will be removed in 1.3. To keep the past behaviour, explicitly set `max_features='sqrt'` or remove this parameter as it is also the default value for RandomForestClassifiers and ExtraTreesClassifiers.\n",
      "  warn(\n",
      "/Users/yimengjin/Desktop/Thesis/Thesis_Yimeng/venv/lib/python3.9/site-packages/sklearn/ensemble/_forest.py:425: FutureWarning: `max_features='auto'` has been deprecated in 1.1 and will be removed in 1.3. To keep the past behaviour, explicitly set `max_features='sqrt'` or remove this parameter as it is also the default value for RandomForestClassifiers and ExtraTreesClassifiers.\n",
      "  warn(\n",
      "/Users/yimengjin/Desktop/Thesis/Thesis_Yimeng/venv/lib/python3.9/site-packages/sklearn/ensemble/_forest.py:425: FutureWarning: `max_features='auto'` has been deprecated in 1.1 and will be removed in 1.3. To keep the past behaviour, explicitly set `max_features='sqrt'` or remove this parameter as it is also the default value for RandomForestClassifiers and ExtraTreesClassifiers.\n",
      "  warn(\n",
      "/Users/yimengjin/Desktop/Thesis/Thesis_Yimeng/venv/lib/python3.9/site-packages/sklearn/ensemble/_forest.py:425: FutureWarning: `max_features='auto'` has been deprecated in 1.1 and will be removed in 1.3. To keep the past behaviour, explicitly set `max_features='sqrt'` or remove this parameter as it is also the default value for RandomForestClassifiers and ExtraTreesClassifiers.\n",
      "  warn(\n",
      "/Users/yimengjin/Desktop/Thesis/Thesis_Yimeng/venv/lib/python3.9/site-packages/sklearn/ensemble/_forest.py:425: FutureWarning: `max_features='auto'` has been deprecated in 1.1 and will be removed in 1.3. To keep the past behaviour, explicitly set `max_features='sqrt'` or remove this parameter as it is also the default value for RandomForestClassifiers and ExtraTreesClassifiers.\n",
      "  warn(\n",
      "/Users/yimengjin/Desktop/Thesis/Thesis_Yimeng/venv/lib/python3.9/site-packages/sklearn/ensemble/_forest.py:425: FutureWarning: `max_features='auto'` has been deprecated in 1.1 and will be removed in 1.3. To keep the past behaviour, explicitly set `max_features='sqrt'` or remove this parameter as it is also the default value for RandomForestClassifiers and ExtraTreesClassifiers.\n",
      "  warn(\n",
      "/Users/yimengjin/Desktop/Thesis/Thesis_Yimeng/venv/lib/python3.9/site-packages/sklearn/ensemble/_forest.py:425: FutureWarning: `max_features='auto'` has been deprecated in 1.1 and will be removed in 1.3. To keep the past behaviour, explicitly set `max_features='sqrt'` or remove this parameter as it is also the default value for RandomForestClassifiers and ExtraTreesClassifiers.\n",
      "  warn(\n",
      "/Users/yimengjin/Desktop/Thesis/Thesis_Yimeng/venv/lib/python3.9/site-packages/sklearn/ensemble/_forest.py:425: FutureWarning: `max_features='auto'` has been deprecated in 1.1 and will be removed in 1.3. To keep the past behaviour, explicitly set `max_features='sqrt'` or remove this parameter as it is also the default value for RandomForestClassifiers and ExtraTreesClassifiers.\n",
      "  warn(\n",
      "/Users/yimengjin/Desktop/Thesis/Thesis_Yimeng/venv/lib/python3.9/site-packages/sklearn/ensemble/_forest.py:425: FutureWarning: `max_features='auto'` has been deprecated in 1.1 and will be removed in 1.3. To keep the past behaviour, explicitly set `max_features='sqrt'` or remove this parameter as it is also the default value for RandomForestClassifiers and ExtraTreesClassifiers.\n",
      "  warn(\n",
      "/Users/yimengjin/Desktop/Thesis/Thesis_Yimeng/venv/lib/python3.9/site-packages/sklearn/ensemble/_forest.py:425: FutureWarning: `max_features='auto'` has been deprecated in 1.1 and will be removed in 1.3. To keep the past behaviour, explicitly set `max_features='sqrt'` or remove this parameter as it is also the default value for RandomForestClassifiers and ExtraTreesClassifiers.\n",
      "  warn(\n",
      "/Users/yimengjin/Desktop/Thesis/Thesis_Yimeng/venv/lib/python3.9/site-packages/sklearn/ensemble/_forest.py:425: FutureWarning: `max_features='auto'` has been deprecated in 1.1 and will be removed in 1.3. To keep the past behaviour, explicitly set `max_features='sqrt'` or remove this parameter as it is also the default value for RandomForestClassifiers and ExtraTreesClassifiers.\n",
      "  warn(\n",
      "/Users/yimengjin/Desktop/Thesis/Thesis_Yimeng/venv/lib/python3.9/site-packages/sklearn/ensemble/_forest.py:425: FutureWarning: `max_features='auto'` has been deprecated in 1.1 and will be removed in 1.3. To keep the past behaviour, explicitly set `max_features='sqrt'` or remove this parameter as it is also the default value for RandomForestClassifiers and ExtraTreesClassifiers.\n",
      "  warn(\n",
      "/Users/yimengjin/Desktop/Thesis/Thesis_Yimeng/venv/lib/python3.9/site-packages/sklearn/ensemble/_forest.py:425: FutureWarning: `max_features='auto'` has been deprecated in 1.1 and will be removed in 1.3. To keep the past behaviour, explicitly set `max_features='sqrt'` or remove this parameter as it is also the default value for RandomForestClassifiers and ExtraTreesClassifiers.\n",
      "  warn(\n",
      "/Users/yimengjin/Desktop/Thesis/Thesis_Yimeng/venv/lib/python3.9/site-packages/sklearn/ensemble/_forest.py:425: FutureWarning: `max_features='auto'` has been deprecated in 1.1 and will be removed in 1.3. To keep the past behaviour, explicitly set `max_features='sqrt'` or remove this parameter as it is also the default value for RandomForestClassifiers and ExtraTreesClassifiers.\n",
      "  warn(\n",
      "/Users/yimengjin/Desktop/Thesis/Thesis_Yimeng/venv/lib/python3.9/site-packages/sklearn/ensemble/_forest.py:425: FutureWarning: `max_features='auto'` has been deprecated in 1.1 and will be removed in 1.3. To keep the past behaviour, explicitly set `max_features='sqrt'` or remove this parameter as it is also the default value for RandomForestClassifiers and ExtraTreesClassifiers.\n",
      "  warn(\n",
      "/Users/yimengjin/Desktop/Thesis/Thesis_Yimeng/venv/lib/python3.9/site-packages/sklearn/ensemble/_forest.py:425: FutureWarning: `max_features='auto'` has been deprecated in 1.1 and will be removed in 1.3. To keep the past behaviour, explicitly set `max_features='sqrt'` or remove this parameter as it is also the default value for RandomForestClassifiers and ExtraTreesClassifiers.\n",
      "  warn(\n",
      "/Users/yimengjin/Desktop/Thesis/Thesis_Yimeng/venv/lib/python3.9/site-packages/sklearn/ensemble/_forest.py:425: FutureWarning: `max_features='auto'` has been deprecated in 1.1 and will be removed in 1.3. To keep the past behaviour, explicitly set `max_features='sqrt'` or remove this parameter as it is also the default value for RandomForestClassifiers and ExtraTreesClassifiers.\n",
      "  warn(\n",
      "/Users/yimengjin/Desktop/Thesis/Thesis_Yimeng/venv/lib/python3.9/site-packages/sklearn/ensemble/_forest.py:425: FutureWarning: `max_features='auto'` has been deprecated in 1.1 and will be removed in 1.3. To keep the past behaviour, explicitly set `max_features='sqrt'` or remove this parameter as it is also the default value for RandomForestClassifiers and ExtraTreesClassifiers.\n",
      "  warn(\n",
      "/Users/yimengjin/Desktop/Thesis/Thesis_Yimeng/venv/lib/python3.9/site-packages/sklearn/ensemble/_forest.py:425: FutureWarning: `max_features='auto'` has been deprecated in 1.1 and will be removed in 1.3. To keep the past behaviour, explicitly set `max_features='sqrt'` or remove this parameter as it is also the default value for RandomForestClassifiers and ExtraTreesClassifiers.\n",
      "  warn(\n",
      "/Users/yimengjin/Desktop/Thesis/Thesis_Yimeng/venv/lib/python3.9/site-packages/sklearn/ensemble/_forest.py:425: FutureWarning: `max_features='auto'` has been deprecated in 1.1 and will be removed in 1.3. To keep the past behaviour, explicitly set `max_features='sqrt'` or remove this parameter as it is also the default value for RandomForestClassifiers and ExtraTreesClassifiers.\n",
      "  warn(\n",
      "/Users/yimengjin/Desktop/Thesis/Thesis_Yimeng/venv/lib/python3.9/site-packages/sklearn/ensemble/_forest.py:425: FutureWarning: `max_features='auto'` has been deprecated in 1.1 and will be removed in 1.3. To keep the past behaviour, explicitly set `max_features='sqrt'` or remove this parameter as it is also the default value for RandomForestClassifiers and ExtraTreesClassifiers.\n",
      "  warn(\n",
      "/Users/yimengjin/Desktop/Thesis/Thesis_Yimeng/venv/lib/python3.9/site-packages/sklearn/ensemble/_forest.py:425: FutureWarning: `max_features='auto'` has been deprecated in 1.1 and will be removed in 1.3. To keep the past behaviour, explicitly set `max_features='sqrt'` or remove this parameter as it is also the default value for RandomForestClassifiers and ExtraTreesClassifiers.\n",
      "  warn(\n",
      "/Users/yimengjin/Desktop/Thesis/Thesis_Yimeng/venv/lib/python3.9/site-packages/sklearn/ensemble/_forest.py:425: FutureWarning: `max_features='auto'` has been deprecated in 1.1 and will be removed in 1.3. To keep the past behaviour, explicitly set `max_features='sqrt'` or remove this parameter as it is also the default value for RandomForestClassifiers and ExtraTreesClassifiers.\n",
      "  warn(\n",
      "/Users/yimengjin/Desktop/Thesis/Thesis_Yimeng/venv/lib/python3.9/site-packages/sklearn/ensemble/_forest.py:425: FutureWarning: `max_features='auto'` has been deprecated in 1.1 and will be removed in 1.3. To keep the past behaviour, explicitly set `max_features='sqrt'` or remove this parameter as it is also the default value for RandomForestClassifiers and ExtraTreesClassifiers.\n",
      "  warn(\n",
      "/Users/yimengjin/Desktop/Thesis/Thesis_Yimeng/venv/lib/python3.9/site-packages/sklearn/ensemble/_forest.py:425: FutureWarning: `max_features='auto'` has been deprecated in 1.1 and will be removed in 1.3. To keep the past behaviour, explicitly set `max_features='sqrt'` or remove this parameter as it is also the default value for RandomForestClassifiers and ExtraTreesClassifiers.\n",
      "  warn(\n",
      "/Users/yimengjin/Desktop/Thesis/Thesis_Yimeng/venv/lib/python3.9/site-packages/sklearn/ensemble/_forest.py:425: FutureWarning: `max_features='auto'` has been deprecated in 1.1 and will be removed in 1.3. To keep the past behaviour, explicitly set `max_features='sqrt'` or remove this parameter as it is also the default value for RandomForestClassifiers and ExtraTreesClassifiers.\n",
      "  warn(\n",
      "/Users/yimengjin/Desktop/Thesis/Thesis_Yimeng/venv/lib/python3.9/site-packages/sklearn/ensemble/_forest.py:425: FutureWarning: `max_features='auto'` has been deprecated in 1.1 and will be removed in 1.3. To keep the past behaviour, explicitly set `max_features='sqrt'` or remove this parameter as it is also the default value for RandomForestClassifiers and ExtraTreesClassifiers.\n",
      "  warn(\n",
      "/Users/yimengjin/Desktop/Thesis/Thesis_Yimeng/venv/lib/python3.9/site-packages/sklearn/ensemble/_forest.py:425: FutureWarning: `max_features='auto'` has been deprecated in 1.1 and will be removed in 1.3. To keep the past behaviour, explicitly set `max_features='sqrt'` or remove this parameter as it is also the default value for RandomForestClassifiers and ExtraTreesClassifiers.\n",
      "  warn(\n",
      "/Users/yimengjin/Desktop/Thesis/Thesis_Yimeng/venv/lib/python3.9/site-packages/sklearn/ensemble/_forest.py:425: FutureWarning: `max_features='auto'` has been deprecated in 1.1 and will be removed in 1.3. To keep the past behaviour, explicitly set `max_features='sqrt'` or remove this parameter as it is also the default value for RandomForestClassifiers and ExtraTreesClassifiers.\n",
      "  warn(\n",
      "/Users/yimengjin/Desktop/Thesis/Thesis_Yimeng/venv/lib/python3.9/site-packages/sklearn/ensemble/_forest.py:425: FutureWarning: `max_features='auto'` has been deprecated in 1.1 and will be removed in 1.3. To keep the past behaviour, explicitly set `max_features='sqrt'` or remove this parameter as it is also the default value for RandomForestClassifiers and ExtraTreesClassifiers.\n",
      "  warn(\n",
      "/Users/yimengjin/Desktop/Thesis/Thesis_Yimeng/venv/lib/python3.9/site-packages/sklearn/ensemble/_forest.py:425: FutureWarning: `max_features='auto'` has been deprecated in 1.1 and will be removed in 1.3. To keep the past behaviour, explicitly set `max_features='sqrt'` or remove this parameter as it is also the default value for RandomForestClassifiers and ExtraTreesClassifiers.\n",
      "  warn(\n",
      "/Users/yimengjin/Desktop/Thesis/Thesis_Yimeng/venv/lib/python3.9/site-packages/sklearn/ensemble/_forest.py:425: FutureWarning: `max_features='auto'` has been deprecated in 1.1 and will be removed in 1.3. To keep the past behaviour, explicitly set `max_features='sqrt'` or remove this parameter as it is also the default value for RandomForestClassifiers and ExtraTreesClassifiers.\n",
      "  warn(\n"
     ]
    },
    {
     "data": {
      "text/plain": "RandomizedSearchCV(cv=RepeatedStratifiedKFold(n_repeats=5, n_splits=4, random_state=0),\n                   estimator=RandomForestClassifier(), n_iter=20, n_jobs=-1,\n                   param_distributions={'bootstrap': [True, False],\n                                        'class_weight': ['balanced'],\n                                        'max_depth': [10, 20, 30, 40, 50, 60,\n                                                      70, 80, 90, 100, None],\n                                        'max_features': ['auto', 'sqrt',\n                                                         'log2'],\n                                        'min_samples_leaf': [1, 2, 4],\n                                        'min_samples_split': [2, 5, 10],\n                                        'n_estimators': [10, 100, 200, 400, 500,\n                                                         1000]},\n                   random_state=0, scoring='f1', verbose=1)",
      "text/html": "<style>#sk-container-id-1 {color: black;background-color: white;}#sk-container-id-1 pre{padding: 0;}#sk-container-id-1 div.sk-toggleable {background-color: white;}#sk-container-id-1 label.sk-toggleable__label {cursor: pointer;display: block;width: 100%;margin-bottom: 0;padding: 0.3em;box-sizing: border-box;text-align: center;}#sk-container-id-1 label.sk-toggleable__label-arrow:before {content: \"▸\";float: left;margin-right: 0.25em;color: #696969;}#sk-container-id-1 label.sk-toggleable__label-arrow:hover:before {color: black;}#sk-container-id-1 div.sk-estimator:hover label.sk-toggleable__label-arrow:before {color: black;}#sk-container-id-1 div.sk-toggleable__content {max-height: 0;max-width: 0;overflow: hidden;text-align: left;background-color: #f0f8ff;}#sk-container-id-1 div.sk-toggleable__content pre {margin: 0.2em;color: black;border-radius: 0.25em;background-color: #f0f8ff;}#sk-container-id-1 input.sk-toggleable__control:checked~div.sk-toggleable__content {max-height: 200px;max-width: 100%;overflow: auto;}#sk-container-id-1 input.sk-toggleable__control:checked~label.sk-toggleable__label-arrow:before {content: \"▾\";}#sk-container-id-1 div.sk-estimator input.sk-toggleable__control:checked~label.sk-toggleable__label {background-color: #d4ebff;}#sk-container-id-1 div.sk-label input.sk-toggleable__control:checked~label.sk-toggleable__label {background-color: #d4ebff;}#sk-container-id-1 input.sk-hidden--visually {border: 0;clip: rect(1px 1px 1px 1px);clip: rect(1px, 1px, 1px, 1px);height: 1px;margin: -1px;overflow: hidden;padding: 0;position: absolute;width: 1px;}#sk-container-id-1 div.sk-estimator {font-family: monospace;background-color: #f0f8ff;border: 1px dotted black;border-radius: 0.25em;box-sizing: border-box;margin-bottom: 0.5em;}#sk-container-id-1 div.sk-estimator:hover {background-color: #d4ebff;}#sk-container-id-1 div.sk-parallel-item::after {content: \"\";width: 100%;border-bottom: 1px solid gray;flex-grow: 1;}#sk-container-id-1 div.sk-label:hover label.sk-toggleable__label {background-color: #d4ebff;}#sk-container-id-1 div.sk-serial::before {content: \"\";position: absolute;border-left: 1px solid gray;box-sizing: border-box;top: 0;bottom: 0;left: 50%;z-index: 0;}#sk-container-id-1 div.sk-serial {display: flex;flex-direction: column;align-items: center;background-color: white;padding-right: 0.2em;padding-left: 0.2em;position: relative;}#sk-container-id-1 div.sk-item {position: relative;z-index: 1;}#sk-container-id-1 div.sk-parallel {display: flex;align-items: stretch;justify-content: center;background-color: white;position: relative;}#sk-container-id-1 div.sk-item::before, #sk-container-id-1 div.sk-parallel-item::before {content: \"\";position: absolute;border-left: 1px solid gray;box-sizing: border-box;top: 0;bottom: 0;left: 50%;z-index: -1;}#sk-container-id-1 div.sk-parallel-item {display: flex;flex-direction: column;z-index: 1;position: relative;background-color: white;}#sk-container-id-1 div.sk-parallel-item:first-child::after {align-self: flex-end;width: 50%;}#sk-container-id-1 div.sk-parallel-item:last-child::after {align-self: flex-start;width: 50%;}#sk-container-id-1 div.sk-parallel-item:only-child::after {width: 0;}#sk-container-id-1 div.sk-dashed-wrapped {border: 1px dashed gray;margin: 0 0.4em 0.5em 0.4em;box-sizing: border-box;padding-bottom: 0.4em;background-color: white;}#sk-container-id-1 div.sk-label label {font-family: monospace;font-weight: bold;display: inline-block;line-height: 1.2em;}#sk-container-id-1 div.sk-label-container {text-align: center;}#sk-container-id-1 div.sk-container {/* jupyter's `normalize.less` sets `[hidden] { display: none; }` but bootstrap.min.css set `[hidden] { display: none !important; }` so we also need the `!important` here to be able to override the default hidden behavior on the sphinx rendered scikit-learn.org. See: https://github.com/scikit-learn/scikit-learn/issues/21755 */display: inline-block !important;position: relative;}#sk-container-id-1 div.sk-text-repr-fallback {display: none;}</style><div id=\"sk-container-id-1\" class=\"sk-top-container\"><div class=\"sk-text-repr-fallback\"><pre>RandomizedSearchCV(cv=RepeatedStratifiedKFold(n_repeats=5, n_splits=4, random_state=0),\n                   estimator=RandomForestClassifier(), n_iter=20, n_jobs=-1,\n                   param_distributions={&#x27;bootstrap&#x27;: [True, False],\n                                        &#x27;class_weight&#x27;: [&#x27;balanced&#x27;],\n                                        &#x27;max_depth&#x27;: [10, 20, 30, 40, 50, 60,\n                                                      70, 80, 90, 100, None],\n                                        &#x27;max_features&#x27;: [&#x27;auto&#x27;, &#x27;sqrt&#x27;,\n                                                         &#x27;log2&#x27;],\n                                        &#x27;min_samples_leaf&#x27;: [1, 2, 4],\n                                        &#x27;min_samples_split&#x27;: [2, 5, 10],\n                                        &#x27;n_estimators&#x27;: [10, 100, 200, 400, 500,\n                                                         1000]},\n                   random_state=0, scoring=&#x27;f1&#x27;, verbose=1)</pre><b>In a Jupyter environment, please rerun this cell to show the HTML representation or trust the notebook. <br />On GitHub, the HTML representation is unable to render, please try loading this page with nbviewer.org.</b></div><div class=\"sk-container\" hidden><div class=\"sk-item sk-dashed-wrapped\"><div class=\"sk-label-container\"><div class=\"sk-label sk-toggleable\"><input class=\"sk-toggleable__control sk-hidden--visually\" id=\"sk-estimator-id-1\" type=\"checkbox\" ><label for=\"sk-estimator-id-1\" class=\"sk-toggleable__label sk-toggleable__label-arrow\">RandomizedSearchCV</label><div class=\"sk-toggleable__content\"><pre>RandomizedSearchCV(cv=RepeatedStratifiedKFold(n_repeats=5, n_splits=4, random_state=0),\n                   estimator=RandomForestClassifier(), n_iter=20, n_jobs=-1,\n                   param_distributions={&#x27;bootstrap&#x27;: [True, False],\n                                        &#x27;class_weight&#x27;: [&#x27;balanced&#x27;],\n                                        &#x27;max_depth&#x27;: [10, 20, 30, 40, 50, 60,\n                                                      70, 80, 90, 100, None],\n                                        &#x27;max_features&#x27;: [&#x27;auto&#x27;, &#x27;sqrt&#x27;,\n                                                         &#x27;log2&#x27;],\n                                        &#x27;min_samples_leaf&#x27;: [1, 2, 4],\n                                        &#x27;min_samples_split&#x27;: [2, 5, 10],\n                                        &#x27;n_estimators&#x27;: [10, 100, 200, 400, 500,\n                                                         1000]},\n                   random_state=0, scoring=&#x27;f1&#x27;, verbose=1)</pre></div></div></div><div class=\"sk-parallel\"><div class=\"sk-parallel-item\"><div class=\"sk-item\"><div class=\"sk-label-container\"><div class=\"sk-label sk-toggleable\"><input class=\"sk-toggleable__control sk-hidden--visually\" id=\"sk-estimator-id-2\" type=\"checkbox\" ><label for=\"sk-estimator-id-2\" class=\"sk-toggleable__label sk-toggleable__label-arrow\">estimator: RandomForestClassifier</label><div class=\"sk-toggleable__content\"><pre>RandomForestClassifier()</pre></div></div></div><div class=\"sk-serial\"><div class=\"sk-item\"><div class=\"sk-estimator sk-toggleable\"><input class=\"sk-toggleable__control sk-hidden--visually\" id=\"sk-estimator-id-3\" type=\"checkbox\" ><label for=\"sk-estimator-id-3\" class=\"sk-toggleable__label sk-toggleable__label-arrow\">RandomForestClassifier</label><div class=\"sk-toggleable__content\"><pre>RandomForestClassifier()</pre></div></div></div></div></div></div></div></div></div></div>"
     },
     "execution_count": 15,
     "metadata": {},
     "output_type": "execute_result"
    }
   ],
   "source": [
    "rf_op.fit(X_train_RF,Y_train.values.ravel())"
   ],
   "metadata": {
    "collapsed": false
   }
  },
  {
   "cell_type": "code",
   "execution_count": 16,
   "outputs": [
    {
     "data": {
      "text/plain": "{'n_estimators': 100,\n 'min_samples_split': 5,\n 'min_samples_leaf': 1,\n 'max_features': 'sqrt',\n 'max_depth': 70,\n 'class_weight': 'balanced',\n 'bootstrap': True}"
     },
     "execution_count": 16,
     "metadata": {},
     "output_type": "execute_result"
    }
   ],
   "source": [
    "rf_op.best_params_"
   ],
   "metadata": {
    "collapsed": false
   }
  },
  {
   "cell_type": "code",
   "execution_count": 17,
   "outputs": [],
   "source": [
    "rf = RandomForestClassifier(random_state=0, n_estimators=rf_op.best_params_['n_estimators'], min_samples_split=rf_op.best_params_['min_samples_split'], min_samples_leaf=rf_op.best_params_['min_samples_leaf'], max_features=rf_op.best_params_['max_features'], max_depth=rf_op.best_params_['max_depth'], class_weight = rf_op.best_params_['class_weight'],bootstrap=rf_op.best_params_['bootstrap'])"
   ],
   "metadata": {
    "collapsed": false
   }
  },
  {
   "cell_type": "code",
   "execution_count": 18,
   "outputs": [
    {
     "data": {
      "text/plain": "array([0.8       , 0.79487179, 0.82051282, 0.8974359 , 0.8       ,\n       0.84615385, 0.82051282, 0.82051282, 0.875     , 0.87179487,\n       0.79487179, 0.76923077, 0.8       , 0.87179487, 0.79487179,\n       0.79487179, 0.875     , 0.79487179, 0.87179487, 0.76923077])"
     },
     "execution_count": 18,
     "metadata": {},
     "output_type": "execute_result"
    }
   ],
   "source": [
    "arr = cross_val_score(rf, X_train_RF, Y_train.values.ravel(), cv=cv)\n",
    "arr"
   ],
   "metadata": {
    "collapsed": false
   }
  },
  {
   "cell_type": "code",
   "execution_count": 19,
   "outputs": [
    {
     "data": {
      "text/plain": "0.8241666666666667"
     },
     "execution_count": 19,
     "metadata": {},
     "output_type": "execute_result"
    }
   ],
   "source": [
    "np.mean(arr)"
   ],
   "metadata": {
    "collapsed": false
   }
  },
  {
   "cell_type": "code",
   "execution_count": 20,
   "outputs": [
    {
     "data": {
      "text/plain": "RandomForestClassifier(class_weight='balanced', max_depth=70,\n                       min_samples_split=5, random_state=0)",
      "text/html": "<style>#sk-container-id-2 {color: black;background-color: white;}#sk-container-id-2 pre{padding: 0;}#sk-container-id-2 div.sk-toggleable {background-color: white;}#sk-container-id-2 label.sk-toggleable__label {cursor: pointer;display: block;width: 100%;margin-bottom: 0;padding: 0.3em;box-sizing: border-box;text-align: center;}#sk-container-id-2 label.sk-toggleable__label-arrow:before {content: \"▸\";float: left;margin-right: 0.25em;color: #696969;}#sk-container-id-2 label.sk-toggleable__label-arrow:hover:before {color: black;}#sk-container-id-2 div.sk-estimator:hover label.sk-toggleable__label-arrow:before {color: black;}#sk-container-id-2 div.sk-toggleable__content {max-height: 0;max-width: 0;overflow: hidden;text-align: left;background-color: #f0f8ff;}#sk-container-id-2 div.sk-toggleable__content pre {margin: 0.2em;color: black;border-radius: 0.25em;background-color: #f0f8ff;}#sk-container-id-2 input.sk-toggleable__control:checked~div.sk-toggleable__content {max-height: 200px;max-width: 100%;overflow: auto;}#sk-container-id-2 input.sk-toggleable__control:checked~label.sk-toggleable__label-arrow:before {content: \"▾\";}#sk-container-id-2 div.sk-estimator input.sk-toggleable__control:checked~label.sk-toggleable__label {background-color: #d4ebff;}#sk-container-id-2 div.sk-label input.sk-toggleable__control:checked~label.sk-toggleable__label {background-color: #d4ebff;}#sk-container-id-2 input.sk-hidden--visually {border: 0;clip: rect(1px 1px 1px 1px);clip: rect(1px, 1px, 1px, 1px);height: 1px;margin: -1px;overflow: hidden;padding: 0;position: absolute;width: 1px;}#sk-container-id-2 div.sk-estimator {font-family: monospace;background-color: #f0f8ff;border: 1px dotted black;border-radius: 0.25em;box-sizing: border-box;margin-bottom: 0.5em;}#sk-container-id-2 div.sk-estimator:hover {background-color: #d4ebff;}#sk-container-id-2 div.sk-parallel-item::after {content: \"\";width: 100%;border-bottom: 1px solid gray;flex-grow: 1;}#sk-container-id-2 div.sk-label:hover label.sk-toggleable__label {background-color: #d4ebff;}#sk-container-id-2 div.sk-serial::before {content: \"\";position: absolute;border-left: 1px solid gray;box-sizing: border-box;top: 0;bottom: 0;left: 50%;z-index: 0;}#sk-container-id-2 div.sk-serial {display: flex;flex-direction: column;align-items: center;background-color: white;padding-right: 0.2em;padding-left: 0.2em;position: relative;}#sk-container-id-2 div.sk-item {position: relative;z-index: 1;}#sk-container-id-2 div.sk-parallel {display: flex;align-items: stretch;justify-content: center;background-color: white;position: relative;}#sk-container-id-2 div.sk-item::before, #sk-container-id-2 div.sk-parallel-item::before {content: \"\";position: absolute;border-left: 1px solid gray;box-sizing: border-box;top: 0;bottom: 0;left: 50%;z-index: -1;}#sk-container-id-2 div.sk-parallel-item {display: flex;flex-direction: column;z-index: 1;position: relative;background-color: white;}#sk-container-id-2 div.sk-parallel-item:first-child::after {align-self: flex-end;width: 50%;}#sk-container-id-2 div.sk-parallel-item:last-child::after {align-self: flex-start;width: 50%;}#sk-container-id-2 div.sk-parallel-item:only-child::after {width: 0;}#sk-container-id-2 div.sk-dashed-wrapped {border: 1px dashed gray;margin: 0 0.4em 0.5em 0.4em;box-sizing: border-box;padding-bottom: 0.4em;background-color: white;}#sk-container-id-2 div.sk-label label {font-family: monospace;font-weight: bold;display: inline-block;line-height: 1.2em;}#sk-container-id-2 div.sk-label-container {text-align: center;}#sk-container-id-2 div.sk-container {/* jupyter's `normalize.less` sets `[hidden] { display: none; }` but bootstrap.min.css set `[hidden] { display: none !important; }` so we also need the `!important` here to be able to override the default hidden behavior on the sphinx rendered scikit-learn.org. See: https://github.com/scikit-learn/scikit-learn/issues/21755 */display: inline-block !important;position: relative;}#sk-container-id-2 div.sk-text-repr-fallback {display: none;}</style><div id=\"sk-container-id-2\" class=\"sk-top-container\"><div class=\"sk-text-repr-fallback\"><pre>RandomForestClassifier(class_weight=&#x27;balanced&#x27;, max_depth=70,\n                       min_samples_split=5, random_state=0)</pre><b>In a Jupyter environment, please rerun this cell to show the HTML representation or trust the notebook. <br />On GitHub, the HTML representation is unable to render, please try loading this page with nbviewer.org.</b></div><div class=\"sk-container\" hidden><div class=\"sk-item\"><div class=\"sk-estimator sk-toggleable\"><input class=\"sk-toggleable__control sk-hidden--visually\" id=\"sk-estimator-id-4\" type=\"checkbox\" checked><label for=\"sk-estimator-id-4\" class=\"sk-toggleable__label sk-toggleable__label-arrow\">RandomForestClassifier</label><div class=\"sk-toggleable__content\"><pre>RandomForestClassifier(class_weight=&#x27;balanced&#x27;, max_depth=70,\n                       min_samples_split=5, random_state=0)</pre></div></div></div></div></div>"
     },
     "execution_count": 20,
     "metadata": {},
     "output_type": "execute_result"
    }
   ],
   "source": [
    "rf.fit(X_train_RF,Y_train.values.ravel())"
   ],
   "metadata": {
    "collapsed": false
   }
  },
  {
   "cell_type": "markdown",
   "source": [
    "## Bayesian Optimisation"
   ],
   "metadata": {
    "collapsed": false
   }
  },
  {
   "cell_type": "code",
   "execution_count": 21,
   "outputs": [
    {
     "data": {
      "text/plain": "     composition_A  composition_B1  composition_B2  composition_C  \\\n0        -0.099386        0.735233       -0.720559       0.087317   \n1        -0.099386        0.735233       -0.720559       0.087317   \n2        -0.099386        0.735233       -0.720559       0.087317   \n3         1.148908        0.735233       -0.720559      -1.158941   \n4         1.148908        0.735233       -0.720559      -1.158941   \n..             ...             ...             ...            ...   \n152      -1.347681       -1.160195        2.238264       0.274256   \n153      -1.347681        3.262471       -0.720559      -1.158941   \n154      -1.347681        1.809309        0.727376      -1.158941   \n155      -1.347681        0.292966        2.238264      -1.158941   \n156      -1.347681       -1.160195        3.686199      -1.158941   \n\n     Number of blocks       dpn        A1        B1        C1        A2  ...  \\\n0           -0.382977  4.108432 -0.178481  0.358184  0.428247 -0.176477  ...   \n1           -0.382977 -0.163249 -0.184463  0.353758  0.437195 -0.176477  ...   \n2           -0.382977 -1.587142 -0.214375  0.375887  0.437195 -0.176477  ...   \n3           -0.382977  4.108432  1.819636  1.836417 -2.560361 -0.176477  ...   \n4           -0.382977 -0.163249  1.819636  1.836417 -2.560361 -0.176477  ...   \n..                ...       ...       ...       ...       ...       ...  ...   \n152         -0.382977 -0.163249 -0.184463  0.353758  0.437195 -0.176477  ...   \n153         -0.382977 -0.163249 -0.184463  0.353758  0.437195 -0.176477  ...   \n154         -0.382977 -0.163249 -0.184463  0.353758  0.437195 -0.176477  ...   \n155         -0.382977 -0.163249 -0.184463  0.353758  0.437195 -0.176477  ...   \n156         -0.382977 -0.163249 -0.184463  0.353758  0.437195 -0.176477  ...   \n\n           B4        C4  cLogP_predicted  type_A_Boc-AEAm  type_A_DMAEA  \\\n0   -0.113592 -0.113592          0.67630                1             0   \n1   -0.113592 -0.113592          0.67630                1             0   \n2   -0.113592 -0.113592          0.67630                1             0   \n3   -0.113592 -0.113592          1.05270                1             0   \n4   -0.113592 -0.113592          1.05270                1             0   \n..        ...       ...              ...              ...           ...   \n152 -0.113592 -0.113592         -1.33796                0             0   \n153 -0.113592 -0.113592         -0.16180                0             0   \n154 -0.113592 -0.113592         -0.45137                0             0   \n155 -0.113592 -0.113592         -0.75353                0             0   \n156 -0.113592 -0.113592         -1.04310                0             0   \n\n     type_B1_PEAm  type_B2_None  type_C_HEAm  type_C_None  type_C_PEGA  \n0               1             1            1            0            0  \n1               1             1            1            0            0  \n2               1             1            1            0            0  \n3               1             1            0            1            0  \n4               1             1            0            1            0  \n..            ...           ...          ...          ...          ...  \n152             1             0            1            0            0  \n153             1             0            1            0            0  \n154             1             0            1            0            0  \n155             1             0            1            0            0  \n156             1             0            1            0            0  \n\n[157 rows x 26 columns]",
      "text/html": "<div>\n<style scoped>\n    .dataframe tbody tr th:only-of-type {\n        vertical-align: middle;\n    }\n\n    .dataframe tbody tr th {\n        vertical-align: top;\n    }\n\n    .dataframe thead th {\n        text-align: right;\n    }\n</style>\n<table border=\"1\" class=\"dataframe\">\n  <thead>\n    <tr style=\"text-align: right;\">\n      <th></th>\n      <th>composition_A</th>\n      <th>composition_B1</th>\n      <th>composition_B2</th>\n      <th>composition_C</th>\n      <th>Number of blocks</th>\n      <th>dpn</th>\n      <th>A1</th>\n      <th>B1</th>\n      <th>C1</th>\n      <th>A2</th>\n      <th>...</th>\n      <th>B4</th>\n      <th>C4</th>\n      <th>cLogP_predicted</th>\n      <th>type_A_Boc-AEAm</th>\n      <th>type_A_DMAEA</th>\n      <th>type_B1_PEAm</th>\n      <th>type_B2_None</th>\n      <th>type_C_HEAm</th>\n      <th>type_C_None</th>\n      <th>type_C_PEGA</th>\n    </tr>\n  </thead>\n  <tbody>\n    <tr>\n      <th>0</th>\n      <td>-0.099386</td>\n      <td>0.735233</td>\n      <td>-0.720559</td>\n      <td>0.087317</td>\n      <td>-0.382977</td>\n      <td>4.108432</td>\n      <td>-0.178481</td>\n      <td>0.358184</td>\n      <td>0.428247</td>\n      <td>-0.176477</td>\n      <td>...</td>\n      <td>-0.113592</td>\n      <td>-0.113592</td>\n      <td>0.67630</td>\n      <td>1</td>\n      <td>0</td>\n      <td>1</td>\n      <td>1</td>\n      <td>1</td>\n      <td>0</td>\n      <td>0</td>\n    </tr>\n    <tr>\n      <th>1</th>\n      <td>-0.099386</td>\n      <td>0.735233</td>\n      <td>-0.720559</td>\n      <td>0.087317</td>\n      <td>-0.382977</td>\n      <td>-0.163249</td>\n      <td>-0.184463</td>\n      <td>0.353758</td>\n      <td>0.437195</td>\n      <td>-0.176477</td>\n      <td>...</td>\n      <td>-0.113592</td>\n      <td>-0.113592</td>\n      <td>0.67630</td>\n      <td>1</td>\n      <td>0</td>\n      <td>1</td>\n      <td>1</td>\n      <td>1</td>\n      <td>0</td>\n      <td>0</td>\n    </tr>\n    <tr>\n      <th>2</th>\n      <td>-0.099386</td>\n      <td>0.735233</td>\n      <td>-0.720559</td>\n      <td>0.087317</td>\n      <td>-0.382977</td>\n      <td>-1.587142</td>\n      <td>-0.214375</td>\n      <td>0.375887</td>\n      <td>0.437195</td>\n      <td>-0.176477</td>\n      <td>...</td>\n      <td>-0.113592</td>\n      <td>-0.113592</td>\n      <td>0.67630</td>\n      <td>1</td>\n      <td>0</td>\n      <td>1</td>\n      <td>1</td>\n      <td>1</td>\n      <td>0</td>\n      <td>0</td>\n    </tr>\n    <tr>\n      <th>3</th>\n      <td>1.148908</td>\n      <td>0.735233</td>\n      <td>-0.720559</td>\n      <td>-1.158941</td>\n      <td>-0.382977</td>\n      <td>4.108432</td>\n      <td>1.819636</td>\n      <td>1.836417</td>\n      <td>-2.560361</td>\n      <td>-0.176477</td>\n      <td>...</td>\n      <td>-0.113592</td>\n      <td>-0.113592</td>\n      <td>1.05270</td>\n      <td>1</td>\n      <td>0</td>\n      <td>1</td>\n      <td>1</td>\n      <td>0</td>\n      <td>1</td>\n      <td>0</td>\n    </tr>\n    <tr>\n      <th>4</th>\n      <td>1.148908</td>\n      <td>0.735233</td>\n      <td>-0.720559</td>\n      <td>-1.158941</td>\n      <td>-0.382977</td>\n      <td>-0.163249</td>\n      <td>1.819636</td>\n      <td>1.836417</td>\n      <td>-2.560361</td>\n      <td>-0.176477</td>\n      <td>...</td>\n      <td>-0.113592</td>\n      <td>-0.113592</td>\n      <td>1.05270</td>\n      <td>1</td>\n      <td>0</td>\n      <td>1</td>\n      <td>1</td>\n      <td>0</td>\n      <td>1</td>\n      <td>0</td>\n    </tr>\n    <tr>\n      <th>...</th>\n      <td>...</td>\n      <td>...</td>\n      <td>...</td>\n      <td>...</td>\n      <td>...</td>\n      <td>...</td>\n      <td>...</td>\n      <td>...</td>\n      <td>...</td>\n      <td>...</td>\n      <td>...</td>\n      <td>...</td>\n      <td>...</td>\n      <td>...</td>\n      <td>...</td>\n      <td>...</td>\n      <td>...</td>\n      <td>...</td>\n      <td>...</td>\n      <td>...</td>\n      <td>...</td>\n    </tr>\n    <tr>\n      <th>152</th>\n      <td>-1.347681</td>\n      <td>-1.160195</td>\n      <td>2.238264</td>\n      <td>0.274256</td>\n      <td>-0.382977</td>\n      <td>-0.163249</td>\n      <td>-0.184463</td>\n      <td>0.353758</td>\n      <td>0.437195</td>\n      <td>-0.176477</td>\n      <td>...</td>\n      <td>-0.113592</td>\n      <td>-0.113592</td>\n      <td>-1.33796</td>\n      <td>0</td>\n      <td>0</td>\n      <td>1</td>\n      <td>0</td>\n      <td>1</td>\n      <td>0</td>\n      <td>0</td>\n    </tr>\n    <tr>\n      <th>153</th>\n      <td>-1.347681</td>\n      <td>3.262471</td>\n      <td>-0.720559</td>\n      <td>-1.158941</td>\n      <td>-0.382977</td>\n      <td>-0.163249</td>\n      <td>-0.184463</td>\n      <td>0.353758</td>\n      <td>0.437195</td>\n      <td>-0.176477</td>\n      <td>...</td>\n      <td>-0.113592</td>\n      <td>-0.113592</td>\n      <td>-0.16180</td>\n      <td>0</td>\n      <td>0</td>\n      <td>1</td>\n      <td>0</td>\n      <td>1</td>\n      <td>0</td>\n      <td>0</td>\n    </tr>\n    <tr>\n      <th>154</th>\n      <td>-1.347681</td>\n      <td>1.809309</td>\n      <td>0.727376</td>\n      <td>-1.158941</td>\n      <td>-0.382977</td>\n      <td>-0.163249</td>\n      <td>-0.184463</td>\n      <td>0.353758</td>\n      <td>0.437195</td>\n      <td>-0.176477</td>\n      <td>...</td>\n      <td>-0.113592</td>\n      <td>-0.113592</td>\n      <td>-0.45137</td>\n      <td>0</td>\n      <td>0</td>\n      <td>1</td>\n      <td>0</td>\n      <td>1</td>\n      <td>0</td>\n      <td>0</td>\n    </tr>\n    <tr>\n      <th>155</th>\n      <td>-1.347681</td>\n      <td>0.292966</td>\n      <td>2.238264</td>\n      <td>-1.158941</td>\n      <td>-0.382977</td>\n      <td>-0.163249</td>\n      <td>-0.184463</td>\n      <td>0.353758</td>\n      <td>0.437195</td>\n      <td>-0.176477</td>\n      <td>...</td>\n      <td>-0.113592</td>\n      <td>-0.113592</td>\n      <td>-0.75353</td>\n      <td>0</td>\n      <td>0</td>\n      <td>1</td>\n      <td>0</td>\n      <td>1</td>\n      <td>0</td>\n      <td>0</td>\n    </tr>\n    <tr>\n      <th>156</th>\n      <td>-1.347681</td>\n      <td>-1.160195</td>\n      <td>3.686199</td>\n      <td>-1.158941</td>\n      <td>-0.382977</td>\n      <td>-0.163249</td>\n      <td>-0.184463</td>\n      <td>0.353758</td>\n      <td>0.437195</td>\n      <td>-0.176477</td>\n      <td>...</td>\n      <td>-0.113592</td>\n      <td>-0.113592</td>\n      <td>-1.04310</td>\n      <td>0</td>\n      <td>0</td>\n      <td>1</td>\n      <td>0</td>\n      <td>1</td>\n      <td>0</td>\n      <td>0</td>\n    </tr>\n  </tbody>\n</table>\n<p>157 rows × 26 columns</p>\n</div>"
     },
     "execution_count": 21,
     "metadata": {},
     "output_type": "execute_result"
    }
   ],
   "source": [
    "X_train # Standardised with dummy variables"
   ],
   "metadata": {
    "collapsed": false
   }
  },
  {
   "cell_type": "markdown",
   "source": [
    "Top 3 numerical features: cLogP, composition_B1,composition_A\n",
    "\n",
    "Take all compositional features"
   ],
   "metadata": {
    "collapsed": false,
    "pycharm": {
     "is_executing": true
    }
   },
   "outputs": []
  },
  {
   "cell_type": "code",
   "execution_count": 22,
   "outputs": [
    {
     "data": {
      "text/plain": "     cLogP_predicted  composition_A  composition_B1  composition_B2  \\\n0            0.67630      -0.099386        0.735233       -0.720559   \n1            0.67630      -0.099386        0.735233       -0.720559   \n2            0.67630      -0.099386        0.735233       -0.720559   \n3            1.05270       1.148908        0.735233       -0.720559   \n4            1.05270       1.148908        0.735233       -0.720559   \n..               ...            ...             ...             ...   \n152         -1.33796      -1.347681       -1.160195        2.238264   \n153         -0.16180      -1.347681        3.262471       -0.720559   \n154         -0.45137      -1.347681        1.809309        0.727376   \n155         -0.75353      -1.347681        0.292966        2.238264   \n156         -1.04310      -1.347681       -1.160195        3.686199   \n\n     composition_C  \n0         0.087317  \n1         0.087317  \n2         0.087317  \n3        -1.158941  \n4        -1.158941  \n..             ...  \n152       0.274256  \n153      -1.158941  \n154      -1.158941  \n155      -1.158941  \n156      -1.158941  \n\n[157 rows x 5 columns]",
      "text/html": "<div>\n<style scoped>\n    .dataframe tbody tr th:only-of-type {\n        vertical-align: middle;\n    }\n\n    .dataframe tbody tr th {\n        vertical-align: top;\n    }\n\n    .dataframe thead th {\n        text-align: right;\n    }\n</style>\n<table border=\"1\" class=\"dataframe\">\n  <thead>\n    <tr style=\"text-align: right;\">\n      <th></th>\n      <th>cLogP_predicted</th>\n      <th>composition_A</th>\n      <th>composition_B1</th>\n      <th>composition_B2</th>\n      <th>composition_C</th>\n    </tr>\n  </thead>\n  <tbody>\n    <tr>\n      <th>0</th>\n      <td>0.67630</td>\n      <td>-0.099386</td>\n      <td>0.735233</td>\n      <td>-0.720559</td>\n      <td>0.087317</td>\n    </tr>\n    <tr>\n      <th>1</th>\n      <td>0.67630</td>\n      <td>-0.099386</td>\n      <td>0.735233</td>\n      <td>-0.720559</td>\n      <td>0.087317</td>\n    </tr>\n    <tr>\n      <th>2</th>\n      <td>0.67630</td>\n      <td>-0.099386</td>\n      <td>0.735233</td>\n      <td>-0.720559</td>\n      <td>0.087317</td>\n    </tr>\n    <tr>\n      <th>3</th>\n      <td>1.05270</td>\n      <td>1.148908</td>\n      <td>0.735233</td>\n      <td>-0.720559</td>\n      <td>-1.158941</td>\n    </tr>\n    <tr>\n      <th>4</th>\n      <td>1.05270</td>\n      <td>1.148908</td>\n      <td>0.735233</td>\n      <td>-0.720559</td>\n      <td>-1.158941</td>\n    </tr>\n    <tr>\n      <th>...</th>\n      <td>...</td>\n      <td>...</td>\n      <td>...</td>\n      <td>...</td>\n      <td>...</td>\n    </tr>\n    <tr>\n      <th>152</th>\n      <td>-1.33796</td>\n      <td>-1.347681</td>\n      <td>-1.160195</td>\n      <td>2.238264</td>\n      <td>0.274256</td>\n    </tr>\n    <tr>\n      <th>153</th>\n      <td>-0.16180</td>\n      <td>-1.347681</td>\n      <td>3.262471</td>\n      <td>-0.720559</td>\n      <td>-1.158941</td>\n    </tr>\n    <tr>\n      <th>154</th>\n      <td>-0.45137</td>\n      <td>-1.347681</td>\n      <td>1.809309</td>\n      <td>0.727376</td>\n      <td>-1.158941</td>\n    </tr>\n    <tr>\n      <th>155</th>\n      <td>-0.75353</td>\n      <td>-1.347681</td>\n      <td>0.292966</td>\n      <td>2.238264</td>\n      <td>-1.158941</td>\n    </tr>\n    <tr>\n      <th>156</th>\n      <td>-1.04310</td>\n      <td>-1.347681</td>\n      <td>-1.160195</td>\n      <td>3.686199</td>\n      <td>-1.158941</td>\n    </tr>\n  </tbody>\n</table>\n<p>157 rows × 5 columns</p>\n</div>"
     },
     "execution_count": 22,
     "metadata": {},
     "output_type": "execute_result"
    }
   ],
   "source": [
    "data_BO = X_train[[\"cLogP_predicted\", \"composition_A\",\"composition_B1\",  \"composition_B2\",\"composition_C\"]]\n",
    "data_BO"
   ],
   "metadata": {
    "collapsed": false
   }
  },
  {
   "cell_type": "code",
   "execution_count": 23,
   "outputs": [
    {
     "data": {
      "text/plain": "tensor([[ 0.6763, -0.0994,  0.7352, -0.7206,  0.0873],\n        [ 0.6763, -0.0994,  0.7352, -0.7206,  0.0873],\n        [ 0.6763, -0.0994,  0.7352, -0.7206,  0.0873],\n        [ 1.0527,  1.1489,  0.7352, -0.7206, -1.1589],\n        [ 1.0527,  1.1489,  0.7352, -0.7206, -1.1589],\n        [ 1.0527,  1.1489,  0.7352, -0.7206, -1.1589],\n        [ 0.6763, -0.0994,  0.7352, -0.7206,  0.0873],\n        [ 0.6763, -0.0994,  0.7352, -0.7206,  0.0873],\n        [ 0.6763, -0.0994,  0.7352, -0.7206,  0.0873],\n        [ 0.6763, -0.0994,  0.7352, -0.7206,  0.0873],\n        [ 0.6763, -0.0994,  0.7352, -0.7206,  0.0873],\n        [ 1.0527,  1.1489,  0.7352, -0.7206, -1.1589],\n        [ 1.0527,  1.1489,  0.7352, -0.7206, -1.1589],\n        [ 0.6763, -0.0994,  0.7352, -0.7206,  0.0873],\n        [ 0.6763, -0.0994,  0.7352, -0.7206,  0.0873],\n        [ 0.6763, -0.0994,  0.7352, -0.7206,  0.0873],\n        [ 0.6763, -0.0994,  0.7352, -0.7206,  0.0873],\n        [ 0.6763, -0.0994,  0.7352, -0.7206,  0.0873],\n        [ 0.6763, -0.0994,  0.7352, -0.7206,  0.0873],\n        [ 0.6763, -0.0994,  0.7352, -0.7206,  0.0873],\n        [ 0.6763, -0.0994,  0.7352, -0.7206,  0.0873],\n        [ 0.6763, -0.0994,  0.7352, -0.7206,  0.0873],\n        [ 0.6763, -0.0994,  0.7352, -0.7206,  0.0873],\n        [ 0.6763, -0.0994,  0.7352, -0.7206,  0.0873],\n        [ 0.6763, -0.0994,  0.7352, -0.7206,  0.0873],\n        [ 0.6763, -0.0994,  0.7352, -0.7206,  0.0873],\n        [ 0.6763, -0.0994,  0.7352, -0.7206,  0.0873],\n        [ 0.6763, -0.0994,  0.7352, -0.7206,  0.0873],\n        [ 0.6763, -0.0994,  0.7352, -0.7206,  0.0873],\n        [ 0.2952, -0.0994, -0.2125, -0.7206,  1.0220],\n        [ 0.2952, -0.0994, -0.2125, -0.7206,  1.0220],\n        [ 0.6763, -0.0994,  0.7352, -0.7206,  0.0873],\n        [ 0.7521, -0.0994,  0.7352, -0.7206,  0.0873],\n        [ 1.0757, -0.0994,  0.7352, -0.7206,  0.0873],\n        [ 1.5331, -0.0994,  0.7352, -0.7206,  0.0873],\n        [ 1.6089, -0.0994,  0.7352, -0.7206,  0.0873],\n        [ 1.9325, -0.0994,  0.7352, -0.7206,  0.0873],\n        [ 0.8550,  3.0213, -1.1602, -0.7206, -1.1589],\n        [ 0.2904,  1.1489, -1.1602, -0.7206,  0.7104],\n        [ 0.5445,  1.1489, -0.5284, -0.7206,  0.0873],\n        [ 0.5067,  1.1489, -0.7179, -0.5317,  0.0873],\n        [ 0.4564,  1.1489, -0.9707, -0.2799,  0.0873],\n        [ 0.4186,  1.1489, -1.1602, -0.0910,  0.0873],\n        [ 0.7986,  1.1489,  0.1034, -0.7206, -0.5358],\n        [ 0.7105,  1.1489, -0.3388, -0.2799, -0.5358],\n        [ 0.6349,  1.1489, -0.7179,  0.0978, -0.5358],\n        [ 0.5468,  1.1489, -1.1602,  0.5385, -0.5358],\n        [ 1.0527,  1.1489,  0.7352, -0.7206, -1.1589],\n        [ 0.9268,  1.1489,  0.1034, -0.0910, -1.1589],\n        [ 0.8009,  1.1489, -0.5284,  0.5385, -1.1589],\n        [ 0.6750,  1.1489, -1.1602,  1.1681, -1.1589],\n        [-0.0860, -0.0994, -1.1602, -0.7206,  1.9567],\n        [ 0.3460, -0.0994, -0.0861, -0.7206,  0.8974],\n        [ 0.2704, -0.0994, -0.4652, -0.3428,  0.8974],\n        [ 0.2075, -0.0994, -0.7811, -0.0281,  0.8974],\n        [ 0.1319, -0.0994, -1.1602,  0.3497,  0.8974],\n        [ 0.7525, -0.0994,  0.9248, -0.7206, -0.0996],\n        [ 0.6140, -0.0994,  0.2298, -0.0281, -0.0996],\n        [ 0.4755, -0.0994, -0.4652,  0.6644, -0.0996],\n        [ 0.3371, -0.0994, -1.1602,  1.3569, -0.0996],\n        [ 1.1845, -0.0994,  1.9989, -0.7206, -1.1589],\n        [ 0.9705, -0.0994,  0.9248,  0.3497, -1.1589],\n        [ 0.7690, -0.0994, -0.0861,  1.3569, -1.1589],\n        [ 0.5550, -0.0994, -1.1602,  2.4271, -1.1589],\n        [-0.4624, -1.3477, -1.1602, -0.7206,  3.2030],\n        [ 0.1220, -1.3477,  0.2930, -0.7206,  1.7698],\n        [ 0.0339, -1.3477, -0.1493, -0.2799,  1.7698],\n        [-0.0668, -1.3477, -0.6547,  0.2237,  1.7698],\n        [-0.1675, -1.3477, -1.1602,  0.7274,  1.7698],\n        [ 0.7319, -1.3477,  1.8093, -0.7206,  0.2743],\n        [ 0.5304, -1.3477,  0.7984,  0.2867,  0.2743],\n        [ 0.3416, -1.3477, -0.1493,  1.2310,  0.2743],\n        [ 0.1401, -1.3477, -1.1602,  2.2383,  0.2743],\n        [ 1.3163, -1.3477,  3.2625, -0.7206, -1.1589],\n        [ 1.0267, -1.3477,  1.8093,  0.7274, -1.1589],\n        [ 0.7246, -1.3477,  0.2930,  2.2383, -1.1589],\n        [ 0.4350, -1.3477, -1.1602,  3.6862, -1.1589],\n        [ 0.9660,  3.0213, -1.1602, -0.7206, -1.1589],\n        [ 0.3681,  1.1489, -1.1602, -0.7206,  0.7104],\n        [ 0.6222,  1.1489, -0.5284, -0.7206,  0.0873],\n        [ 0.5844,  1.1489, -0.7179, -0.5317,  0.0873],\n        [ 0.5341,  1.1489, -0.9707, -0.2799,  0.0873],\n        [ 0.4963,  1.1489, -1.1602, -0.0910,  0.0873],\n        [ 0.8763,  1.1489,  0.1034, -0.7206, -0.5358],\n        [ 0.7882,  1.1489, -0.3388, -0.2799, -0.5358],\n        [ 0.7126,  1.1489, -0.7179,  0.0978, -0.5358],\n        [ 0.6245,  1.1489, -1.1602,  0.5385, -0.5358],\n        [ 1.1304,  1.1489,  0.7352, -0.7206, -1.1589],\n        [ 1.0045,  1.1489,  0.1034, -0.0910, -1.1589],\n        [ 0.8786,  1.1489, -0.5284,  0.5385, -1.1589],\n        [ 0.7527,  1.1489, -1.1602,  1.1681, -1.1589],\n        [-0.0305, -0.0994, -1.1602, -0.7206,  1.9567],\n        [ 0.4015, -0.0994, -0.0861, -0.7206,  0.8974],\n        [ 0.3259, -0.0994, -0.4652, -0.3428,  0.8974],\n        [ 0.2630, -0.0994, -0.7811, -0.0281,  0.8974],\n        [ 0.1874, -0.0994, -1.1602,  0.3497,  0.8974],\n        [ 0.8080, -0.0994,  0.9248, -0.7206, -0.0996],\n        [ 0.6695, -0.0994,  0.2298, -0.0281, -0.0996],\n        [ 0.5311, -0.0994, -0.4652,  0.6644, -0.0996],\n        [ 0.3926, -0.0994, -1.1602,  1.3569, -0.0996],\n        [ 1.2400, -0.0994,  1.9989, -0.7206, -1.1589],\n        [ 1.0260, -0.0994,  0.9248,  0.3497, -1.1589],\n        [ 0.8245, -0.0994, -0.0861,  1.3569, -1.1589],\n        [ 0.6105, -0.0994, -1.1602,  2.4271, -1.1589],\n        [-0.4291, -1.3477, -1.1602, -0.7206,  3.2030],\n        [ 0.1553, -1.3477,  0.2930, -0.7206,  1.7698],\n        [ 0.0672, -1.3477, -0.1493, -0.2799,  1.7698],\n        [-0.0335, -1.3477, -0.6547,  0.2237,  1.7698],\n        [-0.1342, -1.3477, -1.1602,  0.7274,  1.7698],\n        [ 0.7652, -1.3477,  1.8093, -0.7206,  0.2743],\n        [ 0.5637, -1.3477,  0.7984,  0.2867,  0.2743],\n        [ 0.3749, -1.3477, -0.1493,  1.2310,  0.2743],\n        [ 0.1734, -1.3477, -1.1602,  2.2383,  0.2743],\n        [ 1.3496, -1.3477,  3.2625, -0.7206, -1.1589],\n        [ 1.0600, -1.3477,  1.8093,  0.7274, -1.1589],\n        [ 0.7579, -1.3477,  0.2930,  2.2383, -1.1589],\n        [ 0.4683, -1.3477, -1.1602,  3.6862, -1.1589],\n        [-4.0720,  3.0213, -1.1602, -0.7206, -1.1589],\n        [-3.1585,  1.1489, -1.1602, -0.7206,  0.7104],\n        [-2.9044,  1.1489, -0.5284, -0.7206,  0.0873],\n        [-2.9422,  1.1489, -0.7179, -0.5317,  0.0873],\n        [-2.9925,  1.1489, -0.9707, -0.2799,  0.0873],\n        [-3.0303,  1.1489, -1.1602, -0.0910,  0.0873],\n        [-2.6503,  1.1489,  0.1034, -0.7206, -0.5358],\n        [-2.7384,  1.1489, -0.3388, -0.2799, -0.5358],\n        [-2.8140,  1.1489, -0.7179,  0.0978, -0.5358],\n        [-2.9021,  1.1489, -1.1602,  0.5385, -0.5358],\n        [-2.3962,  1.1489,  0.7352, -0.7206, -1.1589],\n        [-2.5221,  1.1489,  0.1034, -0.0910, -1.1589],\n        [-2.6480,  1.1489, -0.5284,  0.5385, -1.1589],\n        [-2.7739,  1.1489, -1.1602,  1.1681, -1.1589],\n        [-2.5495, -0.0994, -1.1602, -0.7206,  1.9567],\n        [-2.1175, -0.0994, -0.0861, -0.7206,  0.8974],\n        [-2.1931, -0.0994, -0.4652, -0.3428,  0.8974],\n        [-2.2560, -0.0994, -0.7811, -0.0281,  0.8974],\n        [-2.3316, -0.0994, -1.1602,  0.3497,  0.8974],\n        [-1.7110, -0.0994,  0.9248, -0.7206, -0.0996],\n        [-1.8495, -0.0994,  0.2298, -0.0281, -0.0996],\n        [-1.9879, -0.0994, -0.4652,  0.6644, -0.0996],\n        [-2.1264, -0.0994, -1.1602,  1.3569, -0.0996],\n        [-1.2790, -0.0994,  1.9989, -0.7206, -1.1589],\n        [-1.4930, -0.0994,  0.9248,  0.3497, -1.1589],\n        [-1.6945, -0.0994, -0.0861,  1.3569, -1.1589],\n        [-1.9085, -0.0994, -1.1602,  2.4271, -1.1589],\n        [-1.9405, -1.3477, -1.1602, -0.7206,  3.2030],\n        [-1.3561, -1.3477,  0.2930, -0.7206,  1.7698],\n        [-1.4442, -1.3477, -0.1493, -0.2799,  1.7698],\n        [-1.5449, -1.3477, -0.6547,  0.2237,  1.7698],\n        [-1.6456, -1.3477, -1.1602,  0.7274,  1.7698],\n        [-0.7462, -1.3477,  1.8093, -0.7206,  0.2743],\n        [-0.9477, -1.3477,  0.7984,  0.2867,  0.2743],\n        [-1.1365, -1.3477, -0.1493,  1.2310,  0.2743],\n        [-1.3380, -1.3477, -1.1602,  2.2383,  0.2743],\n        [-0.1618, -1.3477,  3.2625, -0.7206, -1.1589],\n        [-0.4514, -1.3477,  1.8093,  0.7274, -1.1589],\n        [-0.7535, -1.3477,  0.2930,  2.2383, -1.1589],\n        [-1.0431, -1.3477, -1.1602,  3.6862, -1.1589]])"
     },
     "execution_count": 23,
     "metadata": {},
     "output_type": "execute_result"
    }
   ],
   "source": [
    "X_train_BO = torch.tensor(data_BO.values)\n",
    "X_train_BO = X_train_BO.float()\n",
    "X_train_BO"
   ],
   "metadata": {
    "collapsed": false
   }
  },
  {
   "cell_type": "markdown",
   "source": [
    "Y-train needs to be the probability of being good"
   ],
   "metadata": {
    "collapsed": false
   }
  },
  {
   "cell_type": "code",
   "execution_count": 24,
   "outputs": [
    {
     "name": "stderr",
     "output_type": "stream",
     "text": [
      "/Users/yimengjin/Desktop/Thesis/Thesis_Yimeng/venv/lib/python3.9/site-packages/sklearn/base.py:409: UserWarning: X does not have valid feature names, but RandomForestClassifier was fitted with feature names\n",
      "  warnings.warn(\n"
     ]
    },
    {
     "data": {
      "text/plain": "tensor([[0.8340],\n        [0.8340],\n        [0.8340],\n        [0.3404],\n        [0.3404],\n        [0.3404],\n        [0.8340],\n        [0.8340],\n        [0.8340],\n        [0.8340],\n        [0.8340],\n        [0.3404],\n        [0.3404],\n        [0.8340],\n        [0.8340],\n        [0.8340],\n        [0.8340],\n        [0.8340],\n        [0.8340],\n        [0.8340],\n        [0.8340],\n        [0.8340],\n        [0.8340],\n        [0.8340],\n        [0.8340],\n        [0.8340],\n        [0.8340],\n        [0.8340],\n        [0.8340],\n        [0.5057],\n        [0.5057],\n        [0.8340],\n        [0.9447],\n        [0.9102],\n        [0.9782],\n        [0.9882],\n        [0.9882],\n        [0.0000],\n        [0.0145],\n        [0.0195],\n        [0.0000],\n        [0.0000],\n        [0.0000],\n        [0.0377],\n        [0.0000],\n        [0.0000],\n        [0.0000],\n        [0.3404],\n        [0.0472],\n        [0.0159],\n        [0.0000],\n        [0.0166],\n        [0.2270],\n        [0.0100],\n        [0.0000],\n        [0.0000],\n        [0.7266],\n        [0.6688],\n        [0.0164],\n        [0.0294],\n        [0.0325],\n        [0.5744],\n        [0.6052],\n        [0.0323],\n        [0.0000],\n        [0.0127],\n        [0.0145],\n        [0.0000],\n        [0.0000],\n        [0.0746],\n        [0.6047],\n        [0.5805],\n        [0.0100],\n        [0.0266],\n        [0.0641],\n        [0.6100],\n        [0.0203],\n        [0.0055],\n        [0.0231],\n        [0.0482],\n        [0.0000],\n        [0.0000],\n        [0.0000],\n        [0.0377],\n        [0.0000],\n        [0.0000],\n        [0.0000],\n        [0.1586],\n        [0.0419],\n        [0.0159],\n        [0.0076],\n        [0.0166],\n        [0.2225],\n        [0.0451],\n        [0.0100],\n        [0.0000],\n        [0.5939],\n        [0.6077],\n        [0.0164],\n        [0.0209],\n        [0.0325],\n        [0.4628],\n        [0.5035],\n        [0.0673],\n        [0.0000],\n        [0.0127],\n        [0.0145],\n        [0.0000],\n        [0.0000],\n        [0.0704],\n        [0.5499],\n        [0.5488],\n        [0.0100],\n        [0.0266],\n        [0.0547],\n        [0.5486],\n        [0.0203],\n        [0.0000],\n        [0.0000],\n        [0.0000],\n        [0.0000],\n        [0.0000],\n        [0.0000],\n        [0.0158],\n        [0.0000],\n        [0.0000],\n        [0.0000],\n        [0.0137],\n        [0.0000],\n        [0.0000],\n        [0.0000],\n        [0.0166],\n        [0.0322],\n        [0.0000],\n        [0.0000],\n        [0.0000],\n        [0.0694],\n        [0.0452],\n        [0.0000],\n        [0.0045],\n        [0.0000],\n        [0.0552],\n        [0.0728],\n        [0.0045],\n        [0.0000],\n        [0.0127],\n        [0.0045],\n        [0.0000],\n        [0.0000],\n        [0.0120],\n        [0.1281],\n        [0.1132],\n        [0.0100],\n        [0.0136],\n        [0.0095],\n        [0.0736],\n        [0.0000]])"
     },
     "execution_count": 24,
     "metadata": {},
     "output_type": "execute_result"
    }
   ],
   "source": [
    "Y_train_BO = torch.tensor(data_with_dummies[\"Category\"])\n",
    "Y_train_BO = torch.reshape(Y_train_BO,(len(Y_train_BO),1))\n",
    "Y_train_BO = rf.predict_proba(X_train_BO)\n",
    "Y_train_BO = Y_train_BO[:,1]\n",
    "Y_train_BO = torch.tensor(Y_train_BO)\n",
    "Y_train_BO = torch.reshape(Y_train_BO,(len(Y_train_BO),1))\n",
    "Y_train_BO = Y_train_BO.float()\n",
    "Y_train_BO"
   ],
   "metadata": {
    "collapsed": false
   }
  },
  {
   "cell_type": "code",
   "execution_count": 25,
   "outputs": [
    {
     "data": {
      "text/plain": "tensor([0.9882])"
     },
     "execution_count": 25,
     "metadata": {},
     "output_type": "execute_result"
    }
   ],
   "source": [
    "best_y = max(Y_train_BO)\n",
    "best_y"
   ],
   "metadata": {
    "collapsed": false
   }
  },
  {
   "cell_type": "markdown",
   "source": [
    "# Fit BO model\n",
    "Physical constraints must be applied\n",
    "### SingleTaskGP:\n",
    "Only considers continuous inputs\n",
    "### MixedSingleTaskGP:\n",
    "Include discrete inputs and combines using a categorical kernel"
   ],
   "metadata": {
    "collapsed": false
   }
  },
  {
   "cell_type": "code",
   "execution_count": 26,
   "outputs": [
    {
     "name": "stderr",
     "output_type": "stream",
     "text": [
      "/Users/yimengjin/Desktop/Thesis/Thesis_Yimeng/venv/lib/python3.9/site-packages/botorch/models/gpytorch.py:113: UserWarning: The model inputs are of type torch.float32. It is strongly recommended to use double precision in BoTorch, as this improves both precision and stability and can help avoid numerical errors. See https://github.com/pytorch/botorch/discussions/1444\n",
      "  warnings.warn(\n"
     ]
    },
    {
     "data": {
      "text/plain": "ExactMarginalLogLikelihood(\n  (likelihood): GaussianLikelihood(\n    (noise_covar): HomoskedasticNoise(\n      (noise_prior): GammaPrior()\n      (raw_noise_constraint): GreaterThan(1.000E-04)\n    )\n  )\n  (model): SingleTaskGP(\n    (likelihood): GaussianLikelihood(\n      (noise_covar): HomoskedasticNoise(\n        (noise_prior): GammaPrior()\n        (raw_noise_constraint): GreaterThan(1.000E-04)\n      )\n    )\n    (mean_module): ConstantMean()\n    (covar_module): ScaleKernel(\n      (base_kernel): MaternKernel(\n        (lengthscale_prior): GammaPrior()\n        (raw_lengthscale_constraint): Positive()\n        (distance_module): Distance()\n      )\n      (outputscale_prior): GammaPrior()\n      (raw_outputscale_constraint): Positive()\n    )\n  )\n)"
     },
     "execution_count": 26,
     "metadata": {},
     "output_type": "execute_result"
    }
   ],
   "source": [
    "model=SingleTaskGP(X_train_BO, Y_train_BO)\n",
    "mll=ExactMarginalLogLikelihood(model.likelihood, model)\n",
    "fit_gpytorch_model(mll)\n",
    "# model = fully_bayesian.SaasFullyBayesianSingleTaskGP(X_train_BO, Y_train_BO)\n",
    "# fit_fully_bayesian_model_nuts(model)"
   ],
   "metadata": {
    "collapsed": false
   }
  },
  {
   "cell_type": "markdown",
   "source": [
    "# Acquisition Function\n",
    "## EI"
   ],
   "metadata": {
    "collapsed": false
   }
  },
  {
   "cell_type": "code",
   "execution_count": 27,
   "outputs": [],
   "source": [
    "EI = qExpectedImprovement(\n",
    "    model = model,\n",
    "    best_f = best_y\n",
    ")"
   ],
   "metadata": {
    "collapsed": false
   }
  },
  {
   "cell_type": "markdown",
   "source": [
    "## UCB"
   ],
   "metadata": {
    "collapsed": false
   }
  },
  {
   "cell_type": "code",
   "execution_count": 28,
   "outputs": [],
   "source": [
    "UCB = qUpperConfidenceBound(\n",
    "    model = model,\n",
    "    beta = 0.6,\n",
    ")"
   ],
   "metadata": {
    "collapsed": false
   }
  },
  {
   "cell_type": "code",
   "execution_count": 31,
   "outputs": [],
   "source": [
    "# Output bounds\n",
    "bounds = torch.tensor([[-5., 0., 0., 0., 0.],[5., 1., 1., 1., 1.]])\n",
    "indices = torch.LongTensor([1,2,3,4])\n",
    "coefficient = torch.Tensor([1,1,1,1])\n",
    "equality_constraints = [(indices,coefficient,1)]"
   ],
   "metadata": {
    "collapsed": false
   }
  },
  {
   "cell_type": "code",
   "execution_count": null,
   "outputs": [],
   "source": [
    "X_candidates,_ = optimize_acqf(\n",
    "    acq_function = EI,\n",
    "    bounds = bounds,\n",
    "    q = 2, # Number of suggested candidates\n",
    "    num_restarts = 200,\n",
    "    raw_samples = 512,\n",
    "    equality_constraints = equality_constraints\n",
    "   # fixed_features_list = [{3: 1}]\n",
    ")\n",
    "X_candidates"
   ],
   "metadata": {
    "collapsed": false,
    "pycharm": {
     "is_executing": true
    }
   }
  },
  {
   "cell_type": "markdown",
   "source": [
    "## Substitute generated candidates to random forest classifier"
   ],
   "metadata": {
    "collapsed": false
   }
  },
  {
   "cell_type": "markdown",
   "source": [
    "The outcome of Y-rf should be the probability, and keep maximising\n",
    "rf.probability"
   ],
   "metadata": {
    "collapsed": false
   }
  },
  {
   "cell_type": "code",
   "execution_count": null,
   "outputs": [],
   "source": [
    "Y_rf = rf.predict_proba(X_candidates)\n",
    "Y_rf"
   ],
   "metadata": {
    "collapsed": false
   }
  },
  {
   "cell_type": "code",
   "execution_count": null,
   "outputs": [],
   "source": [
    "np.count_nonzero(Y_rf[:,1] > 0.5)"
   ],
   "metadata": {
    "collapsed": false
   }
  },
  {
   "cell_type": "code",
   "execution_count": null,
   "outputs": [],
   "source": [
    "max(Y_rf[:,1]) # Max. probability achieved"
   ],
   "metadata": {
    "collapsed": false
   }
  },
  {
   "cell_type": "code",
   "execution_count": null,
   "outputs": [],
   "source": [
    "Y_rf = torch.tensor(Y_rf[:, 1])\n",
    "Y_rf = torch.reshape(Y_rf,(len(Y_rf),1))\n",
    "Y_rf = Y_rf.float()\n",
    "Y_rf"
   ],
   "metadata": {
    "collapsed": false
   }
  },
  {
   "cell_type": "markdown",
   "source": [
    "## Second Round"
   ],
   "metadata": {
    "collapsed": false
   }
  },
  {
   "cell_type": "code",
   "execution_count": null,
   "outputs": [],
   "source": [
    "X_train_2 = (X_train_BO,X_candidates)\n",
    "X_train_2 = torch.cat(X_train_2, dim = 0)\n",
    "X_train_2 = X_train_2.float()\n",
    "X_train_2"
   ],
   "metadata": {
    "collapsed": false
   }
  },
  {
   "cell_type": "code",
   "execution_count": null,
   "outputs": [],
   "source": [
    "Y_train_2 = (Y_train_BO,Y_rf)\n",
    "Y_train_2 = torch.cat(Y_train_2, dim = 0)\n",
    "Y_train_2 = Y_train_2.float()\n",
    "Y_train_2\n",
    "# len(Y_train_2)"
   ],
   "metadata": {
    "collapsed": false
   }
  },
  {
   "cell_type": "code",
   "execution_count": null,
   "outputs": [],
   "source": [
    "model=SingleTaskGP(X_train_2, Y_train_2)\n",
    "mll=ExactMarginalLogLikelihood(model.likelihood, model)\n",
    "fit_gpytorch_model(mll)\n",
    "\n",
    "# model = fully_bayesian.SaasFullyBayesianSingleTaskGP(X_train_2, Y_train_2)\n",
    "# fit_fully_bayesian_model_nuts(model)"
   ],
   "metadata": {
    "collapsed": false
   }
  },
  {
   "cell_type": "code",
   "execution_count": null,
   "outputs": [],
   "source": [
    "EI = qExpectedImprovement(\n",
    "    model = model,\n",
    "    best_f = best_y\n",
    ")\n",
    "\n",
    "UCB = qUpperConfidenceBound(\n",
    "    model = model,\n",
    "    beta = 0.6,\n",
    ")"
   ],
   "metadata": {
    "collapsed": false
   }
  },
  {
   "cell_type": "code",
   "execution_count": null,
   "outputs": [],
   "source": [
    "X_candidates,_ = optimize_acqf(\n",
    "    acq_function = EI,\n",
    "    bounds = torch.tensor([[-5., 0., 0., 0., 0.],[5., 1., 1., 1., 1.]]),\n",
    "    q = 20, # Number of suggested candidates\n",
    "    num_restarts = 200,\n",
    "    raw_samples = 512\n",
    ")\n",
    "X_candidates"
   ],
   "metadata": {
    "collapsed": false
   }
  },
  {
   "cell_type": "code",
   "execution_count": null,
   "outputs": [],
   "source": [
    "Y_rf = rf.predict_proba(X_candidates)\n",
    "Y_rf"
   ],
   "metadata": {
    "collapsed": false
   }
  },
  {
   "cell_type": "code",
   "execution_count": null,
   "outputs": [],
   "source": [
    "np.count_nonzero(Y_rf[:,1] > 0.5)"
   ],
   "metadata": {
    "collapsed": false
   }
  },
  {
   "cell_type": "markdown",
   "source": [
    "1. Change Y-train (y_rf) done\n",
    "2. Apply constraints (parameter constraints)\n",
    "3. think about the dummy variables, whether that's doable in BO"
   ],
   "metadata": {
    "collapsed": false
   }
  },
  {
   "cell_type": "code",
   "execution_count": null,
   "outputs": [],
   "source": [
    "max(Y_rf[:,1])"
   ],
   "metadata": {
    "collapsed": false
   }
  },
  {
   "cell_type": "code",
   "execution_count": null,
   "outputs": [],
   "source": [],
   "metadata": {
    "collapsed": false
   }
  }
 ],
 "metadata": {
  "kernelspec": {
   "display_name": "Python 3",
   "language": "python",
   "name": "python3"
  },
  "language_info": {
   "codemirror_mode": {
    "name": "ipython",
    "version": 2
   },
   "file_extension": ".py",
   "mimetype": "text/x-python",
   "name": "python",
   "nbconvert_exporter": "python",
   "pygments_lexer": "ipython2",
   "version": "2.7.6"
  }
 },
 "nbformat": 4,
 "nbformat_minor": 0
}
