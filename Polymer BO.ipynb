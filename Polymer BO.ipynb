{
 "cells": [
  {
   "cell_type": "markdown",
   "source": [
    "## Bayesian Optimisation for Antimicrobial Polymer Discovery"
   ],
   "metadata": {
    "collapsed": false
   }
  },
  {
   "cell_type": "code",
   "execution_count": 86,
   "outputs": [],
   "source": [
    "import numpy as np\n",
    "import matplotlib.pyplot as plt\n",
    "import matplotlib.image as mpimg\n",
    "from matplotlib import rcParams\n",
    "import torch\n",
    "from botorch.models import SingleTaskGP, ModelListGP, fully_bayesian\n",
    "from botorch.models.gp_regression_mixed import MixedSingleTaskGP\n",
    "from botorch.fit import fit_gpytorch_mll, fit_fully_bayesian_model_nuts\n",
    "from botorch.utils import standardize\n",
    "from gpytorch.mlls import ExactMarginalLogLikelihood\n",
    "from botorch.acquisition.monte_carlo import qExpectedImprovement, qUpperConfidenceBound\n",
    "from botorch.acquisition.analytic import UpperConfidenceBound, ProbabilityOfImprovement, ExpectedImprovement\n",
    "from botorch.optim import optimize_acqf, optimize_acqf_mixed\n",
    "from botorch.cross_validation import gen_loo_cv_folds\n",
    "import math\n",
    "import pandas as pd\n",
    "import sklearn\n",
    "from sklearn.model_selection import train_test_split, RandomizedSearchCV, cross_val_score\n",
    "from sklearn.metrics import confusion_matrix, classification_report, accuracy_score, roc_curve, auc\n",
    "from sklearn.gaussian_process import GaussianProcessClassifier\n",
    "from sklearn.gaussian_process.kernels import RBF, Matern, DotProduct, RationalQuadratic, WhiteKernel\n",
    "from sklearn.model_selection import cross_val_score\n",
    "from sklearn.model_selection import RepeatedStratifiedKFold\n",
    "from sklearn.model_selection import GridSearchCV"
   ],
   "metadata": {
    "collapsed": false
   }
  },
  {
   "cell_type": "markdown",
   "source": [
    "## Retrieve Training dataset and assign variables\n",
    "To enable mixed search space, utilise MixedSingleTaskGP which uses a special kernel to combine continuous and categorical data."
   ],
   "metadata": {
    "collapsed": false
   }
  },
  {
   "cell_type": "code",
   "execution_count": 87,
   "outputs": [
    {
     "data": {
      "text/plain": "     Polymer Index    type_A type_B1 type_B2 type_C  composition_A  \\\n0                1  Boc-AEAm    PEAm    None   HEAm            0.5   \n1                2  Boc-AEAm    PEAm    None   HEAm            0.5   \n2                3  Boc-AEAm    PEAm    None   HEAm            0.5   \n3                4  Boc-AEAm    PEAm    None   None            0.7   \n4                5  Boc-AEAm    PEAm    None   None            0.7   \n..             ...       ...     ...     ...    ...            ...   \n152            157    AAPTAC    PEAm   NIPAm   HEAm            0.3   \n153            158    AAPTAC    PEAm   NIPAm   HEAm            0.3   \n154            159    AAPTAC    PEAm   NIPAm   HEAm            0.3   \n155            160    AAPTAC    PEAm   NIPAm   HEAm            0.3   \n156            161    AAPTAC    PEAm   NIPAm   HEAm            0.3   \n\n     composition_B1  composition_B2  composition_C block_sequence_theoretical  \\\n0              0.30            0.00           0.20                        ABC   \n1              0.30            0.00           0.20                        ABC   \n2              0.30            0.00           0.20                        ABC   \n3              0.30            0.00           0.00                         AB   \n4              0.30            0.00           0.00                         AB   \n..              ...             ...            ...                        ...   \n152            0.00            0.47           0.23                        ABC   \n153            0.70            0.00           0.00                        ABC   \n154            0.47            0.23           0.00                        ABC   \n155            0.23            0.47           0.00                        ABC   \n156            0.00            0.70           0.00                        ABC   \n\n     ...   A2   B2   C2   A3   B3   C3  A4   B4   C4 cLogP_predicted  \n0    ...  0.0  0.0  0.0  0.0  0.0  0.0   0  0.0  0.0         0.67630  \n1    ...  0.0  0.0  0.0  0.0  0.0  0.0   0  0.0  0.0         0.67630  \n2    ...  0.0  0.0  0.0  0.0  0.0  0.0   0  0.0  0.0         0.67630  \n3    ...  0.0  0.0  0.0  0.0  0.0  0.0   0  0.0  0.0         1.05270  \n4    ...  0.0  0.0  0.0  0.0  0.0  0.0   0  0.0  0.0         1.05270  \n..   ...  ...  ...  ...  ...  ...  ...  ..  ...  ...             ...  \n152  ...  0.0  0.0  0.0  0.0  0.0  0.0   0  0.0  0.0        -1.33796  \n153  ...  0.0  0.0  0.0  0.0  0.0  0.0   0  0.0  0.0        -0.16180  \n154  ...  0.0  0.0  0.0  0.0  0.0  0.0   0  0.0  0.0        -0.45137  \n155  ...  0.0  0.0  0.0  0.0  0.0  0.0   0  0.0  0.0        -0.75353  \n156  ...  0.0  0.0  0.0  0.0  0.0  0.0   0  0.0  0.0        -1.04310  \n\n[157 rows x 38 columns]",
      "text/html": "<div>\n<style scoped>\n    .dataframe tbody tr th:only-of-type {\n        vertical-align: middle;\n    }\n\n    .dataframe tbody tr th {\n        vertical-align: top;\n    }\n\n    .dataframe thead th {\n        text-align: right;\n    }\n</style>\n<table border=\"1\" class=\"dataframe\">\n  <thead>\n    <tr style=\"text-align: right;\">\n      <th></th>\n      <th>Polymer Index</th>\n      <th>type_A</th>\n      <th>type_B1</th>\n      <th>type_B2</th>\n      <th>type_C</th>\n      <th>composition_A</th>\n      <th>composition_B1</th>\n      <th>composition_B2</th>\n      <th>composition_C</th>\n      <th>block_sequence_theoretical</th>\n      <th>...</th>\n      <th>A2</th>\n      <th>B2</th>\n      <th>C2</th>\n      <th>A3</th>\n      <th>B3</th>\n      <th>C3</th>\n      <th>A4</th>\n      <th>B4</th>\n      <th>C4</th>\n      <th>cLogP_predicted</th>\n    </tr>\n  </thead>\n  <tbody>\n    <tr>\n      <th>0</th>\n      <td>1</td>\n      <td>Boc-AEAm</td>\n      <td>PEAm</td>\n      <td>None</td>\n      <td>HEAm</td>\n      <td>0.5</td>\n      <td>0.30</td>\n      <td>0.00</td>\n      <td>0.20</td>\n      <td>ABC</td>\n      <td>...</td>\n      <td>0.0</td>\n      <td>0.0</td>\n      <td>0.0</td>\n      <td>0.0</td>\n      <td>0.0</td>\n      <td>0.0</td>\n      <td>0</td>\n      <td>0.0</td>\n      <td>0.0</td>\n      <td>0.67630</td>\n    </tr>\n    <tr>\n      <th>1</th>\n      <td>2</td>\n      <td>Boc-AEAm</td>\n      <td>PEAm</td>\n      <td>None</td>\n      <td>HEAm</td>\n      <td>0.5</td>\n      <td>0.30</td>\n      <td>0.00</td>\n      <td>0.20</td>\n      <td>ABC</td>\n      <td>...</td>\n      <td>0.0</td>\n      <td>0.0</td>\n      <td>0.0</td>\n      <td>0.0</td>\n      <td>0.0</td>\n      <td>0.0</td>\n      <td>0</td>\n      <td>0.0</td>\n      <td>0.0</td>\n      <td>0.67630</td>\n    </tr>\n    <tr>\n      <th>2</th>\n      <td>3</td>\n      <td>Boc-AEAm</td>\n      <td>PEAm</td>\n      <td>None</td>\n      <td>HEAm</td>\n      <td>0.5</td>\n      <td>0.30</td>\n      <td>0.00</td>\n      <td>0.20</td>\n      <td>ABC</td>\n      <td>...</td>\n      <td>0.0</td>\n      <td>0.0</td>\n      <td>0.0</td>\n      <td>0.0</td>\n      <td>0.0</td>\n      <td>0.0</td>\n      <td>0</td>\n      <td>0.0</td>\n      <td>0.0</td>\n      <td>0.67630</td>\n    </tr>\n    <tr>\n      <th>3</th>\n      <td>4</td>\n      <td>Boc-AEAm</td>\n      <td>PEAm</td>\n      <td>None</td>\n      <td>None</td>\n      <td>0.7</td>\n      <td>0.30</td>\n      <td>0.00</td>\n      <td>0.00</td>\n      <td>AB</td>\n      <td>...</td>\n      <td>0.0</td>\n      <td>0.0</td>\n      <td>0.0</td>\n      <td>0.0</td>\n      <td>0.0</td>\n      <td>0.0</td>\n      <td>0</td>\n      <td>0.0</td>\n      <td>0.0</td>\n      <td>1.05270</td>\n    </tr>\n    <tr>\n      <th>4</th>\n      <td>5</td>\n      <td>Boc-AEAm</td>\n      <td>PEAm</td>\n      <td>None</td>\n      <td>None</td>\n      <td>0.7</td>\n      <td>0.30</td>\n      <td>0.00</td>\n      <td>0.00</td>\n      <td>AB</td>\n      <td>...</td>\n      <td>0.0</td>\n      <td>0.0</td>\n      <td>0.0</td>\n      <td>0.0</td>\n      <td>0.0</td>\n      <td>0.0</td>\n      <td>0</td>\n      <td>0.0</td>\n      <td>0.0</td>\n      <td>1.05270</td>\n    </tr>\n    <tr>\n      <th>...</th>\n      <td>...</td>\n      <td>...</td>\n      <td>...</td>\n      <td>...</td>\n      <td>...</td>\n      <td>...</td>\n      <td>...</td>\n      <td>...</td>\n      <td>...</td>\n      <td>...</td>\n      <td>...</td>\n      <td>...</td>\n      <td>...</td>\n      <td>...</td>\n      <td>...</td>\n      <td>...</td>\n      <td>...</td>\n      <td>...</td>\n      <td>...</td>\n      <td>...</td>\n      <td>...</td>\n    </tr>\n    <tr>\n      <th>152</th>\n      <td>157</td>\n      <td>AAPTAC</td>\n      <td>PEAm</td>\n      <td>NIPAm</td>\n      <td>HEAm</td>\n      <td>0.3</td>\n      <td>0.00</td>\n      <td>0.47</td>\n      <td>0.23</td>\n      <td>ABC</td>\n      <td>...</td>\n      <td>0.0</td>\n      <td>0.0</td>\n      <td>0.0</td>\n      <td>0.0</td>\n      <td>0.0</td>\n      <td>0.0</td>\n      <td>0</td>\n      <td>0.0</td>\n      <td>0.0</td>\n      <td>-1.33796</td>\n    </tr>\n    <tr>\n      <th>153</th>\n      <td>158</td>\n      <td>AAPTAC</td>\n      <td>PEAm</td>\n      <td>NIPAm</td>\n      <td>HEAm</td>\n      <td>0.3</td>\n      <td>0.70</td>\n      <td>0.00</td>\n      <td>0.00</td>\n      <td>ABC</td>\n      <td>...</td>\n      <td>0.0</td>\n      <td>0.0</td>\n      <td>0.0</td>\n      <td>0.0</td>\n      <td>0.0</td>\n      <td>0.0</td>\n      <td>0</td>\n      <td>0.0</td>\n      <td>0.0</td>\n      <td>-0.16180</td>\n    </tr>\n    <tr>\n      <th>154</th>\n      <td>159</td>\n      <td>AAPTAC</td>\n      <td>PEAm</td>\n      <td>NIPAm</td>\n      <td>HEAm</td>\n      <td>0.3</td>\n      <td>0.47</td>\n      <td>0.23</td>\n      <td>0.00</td>\n      <td>ABC</td>\n      <td>...</td>\n      <td>0.0</td>\n      <td>0.0</td>\n      <td>0.0</td>\n      <td>0.0</td>\n      <td>0.0</td>\n      <td>0.0</td>\n      <td>0</td>\n      <td>0.0</td>\n      <td>0.0</td>\n      <td>-0.45137</td>\n    </tr>\n    <tr>\n      <th>155</th>\n      <td>160</td>\n      <td>AAPTAC</td>\n      <td>PEAm</td>\n      <td>NIPAm</td>\n      <td>HEAm</td>\n      <td>0.3</td>\n      <td>0.23</td>\n      <td>0.47</td>\n      <td>0.00</td>\n      <td>ABC</td>\n      <td>...</td>\n      <td>0.0</td>\n      <td>0.0</td>\n      <td>0.0</td>\n      <td>0.0</td>\n      <td>0.0</td>\n      <td>0.0</td>\n      <td>0</td>\n      <td>0.0</td>\n      <td>0.0</td>\n      <td>-0.75353</td>\n    </tr>\n    <tr>\n      <th>156</th>\n      <td>161</td>\n      <td>AAPTAC</td>\n      <td>PEAm</td>\n      <td>NIPAm</td>\n      <td>HEAm</td>\n      <td>0.3</td>\n      <td>0.00</td>\n      <td>0.70</td>\n      <td>0.00</td>\n      <td>ABC</td>\n      <td>...</td>\n      <td>0.0</td>\n      <td>0.0</td>\n      <td>0.0</td>\n      <td>0.0</td>\n      <td>0.0</td>\n      <td>0.0</td>\n      <td>0</td>\n      <td>0.0</td>\n      <td>0.0</td>\n      <td>-1.04310</td>\n    </tr>\n  </tbody>\n</table>\n<p>157 rows × 38 columns</p>\n</div>"
     },
     "execution_count": 87,
     "metadata": {},
     "output_type": "execute_result"
    }
   ],
   "source": [
    "data = pd.read_excel('dataset_final.xlsx', sheet_name = 'Dataset_Complete_modified')\n",
    "data"
   ],
   "metadata": {
    "collapsed": false
   }
  },
  {
   "cell_type": "code",
   "execution_count": 88,
   "outputs": [
    {
     "name": "stderr",
     "output_type": "stream",
     "text": [
      "/var/folders/dh/dgy1v49j4rs7lcfxbxnn5bzm0000gn/T/ipykernel_72457/1185648202.py:1: FutureWarning: The default value of numeric_only in DataFrame.corr is deprecated. In a future version, it will default to False. Select only valid columns or specify the value of numeric_only to silence this warning.\n",
      "  data.corr()\n"
     ]
    },
    {
     "data": {
      "text/plain": "                  Polymer Index  composition_A  composition_B1  \\\nPolymer Index          1.000000      -0.237395       -0.209524   \ncomposition_A         -0.237395       1.000000       -0.282589   \ncomposition_B1        -0.209524      -0.282589        1.000000   \ncomposition_B2         0.402446      -0.310371       -0.399126   \ncomposition_C          0.045304      -0.412450       -0.309069   \nNumber of blocks      -0.515925      -0.010745        0.271207   \ndpn                   -0.249226      -0.004903        0.120026   \nTarget                -0.410508       0.113958        0.257981   \nNMR                   -0.556035       0.207758        0.273500   \nGPC                   -0.257679      -0.182915        0.010997   \nclogP                  0.634861      -0.479834        0.884044   \nDispersity             0.689745       0.080743       -0.216975   \nA1                    -0.263964       0.099391        0.123526   \nB1                     0.473301       0.023722       -0.242328   \nC1                     0.606697      -0.075715       -0.303346   \nA2                    -0.243827       0.045402        0.129752   \nB2                    -0.438501      -0.031455        0.221584   \nC2                    -0.387557      -0.029569        0.180416   \nA3                    -0.226511      -0.016070        0.118880   \nB3                    -0.190109      -0.015225        0.112632   \nC3                    -0.172808      -0.013064        0.096645   \nA4                          NaN            NaN             NaN   \nB4                    -0.151171      -0.011290        0.083517   \nC4                    -0.151171      -0.011290        0.083517   \ncLogP_predicted       -0.679035      -0.086684        0.364220   \n\n                  composition_B2  composition_C  Number of blocks       dpn  \\\nPolymer Index           0.402446       0.045304         -0.515925 -0.249226   \ncomposition_A          -0.310371      -0.412450         -0.010745 -0.004903   \ncomposition_B1         -0.399126      -0.309069          0.271207  0.120026   \ncomposition_B2          1.000000      -0.286314         -0.275958 -0.117630   \ncomposition_C          -0.286314       1.000000          0.016395  0.002952   \nNumber of blocks       -0.275958       0.016395          1.000000  0.280251   \ndpn                    -0.117630       0.002952          0.280251  1.000000   \nTarget                 -0.274649      -0.096356          0.386098  0.884207   \nNMR                    -0.471571      -0.010390          0.408109  0.766664   \nGPC                    -0.175124       0.344606          0.324969  0.784606   \nclogP                   0.186638      -0.517585               NaN       NaN   \nDispersity              0.166071      -0.030110         -0.228574 -0.094875   \nA1                     -0.132917      -0.089494          0.029182 -0.031850   \nB1                      0.254903      -0.036993         -0.846407 -0.204843   \nC1                      0.315025       0.062952         -0.806769 -0.286753   \nA2                     -0.127162      -0.047429          0.452140  0.114781   \nB2                     -0.228049       0.038591          0.623867  0.265455   \nC2                     -0.214375       0.063775          0.595649  0.222880   \nA3                     -0.116507       0.014118          0.632507  0.203834   \nB3                     -0.110385       0.013376          0.467679  0.084057   \nC3                     -0.094716       0.011478          0.401295  0.118917   \nA4                           NaN            NaN               NaN       NaN   \nB4                     -0.081850       0.009919          0.541927  0.062328   \nC4                     -0.081850       0.009919          0.541927  0.062328   \ncLogP_predicted        -0.102905      -0.170816          0.222334  0.096098   \n\n                    Target       NMR       GPC  ...        A2        B2  \\\nPolymer Index    -0.410508 -0.556035 -0.257679  ... -0.243827 -0.438501   \ncomposition_A     0.113958  0.207758 -0.182915  ...  0.045402 -0.031455   \ncomposition_B1    0.257981  0.273500  0.010997  ...  0.129752  0.221584   \ncomposition_B2   -0.274649 -0.471571 -0.175124  ... -0.127162 -0.228049   \ncomposition_C    -0.096356 -0.010390  0.344606  ... -0.047429  0.038591   \nNumber of blocks  0.386098  0.408109  0.324969  ...  0.452140  0.623867   \ndpn               0.884207  0.766664  0.784606  ...  0.114781  0.265455   \nTarget            1.000000  0.889259  0.813675  ...  0.128931  0.297960   \nNMR               0.889259  1.000000  0.679494  ...  0.141521  0.343140   \nGPC               0.813675  0.679494  1.000000  ...  0.075559  0.213651   \nclogP             0.015188 -0.115580 -0.552616  ...       NaN       NaN   \nDispersity       -0.341800 -0.365729 -0.271123  ... -0.055636 -0.235016   \nA1                0.003110  0.093950 -0.172585  ... -0.312328  0.365521   \nB1               -0.269878 -0.314810 -0.206726  ... -0.345395 -0.819525   \nC1               -0.380436 -0.427405 -0.216417  ... -0.339051 -0.584820   \nA2                0.128931  0.141521  0.075559  ...  1.000000 -0.055853   \nB2                0.297960  0.343140  0.213651  ... -0.055853  1.000000   \nC2                0.256310  0.223529  0.229229  ...  0.099935  0.458673   \nA3                0.312228  0.312518  0.319477  ... -0.028535  0.395170   \nB3                0.089902  0.110646  0.074642  ...  0.646694 -0.048484   \nC3                0.116247  0.178843  0.083392  ...  0.193589  0.321258   \nA4                     NaN       NaN       NaN  ...       NaN       NaN   \nB4                0.236861  0.162049  0.294095  ... -0.020046  0.173096   \nC4                0.236861  0.162049  0.294095  ... -0.020046  0.173096   \ncLogP_predicted   0.118706  0.229514 -0.272896  ...  0.115944  0.177560   \n\n                        C2        A3        B3        C3  A4        B4  \\\nPolymer Index    -0.387557 -0.226511 -0.190109 -0.172808 NaN -0.151171   \ncomposition_A    -0.029569 -0.016070 -0.015225 -0.013064 NaN -0.011290   \ncomposition_B1    0.180416  0.118880  0.112632  0.096645 NaN  0.083517   \ncomposition_B2   -0.214375 -0.116507 -0.110385 -0.094716 NaN -0.081850   \ncomposition_C     0.063775  0.014118  0.013376  0.011478 NaN  0.009919   \nNumber of blocks  0.595649  0.632507  0.467679  0.401295 NaN  0.541927   \ndpn               0.222880  0.203834  0.084057  0.118917 NaN  0.062328   \nTarget            0.256310  0.312228  0.089902  0.116247 NaN  0.236861   \nNMR               0.223529  0.312518  0.110646  0.178843 NaN  0.162049   \nGPC               0.229229  0.319477  0.074642  0.083392 NaN  0.294095   \nclogP                  NaN       NaN       NaN       NaN NaN       NaN   \nDispersity       -0.188989 -0.079019 -0.073867 -0.061661 NaN -0.074667   \nA1                0.264884 -0.189429 -0.332217 -0.055702 NaN -0.133080   \nB1               -0.555616 -0.418686 -0.328882 -0.296743 NaN -0.294140   \nC1               -0.732660 -0.377816 -0.277999 -0.277745 NaN -0.290837   \nA2                0.099935 -0.028535  0.646694  0.193589 NaN -0.020046   \nB2                0.458673  0.395170 -0.048484  0.321258 NaN  0.173096   \nC2                1.000000  0.245194  0.232308 -0.039107 NaN  0.172256   \nA3                0.245194  1.000000 -0.024770  0.187300 NaN  0.702530   \nB3                0.232308 -0.024770  1.000000  0.111592 NaN -0.017402   \nC3               -0.039107  0.187300  0.111592  1.000000 NaN -0.014932   \nA4                     NaN       NaN       NaN       NaN NaN       NaN   \nB4                0.172256  0.702530 -0.017402 -0.014932 NaN  1.000000   \nC4                0.172256  0.702530 -0.017402 -0.014932 NaN  1.000000   \ncLogP_predicted   0.158069  0.092514  0.087652  0.075210 NaN  0.064994   \n\n                        C4  cLogP_predicted  \nPolymer Index    -0.151171        -0.679035  \ncomposition_A    -0.011290        -0.086684  \ncomposition_B1    0.083517         0.364220  \ncomposition_B2   -0.081850        -0.102905  \ncomposition_C     0.009919        -0.170816  \nNumber of blocks  0.541927         0.222334  \ndpn               0.062328         0.096098  \nTarget            0.236861         0.118706  \nNMR               0.162049         0.229514  \nGPC               0.294095        -0.272896  \nclogP                  NaN         0.666717  \nDispersity       -0.074667        -0.063593  \nA1               -0.133080         0.129705  \nB1               -0.294140        -0.199492  \nC1               -0.290837        -0.272750  \nA2               -0.020046         0.115944  \nB2                0.173096         0.177560  \nC2                0.172256         0.158069  \nA3                0.702530         0.092514  \nB3               -0.017402         0.087652  \nC3               -0.014932         0.075210  \nA4                     NaN              NaN  \nB4                1.000000         0.064994  \nC4                1.000000         0.064994  \ncLogP_predicted   0.064994         1.000000  \n\n[25 rows x 25 columns]",
      "text/html": "<div>\n<style scoped>\n    .dataframe tbody tr th:only-of-type {\n        vertical-align: middle;\n    }\n\n    .dataframe tbody tr th {\n        vertical-align: top;\n    }\n\n    .dataframe thead th {\n        text-align: right;\n    }\n</style>\n<table border=\"1\" class=\"dataframe\">\n  <thead>\n    <tr style=\"text-align: right;\">\n      <th></th>\n      <th>Polymer Index</th>\n      <th>composition_A</th>\n      <th>composition_B1</th>\n      <th>composition_B2</th>\n      <th>composition_C</th>\n      <th>Number of blocks</th>\n      <th>dpn</th>\n      <th>Target</th>\n      <th>NMR</th>\n      <th>GPC</th>\n      <th>...</th>\n      <th>A2</th>\n      <th>B2</th>\n      <th>C2</th>\n      <th>A3</th>\n      <th>B3</th>\n      <th>C3</th>\n      <th>A4</th>\n      <th>B4</th>\n      <th>C4</th>\n      <th>cLogP_predicted</th>\n    </tr>\n  </thead>\n  <tbody>\n    <tr>\n      <th>Polymer Index</th>\n      <td>1.000000</td>\n      <td>-0.237395</td>\n      <td>-0.209524</td>\n      <td>0.402446</td>\n      <td>0.045304</td>\n      <td>-0.515925</td>\n      <td>-0.249226</td>\n      <td>-0.410508</td>\n      <td>-0.556035</td>\n      <td>-0.257679</td>\n      <td>...</td>\n      <td>-0.243827</td>\n      <td>-0.438501</td>\n      <td>-0.387557</td>\n      <td>-0.226511</td>\n      <td>-0.190109</td>\n      <td>-0.172808</td>\n      <td>NaN</td>\n      <td>-0.151171</td>\n      <td>-0.151171</td>\n      <td>-0.679035</td>\n    </tr>\n    <tr>\n      <th>composition_A</th>\n      <td>-0.237395</td>\n      <td>1.000000</td>\n      <td>-0.282589</td>\n      <td>-0.310371</td>\n      <td>-0.412450</td>\n      <td>-0.010745</td>\n      <td>-0.004903</td>\n      <td>0.113958</td>\n      <td>0.207758</td>\n      <td>-0.182915</td>\n      <td>...</td>\n      <td>0.045402</td>\n      <td>-0.031455</td>\n      <td>-0.029569</td>\n      <td>-0.016070</td>\n      <td>-0.015225</td>\n      <td>-0.013064</td>\n      <td>NaN</td>\n      <td>-0.011290</td>\n      <td>-0.011290</td>\n      <td>-0.086684</td>\n    </tr>\n    <tr>\n      <th>composition_B1</th>\n      <td>-0.209524</td>\n      <td>-0.282589</td>\n      <td>1.000000</td>\n      <td>-0.399126</td>\n      <td>-0.309069</td>\n      <td>0.271207</td>\n      <td>0.120026</td>\n      <td>0.257981</td>\n      <td>0.273500</td>\n      <td>0.010997</td>\n      <td>...</td>\n      <td>0.129752</td>\n      <td>0.221584</td>\n      <td>0.180416</td>\n      <td>0.118880</td>\n      <td>0.112632</td>\n      <td>0.096645</td>\n      <td>NaN</td>\n      <td>0.083517</td>\n      <td>0.083517</td>\n      <td>0.364220</td>\n    </tr>\n    <tr>\n      <th>composition_B2</th>\n      <td>0.402446</td>\n      <td>-0.310371</td>\n      <td>-0.399126</td>\n      <td>1.000000</td>\n      <td>-0.286314</td>\n      <td>-0.275958</td>\n      <td>-0.117630</td>\n      <td>-0.274649</td>\n      <td>-0.471571</td>\n      <td>-0.175124</td>\n      <td>...</td>\n      <td>-0.127162</td>\n      <td>-0.228049</td>\n      <td>-0.214375</td>\n      <td>-0.116507</td>\n      <td>-0.110385</td>\n      <td>-0.094716</td>\n      <td>NaN</td>\n      <td>-0.081850</td>\n      <td>-0.081850</td>\n      <td>-0.102905</td>\n    </tr>\n    <tr>\n      <th>composition_C</th>\n      <td>0.045304</td>\n      <td>-0.412450</td>\n      <td>-0.309069</td>\n      <td>-0.286314</td>\n      <td>1.000000</td>\n      <td>0.016395</td>\n      <td>0.002952</td>\n      <td>-0.096356</td>\n      <td>-0.010390</td>\n      <td>0.344606</td>\n      <td>...</td>\n      <td>-0.047429</td>\n      <td>0.038591</td>\n      <td>0.063775</td>\n      <td>0.014118</td>\n      <td>0.013376</td>\n      <td>0.011478</td>\n      <td>NaN</td>\n      <td>0.009919</td>\n      <td>0.009919</td>\n      <td>-0.170816</td>\n    </tr>\n    <tr>\n      <th>Number of blocks</th>\n      <td>-0.515925</td>\n      <td>-0.010745</td>\n      <td>0.271207</td>\n      <td>-0.275958</td>\n      <td>0.016395</td>\n      <td>1.000000</td>\n      <td>0.280251</td>\n      <td>0.386098</td>\n      <td>0.408109</td>\n      <td>0.324969</td>\n      <td>...</td>\n      <td>0.452140</td>\n      <td>0.623867</td>\n      <td>0.595649</td>\n      <td>0.632507</td>\n      <td>0.467679</td>\n      <td>0.401295</td>\n      <td>NaN</td>\n      <td>0.541927</td>\n      <td>0.541927</td>\n      <td>0.222334</td>\n    </tr>\n    <tr>\n      <th>dpn</th>\n      <td>-0.249226</td>\n      <td>-0.004903</td>\n      <td>0.120026</td>\n      <td>-0.117630</td>\n      <td>0.002952</td>\n      <td>0.280251</td>\n      <td>1.000000</td>\n      <td>0.884207</td>\n      <td>0.766664</td>\n      <td>0.784606</td>\n      <td>...</td>\n      <td>0.114781</td>\n      <td>0.265455</td>\n      <td>0.222880</td>\n      <td>0.203834</td>\n      <td>0.084057</td>\n      <td>0.118917</td>\n      <td>NaN</td>\n      <td>0.062328</td>\n      <td>0.062328</td>\n      <td>0.096098</td>\n    </tr>\n    <tr>\n      <th>Target</th>\n      <td>-0.410508</td>\n      <td>0.113958</td>\n      <td>0.257981</td>\n      <td>-0.274649</td>\n      <td>-0.096356</td>\n      <td>0.386098</td>\n      <td>0.884207</td>\n      <td>1.000000</td>\n      <td>0.889259</td>\n      <td>0.813675</td>\n      <td>...</td>\n      <td>0.128931</td>\n      <td>0.297960</td>\n      <td>0.256310</td>\n      <td>0.312228</td>\n      <td>0.089902</td>\n      <td>0.116247</td>\n      <td>NaN</td>\n      <td>0.236861</td>\n      <td>0.236861</td>\n      <td>0.118706</td>\n    </tr>\n    <tr>\n      <th>NMR</th>\n      <td>-0.556035</td>\n      <td>0.207758</td>\n      <td>0.273500</td>\n      <td>-0.471571</td>\n      <td>-0.010390</td>\n      <td>0.408109</td>\n      <td>0.766664</td>\n      <td>0.889259</td>\n      <td>1.000000</td>\n      <td>0.679494</td>\n      <td>...</td>\n      <td>0.141521</td>\n      <td>0.343140</td>\n      <td>0.223529</td>\n      <td>0.312518</td>\n      <td>0.110646</td>\n      <td>0.178843</td>\n      <td>NaN</td>\n      <td>0.162049</td>\n      <td>0.162049</td>\n      <td>0.229514</td>\n    </tr>\n    <tr>\n      <th>GPC</th>\n      <td>-0.257679</td>\n      <td>-0.182915</td>\n      <td>0.010997</td>\n      <td>-0.175124</td>\n      <td>0.344606</td>\n      <td>0.324969</td>\n      <td>0.784606</td>\n      <td>0.813675</td>\n      <td>0.679494</td>\n      <td>1.000000</td>\n      <td>...</td>\n      <td>0.075559</td>\n      <td>0.213651</td>\n      <td>0.229229</td>\n      <td>0.319477</td>\n      <td>0.074642</td>\n      <td>0.083392</td>\n      <td>NaN</td>\n      <td>0.294095</td>\n      <td>0.294095</td>\n      <td>-0.272896</td>\n    </tr>\n    <tr>\n      <th>clogP</th>\n      <td>0.634861</td>\n      <td>-0.479834</td>\n      <td>0.884044</td>\n      <td>0.186638</td>\n      <td>-0.517585</td>\n      <td>NaN</td>\n      <td>NaN</td>\n      <td>0.015188</td>\n      <td>-0.115580</td>\n      <td>-0.552616</td>\n      <td>...</td>\n      <td>NaN</td>\n      <td>NaN</td>\n      <td>NaN</td>\n      <td>NaN</td>\n      <td>NaN</td>\n      <td>NaN</td>\n      <td>NaN</td>\n      <td>NaN</td>\n      <td>NaN</td>\n      <td>0.666717</td>\n    </tr>\n    <tr>\n      <th>Dispersity</th>\n      <td>0.689745</td>\n      <td>0.080743</td>\n      <td>-0.216975</td>\n      <td>0.166071</td>\n      <td>-0.030110</td>\n      <td>-0.228574</td>\n      <td>-0.094875</td>\n      <td>-0.341800</td>\n      <td>-0.365729</td>\n      <td>-0.271123</td>\n      <td>...</td>\n      <td>-0.055636</td>\n      <td>-0.235016</td>\n      <td>-0.188989</td>\n      <td>-0.079019</td>\n      <td>-0.073867</td>\n      <td>-0.061661</td>\n      <td>NaN</td>\n      <td>-0.074667</td>\n      <td>-0.074667</td>\n      <td>-0.063593</td>\n    </tr>\n    <tr>\n      <th>A1</th>\n      <td>-0.263964</td>\n      <td>0.099391</td>\n      <td>0.123526</td>\n      <td>-0.132917</td>\n      <td>-0.089494</td>\n      <td>0.029182</td>\n      <td>-0.031850</td>\n      <td>0.003110</td>\n      <td>0.093950</td>\n      <td>-0.172585</td>\n      <td>...</td>\n      <td>-0.312328</td>\n      <td>0.365521</td>\n      <td>0.264884</td>\n      <td>-0.189429</td>\n      <td>-0.332217</td>\n      <td>-0.055702</td>\n      <td>NaN</td>\n      <td>-0.133080</td>\n      <td>-0.133080</td>\n      <td>0.129705</td>\n    </tr>\n    <tr>\n      <th>B1</th>\n      <td>0.473301</td>\n      <td>0.023722</td>\n      <td>-0.242328</td>\n      <td>0.254903</td>\n      <td>-0.036993</td>\n      <td>-0.846407</td>\n      <td>-0.204843</td>\n      <td>-0.269878</td>\n      <td>-0.314810</td>\n      <td>-0.206726</td>\n      <td>...</td>\n      <td>-0.345395</td>\n      <td>-0.819525</td>\n      <td>-0.555616</td>\n      <td>-0.418686</td>\n      <td>-0.328882</td>\n      <td>-0.296743</td>\n      <td>NaN</td>\n      <td>-0.294140</td>\n      <td>-0.294140</td>\n      <td>-0.199492</td>\n    </tr>\n    <tr>\n      <th>C1</th>\n      <td>0.606697</td>\n      <td>-0.075715</td>\n      <td>-0.303346</td>\n      <td>0.315025</td>\n      <td>0.062952</td>\n      <td>-0.806769</td>\n      <td>-0.286753</td>\n      <td>-0.380436</td>\n      <td>-0.427405</td>\n      <td>-0.216417</td>\n      <td>...</td>\n      <td>-0.339051</td>\n      <td>-0.584820</td>\n      <td>-0.732660</td>\n      <td>-0.377816</td>\n      <td>-0.277999</td>\n      <td>-0.277745</td>\n      <td>NaN</td>\n      <td>-0.290837</td>\n      <td>-0.290837</td>\n      <td>-0.272750</td>\n    </tr>\n    <tr>\n      <th>A2</th>\n      <td>-0.243827</td>\n      <td>0.045402</td>\n      <td>0.129752</td>\n      <td>-0.127162</td>\n      <td>-0.047429</td>\n      <td>0.452140</td>\n      <td>0.114781</td>\n      <td>0.128931</td>\n      <td>0.141521</td>\n      <td>0.075559</td>\n      <td>...</td>\n      <td>1.000000</td>\n      <td>-0.055853</td>\n      <td>0.099935</td>\n      <td>-0.028535</td>\n      <td>0.646694</td>\n      <td>0.193589</td>\n      <td>NaN</td>\n      <td>-0.020046</td>\n      <td>-0.020046</td>\n      <td>0.115944</td>\n    </tr>\n    <tr>\n      <th>B2</th>\n      <td>-0.438501</td>\n      <td>-0.031455</td>\n      <td>0.221584</td>\n      <td>-0.228049</td>\n      <td>0.038591</td>\n      <td>0.623867</td>\n      <td>0.265455</td>\n      <td>0.297960</td>\n      <td>0.343140</td>\n      <td>0.213651</td>\n      <td>...</td>\n      <td>-0.055853</td>\n      <td>1.000000</td>\n      <td>0.458673</td>\n      <td>0.395170</td>\n      <td>-0.048484</td>\n      <td>0.321258</td>\n      <td>NaN</td>\n      <td>0.173096</td>\n      <td>0.173096</td>\n      <td>0.177560</td>\n    </tr>\n    <tr>\n      <th>C2</th>\n      <td>-0.387557</td>\n      <td>-0.029569</td>\n      <td>0.180416</td>\n      <td>-0.214375</td>\n      <td>0.063775</td>\n      <td>0.595649</td>\n      <td>0.222880</td>\n      <td>0.256310</td>\n      <td>0.223529</td>\n      <td>0.229229</td>\n      <td>...</td>\n      <td>0.099935</td>\n      <td>0.458673</td>\n      <td>1.000000</td>\n      <td>0.245194</td>\n      <td>0.232308</td>\n      <td>-0.039107</td>\n      <td>NaN</td>\n      <td>0.172256</td>\n      <td>0.172256</td>\n      <td>0.158069</td>\n    </tr>\n    <tr>\n      <th>A3</th>\n      <td>-0.226511</td>\n      <td>-0.016070</td>\n      <td>0.118880</td>\n      <td>-0.116507</td>\n      <td>0.014118</td>\n      <td>0.632507</td>\n      <td>0.203834</td>\n      <td>0.312228</td>\n      <td>0.312518</td>\n      <td>0.319477</td>\n      <td>...</td>\n      <td>-0.028535</td>\n      <td>0.395170</td>\n      <td>0.245194</td>\n      <td>1.000000</td>\n      <td>-0.024770</td>\n      <td>0.187300</td>\n      <td>NaN</td>\n      <td>0.702530</td>\n      <td>0.702530</td>\n      <td>0.092514</td>\n    </tr>\n    <tr>\n      <th>B3</th>\n      <td>-0.190109</td>\n      <td>-0.015225</td>\n      <td>0.112632</td>\n      <td>-0.110385</td>\n      <td>0.013376</td>\n      <td>0.467679</td>\n      <td>0.084057</td>\n      <td>0.089902</td>\n      <td>0.110646</td>\n      <td>0.074642</td>\n      <td>...</td>\n      <td>0.646694</td>\n      <td>-0.048484</td>\n      <td>0.232308</td>\n      <td>-0.024770</td>\n      <td>1.000000</td>\n      <td>0.111592</td>\n      <td>NaN</td>\n      <td>-0.017402</td>\n      <td>-0.017402</td>\n      <td>0.087652</td>\n    </tr>\n    <tr>\n      <th>C3</th>\n      <td>-0.172808</td>\n      <td>-0.013064</td>\n      <td>0.096645</td>\n      <td>-0.094716</td>\n      <td>0.011478</td>\n      <td>0.401295</td>\n      <td>0.118917</td>\n      <td>0.116247</td>\n      <td>0.178843</td>\n      <td>0.083392</td>\n      <td>...</td>\n      <td>0.193589</td>\n      <td>0.321258</td>\n      <td>-0.039107</td>\n      <td>0.187300</td>\n      <td>0.111592</td>\n      <td>1.000000</td>\n      <td>NaN</td>\n      <td>-0.014932</td>\n      <td>-0.014932</td>\n      <td>0.075210</td>\n    </tr>\n    <tr>\n      <th>A4</th>\n      <td>NaN</td>\n      <td>NaN</td>\n      <td>NaN</td>\n      <td>NaN</td>\n      <td>NaN</td>\n      <td>NaN</td>\n      <td>NaN</td>\n      <td>NaN</td>\n      <td>NaN</td>\n      <td>NaN</td>\n      <td>...</td>\n      <td>NaN</td>\n      <td>NaN</td>\n      <td>NaN</td>\n      <td>NaN</td>\n      <td>NaN</td>\n      <td>NaN</td>\n      <td>NaN</td>\n      <td>NaN</td>\n      <td>NaN</td>\n      <td>NaN</td>\n    </tr>\n    <tr>\n      <th>B4</th>\n      <td>-0.151171</td>\n      <td>-0.011290</td>\n      <td>0.083517</td>\n      <td>-0.081850</td>\n      <td>0.009919</td>\n      <td>0.541927</td>\n      <td>0.062328</td>\n      <td>0.236861</td>\n      <td>0.162049</td>\n      <td>0.294095</td>\n      <td>...</td>\n      <td>-0.020046</td>\n      <td>0.173096</td>\n      <td>0.172256</td>\n      <td>0.702530</td>\n      <td>-0.017402</td>\n      <td>-0.014932</td>\n      <td>NaN</td>\n      <td>1.000000</td>\n      <td>1.000000</td>\n      <td>0.064994</td>\n    </tr>\n    <tr>\n      <th>C4</th>\n      <td>-0.151171</td>\n      <td>-0.011290</td>\n      <td>0.083517</td>\n      <td>-0.081850</td>\n      <td>0.009919</td>\n      <td>0.541927</td>\n      <td>0.062328</td>\n      <td>0.236861</td>\n      <td>0.162049</td>\n      <td>0.294095</td>\n      <td>...</td>\n      <td>-0.020046</td>\n      <td>0.173096</td>\n      <td>0.172256</td>\n      <td>0.702530</td>\n      <td>-0.017402</td>\n      <td>-0.014932</td>\n      <td>NaN</td>\n      <td>1.000000</td>\n      <td>1.000000</td>\n      <td>0.064994</td>\n    </tr>\n    <tr>\n      <th>cLogP_predicted</th>\n      <td>-0.679035</td>\n      <td>-0.086684</td>\n      <td>0.364220</td>\n      <td>-0.102905</td>\n      <td>-0.170816</td>\n      <td>0.222334</td>\n      <td>0.096098</td>\n      <td>0.118706</td>\n      <td>0.229514</td>\n      <td>-0.272896</td>\n      <td>...</td>\n      <td>0.115944</td>\n      <td>0.177560</td>\n      <td>0.158069</td>\n      <td>0.092514</td>\n      <td>0.087652</td>\n      <td>0.075210</td>\n      <td>NaN</td>\n      <td>0.064994</td>\n      <td>0.064994</td>\n      <td>1.000000</td>\n    </tr>\n  </tbody>\n</table>\n<p>25 rows × 25 columns</p>\n</div>"
     },
     "execution_count": 88,
     "metadata": {},
     "output_type": "execute_result"
    }
   ],
   "source": [
    "data.corr()"
   ],
   "metadata": {
    "collapsed": false
   }
  },
  {
   "cell_type": "code",
   "execution_count": 89,
   "outputs": [],
   "source": [
    "data = data.drop(columns=['Polymer Index','Dispersity','clogP','block_sequence_theoretical', 'block_sequence_experimental','MIC_PAO1', 'MIC_PA','MIC_EC', 'MIC_AB', 'MIC_SA', 'MIC_MSmeg','GPC','Target','NMR'])\n",
    "data = data.replace({'>128':128,'>256':256, '32-64':64, '64-128':128,'128-256':256})"
   ],
   "metadata": {
    "collapsed": false
   }
  },
  {
   "cell_type": "code",
   "execution_count": 90,
   "outputs": [
    {
     "data": {
      "text/plain": "27"
     },
     "execution_count": 90,
     "metadata": {},
     "output_type": "execute_result"
    }
   ],
   "source": [
    "number_of_good_polymers = [i for i in data['MIC_PAO1_PA'] if i<=64]\n",
    "len(number_of_good_polymers) # 27 good polymers"
   ],
   "metadata": {
    "collapsed": false
   }
  },
  {
   "cell_type": "markdown",
   "source": [
    "Convert string types to encode 1, 2 or 3"
   ],
   "metadata": {
    "collapsed": false
   }
  },
  {
   "cell_type": "markdown",
   "source": [
    "## Assign Classes"
   ],
   "metadata": {
    "collapsed": false
   }
  },
  {
   "cell_type": "code",
   "execution_count": 91,
   "outputs": [
    {
     "data": {
      "text/plain": "       type_A type_B1 type_B2 type_C  composition_A  composition_B1  \\\n0    Boc-AEAm    PEAm    None   HEAm            0.5            0.30   \n1    Boc-AEAm    PEAm    None   HEAm            0.5            0.30   \n2    Boc-AEAm    PEAm    None   HEAm            0.5            0.30   \n3    Boc-AEAm    PEAm    None   None            0.7            0.30   \n4    Boc-AEAm    PEAm    None   None            0.7            0.30   \n..        ...     ...     ...    ...            ...             ...   \n152    AAPTAC    PEAm   NIPAm   HEAm            0.3            0.00   \n153    AAPTAC    PEAm   NIPAm   HEAm            0.3            0.70   \n154    AAPTAC    PEAm   NIPAm   HEAm            0.3            0.47   \n155    AAPTAC    PEAm   NIPAm   HEAm            0.3            0.23   \n156    AAPTAC    PEAm   NIPAm   HEAm            0.3            0.00   \n\n     composition_B2  composition_C  Number of blocks  dpn  ...   B2   C2   A3  \\\n0              0.00           0.20                 1  100  ...  0.0  0.0  0.0   \n1              0.00           0.20                 1   40  ...  0.0  0.0  0.0   \n2              0.00           0.20                 1   20  ...  0.0  0.0  0.0   \n3              0.00           0.00                 1  100  ...  0.0  0.0  0.0   \n4              0.00           0.00                 1   40  ...  0.0  0.0  0.0   \n..              ...            ...               ...  ...  ...  ...  ...  ...   \n152            0.47           0.23                 1   40  ...  0.0  0.0  0.0   \n153            0.00           0.00                 1   40  ...  0.0  0.0  0.0   \n154            0.23           0.00                 1   40  ...  0.0  0.0  0.0   \n155            0.47           0.00                 1   40  ...  0.0  0.0  0.0   \n156            0.70           0.00                 1   40  ...  0.0  0.0  0.0   \n\n      B3   C3  A4   B4   C4  cLogP_predicted  Category  \n0    0.0  0.0   0  0.0  0.0          0.67630         1  \n1    0.0  0.0   0  0.0  0.0          0.67630         1  \n2    0.0  0.0   0  0.0  0.0          0.67630         1  \n3    0.0  0.0   0  0.0  0.0          1.05270         0  \n4    0.0  0.0   0  0.0  0.0          1.05270         1  \n..   ...  ...  ..  ...  ...              ...       ...  \n152  0.0  0.0   0  0.0  0.0         -1.33796         0  \n153  0.0  0.0   0  0.0  0.0         -0.16180         0  \n154  0.0  0.0   0  0.0  0.0         -0.45137         0  \n155  0.0  0.0   0  0.0  0.0         -0.75353         0  \n156  0.0  0.0   0  0.0  0.0         -1.04310         0  \n\n[157 rows x 24 columns]",
      "text/html": "<div>\n<style scoped>\n    .dataframe tbody tr th:only-of-type {\n        vertical-align: middle;\n    }\n\n    .dataframe tbody tr th {\n        vertical-align: top;\n    }\n\n    .dataframe thead th {\n        text-align: right;\n    }\n</style>\n<table border=\"1\" class=\"dataframe\">\n  <thead>\n    <tr style=\"text-align: right;\">\n      <th></th>\n      <th>type_A</th>\n      <th>type_B1</th>\n      <th>type_B2</th>\n      <th>type_C</th>\n      <th>composition_A</th>\n      <th>composition_B1</th>\n      <th>composition_B2</th>\n      <th>composition_C</th>\n      <th>Number of blocks</th>\n      <th>dpn</th>\n      <th>...</th>\n      <th>B2</th>\n      <th>C2</th>\n      <th>A3</th>\n      <th>B3</th>\n      <th>C3</th>\n      <th>A4</th>\n      <th>B4</th>\n      <th>C4</th>\n      <th>cLogP_predicted</th>\n      <th>Category</th>\n    </tr>\n  </thead>\n  <tbody>\n    <tr>\n      <th>0</th>\n      <td>Boc-AEAm</td>\n      <td>PEAm</td>\n      <td>None</td>\n      <td>HEAm</td>\n      <td>0.5</td>\n      <td>0.30</td>\n      <td>0.00</td>\n      <td>0.20</td>\n      <td>1</td>\n      <td>100</td>\n      <td>...</td>\n      <td>0.0</td>\n      <td>0.0</td>\n      <td>0.0</td>\n      <td>0.0</td>\n      <td>0.0</td>\n      <td>0</td>\n      <td>0.0</td>\n      <td>0.0</td>\n      <td>0.67630</td>\n      <td>1</td>\n    </tr>\n    <tr>\n      <th>1</th>\n      <td>Boc-AEAm</td>\n      <td>PEAm</td>\n      <td>None</td>\n      <td>HEAm</td>\n      <td>0.5</td>\n      <td>0.30</td>\n      <td>0.00</td>\n      <td>0.20</td>\n      <td>1</td>\n      <td>40</td>\n      <td>...</td>\n      <td>0.0</td>\n      <td>0.0</td>\n      <td>0.0</td>\n      <td>0.0</td>\n      <td>0.0</td>\n      <td>0</td>\n      <td>0.0</td>\n      <td>0.0</td>\n      <td>0.67630</td>\n      <td>1</td>\n    </tr>\n    <tr>\n      <th>2</th>\n      <td>Boc-AEAm</td>\n      <td>PEAm</td>\n      <td>None</td>\n      <td>HEAm</td>\n      <td>0.5</td>\n      <td>0.30</td>\n      <td>0.00</td>\n      <td>0.20</td>\n      <td>1</td>\n      <td>20</td>\n      <td>...</td>\n      <td>0.0</td>\n      <td>0.0</td>\n      <td>0.0</td>\n      <td>0.0</td>\n      <td>0.0</td>\n      <td>0</td>\n      <td>0.0</td>\n      <td>0.0</td>\n      <td>0.67630</td>\n      <td>1</td>\n    </tr>\n    <tr>\n      <th>3</th>\n      <td>Boc-AEAm</td>\n      <td>PEAm</td>\n      <td>None</td>\n      <td>None</td>\n      <td>0.7</td>\n      <td>0.30</td>\n      <td>0.00</td>\n      <td>0.00</td>\n      <td>1</td>\n      <td>100</td>\n      <td>...</td>\n      <td>0.0</td>\n      <td>0.0</td>\n      <td>0.0</td>\n      <td>0.0</td>\n      <td>0.0</td>\n      <td>0</td>\n      <td>0.0</td>\n      <td>0.0</td>\n      <td>1.05270</td>\n      <td>0</td>\n    </tr>\n    <tr>\n      <th>4</th>\n      <td>Boc-AEAm</td>\n      <td>PEAm</td>\n      <td>None</td>\n      <td>None</td>\n      <td>0.7</td>\n      <td>0.30</td>\n      <td>0.00</td>\n      <td>0.00</td>\n      <td>1</td>\n      <td>40</td>\n      <td>...</td>\n      <td>0.0</td>\n      <td>0.0</td>\n      <td>0.0</td>\n      <td>0.0</td>\n      <td>0.0</td>\n      <td>0</td>\n      <td>0.0</td>\n      <td>0.0</td>\n      <td>1.05270</td>\n      <td>1</td>\n    </tr>\n    <tr>\n      <th>...</th>\n      <td>...</td>\n      <td>...</td>\n      <td>...</td>\n      <td>...</td>\n      <td>...</td>\n      <td>...</td>\n      <td>...</td>\n      <td>...</td>\n      <td>...</td>\n      <td>...</td>\n      <td>...</td>\n      <td>...</td>\n      <td>...</td>\n      <td>...</td>\n      <td>...</td>\n      <td>...</td>\n      <td>...</td>\n      <td>...</td>\n      <td>...</td>\n      <td>...</td>\n      <td>...</td>\n    </tr>\n    <tr>\n      <th>152</th>\n      <td>AAPTAC</td>\n      <td>PEAm</td>\n      <td>NIPAm</td>\n      <td>HEAm</td>\n      <td>0.3</td>\n      <td>0.00</td>\n      <td>0.47</td>\n      <td>0.23</td>\n      <td>1</td>\n      <td>40</td>\n      <td>...</td>\n      <td>0.0</td>\n      <td>0.0</td>\n      <td>0.0</td>\n      <td>0.0</td>\n      <td>0.0</td>\n      <td>0</td>\n      <td>0.0</td>\n      <td>0.0</td>\n      <td>-1.33796</td>\n      <td>0</td>\n    </tr>\n    <tr>\n      <th>153</th>\n      <td>AAPTAC</td>\n      <td>PEAm</td>\n      <td>NIPAm</td>\n      <td>HEAm</td>\n      <td>0.3</td>\n      <td>0.70</td>\n      <td>0.00</td>\n      <td>0.00</td>\n      <td>1</td>\n      <td>40</td>\n      <td>...</td>\n      <td>0.0</td>\n      <td>0.0</td>\n      <td>0.0</td>\n      <td>0.0</td>\n      <td>0.0</td>\n      <td>0</td>\n      <td>0.0</td>\n      <td>0.0</td>\n      <td>-0.16180</td>\n      <td>0</td>\n    </tr>\n    <tr>\n      <th>154</th>\n      <td>AAPTAC</td>\n      <td>PEAm</td>\n      <td>NIPAm</td>\n      <td>HEAm</td>\n      <td>0.3</td>\n      <td>0.47</td>\n      <td>0.23</td>\n      <td>0.00</td>\n      <td>1</td>\n      <td>40</td>\n      <td>...</td>\n      <td>0.0</td>\n      <td>0.0</td>\n      <td>0.0</td>\n      <td>0.0</td>\n      <td>0.0</td>\n      <td>0</td>\n      <td>0.0</td>\n      <td>0.0</td>\n      <td>-0.45137</td>\n      <td>0</td>\n    </tr>\n    <tr>\n      <th>155</th>\n      <td>AAPTAC</td>\n      <td>PEAm</td>\n      <td>NIPAm</td>\n      <td>HEAm</td>\n      <td>0.3</td>\n      <td>0.23</td>\n      <td>0.47</td>\n      <td>0.00</td>\n      <td>1</td>\n      <td>40</td>\n      <td>...</td>\n      <td>0.0</td>\n      <td>0.0</td>\n      <td>0.0</td>\n      <td>0.0</td>\n      <td>0.0</td>\n      <td>0</td>\n      <td>0.0</td>\n      <td>0.0</td>\n      <td>-0.75353</td>\n      <td>0</td>\n    </tr>\n    <tr>\n      <th>156</th>\n      <td>AAPTAC</td>\n      <td>PEAm</td>\n      <td>NIPAm</td>\n      <td>HEAm</td>\n      <td>0.3</td>\n      <td>0.00</td>\n      <td>0.70</td>\n      <td>0.00</td>\n      <td>1</td>\n      <td>40</td>\n      <td>...</td>\n      <td>0.0</td>\n      <td>0.0</td>\n      <td>0.0</td>\n      <td>0.0</td>\n      <td>0.0</td>\n      <td>0</td>\n      <td>0.0</td>\n      <td>0.0</td>\n      <td>-1.04310</td>\n      <td>0</td>\n    </tr>\n  </tbody>\n</table>\n<p>157 rows × 24 columns</p>\n</div>"
     },
     "execution_count": 91,
     "metadata": {},
     "output_type": "execute_result"
    }
   ],
   "source": [
    "data['Category'] = data['MIC_PAO1_PA'].apply(lambda x: 1 if x <= 64 else 0)\n",
    "data = data.drop(columns = ['MIC_PAO1_PA'])\n",
    "data"
   ],
   "metadata": {
    "collapsed": false
   }
  },
  {
   "cell_type": "code",
   "execution_count": 114,
   "outputs": [
    {
     "data": {
      "text/plain": "     type_A  type_B1  type_B2  type_C  composition_A  composition_B1  \\\n0         2        0        0       0            0.5            0.30   \n1         2        0        0       0            0.5            0.30   \n2         2        0        0       0            0.5            0.30   \n3         2        0        0       1            0.7            0.30   \n4         2        0        0       1            0.7            0.30   \n..      ...      ...      ...     ...            ...             ...   \n152       2        0        1       0            0.3            0.00   \n153       2        0        1       0            0.3            0.70   \n154       2        0        1       0            0.3            0.47   \n155       2        0        1       0            0.3            0.23   \n156       2        0        1       0            0.3            0.00   \n\n     composition_B2  composition_C  Number of blocks  dpn  ...   B2   C2   A3  \\\n0              0.00           0.20                 1  100  ...  0.0  0.0  0.0   \n1              0.00           0.20                 1   40  ...  0.0  0.0  0.0   \n2              0.00           0.20                 1   20  ...  0.0  0.0  0.0   \n3              0.00           0.00                 1  100  ...  0.0  0.0  0.0   \n4              0.00           0.00                 1   40  ...  0.0  0.0  0.0   \n..              ...            ...               ...  ...  ...  ...  ...  ...   \n152            0.47           0.23                 1   40  ...  0.0  0.0  0.0   \n153            0.00           0.00                 1   40  ...  0.0  0.0  0.0   \n154            0.23           0.00                 1   40  ...  0.0  0.0  0.0   \n155            0.47           0.00                 1   40  ...  0.0  0.0  0.0   \n156            0.70           0.00                 1   40  ...  0.0  0.0  0.0   \n\n      B3   C3  A4   B4   C4  cLogP_predicted  Category  \n0    0.0  0.0   0  0.0  0.0          0.67630         1  \n1    0.0  0.0   0  0.0  0.0          0.67630         1  \n2    0.0  0.0   0  0.0  0.0          0.67630         1  \n3    0.0  0.0   0  0.0  0.0          1.05270         0  \n4    0.0  0.0   0  0.0  0.0          1.05270         1  \n..   ...  ...  ..  ...  ...              ...       ...  \n152  0.0  0.0   0  0.0  0.0         -1.33796         0  \n153  0.0  0.0   0  0.0  0.0         -0.16180         0  \n154  0.0  0.0   0  0.0  0.0         -0.45137         0  \n155  0.0  0.0   0  0.0  0.0         -0.75353         0  \n156  0.0  0.0   0  0.0  0.0         -1.04310         0  \n\n[157 rows x 24 columns]",
      "text/html": "<div>\n<style scoped>\n    .dataframe tbody tr th:only-of-type {\n        vertical-align: middle;\n    }\n\n    .dataframe tbody tr th {\n        vertical-align: top;\n    }\n\n    .dataframe thead th {\n        text-align: right;\n    }\n</style>\n<table border=\"1\" class=\"dataframe\">\n  <thead>\n    <tr style=\"text-align: right;\">\n      <th></th>\n      <th>type_A</th>\n      <th>type_B1</th>\n      <th>type_B2</th>\n      <th>type_C</th>\n      <th>composition_A</th>\n      <th>composition_B1</th>\n      <th>composition_B2</th>\n      <th>composition_C</th>\n      <th>Number of blocks</th>\n      <th>dpn</th>\n      <th>...</th>\n      <th>B2</th>\n      <th>C2</th>\n      <th>A3</th>\n      <th>B3</th>\n      <th>C3</th>\n      <th>A4</th>\n      <th>B4</th>\n      <th>C4</th>\n      <th>cLogP_predicted</th>\n      <th>Category</th>\n    </tr>\n  </thead>\n  <tbody>\n    <tr>\n      <th>0</th>\n      <td>2</td>\n      <td>0</td>\n      <td>0</td>\n      <td>0</td>\n      <td>0.5</td>\n      <td>0.30</td>\n      <td>0.00</td>\n      <td>0.20</td>\n      <td>1</td>\n      <td>100</td>\n      <td>...</td>\n      <td>0.0</td>\n      <td>0.0</td>\n      <td>0.0</td>\n      <td>0.0</td>\n      <td>0.0</td>\n      <td>0</td>\n      <td>0.0</td>\n      <td>0.0</td>\n      <td>0.67630</td>\n      <td>1</td>\n    </tr>\n    <tr>\n      <th>1</th>\n      <td>2</td>\n      <td>0</td>\n      <td>0</td>\n      <td>0</td>\n      <td>0.5</td>\n      <td>0.30</td>\n      <td>0.00</td>\n      <td>0.20</td>\n      <td>1</td>\n      <td>40</td>\n      <td>...</td>\n      <td>0.0</td>\n      <td>0.0</td>\n      <td>0.0</td>\n      <td>0.0</td>\n      <td>0.0</td>\n      <td>0</td>\n      <td>0.0</td>\n      <td>0.0</td>\n      <td>0.67630</td>\n      <td>1</td>\n    </tr>\n    <tr>\n      <th>2</th>\n      <td>2</td>\n      <td>0</td>\n      <td>0</td>\n      <td>0</td>\n      <td>0.5</td>\n      <td>0.30</td>\n      <td>0.00</td>\n      <td>0.20</td>\n      <td>1</td>\n      <td>20</td>\n      <td>...</td>\n      <td>0.0</td>\n      <td>0.0</td>\n      <td>0.0</td>\n      <td>0.0</td>\n      <td>0.0</td>\n      <td>0</td>\n      <td>0.0</td>\n      <td>0.0</td>\n      <td>0.67630</td>\n      <td>1</td>\n    </tr>\n    <tr>\n      <th>3</th>\n      <td>2</td>\n      <td>0</td>\n      <td>0</td>\n      <td>1</td>\n      <td>0.7</td>\n      <td>0.30</td>\n      <td>0.00</td>\n      <td>0.00</td>\n      <td>1</td>\n      <td>100</td>\n      <td>...</td>\n      <td>0.0</td>\n      <td>0.0</td>\n      <td>0.0</td>\n      <td>0.0</td>\n      <td>0.0</td>\n      <td>0</td>\n      <td>0.0</td>\n      <td>0.0</td>\n      <td>1.05270</td>\n      <td>0</td>\n    </tr>\n    <tr>\n      <th>4</th>\n      <td>2</td>\n      <td>0</td>\n      <td>0</td>\n      <td>1</td>\n      <td>0.7</td>\n      <td>0.30</td>\n      <td>0.00</td>\n      <td>0.00</td>\n      <td>1</td>\n      <td>40</td>\n      <td>...</td>\n      <td>0.0</td>\n      <td>0.0</td>\n      <td>0.0</td>\n      <td>0.0</td>\n      <td>0.0</td>\n      <td>0</td>\n      <td>0.0</td>\n      <td>0.0</td>\n      <td>1.05270</td>\n      <td>1</td>\n    </tr>\n    <tr>\n      <th>...</th>\n      <td>...</td>\n      <td>...</td>\n      <td>...</td>\n      <td>...</td>\n      <td>...</td>\n      <td>...</td>\n      <td>...</td>\n      <td>...</td>\n      <td>...</td>\n      <td>...</td>\n      <td>...</td>\n      <td>...</td>\n      <td>...</td>\n      <td>...</td>\n      <td>...</td>\n      <td>...</td>\n      <td>...</td>\n      <td>...</td>\n      <td>...</td>\n      <td>...</td>\n      <td>...</td>\n    </tr>\n    <tr>\n      <th>152</th>\n      <td>2</td>\n      <td>0</td>\n      <td>1</td>\n      <td>0</td>\n      <td>0.3</td>\n      <td>0.00</td>\n      <td>0.47</td>\n      <td>0.23</td>\n      <td>1</td>\n      <td>40</td>\n      <td>...</td>\n      <td>0.0</td>\n      <td>0.0</td>\n      <td>0.0</td>\n      <td>0.0</td>\n      <td>0.0</td>\n      <td>0</td>\n      <td>0.0</td>\n      <td>0.0</td>\n      <td>-1.33796</td>\n      <td>0</td>\n    </tr>\n    <tr>\n      <th>153</th>\n      <td>2</td>\n      <td>0</td>\n      <td>1</td>\n      <td>0</td>\n      <td>0.3</td>\n      <td>0.70</td>\n      <td>0.00</td>\n      <td>0.00</td>\n      <td>1</td>\n      <td>40</td>\n      <td>...</td>\n      <td>0.0</td>\n      <td>0.0</td>\n      <td>0.0</td>\n      <td>0.0</td>\n      <td>0.0</td>\n      <td>0</td>\n      <td>0.0</td>\n      <td>0.0</td>\n      <td>-0.16180</td>\n      <td>0</td>\n    </tr>\n    <tr>\n      <th>154</th>\n      <td>2</td>\n      <td>0</td>\n      <td>1</td>\n      <td>0</td>\n      <td>0.3</td>\n      <td>0.47</td>\n      <td>0.23</td>\n      <td>0.00</td>\n      <td>1</td>\n      <td>40</td>\n      <td>...</td>\n      <td>0.0</td>\n      <td>0.0</td>\n      <td>0.0</td>\n      <td>0.0</td>\n      <td>0.0</td>\n      <td>0</td>\n      <td>0.0</td>\n      <td>0.0</td>\n      <td>-0.45137</td>\n      <td>0</td>\n    </tr>\n    <tr>\n      <th>155</th>\n      <td>2</td>\n      <td>0</td>\n      <td>1</td>\n      <td>0</td>\n      <td>0.3</td>\n      <td>0.23</td>\n      <td>0.47</td>\n      <td>0.00</td>\n      <td>1</td>\n      <td>40</td>\n      <td>...</td>\n      <td>0.0</td>\n      <td>0.0</td>\n      <td>0.0</td>\n      <td>0.0</td>\n      <td>0.0</td>\n      <td>0</td>\n      <td>0.0</td>\n      <td>0.0</td>\n      <td>-0.75353</td>\n      <td>0</td>\n    </tr>\n    <tr>\n      <th>156</th>\n      <td>2</td>\n      <td>0</td>\n      <td>1</td>\n      <td>0</td>\n      <td>0.3</td>\n      <td>0.00</td>\n      <td>0.70</td>\n      <td>0.00</td>\n      <td>1</td>\n      <td>40</td>\n      <td>...</td>\n      <td>0.0</td>\n      <td>0.0</td>\n      <td>0.0</td>\n      <td>0.0</td>\n      <td>0.0</td>\n      <td>0</td>\n      <td>0.0</td>\n      <td>0.0</td>\n      <td>-1.04310</td>\n      <td>0</td>\n    </tr>\n  </tbody>\n</table>\n<p>157 rows × 24 columns</p>\n</div>"
     },
     "execution_count": 114,
     "metadata": {},
     "output_type": "execute_result"
    }
   ],
   "source": [
    "data['type_A'] = data['type_A'].apply(lambda x:0 if x == 'Boc-AEAm' else 1 if x == 'DMAEA' else 2)\n",
    "data['type_B1'] = data['type_B1'].apply(lambda x:0 if x == 'PEAm' else 1)\n",
    "data['type_B2'] = data['type_B2'].apply(lambda x:0 if x == 'None' else 1)\n",
    "data['type_C'] = data['type_C'].apply(lambda x:0 if x == 'HEAm' else 1 if x == 'None' else 2 if\n",
    "                                      x =='PEGA' else 3)\n",
    "data"
   ],
   "metadata": {
    "collapsed": false
   }
  },
  {
   "cell_type": "code",
   "execution_count": 115,
   "outputs": [],
   "source": [
    "# data_with_dummies = pd.get_dummies(data, drop_first=True)\n",
    "# data_with_dummies"
   ],
   "metadata": {
    "collapsed": false
   }
  },
  {
   "cell_type": "code",
   "execution_count": 116,
   "outputs": [],
   "source": [
    "data.to_csv('modified_data.csv', index=False)"
   ],
   "metadata": {
    "collapsed": false
   }
  },
  {
   "cell_type": "code",
   "execution_count": 117,
   "outputs": [],
   "source": [
    "Y_train = data['Category']\n",
    "X = data.drop(columns = ['Category'])"
   ],
   "metadata": {
    "collapsed": false
   }
  },
  {
   "cell_type": "markdown",
   "source": [
    "## Standardise dataset"
   ],
   "metadata": {
    "collapsed": false
   }
  },
  {
   "cell_type": "code",
   "execution_count": 10,
   "outputs": [],
   "source": [
    "# from sklearn.preprocessing import StandardScaler\n",
    "# scaler = StandardScaler()"
   ],
   "metadata": {
    "collapsed": false
   }
  },
  {
   "cell_type": "code",
   "execution_count": 11,
   "outputs": [],
   "source": [
    "# X.iloc[:, 0:18] = scaler.fit_transform(X.iloc[:, 0:18]) # Only standardise numerical values\n",
    "# X_train = pd.DataFrame(X, columns = X.columns, index = X.index.values.tolist())\n",
    "# X_train"
   ],
   "metadata": {
    "collapsed": false
   }
  },
  {
   "cell_type": "code",
   "execution_count": 129,
   "outputs": [
    {
     "data": {
      "text/plain": "     cLogP_predicted  composition_A  composition_B1  composition_B2  \\\n0            0.67630            0.5            0.30            0.00   \n1            0.67630            0.5            0.30            0.00   \n2            0.67630            0.5            0.30            0.00   \n3            1.05270            0.7            0.30            0.00   \n4            1.05270            0.7            0.30            0.00   \n..               ...            ...             ...             ...   \n152         -1.33796            0.3            0.00            0.47   \n153         -0.16180            0.3            0.70            0.00   \n154         -0.45137            0.3            0.47            0.23   \n155         -0.75353            0.3            0.23            0.47   \n156         -1.04310            0.3            0.00            0.70   \n\n     composition_C  type_B2  \n0             0.20        0  \n1             0.20        0  \n2             0.20        0  \n3             0.00        0  \n4             0.00        0  \n..             ...      ...  \n152           0.23        1  \n153           0.00        1  \n154           0.00        1  \n155           0.00        1  \n156           0.00        1  \n\n[157 rows x 6 columns]",
      "text/html": "<div>\n<style scoped>\n    .dataframe tbody tr th:only-of-type {\n        vertical-align: middle;\n    }\n\n    .dataframe tbody tr th {\n        vertical-align: top;\n    }\n\n    .dataframe thead th {\n        text-align: right;\n    }\n</style>\n<table border=\"1\" class=\"dataframe\">\n  <thead>\n    <tr style=\"text-align: right;\">\n      <th></th>\n      <th>cLogP_predicted</th>\n      <th>composition_A</th>\n      <th>composition_B1</th>\n      <th>composition_B2</th>\n      <th>composition_C</th>\n      <th>type_B2</th>\n    </tr>\n  </thead>\n  <tbody>\n    <tr>\n      <th>0</th>\n      <td>0.67630</td>\n      <td>0.5</td>\n      <td>0.30</td>\n      <td>0.00</td>\n      <td>0.20</td>\n      <td>0</td>\n    </tr>\n    <tr>\n      <th>1</th>\n      <td>0.67630</td>\n      <td>0.5</td>\n      <td>0.30</td>\n      <td>0.00</td>\n      <td>0.20</td>\n      <td>0</td>\n    </tr>\n    <tr>\n      <th>2</th>\n      <td>0.67630</td>\n      <td>0.5</td>\n      <td>0.30</td>\n      <td>0.00</td>\n      <td>0.20</td>\n      <td>0</td>\n    </tr>\n    <tr>\n      <th>3</th>\n      <td>1.05270</td>\n      <td>0.7</td>\n      <td>0.30</td>\n      <td>0.00</td>\n      <td>0.00</td>\n      <td>0</td>\n    </tr>\n    <tr>\n      <th>4</th>\n      <td>1.05270</td>\n      <td>0.7</td>\n      <td>0.30</td>\n      <td>0.00</td>\n      <td>0.00</td>\n      <td>0</td>\n    </tr>\n    <tr>\n      <th>...</th>\n      <td>...</td>\n      <td>...</td>\n      <td>...</td>\n      <td>...</td>\n      <td>...</td>\n      <td>...</td>\n    </tr>\n    <tr>\n      <th>152</th>\n      <td>-1.33796</td>\n      <td>0.3</td>\n      <td>0.00</td>\n      <td>0.47</td>\n      <td>0.23</td>\n      <td>1</td>\n    </tr>\n    <tr>\n      <th>153</th>\n      <td>-0.16180</td>\n      <td>0.3</td>\n      <td>0.70</td>\n      <td>0.00</td>\n      <td>0.00</td>\n      <td>1</td>\n    </tr>\n    <tr>\n      <th>154</th>\n      <td>-0.45137</td>\n      <td>0.3</td>\n      <td>0.47</td>\n      <td>0.23</td>\n      <td>0.00</td>\n      <td>1</td>\n    </tr>\n    <tr>\n      <th>155</th>\n      <td>-0.75353</td>\n      <td>0.3</td>\n      <td>0.23</td>\n      <td>0.47</td>\n      <td>0.00</td>\n      <td>1</td>\n    </tr>\n    <tr>\n      <th>156</th>\n      <td>-1.04310</td>\n      <td>0.3</td>\n      <td>0.00</td>\n      <td>0.70</td>\n      <td>0.00</td>\n      <td>1</td>\n    </tr>\n  </tbody>\n</table>\n<p>157 rows × 6 columns</p>\n</div>"
     },
     "execution_count": 129,
     "metadata": {},
     "output_type": "execute_result"
    }
   ],
   "source": [
    "X_train = data[[\"cLogP_predicted\",\"composition_A\", \"composition_B1\",  \"composition_B2\", \"composition_C\", \"type_B2\"]]\n",
    "# Change X_train_RF here if input space is enlarged in later stages\n",
    "# Only one type A needed.\n",
    "X_train"
   ],
   "metadata": {
    "collapsed": false
   }
  },
  {
   "cell_type": "markdown",
   "source": [
    "## Random Forest Classifier\n",
    "1. Trained on 5 numerical datasets only"
   ],
   "metadata": {
    "collapsed": false
   }
  },
  {
   "cell_type": "code",
   "execution_count": 119,
   "outputs": [],
   "source": [
    "from sklearn.ensemble import RandomForestClassifier\n",
    "from sklearn.model_selection import RepeatedStratifiedKFold\n",
    "rf=RandomForestClassifier()"
   ],
   "metadata": {
    "collapsed": false
   }
  },
  {
   "cell_type": "code",
   "execution_count": 14,
   "outputs": [],
   "source": [
    "params = {'n_estimators': [10,100,200,400,500,1000], 'max_depth': [10,20,30,40,50,60,70,80,90,100,None], 'max_features': ['auto', 'sqrt','log2'], 'min_samples_leaf': [1,2,4], 'min_samples_split': [2,5,10], 'bootstrap': [True,False],'class_weight': ['balanced']}"
   ],
   "metadata": {
    "collapsed": false
   }
  },
  {
   "cell_type": "code",
   "execution_count": 15,
   "outputs": [],
   "source": [
    "cv = RepeatedStratifiedKFold(n_splits=4, n_repeats=5, random_state=0)\n",
    "rf_op = RandomizedSearchCV(rf, params, n_iter=20, cv=cv, scoring='f1', random_state=0, verbose=1, n_jobs=-1)"
   ],
   "metadata": {
    "collapsed": false
   }
  },
  {
   "cell_type": "markdown",
   "source": [
    "Take compositional parameters\n",
    "Top 3 numerical features: cLogP, composition_B1,composition_A\n",
    "Most important categorical feature: type_B2_none\n",
    "\n",
    "Parameters taken: cLogP, composition_A, composition_B1, composition_B2, composition_C"
   ],
   "metadata": {
    "collapsed": false
   }
  },
  {
   "cell_type": "code",
   "execution_count": 17,
   "outputs": [
    {
     "name": "stdout",
     "output_type": "stream",
     "text": [
      "Fitting 20 folds for each of 20 candidates, totalling 400 fits\n"
     ]
    },
    {
     "name": "stderr",
     "output_type": "stream",
     "text": [
      "/Users/yimengjin/Desktop/Thesis/Thesis_Yimeng/venv/lib/python3.9/site-packages/sklearn/ensemble/_forest.py:425: FutureWarning: `max_features='auto'` has been deprecated in 1.1 and will be removed in 1.3. To keep the past behaviour, explicitly set `max_features='sqrt'` or remove this parameter as it is also the default value for RandomForestClassifiers and ExtraTreesClassifiers.\n",
      "  warn(\n",
      "/Users/yimengjin/Desktop/Thesis/Thesis_Yimeng/venv/lib/python3.9/site-packages/sklearn/ensemble/_forest.py:425: FutureWarning: `max_features='auto'` has been deprecated in 1.1 and will be removed in 1.3. To keep the past behaviour, explicitly set `max_features='sqrt'` or remove this parameter as it is also the default value for RandomForestClassifiers and ExtraTreesClassifiers.\n",
      "  warn(\n",
      "/Users/yimengjin/Desktop/Thesis/Thesis_Yimeng/venv/lib/python3.9/site-packages/sklearn/ensemble/_forest.py:425: FutureWarning: `max_features='auto'` has been deprecated in 1.1 and will be removed in 1.3. To keep the past behaviour, explicitly set `max_features='sqrt'` or remove this parameter as it is also the default value for RandomForestClassifiers and ExtraTreesClassifiers.\n",
      "  warn(\n",
      "/Users/yimengjin/Desktop/Thesis/Thesis_Yimeng/venv/lib/python3.9/site-packages/sklearn/ensemble/_forest.py:425: FutureWarning: `max_features='auto'` has been deprecated in 1.1 and will be removed in 1.3. To keep the past behaviour, explicitly set `max_features='sqrt'` or remove this parameter as it is also the default value for RandomForestClassifiers and ExtraTreesClassifiers.\n",
      "  warn(\n",
      "/Users/yimengjin/Desktop/Thesis/Thesis_Yimeng/venv/lib/python3.9/site-packages/sklearn/ensemble/_forest.py:425: FutureWarning: `max_features='auto'` has been deprecated in 1.1 and will be removed in 1.3. To keep the past behaviour, explicitly set `max_features='sqrt'` or remove this parameter as it is also the default value for RandomForestClassifiers and ExtraTreesClassifiers.\n",
      "  warn(\n",
      "/Users/yimengjin/Desktop/Thesis/Thesis_Yimeng/venv/lib/python3.9/site-packages/sklearn/ensemble/_forest.py:425: FutureWarning: `max_features='auto'` has been deprecated in 1.1 and will be removed in 1.3. To keep the past behaviour, explicitly set `max_features='sqrt'` or remove this parameter as it is also the default value for RandomForestClassifiers and ExtraTreesClassifiers.\n",
      "  warn(\n",
      "/Users/yimengjin/Desktop/Thesis/Thesis_Yimeng/venv/lib/python3.9/site-packages/sklearn/ensemble/_forest.py:425: FutureWarning: `max_features='auto'` has been deprecated in 1.1 and will be removed in 1.3. To keep the past behaviour, explicitly set `max_features='sqrt'` or remove this parameter as it is also the default value for RandomForestClassifiers and ExtraTreesClassifiers.\n",
      "  warn(\n",
      "/Users/yimengjin/Desktop/Thesis/Thesis_Yimeng/venv/lib/python3.9/site-packages/sklearn/ensemble/_forest.py:425: FutureWarning: `max_features='auto'` has been deprecated in 1.1 and will be removed in 1.3. To keep the past behaviour, explicitly set `max_features='sqrt'` or remove this parameter as it is also the default value for RandomForestClassifiers and ExtraTreesClassifiers.\n",
      "  warn(\n",
      "/Users/yimengjin/Desktop/Thesis/Thesis_Yimeng/venv/lib/python3.9/site-packages/sklearn/ensemble/_forest.py:425: FutureWarning: `max_features='auto'` has been deprecated in 1.1 and will be removed in 1.3. To keep the past behaviour, explicitly set `max_features='sqrt'` or remove this parameter as it is also the default value for RandomForestClassifiers and ExtraTreesClassifiers.\n",
      "  warn(\n",
      "/Users/yimengjin/Desktop/Thesis/Thesis_Yimeng/venv/lib/python3.9/site-packages/sklearn/ensemble/_forest.py:425: FutureWarning: `max_features='auto'` has been deprecated in 1.1 and will be removed in 1.3. To keep the past behaviour, explicitly set `max_features='sqrt'` or remove this parameter as it is also the default value for RandomForestClassifiers and ExtraTreesClassifiers.\n",
      "  warn(\n",
      "/Users/yimengjin/Desktop/Thesis/Thesis_Yimeng/venv/lib/python3.9/site-packages/sklearn/ensemble/_forest.py:425: FutureWarning: `max_features='auto'` has been deprecated in 1.1 and will be removed in 1.3. To keep the past behaviour, explicitly set `max_features='sqrt'` or remove this parameter as it is also the default value for RandomForestClassifiers and ExtraTreesClassifiers.\n",
      "  warn(\n",
      "/Users/yimengjin/Desktop/Thesis/Thesis_Yimeng/venv/lib/python3.9/site-packages/sklearn/ensemble/_forest.py:425: FutureWarning: `max_features='auto'` has been deprecated in 1.1 and will be removed in 1.3. To keep the past behaviour, explicitly set `max_features='sqrt'` or remove this parameter as it is also the default value for RandomForestClassifiers and ExtraTreesClassifiers.\n",
      "  warn(\n",
      "/Users/yimengjin/Desktop/Thesis/Thesis_Yimeng/venv/lib/python3.9/site-packages/sklearn/ensemble/_forest.py:425: FutureWarning: `max_features='auto'` has been deprecated in 1.1 and will be removed in 1.3. To keep the past behaviour, explicitly set `max_features='sqrt'` or remove this parameter as it is also the default value for RandomForestClassifiers and ExtraTreesClassifiers.\n",
      "  warn(\n",
      "/Users/yimengjin/Desktop/Thesis/Thesis_Yimeng/venv/lib/python3.9/site-packages/sklearn/ensemble/_forest.py:425: FutureWarning: `max_features='auto'` has been deprecated in 1.1 and will be removed in 1.3. To keep the past behaviour, explicitly set `max_features='sqrt'` or remove this parameter as it is also the default value for RandomForestClassifiers and ExtraTreesClassifiers.\n",
      "  warn(\n",
      "/Users/yimengjin/Desktop/Thesis/Thesis_Yimeng/venv/lib/python3.9/site-packages/sklearn/ensemble/_forest.py:425: FutureWarning: `max_features='auto'` has been deprecated in 1.1 and will be removed in 1.3. To keep the past behaviour, explicitly set `max_features='sqrt'` or remove this parameter as it is also the default value for RandomForestClassifiers and ExtraTreesClassifiers.\n",
      "  warn(\n",
      "/Users/yimengjin/Desktop/Thesis/Thesis_Yimeng/venv/lib/python3.9/site-packages/sklearn/ensemble/_forest.py:425: FutureWarning: `max_features='auto'` has been deprecated in 1.1 and will be removed in 1.3. To keep the past behaviour, explicitly set `max_features='sqrt'` or remove this parameter as it is also the default value for RandomForestClassifiers and ExtraTreesClassifiers.\n",
      "  warn(\n",
      "/Users/yimengjin/Desktop/Thesis/Thesis_Yimeng/venv/lib/python3.9/site-packages/sklearn/ensemble/_forest.py:425: FutureWarning: `max_features='auto'` has been deprecated in 1.1 and will be removed in 1.3. To keep the past behaviour, explicitly set `max_features='sqrt'` or remove this parameter as it is also the default value for RandomForestClassifiers and ExtraTreesClassifiers.\n",
      "  warn(\n",
      "/Users/yimengjin/Desktop/Thesis/Thesis_Yimeng/venv/lib/python3.9/site-packages/sklearn/ensemble/_forest.py:425: FutureWarning: `max_features='auto'` has been deprecated in 1.1 and will be removed in 1.3. To keep the past behaviour, explicitly set `max_features='sqrt'` or remove this parameter as it is also the default value for RandomForestClassifiers and ExtraTreesClassifiers.\n",
      "  warn(\n",
      "/Users/yimengjin/Desktop/Thesis/Thesis_Yimeng/venv/lib/python3.9/site-packages/sklearn/ensemble/_forest.py:425: FutureWarning: `max_features='auto'` has been deprecated in 1.1 and will be removed in 1.3. To keep the past behaviour, explicitly set `max_features='sqrt'` or remove this parameter as it is also the default value for RandomForestClassifiers and ExtraTreesClassifiers.\n",
      "  warn(\n",
      "/Users/yimengjin/Desktop/Thesis/Thesis_Yimeng/venv/lib/python3.9/site-packages/sklearn/ensemble/_forest.py:425: FutureWarning: `max_features='auto'` has been deprecated in 1.1 and will be removed in 1.3. To keep the past behaviour, explicitly set `max_features='sqrt'` or remove this parameter as it is also the default value for RandomForestClassifiers and ExtraTreesClassifiers.\n",
      "  warn(\n",
      "/Users/yimengjin/Desktop/Thesis/Thesis_Yimeng/venv/lib/python3.9/site-packages/sklearn/ensemble/_forest.py:425: FutureWarning: `max_features='auto'` has been deprecated in 1.1 and will be removed in 1.3. To keep the past behaviour, explicitly set `max_features='sqrt'` or remove this parameter as it is also the default value for RandomForestClassifiers and ExtraTreesClassifiers.\n",
      "  warn(\n",
      "/Users/yimengjin/Desktop/Thesis/Thesis_Yimeng/venv/lib/python3.9/site-packages/sklearn/ensemble/_forest.py:425: FutureWarning: `max_features='auto'` has been deprecated in 1.1 and will be removed in 1.3. To keep the past behaviour, explicitly set `max_features='sqrt'` or remove this parameter as it is also the default value for RandomForestClassifiers and ExtraTreesClassifiers.\n",
      "  warn(\n",
      "/Users/yimengjin/Desktop/Thesis/Thesis_Yimeng/venv/lib/python3.9/site-packages/sklearn/ensemble/_forest.py:425: FutureWarning: `max_features='auto'` has been deprecated in 1.1 and will be removed in 1.3. To keep the past behaviour, explicitly set `max_features='sqrt'` or remove this parameter as it is also the default value for RandomForestClassifiers and ExtraTreesClassifiers.\n",
      "  warn(\n",
      "/Users/yimengjin/Desktop/Thesis/Thesis_Yimeng/venv/lib/python3.9/site-packages/sklearn/ensemble/_forest.py:425: FutureWarning: `max_features='auto'` has been deprecated in 1.1 and will be removed in 1.3. To keep the past behaviour, explicitly set `max_features='sqrt'` or remove this parameter as it is also the default value for RandomForestClassifiers and ExtraTreesClassifiers.\n",
      "  warn(\n",
      "/Users/yimengjin/Desktop/Thesis/Thesis_Yimeng/venv/lib/python3.9/site-packages/sklearn/ensemble/_forest.py:425: FutureWarning: `max_features='auto'` has been deprecated in 1.1 and will be removed in 1.3. To keep the past behaviour, explicitly set `max_features='sqrt'` or remove this parameter as it is also the default value for RandomForestClassifiers and ExtraTreesClassifiers.\n",
      "  warn(\n",
      "/Users/yimengjin/Desktop/Thesis/Thesis_Yimeng/venv/lib/python3.9/site-packages/sklearn/ensemble/_forest.py:425: FutureWarning: `max_features='auto'` has been deprecated in 1.1 and will be removed in 1.3. To keep the past behaviour, explicitly set `max_features='sqrt'` or remove this parameter as it is also the default value for RandomForestClassifiers and ExtraTreesClassifiers.\n",
      "  warn(\n",
      "/Users/yimengjin/Desktop/Thesis/Thesis_Yimeng/venv/lib/python3.9/site-packages/sklearn/ensemble/_forest.py:425: FutureWarning: `max_features='auto'` has been deprecated in 1.1 and will be removed in 1.3. To keep the past behaviour, explicitly set `max_features='sqrt'` or remove this parameter as it is also the default value for RandomForestClassifiers and ExtraTreesClassifiers.\n",
      "  warn(\n",
      "/Users/yimengjin/Desktop/Thesis/Thesis_Yimeng/venv/lib/python3.9/site-packages/sklearn/ensemble/_forest.py:425: FutureWarning: `max_features='auto'` has been deprecated in 1.1 and will be removed in 1.3. To keep the past behaviour, explicitly set `max_features='sqrt'` or remove this parameter as it is also the default value for RandomForestClassifiers and ExtraTreesClassifiers.\n",
      "  warn(\n",
      "/Users/yimengjin/Desktop/Thesis/Thesis_Yimeng/venv/lib/python3.9/site-packages/sklearn/ensemble/_forest.py:425: FutureWarning: `max_features='auto'` has been deprecated in 1.1 and will be removed in 1.3. To keep the past behaviour, explicitly set `max_features='sqrt'` or remove this parameter as it is also the default value for RandomForestClassifiers and ExtraTreesClassifiers.\n",
      "  warn(\n",
      "/Users/yimengjin/Desktop/Thesis/Thesis_Yimeng/venv/lib/python3.9/site-packages/sklearn/ensemble/_forest.py:425: FutureWarning: `max_features='auto'` has been deprecated in 1.1 and will be removed in 1.3. To keep the past behaviour, explicitly set `max_features='sqrt'` or remove this parameter as it is also the default value for RandomForestClassifiers and ExtraTreesClassifiers.\n",
      "  warn(\n",
      "/Users/yimengjin/Desktop/Thesis/Thesis_Yimeng/venv/lib/python3.9/site-packages/sklearn/ensemble/_forest.py:425: FutureWarning: `max_features='auto'` has been deprecated in 1.1 and will be removed in 1.3. To keep the past behaviour, explicitly set `max_features='sqrt'` or remove this parameter as it is also the default value for RandomForestClassifiers and ExtraTreesClassifiers.\n",
      "  warn(\n",
      "/Users/yimengjin/Desktop/Thesis/Thesis_Yimeng/venv/lib/python3.9/site-packages/sklearn/ensemble/_forest.py:425: FutureWarning: `max_features='auto'` has been deprecated in 1.1 and will be removed in 1.3. To keep the past behaviour, explicitly set `max_features='sqrt'` or remove this parameter as it is also the default value for RandomForestClassifiers and ExtraTreesClassifiers.\n",
      "  warn(\n",
      "/Users/yimengjin/Desktop/Thesis/Thesis_Yimeng/venv/lib/python3.9/site-packages/sklearn/ensemble/_forest.py:425: FutureWarning: `max_features='auto'` has been deprecated in 1.1 and will be removed in 1.3. To keep the past behaviour, explicitly set `max_features='sqrt'` or remove this parameter as it is also the default value for RandomForestClassifiers and ExtraTreesClassifiers.\n",
      "  warn(\n",
      "/Users/yimengjin/Desktop/Thesis/Thesis_Yimeng/venv/lib/python3.9/site-packages/sklearn/ensemble/_forest.py:425: FutureWarning: `max_features='auto'` has been deprecated in 1.1 and will be removed in 1.3. To keep the past behaviour, explicitly set `max_features='sqrt'` or remove this parameter as it is also the default value for RandomForestClassifiers and ExtraTreesClassifiers.\n",
      "  warn(\n",
      "/Users/yimengjin/Desktop/Thesis/Thesis_Yimeng/venv/lib/python3.9/site-packages/sklearn/ensemble/_forest.py:425: FutureWarning: `max_features='auto'` has been deprecated in 1.1 and will be removed in 1.3. To keep the past behaviour, explicitly set `max_features='sqrt'` or remove this parameter as it is also the default value for RandomForestClassifiers and ExtraTreesClassifiers.\n",
      "  warn(\n",
      "/Users/yimengjin/Desktop/Thesis/Thesis_Yimeng/venv/lib/python3.9/site-packages/sklearn/ensemble/_forest.py:425: FutureWarning: `max_features='auto'` has been deprecated in 1.1 and will be removed in 1.3. To keep the past behaviour, explicitly set `max_features='sqrt'` or remove this parameter as it is also the default value for RandomForestClassifiers and ExtraTreesClassifiers.\n",
      "  warn(\n",
      "/Users/yimengjin/Desktop/Thesis/Thesis_Yimeng/venv/lib/python3.9/site-packages/sklearn/ensemble/_forest.py:425: FutureWarning: `max_features='auto'` has been deprecated in 1.1 and will be removed in 1.3. To keep the past behaviour, explicitly set `max_features='sqrt'` or remove this parameter as it is also the default value for RandomForestClassifiers and ExtraTreesClassifiers.\n",
      "  warn(\n",
      "/Users/yimengjin/Desktop/Thesis/Thesis_Yimeng/venv/lib/python3.9/site-packages/sklearn/ensemble/_forest.py:425: FutureWarning: `max_features='auto'` has been deprecated in 1.1 and will be removed in 1.3. To keep the past behaviour, explicitly set `max_features='sqrt'` or remove this parameter as it is also the default value for RandomForestClassifiers and ExtraTreesClassifiers.\n",
      "  warn(\n",
      "/Users/yimengjin/Desktop/Thesis/Thesis_Yimeng/venv/lib/python3.9/site-packages/sklearn/ensemble/_forest.py:425: FutureWarning: `max_features='auto'` has been deprecated in 1.1 and will be removed in 1.3. To keep the past behaviour, explicitly set `max_features='sqrt'` or remove this parameter as it is also the default value for RandomForestClassifiers and ExtraTreesClassifiers.\n",
      "  warn(\n",
      "/Users/yimengjin/Desktop/Thesis/Thesis_Yimeng/venv/lib/python3.9/site-packages/sklearn/ensemble/_forest.py:425: FutureWarning: `max_features='auto'` has been deprecated in 1.1 and will be removed in 1.3. To keep the past behaviour, explicitly set `max_features='sqrt'` or remove this parameter as it is also the default value for RandomForestClassifiers and ExtraTreesClassifiers.\n",
      "  warn(\n",
      "/Users/yimengjin/Desktop/Thesis/Thesis_Yimeng/venv/lib/python3.9/site-packages/sklearn/ensemble/_forest.py:425: FutureWarning: `max_features='auto'` has been deprecated in 1.1 and will be removed in 1.3. To keep the past behaviour, explicitly set `max_features='sqrt'` or remove this parameter as it is also the default value for RandomForestClassifiers and ExtraTreesClassifiers.\n",
      "  warn(\n",
      "/Users/yimengjin/Desktop/Thesis/Thesis_Yimeng/venv/lib/python3.9/site-packages/sklearn/ensemble/_forest.py:425: FutureWarning: `max_features='auto'` has been deprecated in 1.1 and will be removed in 1.3. To keep the past behaviour, explicitly set `max_features='sqrt'` or remove this parameter as it is also the default value for RandomForestClassifiers and ExtraTreesClassifiers.\n",
      "  warn(\n",
      "/Users/yimengjin/Desktop/Thesis/Thesis_Yimeng/venv/lib/python3.9/site-packages/sklearn/ensemble/_forest.py:425: FutureWarning: `max_features='auto'` has been deprecated in 1.1 and will be removed in 1.3. To keep the past behaviour, explicitly set `max_features='sqrt'` or remove this parameter as it is also the default value for RandomForestClassifiers and ExtraTreesClassifiers.\n",
      "  warn(\n",
      "/Users/yimengjin/Desktop/Thesis/Thesis_Yimeng/venv/lib/python3.9/site-packages/sklearn/ensemble/_forest.py:425: FutureWarning: `max_features='auto'` has been deprecated in 1.1 and will be removed in 1.3. To keep the past behaviour, explicitly set `max_features='sqrt'` or remove this parameter as it is also the default value for RandomForestClassifiers and ExtraTreesClassifiers.\n",
      "  warn(\n",
      "/Users/yimengjin/Desktop/Thesis/Thesis_Yimeng/venv/lib/python3.9/site-packages/sklearn/ensemble/_forest.py:425: FutureWarning: `max_features='auto'` has been deprecated in 1.1 and will be removed in 1.3. To keep the past behaviour, explicitly set `max_features='sqrt'` or remove this parameter as it is also the default value for RandomForestClassifiers and ExtraTreesClassifiers.\n",
      "  warn(\n",
      "/Users/yimengjin/Desktop/Thesis/Thesis_Yimeng/venv/lib/python3.9/site-packages/sklearn/ensemble/_forest.py:425: FutureWarning: `max_features='auto'` has been deprecated in 1.1 and will be removed in 1.3. To keep the past behaviour, explicitly set `max_features='sqrt'` or remove this parameter as it is also the default value for RandomForestClassifiers and ExtraTreesClassifiers.\n",
      "  warn(\n",
      "/Users/yimengjin/Desktop/Thesis/Thesis_Yimeng/venv/lib/python3.9/site-packages/sklearn/ensemble/_forest.py:425: FutureWarning: `max_features='auto'` has been deprecated in 1.1 and will be removed in 1.3. To keep the past behaviour, explicitly set `max_features='sqrt'` or remove this parameter as it is also the default value for RandomForestClassifiers and ExtraTreesClassifiers.\n",
      "  warn(\n",
      "/Users/yimengjin/Desktop/Thesis/Thesis_Yimeng/venv/lib/python3.9/site-packages/sklearn/ensemble/_forest.py:425: FutureWarning: `max_features='auto'` has been deprecated in 1.1 and will be removed in 1.3. To keep the past behaviour, explicitly set `max_features='sqrt'` or remove this parameter as it is also the default value for RandomForestClassifiers and ExtraTreesClassifiers.\n",
      "  warn(\n",
      "/Users/yimengjin/Desktop/Thesis/Thesis_Yimeng/venv/lib/python3.9/site-packages/sklearn/ensemble/_forest.py:425: FutureWarning: `max_features='auto'` has been deprecated in 1.1 and will be removed in 1.3. To keep the past behaviour, explicitly set `max_features='sqrt'` or remove this parameter as it is also the default value for RandomForestClassifiers and ExtraTreesClassifiers.\n",
      "  warn(\n",
      "/Users/yimengjin/Desktop/Thesis/Thesis_Yimeng/venv/lib/python3.9/site-packages/sklearn/ensemble/_forest.py:425: FutureWarning: `max_features='auto'` has been deprecated in 1.1 and will be removed in 1.3. To keep the past behaviour, explicitly set `max_features='sqrt'` or remove this parameter as it is also the default value for RandomForestClassifiers and ExtraTreesClassifiers.\n",
      "  warn(\n",
      "/Users/yimengjin/Desktop/Thesis/Thesis_Yimeng/venv/lib/python3.9/site-packages/sklearn/ensemble/_forest.py:425: FutureWarning: `max_features='auto'` has been deprecated in 1.1 and will be removed in 1.3. To keep the past behaviour, explicitly set `max_features='sqrt'` or remove this parameter as it is also the default value for RandomForestClassifiers and ExtraTreesClassifiers.\n",
      "  warn(\n",
      "/Users/yimengjin/Desktop/Thesis/Thesis_Yimeng/venv/lib/python3.9/site-packages/sklearn/ensemble/_forest.py:425: FutureWarning: `max_features='auto'` has been deprecated in 1.1 and will be removed in 1.3. To keep the past behaviour, explicitly set `max_features='sqrt'` or remove this parameter as it is also the default value for RandomForestClassifiers and ExtraTreesClassifiers.\n",
      "  warn(\n",
      "/Users/yimengjin/Desktop/Thesis/Thesis_Yimeng/venv/lib/python3.9/site-packages/sklearn/ensemble/_forest.py:425: FutureWarning: `max_features='auto'` has been deprecated in 1.1 and will be removed in 1.3. To keep the past behaviour, explicitly set `max_features='sqrt'` or remove this parameter as it is also the default value for RandomForestClassifiers and ExtraTreesClassifiers.\n",
      "  warn(\n",
      "/Users/yimengjin/Desktop/Thesis/Thesis_Yimeng/venv/lib/python3.9/site-packages/sklearn/ensemble/_forest.py:425: FutureWarning: `max_features='auto'` has been deprecated in 1.1 and will be removed in 1.3. To keep the past behaviour, explicitly set `max_features='sqrt'` or remove this parameter as it is also the default value for RandomForestClassifiers and ExtraTreesClassifiers.\n",
      "  warn(\n",
      "/Users/yimengjin/Desktop/Thesis/Thesis_Yimeng/venv/lib/python3.9/site-packages/sklearn/ensemble/_forest.py:425: FutureWarning: `max_features='auto'` has been deprecated in 1.1 and will be removed in 1.3. To keep the past behaviour, explicitly set `max_features='sqrt'` or remove this parameter as it is also the default value for RandomForestClassifiers and ExtraTreesClassifiers.\n",
      "  warn(\n",
      "/Users/yimengjin/Desktop/Thesis/Thesis_Yimeng/venv/lib/python3.9/site-packages/sklearn/ensemble/_forest.py:425: FutureWarning: `max_features='auto'` has been deprecated in 1.1 and will be removed in 1.3. To keep the past behaviour, explicitly set `max_features='sqrt'` or remove this parameter as it is also the default value for RandomForestClassifiers and ExtraTreesClassifiers.\n",
      "  warn(\n",
      "/Users/yimengjin/Desktop/Thesis/Thesis_Yimeng/venv/lib/python3.9/site-packages/sklearn/ensemble/_forest.py:425: FutureWarning: `max_features='auto'` has been deprecated in 1.1 and will be removed in 1.3. To keep the past behaviour, explicitly set `max_features='sqrt'` or remove this parameter as it is also the default value for RandomForestClassifiers and ExtraTreesClassifiers.\n",
      "  warn(\n",
      "/Users/yimengjin/Desktop/Thesis/Thesis_Yimeng/venv/lib/python3.9/site-packages/sklearn/ensemble/_forest.py:425: FutureWarning: `max_features='auto'` has been deprecated in 1.1 and will be removed in 1.3. To keep the past behaviour, explicitly set `max_features='sqrt'` or remove this parameter as it is also the default value for RandomForestClassifiers and ExtraTreesClassifiers.\n",
      "  warn(\n",
      "/Users/yimengjin/Desktop/Thesis/Thesis_Yimeng/venv/lib/python3.9/site-packages/sklearn/ensemble/_forest.py:425: FutureWarning: `max_features='auto'` has been deprecated in 1.1 and will be removed in 1.3. To keep the past behaviour, explicitly set `max_features='sqrt'` or remove this parameter as it is also the default value for RandomForestClassifiers and ExtraTreesClassifiers.\n",
      "  warn(\n",
      "/Users/yimengjin/Desktop/Thesis/Thesis_Yimeng/venv/lib/python3.9/site-packages/sklearn/ensemble/_forest.py:425: FutureWarning: `max_features='auto'` has been deprecated in 1.1 and will be removed in 1.3. To keep the past behaviour, explicitly set `max_features='sqrt'` or remove this parameter as it is also the default value for RandomForestClassifiers and ExtraTreesClassifiers.\n",
      "  warn(\n",
      "/Users/yimengjin/Desktop/Thesis/Thesis_Yimeng/venv/lib/python3.9/site-packages/sklearn/ensemble/_forest.py:425: FutureWarning: `max_features='auto'` has been deprecated in 1.1 and will be removed in 1.3. To keep the past behaviour, explicitly set `max_features='sqrt'` or remove this parameter as it is also the default value for RandomForestClassifiers and ExtraTreesClassifiers.\n",
      "  warn(\n",
      "/Users/yimengjin/Desktop/Thesis/Thesis_Yimeng/venv/lib/python3.9/site-packages/sklearn/ensemble/_forest.py:425: FutureWarning: `max_features='auto'` has been deprecated in 1.1 and will be removed in 1.3. To keep the past behaviour, explicitly set `max_features='sqrt'` or remove this parameter as it is also the default value for RandomForestClassifiers and ExtraTreesClassifiers.\n",
      "  warn(\n",
      "/Users/yimengjin/Desktop/Thesis/Thesis_Yimeng/venv/lib/python3.9/site-packages/sklearn/ensemble/_forest.py:425: FutureWarning: `max_features='auto'` has been deprecated in 1.1 and will be removed in 1.3. To keep the past behaviour, explicitly set `max_features='sqrt'` or remove this parameter as it is also the default value for RandomForestClassifiers and ExtraTreesClassifiers.\n",
      "  warn(\n",
      "/Users/yimengjin/Desktop/Thesis/Thesis_Yimeng/venv/lib/python3.9/site-packages/sklearn/ensemble/_forest.py:425: FutureWarning: `max_features='auto'` has been deprecated in 1.1 and will be removed in 1.3. To keep the past behaviour, explicitly set `max_features='sqrt'` or remove this parameter as it is also the default value for RandomForestClassifiers and ExtraTreesClassifiers.\n",
      "  warn(\n",
      "/Users/yimengjin/Desktop/Thesis/Thesis_Yimeng/venv/lib/python3.9/site-packages/sklearn/ensemble/_forest.py:425: FutureWarning: `max_features='auto'` has been deprecated in 1.1 and will be removed in 1.3. To keep the past behaviour, explicitly set `max_features='sqrt'` or remove this parameter as it is also the default value for RandomForestClassifiers and ExtraTreesClassifiers.\n",
      "  warn(\n",
      "/Users/yimengjin/Desktop/Thesis/Thesis_Yimeng/venv/lib/python3.9/site-packages/sklearn/ensemble/_forest.py:425: FutureWarning: `max_features='auto'` has been deprecated in 1.1 and will be removed in 1.3. To keep the past behaviour, explicitly set `max_features='sqrt'` or remove this parameter as it is also the default value for RandomForestClassifiers and ExtraTreesClassifiers.\n",
      "  warn(\n",
      "/Users/yimengjin/Desktop/Thesis/Thesis_Yimeng/venv/lib/python3.9/site-packages/sklearn/ensemble/_forest.py:425: FutureWarning: `max_features='auto'` has been deprecated in 1.1 and will be removed in 1.3. To keep the past behaviour, explicitly set `max_features='sqrt'` or remove this parameter as it is also the default value for RandomForestClassifiers and ExtraTreesClassifiers.\n",
      "  warn(\n",
      "/Users/yimengjin/Desktop/Thesis/Thesis_Yimeng/venv/lib/python3.9/site-packages/sklearn/ensemble/_forest.py:425: FutureWarning: `max_features='auto'` has been deprecated in 1.1 and will be removed in 1.3. To keep the past behaviour, explicitly set `max_features='sqrt'` or remove this parameter as it is also the default value for RandomForestClassifiers and ExtraTreesClassifiers.\n",
      "  warn(\n",
      "/Users/yimengjin/Desktop/Thesis/Thesis_Yimeng/venv/lib/python3.9/site-packages/sklearn/ensemble/_forest.py:425: FutureWarning: `max_features='auto'` has been deprecated in 1.1 and will be removed in 1.3. To keep the past behaviour, explicitly set `max_features='sqrt'` or remove this parameter as it is also the default value for RandomForestClassifiers and ExtraTreesClassifiers.\n",
      "  warn(\n",
      "/Users/yimengjin/Desktop/Thesis/Thesis_Yimeng/venv/lib/python3.9/site-packages/sklearn/ensemble/_forest.py:425: FutureWarning: `max_features='auto'` has been deprecated in 1.1 and will be removed in 1.3. To keep the past behaviour, explicitly set `max_features='sqrt'` or remove this parameter as it is also the default value for RandomForestClassifiers and ExtraTreesClassifiers.\n",
      "  warn(\n",
      "/Users/yimengjin/Desktop/Thesis/Thesis_Yimeng/venv/lib/python3.9/site-packages/sklearn/ensemble/_forest.py:425: FutureWarning: `max_features='auto'` has been deprecated in 1.1 and will be removed in 1.3. To keep the past behaviour, explicitly set `max_features='sqrt'` or remove this parameter as it is also the default value for RandomForestClassifiers and ExtraTreesClassifiers.\n",
      "  warn(\n",
      "/Users/yimengjin/Desktop/Thesis/Thesis_Yimeng/venv/lib/python3.9/site-packages/sklearn/ensemble/_forest.py:425: FutureWarning: `max_features='auto'` has been deprecated in 1.1 and will be removed in 1.3. To keep the past behaviour, explicitly set `max_features='sqrt'` or remove this parameter as it is also the default value for RandomForestClassifiers and ExtraTreesClassifiers.\n",
      "  warn(\n",
      "/Users/yimengjin/Desktop/Thesis/Thesis_Yimeng/venv/lib/python3.9/site-packages/sklearn/ensemble/_forest.py:425: FutureWarning: `max_features='auto'` has been deprecated in 1.1 and will be removed in 1.3. To keep the past behaviour, explicitly set `max_features='sqrt'` or remove this parameter as it is also the default value for RandomForestClassifiers and ExtraTreesClassifiers.\n",
      "  warn(\n",
      "/Users/yimengjin/Desktop/Thesis/Thesis_Yimeng/venv/lib/python3.9/site-packages/sklearn/ensemble/_forest.py:425: FutureWarning: `max_features='auto'` has been deprecated in 1.1 and will be removed in 1.3. To keep the past behaviour, explicitly set `max_features='sqrt'` or remove this parameter as it is also the default value for RandomForestClassifiers and ExtraTreesClassifiers.\n",
      "  warn(\n",
      "/Users/yimengjin/Desktop/Thesis/Thesis_Yimeng/venv/lib/python3.9/site-packages/sklearn/ensemble/_forest.py:425: FutureWarning: `max_features='auto'` has been deprecated in 1.1 and will be removed in 1.3. To keep the past behaviour, explicitly set `max_features='sqrt'` or remove this parameter as it is also the default value for RandomForestClassifiers and ExtraTreesClassifiers.\n",
      "  warn(\n",
      "/Users/yimengjin/Desktop/Thesis/Thesis_Yimeng/venv/lib/python3.9/site-packages/sklearn/ensemble/_forest.py:425: FutureWarning: `max_features='auto'` has been deprecated in 1.1 and will be removed in 1.3. To keep the past behaviour, explicitly set `max_features='sqrt'` or remove this parameter as it is also the default value for RandomForestClassifiers and ExtraTreesClassifiers.\n",
      "  warn(\n",
      "Process LokyProcess-7:\n",
      "Process LokyProcess-3:\n",
      "Process LokyProcess-4:\n",
      "Process LokyProcess-1:\n",
      "Process LokyProcess-8:\n",
      "Process LokyProcess-5:\n",
      "Process LokyProcess-2:\n",
      "Process LokyProcess-6:\n",
      "Traceback (most recent call last):\n",
      "  File \"/Users/yimengjin/Desktop/Thesis/Thesis_Yimeng/venv/lib/python3.9/site-packages/joblib/_parallel_backends.py\", line 620, in __call__\n",
      "    return self.func(*args, **kwargs)\n",
      "  File \"/Users/yimengjin/Desktop/Thesis/Thesis_Yimeng/venv/lib/python3.9/site-packages/joblib/parallel.py\", line 288, in __call__\n",
      "    return [func(*args, **kwargs)\n",
      "  File \"/Users/yimengjin/Desktop/Thesis/Thesis_Yimeng/venv/lib/python3.9/site-packages/joblib/parallel.py\", line 288, in <listcomp>\n",
      "    return [func(*args, **kwargs)\n",
      "  File \"/Users/yimengjin/Desktop/Thesis/Thesis_Yimeng/venv/lib/python3.9/site-packages/sklearn/utils/fixes.py\", line 117, in __call__\n",
      "    return self.function(*args, **kwargs)\n",
      "  File \"/Users/yimengjin/Desktop/Thesis/Thesis_Yimeng/venv/lib/python3.9/site-packages/sklearn/model_selection/_validation.py\", line 686, in _fit_and_score\n",
      "    estimator.fit(X_train, y_train, **fit_params)\n",
      "  File \"/Users/yimengjin/Desktop/Thesis/Thesis_Yimeng/venv/lib/python3.9/site-packages/sklearn/ensemble/_forest.py\", line 463, in fit\n",
      "    trees = [\n",
      "  File \"/Users/yimengjin/Desktop/Thesis/Thesis_Yimeng/venv/lib/python3.9/site-packages/sklearn/ensemble/_forest.py\", line 464, in <listcomp>\n",
      "    self._make_estimator(append=False, random_state=random_state)\n",
      "  File \"/Users/yimengjin/Desktop/Thesis/Thesis_Yimeng/venv/lib/python3.9/site-packages/sklearn/ensemble/_base.py\", line 212, in _make_estimator\n",
      "    _set_random_states(estimator, random_state)\n",
      "  File \"/Users/yimengjin/Desktop/Thesis/Thesis_Yimeng/venv/lib/python3.9/site-packages/sklearn/ensemble/_base.py\", line 81, in _set_random_states\n",
      "    if key == \"random_state\" or key.endswith(\"__random_state\"):\n",
      "KeyboardInterrupt\n",
      "\n",
      "The above exception was the direct cause of the following exception:\n",
      "\n",
      "Traceback (most recent call last):\n",
      "  File \"/Users/yimengjin/Desktop/Thesis/Thesis_Yimeng/venv/lib/python3.9/site-packages/joblib/externals/loky/process_executor.py\", line 428, in _process_worker\n",
      "    r = call_item()\n",
      "  File \"/Users/yimengjin/Desktop/Thesis/Thesis_Yimeng/venv/lib/python3.9/site-packages/joblib/externals/loky/process_executor.py\", line 275, in __call__\n",
      "    return self.fn(*self.args, **self.kwargs)\n",
      "  File \"/Users/yimengjin/Desktop/Thesis/Thesis_Yimeng/venv/lib/python3.9/site-packages/joblib/_parallel_backends.py\", line 625, in __call__\n",
      "    raise WorkerInterrupt() from e\n",
      "joblib.my_exceptions.WorkerInterrupt\n",
      "\n",
      "During handling of the above exception, another exception occurred:\n",
      "\n",
      "Traceback (most recent call last):\n",
      "  File \"/Library/Developer/CommandLineTools/Library/Frameworks/Python3.framework/Versions/3.9/lib/python3.9/multiprocessing/process.py\", line 315, in _bootstrap\n",
      "    self.run()\n",
      "  File \"/Library/Developer/CommandLineTools/Library/Frameworks/Python3.framework/Versions/3.9/lib/python3.9/multiprocessing/process.py\", line 108, in run\n",
      "    self._target(*self._args, **self._kwargs)\n",
      "  File \"/Users/yimengjin/Desktop/Thesis/Thesis_Yimeng/venv/lib/python3.9/site-packages/joblib/externals/loky/process_executor.py\", line 430, in _process_worker\n",
      "    exc = _ExceptionWithTraceback(e)\n",
      "  File \"/Users/yimengjin/Desktop/Thesis/Thesis_Yimeng/venv/lib/python3.9/site-packages/joblib/externals/loky/process_executor.py\", line 229, in __init__\n",
      "    tb = traceback.format_exception(type(exc), exc, tb)\n",
      "  File \"/Library/Developer/CommandLineTools/Library/Frameworks/Python3.framework/Versions/3.9/lib/python3.9/traceback.py\", line 120, in format_exception\n",
      "    return list(TracebackException(\n",
      "  File \"/Library/Developer/CommandLineTools/Library/Frameworks/Python3.framework/Versions/3.9/lib/python3.9/traceback.py\", line 508, in __init__\n",
      "    self.stack = StackSummary.extract(\n",
      "  File \"/Library/Developer/CommandLineTools/Library/Frameworks/Python3.framework/Versions/3.9/lib/python3.9/traceback.py\", line 366, in extract\n",
      "    f.line\n",
      "  File \"/Library/Developer/CommandLineTools/Library/Frameworks/Python3.framework/Versions/3.9/lib/python3.9/traceback.py\", line 288, in line\n",
      "    self._line = linecache.getline(self.filename, self.lineno).strip()\n",
      "  File \"/Library/Developer/CommandLineTools/Library/Frameworks/Python3.framework/Versions/3.9/lib/python3.9/linecache.py\", line 30, in getline\n",
      "    lines = getlines(filename, module_globals)\n",
      "  File \"/Library/Developer/CommandLineTools/Library/Frameworks/Python3.framework/Versions/3.9/lib/python3.9/linecache.py\", line 54, in getlines\n",
      "    if getattr(mod, '__file__', None) == filename:\n",
      "KeyboardInterrupt\n",
      "Traceback (most recent call last):\n",
      "  File \"/Users/yimengjin/Desktop/Thesis/Thesis_Yimeng/venv/lib/python3.9/site-packages/joblib/_parallel_backends.py\", line 620, in __call__\n",
      "    return self.func(*args, **kwargs)\n",
      "  File \"/Users/yimengjin/Desktop/Thesis/Thesis_Yimeng/venv/lib/python3.9/site-packages/joblib/parallel.py\", line 288, in __call__\n",
      "    return [func(*args, **kwargs)\n",
      "  File \"/Users/yimengjin/Desktop/Thesis/Thesis_Yimeng/venv/lib/python3.9/site-packages/joblib/parallel.py\", line 288, in <listcomp>\n",
      "    return [func(*args, **kwargs)\n",
      "  File \"/Users/yimengjin/Desktop/Thesis/Thesis_Yimeng/venv/lib/python3.9/site-packages/sklearn/utils/fixes.py\", line 117, in __call__\n",
      "    return self.function(*args, **kwargs)\n",
      "  File \"/Users/yimengjin/Desktop/Thesis/Thesis_Yimeng/venv/lib/python3.9/site-packages/sklearn/model_selection/_validation.py\", line 686, in _fit_and_score\n",
      "    estimator.fit(X_train, y_train, **fit_params)\n",
      "  File \"/Users/yimengjin/Desktop/Thesis/Thesis_Yimeng/venv/lib/python3.9/site-packages/sklearn/ensemble/_forest.py\", line 463, in fit\n",
      "    trees = [\n",
      "  File \"/Users/yimengjin/Desktop/Thesis/Thesis_Yimeng/venv/lib/python3.9/site-packages/sklearn/ensemble/_forest.py\", line 464, in <listcomp>\n",
      "    self._make_estimator(append=False, random_state=random_state)\n",
      "  File \"/Users/yimengjin/Desktop/Thesis/Thesis_Yimeng/venv/lib/python3.9/site-packages/sklearn/ensemble/_base.py\", line 212, in _make_estimator\n",
      "    _set_random_states(estimator, random_state)\n",
      "  File \"/Users/yimengjin/Desktop/Thesis/Thesis_Yimeng/venv/lib/python3.9/site-packages/sklearn/ensemble/_base.py\", line 85, in _set_random_states\n",
      "    estimator.set_params(**to_set)\n",
      "  File \"/Users/yimengjin/Desktop/Thesis/Thesis_Yimeng/venv/lib/python3.9/site-packages/sklearn/base.py\", line 198, in set_params\n",
      "    valid_params = self.get_params(deep=True)\n",
      "  File \"/Users/yimengjin/Desktop/Thesis/Thesis_Yimeng/venv/lib/python3.9/site-packages/sklearn/base.py\", line 169, in get_params\n",
      "    for key in self._get_param_names():\n",
      "  File \"/Users/yimengjin/Desktop/Thesis/Thesis_Yimeng/venv/lib/python3.9/site-packages/sklearn/base.py\", line 134, in _get_param_names\n",
      "    init_signature = inspect.signature(init)\n",
      "  File \"/Library/Developer/CommandLineTools/Library/Frameworks/Python3.framework/Versions/3.9/lib/python3.9/inspect.py\", line 3130, in signature\n",
      "    return Signature.from_callable(obj, follow_wrapped=follow_wrapped)\n",
      "  File \"/Library/Developer/CommandLineTools/Library/Frameworks/Python3.framework/Versions/3.9/lib/python3.9/inspect.py\", line 2879, in from_callable\n",
      "    return _signature_from_callable(obj, sigcls=cls,\n",
      "  File \"/Library/Developer/CommandLineTools/Library/Frameworks/Python3.framework/Versions/3.9/lib/python3.9/inspect.py\", line 2330, in _signature_from_callable\n",
      "    return _signature_from_function(sigcls, obj,\n",
      "  File \"/Library/Developer/CommandLineTools/Library/Frameworks/Python3.framework/Versions/3.9/lib/python3.9/inspect.py\", line 2223, in _signature_from_function\n",
      "    parameters.append(Parameter(name, annotation=annotation,\n",
      "  File \"/Library/Developer/CommandLineTools/Library/Frameworks/Python3.framework/Versions/3.9/lib/python3.9/inspect.py\", line 2525, in __init__\n",
      "    self._default = default\n",
      "KeyboardInterrupt\n",
      "\n",
      "The above exception was the direct cause of the following exception:\n",
      "\n",
      "Traceback (most recent call last):\n",
      "  File \"/Users/yimengjin/Desktop/Thesis/Thesis_Yimeng/venv/lib/python3.9/site-packages/joblib/externals/loky/process_executor.py\", line 428, in _process_worker\n",
      "    r = call_item()\n",
      "  File \"/Users/yimengjin/Desktop/Thesis/Thesis_Yimeng/venv/lib/python3.9/site-packages/joblib/externals/loky/process_executor.py\", line 275, in __call__\n",
      "    return self.fn(*self.args, **self.kwargs)\n",
      "  File \"/Users/yimengjin/Desktop/Thesis/Thesis_Yimeng/venv/lib/python3.9/site-packages/joblib/_parallel_backends.py\", line 625, in __call__\n",
      "    raise WorkerInterrupt() from e\n",
      "joblib.my_exceptions.WorkerInterrupt\n",
      "\n",
      "During handling of the above exception, another exception occurred:\n",
      "\n",
      "Traceback (most recent call last):\n",
      "  File \"/Library/Developer/CommandLineTools/Library/Frameworks/Python3.framework/Versions/3.9/lib/python3.9/multiprocessing/process.py\", line 315, in _bootstrap\n",
      "    self.run()\n",
      "  File \"/Library/Developer/CommandLineTools/Library/Frameworks/Python3.framework/Versions/3.9/lib/python3.9/multiprocessing/process.py\", line 108, in run\n",
      "    self._target(*self._args, **self._kwargs)\n",
      "  File \"/Users/yimengjin/Desktop/Thesis/Thesis_Yimeng/venv/lib/python3.9/site-packages/joblib/externals/loky/process_executor.py\", line 430, in _process_worker\n",
      "    exc = _ExceptionWithTraceback(e)\n",
      "  File \"/Users/yimengjin/Desktop/Thesis/Thesis_Yimeng/venv/lib/python3.9/site-packages/joblib/externals/loky/process_executor.py\", line 229, in __init__\n",
      "    tb = traceback.format_exception(type(exc), exc, tb)\n",
      "  File \"/Library/Developer/CommandLineTools/Library/Frameworks/Python3.framework/Versions/3.9/lib/python3.9/traceback.py\", line 120, in format_exception\n",
      "    return list(TracebackException(\n",
      "  File \"/Library/Developer/CommandLineTools/Library/Frameworks/Python3.framework/Versions/3.9/lib/python3.9/traceback.py\", line 508, in __init__\n",
      "    self.stack = StackSummary.extract(\n",
      "  File \"/Library/Developer/CommandLineTools/Library/Frameworks/Python3.framework/Versions/3.9/lib/python3.9/traceback.py\", line 366, in extract\n",
      "    f.line\n",
      "  File \"/Library/Developer/CommandLineTools/Library/Frameworks/Python3.framework/Versions/3.9/lib/python3.9/traceback.py\", line 288, in line\n",
      "    self._line = linecache.getline(self.filename, self.lineno).strip()\n",
      "  File \"/Library/Developer/CommandLineTools/Library/Frameworks/Python3.framework/Versions/3.9/lib/python3.9/linecache.py\", line 30, in getline\n",
      "    lines = getlines(filename, module_globals)\n",
      "  File \"/Library/Developer/CommandLineTools/Library/Frameworks/Python3.framework/Versions/3.9/lib/python3.9/linecache.py\", line 49, in getlines\n",
      "    mods = list(sys.modules.values())\n",
      "KeyboardInterrupt\n",
      "Traceback (most recent call last):\n",
      "  File \"/Users/yimengjin/Desktop/Thesis/Thesis_Yimeng/venv/lib/python3.9/site-packages/joblib/_parallel_backends.py\", line 620, in __call__\n",
      "    return self.func(*args, **kwargs)\n",
      "  File \"/Users/yimengjin/Desktop/Thesis/Thesis_Yimeng/venv/lib/python3.9/site-packages/joblib/parallel.py\", line 288, in __call__\n",
      "    return [func(*args, **kwargs)\n",
      "  File \"/Users/yimengjin/Desktop/Thesis/Thesis_Yimeng/venv/lib/python3.9/site-packages/joblib/parallel.py\", line 288, in <listcomp>\n",
      "    return [func(*args, **kwargs)\n",
      "  File \"/Users/yimengjin/Desktop/Thesis/Thesis_Yimeng/venv/lib/python3.9/site-packages/sklearn/utils/fixes.py\", line 117, in __call__\n",
      "    return self.function(*args, **kwargs)\n",
      "  File \"/Users/yimengjin/Desktop/Thesis/Thesis_Yimeng/venv/lib/python3.9/site-packages/sklearn/model_selection/_validation.py\", line 686, in _fit_and_score\n",
      "    estimator.fit(X_train, y_train, **fit_params)\n",
      "  File \"/Users/yimengjin/Desktop/Thesis/Thesis_Yimeng/venv/lib/python3.9/site-packages/sklearn/ensemble/_forest.py\", line 474, in fit\n",
      "    trees = Parallel(\n",
      "  File \"/Users/yimengjin/Desktop/Thesis/Thesis_Yimeng/venv/lib/python3.9/site-packages/joblib/parallel.py\", line 1088, in __call__\n",
      "    while self.dispatch_one_batch(iterator):\n",
      "  File \"/Users/yimengjin/Desktop/Thesis/Thesis_Yimeng/venv/lib/python3.9/site-packages/joblib/parallel.py\", line 901, in dispatch_one_batch\n",
      "    self._dispatch(tasks)\n",
      "  File \"/Users/yimengjin/Desktop/Thesis/Thesis_Yimeng/venv/lib/python3.9/site-packages/joblib/parallel.py\", line 819, in _dispatch\n",
      "    job = self._backend.apply_async(batch, callback=cb)\n",
      "  File \"/Users/yimengjin/Desktop/Thesis/Thesis_Yimeng/venv/lib/python3.9/site-packages/joblib/_parallel_backends.py\", line 208, in apply_async\n",
      "    result = ImmediateResult(func)\n",
      "  File \"/Users/yimengjin/Desktop/Thesis/Thesis_Yimeng/venv/lib/python3.9/site-packages/joblib/_parallel_backends.py\", line 597, in __init__\n",
      "    self.results = batch()\n",
      "  File \"/Users/yimengjin/Desktop/Thesis/Thesis_Yimeng/venv/lib/python3.9/site-packages/joblib/parallel.py\", line 288, in __call__\n",
      "    return [func(*args, **kwargs)\n",
      "  File \"/Users/yimengjin/Desktop/Thesis/Thesis_Yimeng/venv/lib/python3.9/site-packages/joblib/parallel.py\", line 288, in <listcomp>\n",
      "    return [func(*args, **kwargs)\n",
      "  File \"/Users/yimengjin/Desktop/Thesis/Thesis_Yimeng/venv/lib/python3.9/site-packages/sklearn/utils/fixes.py\", line 117, in __call__\n",
      "    return self.function(*args, **kwargs)\n",
      "  File \"/Users/yimengjin/Desktop/Thesis/Thesis_Yimeng/venv/lib/python3.9/site-packages/sklearn/ensemble/_forest.py\", line 185, in _parallel_build_trees\n",
      "    tree.fit(X, y, sample_weight=curr_sample_weight, check_input=False)\n",
      "  File \"/Users/yimengjin/Desktop/Thesis/Thesis_Yimeng/venv/lib/python3.9/site-packages/sklearn/tree/_classes.py\", line 889, in fit\n",
      "    super().fit(\n",
      "  File \"/Users/yimengjin/Desktop/Thesis/Thesis_Yimeng/venv/lib/python3.9/site-packages/sklearn/tree/_classes.py\", line 177, in fit\n",
      "    self._validate_params()\n",
      "  File \"/Users/yimengjin/Desktop/Thesis/Thesis_Yimeng/venv/lib/python3.9/site-packages/sklearn/base.py\", line 570, in _validate_params\n",
      "    validate_parameter_constraints(\n",
      "  File \"/Users/yimengjin/Desktop/Thesis/Thesis_Yimeng/venv/lib/python3.9/site-packages/sklearn/utils/_param_validation.py\", line 74, in validate_parameter_constraints\n",
      "    constraints = [make_constraint(constraint) for constraint in constraints]\n",
      "  File \"/Users/yimengjin/Desktop/Thesis/Thesis_Yimeng/venv/lib/python3.9/site-packages/sklearn/utils/_param_validation.py\", line 74, in <listcomp>\n",
      "    constraints = [make_constraint(constraint) for constraint in constraints]\n",
      "  File \"/Users/yimengjin/Desktop/Thesis/Thesis_Yimeng/venv/lib/python3.9/site-packages/sklearn/utils/_param_validation.py\", line 139, in make_constraint\n",
      "    constraint = make_constraint(constraint.constraint)\n",
      "  File \"/Users/yimengjin/Desktop/Thesis/Thesis_Yimeng/venv/lib/python3.9/site-packages/sklearn/utils/_param_validation.py\", line 127, in make_constraint\n",
      "    return _InstancesOf(constraint)\n",
      "  File \"/Users/yimengjin/Desktop/Thesis/Thesis_Yimeng/venv/lib/python3.9/site-packages/sklearn/utils/_param_validation.py\", line 259, in __init__\n",
      "    super().__init__()\n",
      "KeyboardInterrupt\n",
      "\n",
      "The above exception was the direct cause of the following exception:\n",
      "\n",
      "Traceback (most recent call last):\n",
      "  File \"/Users/yimengjin/Desktop/Thesis/Thesis_Yimeng/venv/lib/python3.9/site-packages/joblib/externals/loky/process_executor.py\", line 428, in _process_worker\n",
      "    r = call_item()\n",
      "  File \"/Users/yimengjin/Desktop/Thesis/Thesis_Yimeng/venv/lib/python3.9/site-packages/joblib/externals/loky/process_executor.py\", line 275, in __call__\n",
      "    return self.fn(*self.args, **self.kwargs)\n",
      "  File \"/Users/yimengjin/Desktop/Thesis/Thesis_Yimeng/venv/lib/python3.9/site-packages/joblib/_parallel_backends.py\", line 625, in __call__\n",
      "    raise WorkerInterrupt() from e\n",
      "joblib.my_exceptions.WorkerInterrupt\n",
      "\n",
      "During handling of the above exception, another exception occurred:\n",
      "\n",
      "Traceback (most recent call last):\n",
      "  File \"/Library/Developer/CommandLineTools/Library/Frameworks/Python3.framework/Versions/3.9/lib/python3.9/multiprocessing/process.py\", line 315, in _bootstrap\n",
      "    self.run()\n",
      "  File \"/Library/Developer/CommandLineTools/Library/Frameworks/Python3.framework/Versions/3.9/lib/python3.9/multiprocessing/process.py\", line 108, in run\n",
      "    self._target(*self._args, **self._kwargs)\n",
      "  File \"/Users/yimengjin/Desktop/Thesis/Thesis_Yimeng/venv/lib/python3.9/site-packages/joblib/externals/loky/process_executor.py\", line 430, in _process_worker\n",
      "    exc = _ExceptionWithTraceback(e)\n",
      "  File \"/Users/yimengjin/Desktop/Thesis/Thesis_Yimeng/venv/lib/python3.9/site-packages/joblib/externals/loky/process_executor.py\", line 229, in __init__\n",
      "    tb = traceback.format_exception(type(exc), exc, tb)\n",
      "  File \"/Library/Developer/CommandLineTools/Library/Frameworks/Python3.framework/Versions/3.9/lib/python3.9/traceback.py\", line 120, in format_exception\n",
      "    return list(TracebackException(\n",
      "  File \"/Library/Developer/CommandLineTools/Library/Frameworks/Python3.framework/Versions/3.9/lib/python3.9/traceback.py\", line 508, in __init__\n",
      "    self.stack = StackSummary.extract(\n",
      "  File \"/Library/Developer/CommandLineTools/Library/Frameworks/Python3.framework/Versions/3.9/lib/python3.9/traceback.py\", line 366, in extract\n",
      "    f.line\n",
      "  File \"/Library/Developer/CommandLineTools/Library/Frameworks/Python3.framework/Versions/3.9/lib/python3.9/traceback.py\", line 288, in line\n",
      "    self._line = linecache.getline(self.filename, self.lineno).strip()\n",
      "  File \"/Library/Developer/CommandLineTools/Library/Frameworks/Python3.framework/Versions/3.9/lib/python3.9/linecache.py\", line 30, in getline\n",
      "    lines = getlines(filename, module_globals)\n",
      "  File \"/Library/Developer/CommandLineTools/Library/Frameworks/Python3.framework/Versions/3.9/lib/python3.9/linecache.py\", line 54, in getlines\n",
      "    if getattr(mod, '__file__', None) == filename:\n",
      "KeyboardInterrupt\n",
      "Traceback (most recent call last):\n",
      "  File \"/Users/yimengjin/Desktop/Thesis/Thesis_Yimeng/venv/lib/python3.9/site-packages/joblib/_parallel_backends.py\", line 620, in __call__\n",
      "    return self.func(*args, **kwargs)\n",
      "  File \"/Users/yimengjin/Desktop/Thesis/Thesis_Yimeng/venv/lib/python3.9/site-packages/joblib/parallel.py\", line 288, in __call__\n",
      "    return [func(*args, **kwargs)\n",
      "  File \"/Users/yimengjin/Desktop/Thesis/Thesis_Yimeng/venv/lib/python3.9/site-packages/joblib/parallel.py\", line 288, in <listcomp>\n",
      "    return [func(*args, **kwargs)\n",
      "  File \"/Users/yimengjin/Desktop/Thesis/Thesis_Yimeng/venv/lib/python3.9/site-packages/sklearn/utils/fixes.py\", line 117, in __call__\n",
      "    return self.function(*args, **kwargs)\n",
      "  File \"/Users/yimengjin/Desktop/Thesis/Thesis_Yimeng/venv/lib/python3.9/site-packages/sklearn/model_selection/_validation.py\", line 686, in _fit_and_score\n",
      "    estimator.fit(X_train, y_train, **fit_params)\n",
      "  File \"/Users/yimengjin/Desktop/Thesis/Thesis_Yimeng/venv/lib/python3.9/site-packages/sklearn/ensemble/_forest.py\", line 474, in fit\n",
      "    trees = Parallel(\n",
      "  File \"/Users/yimengjin/Desktop/Thesis/Thesis_Yimeng/venv/lib/python3.9/site-packages/joblib/parallel.py\", line 1088, in __call__\n",
      "    while self.dispatch_one_batch(iterator):\n",
      "  File \"/Users/yimengjin/Desktop/Thesis/Thesis_Yimeng/venv/lib/python3.9/site-packages/joblib/parallel.py\", line 901, in dispatch_one_batch\n",
      "    self._dispatch(tasks)\n",
      "  File \"/Users/yimengjin/Desktop/Thesis/Thesis_Yimeng/venv/lib/python3.9/site-packages/joblib/parallel.py\", line 819, in _dispatch\n",
      "    job = self._backend.apply_async(batch, callback=cb)\n",
      "  File \"/Users/yimengjin/Desktop/Thesis/Thesis_Yimeng/venv/lib/python3.9/site-packages/joblib/_parallel_backends.py\", line 208, in apply_async\n",
      "    result = ImmediateResult(func)\n",
      "  File \"/Users/yimengjin/Desktop/Thesis/Thesis_Yimeng/venv/lib/python3.9/site-packages/joblib/_parallel_backends.py\", line 597, in __init__\n",
      "    self.results = batch()\n",
      "  File \"/Users/yimengjin/Desktop/Thesis/Thesis_Yimeng/venv/lib/python3.9/site-packages/joblib/parallel.py\", line 288, in __call__\n",
      "    return [func(*args, **kwargs)\n",
      "  File \"/Users/yimengjin/Desktop/Thesis/Thesis_Yimeng/venv/lib/python3.9/site-packages/joblib/parallel.py\", line 288, in <listcomp>\n",
      "    return [func(*args, **kwargs)\n",
      "  File \"/Users/yimengjin/Desktop/Thesis/Thesis_Yimeng/venv/lib/python3.9/site-packages/sklearn/utils/fixes.py\", line 117, in __call__\n",
      "    return self.function(*args, **kwargs)\n",
      "  File \"/Users/yimengjin/Desktop/Thesis/Thesis_Yimeng/venv/lib/python3.9/site-packages/sklearn/ensemble/_forest.py\", line 185, in _parallel_build_trees\n",
      "    tree.fit(X, y, sample_weight=curr_sample_weight, check_input=False)\n",
      "  File \"/Users/yimengjin/Desktop/Thesis/Thesis_Yimeng/venv/lib/python3.9/site-packages/sklearn/tree/_classes.py\", line 889, in fit\n",
      "    super().fit(\n",
      "  File \"/Users/yimengjin/Desktop/Thesis/Thesis_Yimeng/venv/lib/python3.9/site-packages/sklearn/tree/_classes.py\", line 177, in fit\n",
      "    self._validate_params()\n",
      "  File \"/Users/yimengjin/Desktop/Thesis/Thesis_Yimeng/venv/lib/python3.9/site-packages/sklearn/base.py\", line 570, in _validate_params\n",
      "    validate_parameter_constraints(\n",
      "  File \"/Users/yimengjin/Desktop/Thesis/Thesis_Yimeng/venv/lib/python3.9/site-packages/sklearn/utils/_param_validation.py\", line 74, in validate_parameter_constraints\n",
      "    constraints = [make_constraint(constraint) for constraint in constraints]\n",
      "  File \"/Users/yimengjin/Desktop/Thesis/Thesis_Yimeng/venv/lib/python3.9/site-packages/sklearn/utils/_param_validation.py\", line 74, in <listcomp>\n",
      "    constraints = [make_constraint(constraint) for constraint in constraints]\n",
      "  File \"/Users/yimengjin/Desktop/Thesis/Thesis_Yimeng/venv/lib/python3.9/site-packages/sklearn/utils/_param_validation.py\", line 121, in make_constraint\n",
      "    return _RandomStates()\n",
      "  File \"/Users/yimengjin/Desktop/Thesis/Thesis_Yimeng/venv/lib/python3.9/site-packages/sklearn/utils/_param_validation.py\", line 508, in __init__\n",
      "    Interval(Integral, 0, 2**32 - 1, closed=\"both\"),\n",
      "  File \"/Users/yimengjin/Desktop/Thesis/Thesis_Yimeng/venv/lib/python3.9/site-packages/sklearn/utils/_param_validation.py\", line 172, in wrapper\n",
      "    func_sig = signature(func)\n",
      "  File \"/Library/Developer/CommandLineTools/Library/Frameworks/Python3.framework/Versions/3.9/lib/python3.9/inspect.py\", line 3130, in signature\n",
      "    return Signature.from_callable(obj, follow_wrapped=follow_wrapped)\n",
      "KeyboardInterrupt\n",
      "\n",
      "The above exception was the direct cause of the following exception:\n",
      "\n",
      "Traceback (most recent call last):\n",
      "  File \"/Users/yimengjin/Desktop/Thesis/Thesis_Yimeng/venv/lib/python3.9/site-packages/joblib/externals/loky/process_executor.py\", line 428, in _process_worker\n",
      "    r = call_item()\n",
      "  File \"/Users/yimengjin/Desktop/Thesis/Thesis_Yimeng/venv/lib/python3.9/site-packages/joblib/externals/loky/process_executor.py\", line 275, in __call__\n",
      "    return self.fn(*self.args, **self.kwargs)\n",
      "  File \"/Users/yimengjin/Desktop/Thesis/Thesis_Yimeng/venv/lib/python3.9/site-packages/joblib/_parallel_backends.py\", line 625, in __call__\n",
      "    raise WorkerInterrupt() from e\n",
      "joblib.my_exceptions.WorkerInterrupt\n",
      "\n",
      "During handling of the above exception, another exception occurred:\n",
      "\n",
      "Traceback (most recent call last):\n",
      "  File \"/Library/Developer/CommandLineTools/Library/Frameworks/Python3.framework/Versions/3.9/lib/python3.9/multiprocessing/process.py\", line 315, in _bootstrap\n",
      "    self.run()\n",
      "  File \"/Library/Developer/CommandLineTools/Library/Frameworks/Python3.framework/Versions/3.9/lib/python3.9/multiprocessing/process.py\", line 108, in run\n",
      "    self._target(*self._args, **self._kwargs)\n",
      "  File \"/Users/yimengjin/Desktop/Thesis/Thesis_Yimeng/venv/lib/python3.9/site-packages/joblib/externals/loky/process_executor.py\", line 430, in _process_worker\n",
      "    exc = _ExceptionWithTraceback(e)\n",
      "  File \"/Users/yimengjin/Desktop/Thesis/Thesis_Yimeng/venv/lib/python3.9/site-packages/joblib/externals/loky/process_executor.py\", line 229, in __init__\n",
      "    tb = traceback.format_exception(type(exc), exc, tb)\n",
      "  File \"/Library/Developer/CommandLineTools/Library/Frameworks/Python3.framework/Versions/3.9/lib/python3.9/traceback.py\", line 120, in format_exception\n",
      "    return list(TracebackException(\n",
      "  File \"/Library/Developer/CommandLineTools/Library/Frameworks/Python3.framework/Versions/3.9/lib/python3.9/traceback.py\", line 508, in __init__\n",
      "    self.stack = StackSummary.extract(\n",
      "  File \"/Library/Developer/CommandLineTools/Library/Frameworks/Python3.framework/Versions/3.9/lib/python3.9/traceback.py\", line 366, in extract\n",
      "    f.line\n",
      "  File \"/Library/Developer/CommandLineTools/Library/Frameworks/Python3.framework/Versions/3.9/lib/python3.9/traceback.py\", line 288, in line\n",
      "    self._line = linecache.getline(self.filename, self.lineno).strip()\n",
      "  File \"/Library/Developer/CommandLineTools/Library/Frameworks/Python3.framework/Versions/3.9/lib/python3.9/linecache.py\", line 30, in getline\n",
      "    lines = getlines(filename, module_globals)\n",
      "  File \"/Library/Developer/CommandLineTools/Library/Frameworks/Python3.framework/Versions/3.9/lib/python3.9/linecache.py\", line 54, in getlines\n",
      "    if getattr(mod, '__file__', None) == filename:\n",
      "KeyboardInterrupt\n",
      "Traceback (most recent call last):\n",
      "  File \"/Users/yimengjin/Desktop/Thesis/Thesis_Yimeng/venv/lib/python3.9/site-packages/joblib/_parallel_backends.py\", line 620, in __call__\n",
      "    return self.func(*args, **kwargs)\n",
      "  File \"/Users/yimengjin/Desktop/Thesis/Thesis_Yimeng/venv/lib/python3.9/site-packages/joblib/parallel.py\", line 288, in __call__\n",
      "    return [func(*args, **kwargs)\n",
      "  File \"/Users/yimengjin/Desktop/Thesis/Thesis_Yimeng/venv/lib/python3.9/site-packages/joblib/parallel.py\", line 288, in <listcomp>\n",
      "    return [func(*args, **kwargs)\n",
      "  File \"/Users/yimengjin/Desktop/Thesis/Thesis_Yimeng/venv/lib/python3.9/site-packages/sklearn/utils/fixes.py\", line 117, in __call__\n",
      "    return self.function(*args, **kwargs)\n",
      "  File \"/Users/yimengjin/Desktop/Thesis/Thesis_Yimeng/venv/lib/python3.9/site-packages/sklearn/model_selection/_validation.py\", line 686, in _fit_and_score\n",
      "    estimator.fit(X_train, y_train, **fit_params)\n",
      "  File \"/Users/yimengjin/Desktop/Thesis/Thesis_Yimeng/venv/lib/python3.9/site-packages/sklearn/ensemble/_forest.py\", line 474, in fit\n",
      "    trees = Parallel(\n",
      "  File \"/Users/yimengjin/Desktop/Thesis/Thesis_Yimeng/venv/lib/python3.9/site-packages/joblib/parallel.py\", line 1088, in __call__\n",
      "    while self.dispatch_one_batch(iterator):\n",
      "  File \"/Users/yimengjin/Desktop/Thesis/Thesis_Yimeng/venv/lib/python3.9/site-packages/joblib/parallel.py\", line 901, in dispatch_one_batch\n",
      "    self._dispatch(tasks)\n",
      "  File \"/Users/yimengjin/Desktop/Thesis/Thesis_Yimeng/venv/lib/python3.9/site-packages/joblib/parallel.py\", line 819, in _dispatch\n",
      "    job = self._backend.apply_async(batch, callback=cb)\n",
      "  File \"/Users/yimengjin/Desktop/Thesis/Thesis_Yimeng/venv/lib/python3.9/site-packages/joblib/_parallel_backends.py\", line 208, in apply_async\n",
      "    result = ImmediateResult(func)\n",
      "  File \"/Users/yimengjin/Desktop/Thesis/Thesis_Yimeng/venv/lib/python3.9/site-packages/joblib/_parallel_backends.py\", line 597, in __init__\n",
      "    self.results = batch()\n",
      "  File \"/Users/yimengjin/Desktop/Thesis/Thesis_Yimeng/venv/lib/python3.9/site-packages/joblib/parallel.py\", line 288, in __call__\n",
      "    return [func(*args, **kwargs)\n",
      "  File \"/Users/yimengjin/Desktop/Thesis/Thesis_Yimeng/venv/lib/python3.9/site-packages/joblib/parallel.py\", line 288, in <listcomp>\n",
      "    return [func(*args, **kwargs)\n",
      "  File \"/Users/yimengjin/Desktop/Thesis/Thesis_Yimeng/venv/lib/python3.9/site-packages/sklearn/utils/fixes.py\", line 117, in __call__\n",
      "    return self.function(*args, **kwargs)\n",
      "  File \"/Users/yimengjin/Desktop/Thesis/Thesis_Yimeng/venv/lib/python3.9/site-packages/sklearn/ensemble/_forest.py\", line 185, in _parallel_build_trees\n",
      "    tree.fit(X, y, sample_weight=curr_sample_weight, check_input=False)\n",
      "  File \"/Users/yimengjin/Desktop/Thesis/Thesis_Yimeng/venv/lib/python3.9/site-packages/sklearn/tree/_classes.py\", line 889, in fit\n",
      "    super().fit(\n",
      "  File \"/Users/yimengjin/Desktop/Thesis/Thesis_Yimeng/venv/lib/python3.9/site-packages/sklearn/tree/_classes.py\", line 308, in fit\n",
      "    sample_weight = _check_sample_weight(sample_weight, X, DOUBLE)\n",
      "  File \"/Users/yimengjin/Desktop/Thesis/Thesis_Yimeng/venv/lib/python3.9/site-packages/sklearn/utils/validation.py\", line 1756, in _check_sample_weight\n",
      "    sample_weight = check_array(\n",
      "  File \"/Users/yimengjin/Desktop/Thesis/Thesis_Yimeng/venv/lib/python3.9/site-packages/sklearn/utils/validation.py\", line 919, in check_array\n",
      "    _assert_all_finite(\n",
      "  File \"/Users/yimengjin/Desktop/Thesis/Thesis_Yimeng/venv/lib/python3.9/site-packages/sklearn/utils/validation.py\", line 121, in _assert_all_finite\n",
      "    with np.errstate(over=\"ignore\"):\n",
      "  File \"/Users/yimengjin/Desktop/Thesis/Thesis_Yimeng/venv/lib/python3.9/site-packages/numpy/core/_ufunc_config.py\", line 431, in __enter__\n",
      "    self.oldstate = seterr(**self.kwargs)\n",
      "  File \"/Users/yimengjin/Desktop/Thesis/Thesis_Yimeng/venv/lib/python3.9/site-packages/numpy/core/_ufunc_config.py\", line 128, in seterr\n",
      "    umath.seterrobj(pyvals)\n",
      "KeyboardInterrupt\n",
      "\n",
      "The above exception was the direct cause of the following exception:\n",
      "\n",
      "Traceback (most recent call last):\n",
      "  File \"/Users/yimengjin/Desktop/Thesis/Thesis_Yimeng/venv/lib/python3.9/site-packages/joblib/externals/loky/process_executor.py\", line 428, in _process_worker\n",
      "    r = call_item()\n",
      "  File \"/Users/yimengjin/Desktop/Thesis/Thesis_Yimeng/venv/lib/python3.9/site-packages/joblib/externals/loky/process_executor.py\", line 275, in __call__\n",
      "    return self.fn(*self.args, **self.kwargs)\n",
      "  File \"/Users/yimengjin/Desktop/Thesis/Thesis_Yimeng/venv/lib/python3.9/site-packages/joblib/_parallel_backends.py\", line 625, in __call__\n",
      "    raise WorkerInterrupt() from e\n",
      "joblib.my_exceptions.WorkerInterrupt\n",
      "\n",
      "During handling of the above exception, another exception occurred:\n",
      "\n",
      "Traceback (most recent call last):\n",
      "  File \"/Library/Developer/CommandLineTools/Library/Frameworks/Python3.framework/Versions/3.9/lib/python3.9/multiprocessing/process.py\", line 315, in _bootstrap\n",
      "    self.run()\n",
      "  File \"/Library/Developer/CommandLineTools/Library/Frameworks/Python3.framework/Versions/3.9/lib/python3.9/multiprocessing/process.py\", line 108, in run\n",
      "    self._target(*self._args, **self._kwargs)\n",
      "  File \"/Users/yimengjin/Desktop/Thesis/Thesis_Yimeng/venv/lib/python3.9/site-packages/joblib/externals/loky/process_executor.py\", line 430, in _process_worker\n",
      "    exc = _ExceptionWithTraceback(e)\n",
      "  File \"/Users/yimengjin/Desktop/Thesis/Thesis_Yimeng/venv/lib/python3.9/site-packages/joblib/externals/loky/process_executor.py\", line 229, in __init__\n",
      "    tb = traceback.format_exception(type(exc), exc, tb)\n",
      "  File \"/Library/Developer/CommandLineTools/Library/Frameworks/Python3.framework/Versions/3.9/lib/python3.9/traceback.py\", line 120, in format_exception\n",
      "    return list(TracebackException(\n",
      "  File \"/Library/Developer/CommandLineTools/Library/Frameworks/Python3.framework/Versions/3.9/lib/python3.9/traceback.py\", line 508, in __init__\n",
      "    self.stack = StackSummary.extract(\n",
      "  File \"/Library/Developer/CommandLineTools/Library/Frameworks/Python3.framework/Versions/3.9/lib/python3.9/traceback.py\", line 366, in extract\n",
      "    f.line\n",
      "  File \"/Library/Developer/CommandLineTools/Library/Frameworks/Python3.framework/Versions/3.9/lib/python3.9/traceback.py\", line 288, in line\n",
      "    self._line = linecache.getline(self.filename, self.lineno).strip()\n",
      "  File \"/Library/Developer/CommandLineTools/Library/Frameworks/Python3.framework/Versions/3.9/lib/python3.9/linecache.py\", line 30, in getline\n",
      "    lines = getlines(filename, module_globals)\n",
      "  File \"/Library/Developer/CommandLineTools/Library/Frameworks/Python3.framework/Versions/3.9/lib/python3.9/linecache.py\", line 54, in getlines\n",
      "    if getattr(mod, '__file__', None) == filename:\n",
      "KeyboardInterrupt\n",
      "Traceback (most recent call last):\n",
      "  File \"/Users/yimengjin/Desktop/Thesis/Thesis_Yimeng/venv/lib/python3.9/site-packages/joblib/_parallel_backends.py\", line 620, in __call__\n",
      "    return self.func(*args, **kwargs)\n",
      "  File \"/Users/yimengjin/Desktop/Thesis/Thesis_Yimeng/venv/lib/python3.9/site-packages/joblib/parallel.py\", line 288, in __call__\n",
      "    return [func(*args, **kwargs)\n",
      "  File \"/Users/yimengjin/Desktop/Thesis/Thesis_Yimeng/venv/lib/python3.9/site-packages/joblib/parallel.py\", line 288, in <listcomp>\n",
      "    return [func(*args, **kwargs)\n",
      "  File \"/Users/yimengjin/Desktop/Thesis/Thesis_Yimeng/venv/lib/python3.9/site-packages/sklearn/utils/fixes.py\", line 117, in __call__\n",
      "    return self.function(*args, **kwargs)\n",
      "  File \"/Users/yimengjin/Desktop/Thesis/Thesis_Yimeng/venv/lib/python3.9/site-packages/sklearn/model_selection/_validation.py\", line 686, in _fit_and_score\n",
      "    estimator.fit(X_train, y_train, **fit_params)\n",
      "  File \"/Users/yimengjin/Desktop/Thesis/Thesis_Yimeng/venv/lib/python3.9/site-packages/sklearn/ensemble/_forest.py\", line 474, in fit\n",
      "    trees = Parallel(\n",
      "  File \"/Users/yimengjin/Desktop/Thesis/Thesis_Yimeng/venv/lib/python3.9/site-packages/joblib/parallel.py\", line 1088, in __call__\n",
      "    while self.dispatch_one_batch(iterator):\n",
      "  File \"/Users/yimengjin/Desktop/Thesis/Thesis_Yimeng/venv/lib/python3.9/site-packages/joblib/parallel.py\", line 901, in dispatch_one_batch\n",
      "    self._dispatch(tasks)\n",
      "  File \"/Users/yimengjin/Desktop/Thesis/Thesis_Yimeng/venv/lib/python3.9/site-packages/joblib/parallel.py\", line 819, in _dispatch\n",
      "    job = self._backend.apply_async(batch, callback=cb)\n",
      "  File \"/Users/yimengjin/Desktop/Thesis/Thesis_Yimeng/venv/lib/python3.9/site-packages/joblib/_parallel_backends.py\", line 208, in apply_async\n",
      "    result = ImmediateResult(func)\n",
      "  File \"/Users/yimengjin/Desktop/Thesis/Thesis_Yimeng/venv/lib/python3.9/site-packages/joblib/_parallel_backends.py\", line 597, in __init__\n",
      "    self.results = batch()\n",
      "  File \"/Users/yimengjin/Desktop/Thesis/Thesis_Yimeng/venv/lib/python3.9/site-packages/joblib/parallel.py\", line 288, in __call__\n",
      "    return [func(*args, **kwargs)\n",
      "  File \"/Users/yimengjin/Desktop/Thesis/Thesis_Yimeng/venv/lib/python3.9/site-packages/joblib/parallel.py\", line 288, in <listcomp>\n",
      "    return [func(*args, **kwargs)\n",
      "  File \"/Users/yimengjin/Desktop/Thesis/Thesis_Yimeng/venv/lib/python3.9/site-packages/sklearn/utils/fixes.py\", line 117, in __call__\n",
      "    return self.function(*args, **kwargs)\n",
      "  File \"/Users/yimengjin/Desktop/Thesis/Thesis_Yimeng/venv/lib/python3.9/site-packages/sklearn/ensemble/_forest.py\", line 185, in _parallel_build_trees\n",
      "    tree.fit(X, y, sample_weight=curr_sample_weight, check_input=False)\n",
      "  File \"/Users/yimengjin/Desktop/Thesis/Thesis_Yimeng/venv/lib/python3.9/site-packages/sklearn/tree/_classes.py\", line 889, in fit\n",
      "    super().fit(\n",
      "  File \"/Users/yimengjin/Desktop/Thesis/Thesis_Yimeng/venv/lib/python3.9/site-packages/sklearn/tree/_classes.py\", line 225, in fit\n",
      "    y = np.copy(y)\n",
      "  File \"<__array_function__ internals>\", line 200, in copy\n",
      "  File \"/Users/yimengjin/Desktop/Thesis/Thesis_Yimeng/venv/lib/python3.9/site-packages/numpy/lib/function_base.py\", line 871, in copy\n",
      "    @array_function_dispatch(_copy_dispatcher)\n",
      "KeyboardInterrupt\n",
      "\n",
      "The above exception was the direct cause of the following exception:\n",
      "\n",
      "Traceback (most recent call last):\n",
      "  File \"/Users/yimengjin/Desktop/Thesis/Thesis_Yimeng/venv/lib/python3.9/site-packages/joblib/externals/loky/process_executor.py\", line 428, in _process_worker\n",
      "    r = call_item()\n",
      "  File \"/Users/yimengjin/Desktop/Thesis/Thesis_Yimeng/venv/lib/python3.9/site-packages/joblib/externals/loky/process_executor.py\", line 275, in __call__\n",
      "    return self.fn(*self.args, **self.kwargs)\n",
      "  File \"/Users/yimengjin/Desktop/Thesis/Thesis_Yimeng/venv/lib/python3.9/site-packages/joblib/_parallel_backends.py\", line 625, in __call__\n",
      "    raise WorkerInterrupt() from e\n",
      "joblib.my_exceptions.WorkerInterrupt\n",
      "\n",
      "During handling of the above exception, another exception occurred:\n",
      "\n",
      "Traceback (most recent call last):\n",
      "  File \"/Library/Developer/CommandLineTools/Library/Frameworks/Python3.framework/Versions/3.9/lib/python3.9/multiprocessing/process.py\", line 315, in _bootstrap\n",
      "    self.run()\n",
      "  File \"/Library/Developer/CommandLineTools/Library/Frameworks/Python3.framework/Versions/3.9/lib/python3.9/multiprocessing/process.py\", line 108, in run\n",
      "    self._target(*self._args, **self._kwargs)\n",
      "  File \"/Users/yimengjin/Desktop/Thesis/Thesis_Yimeng/venv/lib/python3.9/site-packages/joblib/externals/loky/process_executor.py\", line 430, in _process_worker\n",
      "    exc = _ExceptionWithTraceback(e)\n",
      "  File \"/Users/yimengjin/Desktop/Thesis/Thesis_Yimeng/venv/lib/python3.9/site-packages/joblib/externals/loky/process_executor.py\", line 229, in __init__\n",
      "    tb = traceback.format_exception(type(exc), exc, tb)\n",
      "  File \"/Library/Developer/CommandLineTools/Library/Frameworks/Python3.framework/Versions/3.9/lib/python3.9/traceback.py\", line 120, in format_exception\n",
      "    return list(TracebackException(\n",
      "  File \"/Library/Developer/CommandLineTools/Library/Frameworks/Python3.framework/Versions/3.9/lib/python3.9/traceback.py\", line 508, in __init__\n",
      "    self.stack = StackSummary.extract(\n",
      "  File \"/Library/Developer/CommandLineTools/Library/Frameworks/Python3.framework/Versions/3.9/lib/python3.9/traceback.py\", line 366, in extract\n",
      "    f.line\n",
      "  File \"/Library/Developer/CommandLineTools/Library/Frameworks/Python3.framework/Versions/3.9/lib/python3.9/traceback.py\", line 288, in line\n",
      "    self._line = linecache.getline(self.filename, self.lineno).strip()\n",
      "  File \"/Library/Developer/CommandLineTools/Library/Frameworks/Python3.framework/Versions/3.9/lib/python3.9/linecache.py\", line 30, in getline\n",
      "    lines = getlines(filename, module_globals)\n",
      "  File \"/Library/Developer/CommandLineTools/Library/Frameworks/Python3.framework/Versions/3.9/lib/python3.9/linecache.py\", line 54, in getlines\n",
      "    if getattr(mod, '__file__', None) == filename:\n",
      "KeyboardInterrupt\n",
      "Traceback (most recent call last):\n",
      "  File \"/Users/yimengjin/Desktop/Thesis/Thesis_Yimeng/venv/lib/python3.9/site-packages/joblib/_parallel_backends.py\", line 620, in __call__\n",
      "    return self.func(*args, **kwargs)\n",
      "  File \"/Users/yimengjin/Desktop/Thesis/Thesis_Yimeng/venv/lib/python3.9/site-packages/joblib/parallel.py\", line 288, in __call__\n",
      "    return [func(*args, **kwargs)\n",
      "  File \"/Users/yimengjin/Desktop/Thesis/Thesis_Yimeng/venv/lib/python3.9/site-packages/joblib/parallel.py\", line 288, in <listcomp>\n",
      "    return [func(*args, **kwargs)\n",
      "  File \"/Users/yimengjin/Desktop/Thesis/Thesis_Yimeng/venv/lib/python3.9/site-packages/sklearn/utils/fixes.py\", line 117, in __call__\n",
      "    return self.function(*args, **kwargs)\n",
      "  File \"/Users/yimengjin/Desktop/Thesis/Thesis_Yimeng/venv/lib/python3.9/site-packages/sklearn/model_selection/_validation.py\", line 686, in _fit_and_score\n",
      "    estimator.fit(X_train, y_train, **fit_params)\n",
      "  File \"/Users/yimengjin/Desktop/Thesis/Thesis_Yimeng/venv/lib/python3.9/site-packages/sklearn/ensemble/_forest.py\", line 474, in fit\n",
      "    trees = Parallel(\n",
      "  File \"/Users/yimengjin/Desktop/Thesis/Thesis_Yimeng/venv/lib/python3.9/site-packages/joblib/parallel.py\", line 1088, in __call__\n",
      "    while self.dispatch_one_batch(iterator):\n",
      "  File \"/Users/yimengjin/Desktop/Thesis/Thesis_Yimeng/venv/lib/python3.9/site-packages/joblib/parallel.py\", line 901, in dispatch_one_batch\n",
      "    self._dispatch(tasks)\n",
      "  File \"/Users/yimengjin/Desktop/Thesis/Thesis_Yimeng/venv/lib/python3.9/site-packages/joblib/parallel.py\", line 819, in _dispatch\n",
      "    job = self._backend.apply_async(batch, callback=cb)\n",
      "  File \"/Users/yimengjin/Desktop/Thesis/Thesis_Yimeng/venv/lib/python3.9/site-packages/joblib/_parallel_backends.py\", line 208, in apply_async\n",
      "    result = ImmediateResult(func)\n",
      "  File \"/Users/yimengjin/Desktop/Thesis/Thesis_Yimeng/venv/lib/python3.9/site-packages/joblib/_parallel_backends.py\", line 597, in __init__\n",
      "    self.results = batch()\n",
      "  File \"/Users/yimengjin/Desktop/Thesis/Thesis_Yimeng/venv/lib/python3.9/site-packages/joblib/parallel.py\", line 288, in __call__\n",
      "    return [func(*args, **kwargs)\n",
      "  File \"/Users/yimengjin/Desktop/Thesis/Thesis_Yimeng/venv/lib/python3.9/site-packages/joblib/parallel.py\", line 288, in <listcomp>\n",
      "    return [func(*args, **kwargs)\n",
      "  File \"/Users/yimengjin/Desktop/Thesis/Thesis_Yimeng/venv/lib/python3.9/site-packages/sklearn/utils/fixes.py\", line 117, in __call__\n",
      "    return self.function(*args, **kwargs)\n",
      "  File \"/Users/yimengjin/Desktop/Thesis/Thesis_Yimeng/venv/lib/python3.9/site-packages/sklearn/ensemble/_forest.py\", line 185, in _parallel_build_trees\n",
      "    tree.fit(X, y, sample_weight=curr_sample_weight, check_input=False)\n",
      "  File \"/Users/yimengjin/Desktop/Thesis/Thesis_Yimeng/venv/lib/python3.9/site-packages/sklearn/tree/_classes.py\", line 889, in fit\n",
      "    super().fit(\n",
      "  File \"/Users/yimengjin/Desktop/Thesis/Thesis_Yimeng/venv/lib/python3.9/site-packages/sklearn/tree/_classes.py\", line 178, in fit\n",
      "    random_state = check_random_state(self.random_state)\n",
      "  File \"/Users/yimengjin/Desktop/Thesis/Thesis_Yimeng/venv/lib/python3.9/site-packages/sklearn/utils/validation.py\", line 1216, in check_random_state\n",
      "    return np.random.RandomState(seed)\n",
      "  File \"mtrand.pyx\", line 184, in numpy.random.mtrand.RandomState.__init__\n",
      "  File \"_mt19937.pyx\", line 130, in numpy.random._mt19937.MT19937.__init__\n",
      "  File \"/Library/Developer/CommandLineTools/Library/Frameworks/Python3.framework/Versions/3.9/lib/python3.9/contextlib.py\", line 79, in inner\n",
      "    return func(*args, **kwds)\n",
      "KeyboardInterrupt\n",
      "\n",
      "The above exception was the direct cause of the following exception:\n",
      "\n",
      "Traceback (most recent call last):\n",
      "  File \"/Users/yimengjin/Desktop/Thesis/Thesis_Yimeng/venv/lib/python3.9/site-packages/joblib/externals/loky/process_executor.py\", line 428, in _process_worker\n",
      "    r = call_item()\n",
      "  File \"/Users/yimengjin/Desktop/Thesis/Thesis_Yimeng/venv/lib/python3.9/site-packages/joblib/externals/loky/process_executor.py\", line 275, in __call__\n",
      "    return self.fn(*self.args, **self.kwargs)\n",
      "  File \"/Users/yimengjin/Desktop/Thesis/Thesis_Yimeng/venv/lib/python3.9/site-packages/joblib/_parallel_backends.py\", line 625, in __call__\n",
      "    raise WorkerInterrupt() from e\n",
      "joblib.my_exceptions.WorkerInterrupt\n",
      "\n",
      "During handling of the above exception, another exception occurred:\n",
      "\n",
      "Traceback (most recent call last):\n",
      "  File \"/Library/Developer/CommandLineTools/Library/Frameworks/Python3.framework/Versions/3.9/lib/python3.9/multiprocessing/process.py\", line 315, in _bootstrap\n",
      "    self.run()\n",
      "  File \"/Library/Developer/CommandLineTools/Library/Frameworks/Python3.framework/Versions/3.9/lib/python3.9/multiprocessing/process.py\", line 108, in run\n",
      "    self._target(*self._args, **self._kwargs)\n",
      "  File \"/Users/yimengjin/Desktop/Thesis/Thesis_Yimeng/venv/lib/python3.9/site-packages/joblib/externals/loky/process_executor.py\", line 430, in _process_worker\n",
      "    exc = _ExceptionWithTraceback(e)\n",
      "  File \"/Users/yimengjin/Desktop/Thesis/Thesis_Yimeng/venv/lib/python3.9/site-packages/joblib/externals/loky/process_executor.py\", line 229, in __init__\n",
      "    tb = traceback.format_exception(type(exc), exc, tb)\n",
      "  File \"/Library/Developer/CommandLineTools/Library/Frameworks/Python3.framework/Versions/3.9/lib/python3.9/traceback.py\", line 120, in format_exception\n",
      "    return list(TracebackException(\n",
      "  File \"/Library/Developer/CommandLineTools/Library/Frameworks/Python3.framework/Versions/3.9/lib/python3.9/traceback.py\", line 508, in __init__\n",
      "    self.stack = StackSummary.extract(\n",
      "  File \"/Library/Developer/CommandLineTools/Library/Frameworks/Python3.framework/Versions/3.9/lib/python3.9/traceback.py\", line 366, in extract\n",
      "    f.line\n",
      "  File \"/Library/Developer/CommandLineTools/Library/Frameworks/Python3.framework/Versions/3.9/lib/python3.9/traceback.py\", line 288, in line\n",
      "    self._line = linecache.getline(self.filename, self.lineno).strip()\n",
      "  File \"/Library/Developer/CommandLineTools/Library/Frameworks/Python3.framework/Versions/3.9/lib/python3.9/linecache.py\", line 30, in getline\n",
      "    lines = getlines(filename, module_globals)\n",
      "  File \"/Library/Developer/CommandLineTools/Library/Frameworks/Python3.framework/Versions/3.9/lib/python3.9/linecache.py\", line 57, in getlines\n",
      "    return updatecache(filename, module_globals)\n",
      "  File \"/Library/Developer/CommandLineTools/Library/Frameworks/Python3.framework/Versions/3.9/lib/python3.9/linecache.py\", line 147, in updatecache\n",
      "    with tokenize.open(fullname) as fp:\n",
      "  File \"/Library/Developer/CommandLineTools/Library/Frameworks/Python3.framework/Versions/3.9/lib/python3.9/tokenize.py\", line 394, in open\n",
      "    encoding, lines = detect_encoding(buffer.readline)\n",
      "  File \"/Library/Developer/CommandLineTools/Library/Frameworks/Python3.framework/Versions/3.9/lib/python3.9/tokenize.py\", line 363, in detect_encoding\n",
      "    first = read_or_stop()\n",
      "  File \"/Library/Developer/CommandLineTools/Library/Frameworks/Python3.framework/Versions/3.9/lib/python3.9/tokenize.py\", line 321, in read_or_stop\n",
      "    return readline()\n",
      "KeyboardInterrupt\n"
     ]
    },
    {
     "ename": "KeyboardInterrupt",
     "evalue": "",
     "output_type": "error",
     "traceback": [
      "\u001B[0;31m---------------------------------------------------------------------------\u001B[0m",
      "\u001B[0;31mKeyboardInterrupt\u001B[0m                         Traceback (most recent call last)",
      "File \u001B[0;32m~/Desktop/Thesis/Thesis_Yimeng/venv/lib/python3.9/site-packages/joblib/parallel.py:975\u001B[0m, in \u001B[0;36mParallel.retrieve\u001B[0;34m(self)\u001B[0m\n\u001B[1;32m    974\u001B[0m \u001B[38;5;28;01mif\u001B[39;00m \u001B[38;5;28mgetattr\u001B[39m(\u001B[38;5;28mself\u001B[39m\u001B[38;5;241m.\u001B[39m_backend, \u001B[38;5;124m'\u001B[39m\u001B[38;5;124msupports_timeout\u001B[39m\u001B[38;5;124m'\u001B[39m, \u001B[38;5;28;01mFalse\u001B[39;00m):\n\u001B[0;32m--> 975\u001B[0m     \u001B[38;5;28mself\u001B[39m\u001B[38;5;241m.\u001B[39m_output\u001B[38;5;241m.\u001B[39mextend(\u001B[43mjob\u001B[49m\u001B[38;5;241;43m.\u001B[39;49m\u001B[43mget\u001B[49m\u001B[43m(\u001B[49m\u001B[43mtimeout\u001B[49m\u001B[38;5;241;43m=\u001B[39;49m\u001B[38;5;28;43mself\u001B[39;49m\u001B[38;5;241;43m.\u001B[39;49m\u001B[43mtimeout\u001B[49m\u001B[43m)\u001B[49m)\n\u001B[1;32m    976\u001B[0m \u001B[38;5;28;01melse\u001B[39;00m:\n",
      "File \u001B[0;32m~/Desktop/Thesis/Thesis_Yimeng/venv/lib/python3.9/site-packages/joblib/_parallel_backends.py:567\u001B[0m, in \u001B[0;36mLokyBackend.wrap_future_result\u001B[0;34m(future, timeout)\u001B[0m\n\u001B[1;32m    566\u001B[0m \u001B[38;5;28;01mtry\u001B[39;00m:\n\u001B[0;32m--> 567\u001B[0m     \u001B[38;5;28;01mreturn\u001B[39;00m \u001B[43mfuture\u001B[49m\u001B[38;5;241;43m.\u001B[39;49m\u001B[43mresult\u001B[49m\u001B[43m(\u001B[49m\u001B[43mtimeout\u001B[49m\u001B[38;5;241;43m=\u001B[39;49m\u001B[43mtimeout\u001B[49m\u001B[43m)\u001B[49m\n\u001B[1;32m    568\u001B[0m \u001B[38;5;28;01mexcept\u001B[39;00m CfTimeoutError \u001B[38;5;28;01mas\u001B[39;00m e:\n",
      "File \u001B[0;32m/Library/Developer/CommandLineTools/Library/Frameworks/Python3.framework/Versions/3.9/lib/python3.9/concurrent/futures/_base.py:440\u001B[0m, in \u001B[0;36mFuture.result\u001B[0;34m(self, timeout)\u001B[0m\n\u001B[1;32m    438\u001B[0m     \u001B[38;5;28;01mreturn\u001B[39;00m \u001B[38;5;28mself\u001B[39m\u001B[38;5;241m.\u001B[39m__get_result()\n\u001B[0;32m--> 440\u001B[0m \u001B[38;5;28;43mself\u001B[39;49m\u001B[38;5;241;43m.\u001B[39;49m\u001B[43m_condition\u001B[49m\u001B[38;5;241;43m.\u001B[39;49m\u001B[43mwait\u001B[49m\u001B[43m(\u001B[49m\u001B[43mtimeout\u001B[49m\u001B[43m)\u001B[49m\n\u001B[1;32m    442\u001B[0m \u001B[38;5;28;01mif\u001B[39;00m \u001B[38;5;28mself\u001B[39m\u001B[38;5;241m.\u001B[39m_state \u001B[38;5;129;01min\u001B[39;00m [CANCELLED, CANCELLED_AND_NOTIFIED]:\n",
      "File \u001B[0;32m/Library/Developer/CommandLineTools/Library/Frameworks/Python3.framework/Versions/3.9/lib/python3.9/threading.py:312\u001B[0m, in \u001B[0;36mCondition.wait\u001B[0;34m(self, timeout)\u001B[0m\n\u001B[1;32m    311\u001B[0m \u001B[38;5;28;01mif\u001B[39;00m timeout \u001B[38;5;129;01mis\u001B[39;00m \u001B[38;5;28;01mNone\u001B[39;00m:\n\u001B[0;32m--> 312\u001B[0m     \u001B[43mwaiter\u001B[49m\u001B[38;5;241;43m.\u001B[39;49m\u001B[43macquire\u001B[49m\u001B[43m(\u001B[49m\u001B[43m)\u001B[49m\n\u001B[1;32m    313\u001B[0m     gotit \u001B[38;5;241m=\u001B[39m \u001B[38;5;28;01mTrue\u001B[39;00m\n",
      "\u001B[0;31mKeyboardInterrupt\u001B[0m: ",
      "\nDuring handling of the above exception, another exception occurred:\n",
      "\u001B[0;31mKeyboardInterrupt\u001B[0m                         Traceback (most recent call last)",
      "Cell \u001B[0;32mIn[17], line 1\u001B[0m\n\u001B[0;32m----> 1\u001B[0m \u001B[43mrf_op\u001B[49m\u001B[38;5;241;43m.\u001B[39;49m\u001B[43mfit\u001B[49m\u001B[43m(\u001B[49m\u001B[43mX_train\u001B[49m\u001B[43m,\u001B[49m\u001B[43mY_train\u001B[49m\u001B[38;5;241;43m.\u001B[39;49m\u001B[43mvalues\u001B[49m\u001B[38;5;241;43m.\u001B[39;49m\u001B[43mravel\u001B[49m\u001B[43m(\u001B[49m\u001B[43m)\u001B[49m\u001B[43m)\u001B[49m\n",
      "File \u001B[0;32m~/Desktop/Thesis/Thesis_Yimeng/venv/lib/python3.9/site-packages/sklearn/model_selection/_search.py:875\u001B[0m, in \u001B[0;36mBaseSearchCV.fit\u001B[0;34m(self, X, y, groups, **fit_params)\u001B[0m\n\u001B[1;32m    869\u001B[0m     results \u001B[38;5;241m=\u001B[39m \u001B[38;5;28mself\u001B[39m\u001B[38;5;241m.\u001B[39m_format_results(\n\u001B[1;32m    870\u001B[0m         all_candidate_params, n_splits, all_out, all_more_results\n\u001B[1;32m    871\u001B[0m     )\n\u001B[1;32m    873\u001B[0m     \u001B[38;5;28;01mreturn\u001B[39;00m results\n\u001B[0;32m--> 875\u001B[0m \u001B[38;5;28;43mself\u001B[39;49m\u001B[38;5;241;43m.\u001B[39;49m\u001B[43m_run_search\u001B[49m\u001B[43m(\u001B[49m\u001B[43mevaluate_candidates\u001B[49m\u001B[43m)\u001B[49m\n\u001B[1;32m    877\u001B[0m \u001B[38;5;66;03m# multimetric is determined here because in the case of a callable\u001B[39;00m\n\u001B[1;32m    878\u001B[0m \u001B[38;5;66;03m# self.scoring the return type is only known after calling\u001B[39;00m\n\u001B[1;32m    879\u001B[0m first_test_score \u001B[38;5;241m=\u001B[39m all_out[\u001B[38;5;241m0\u001B[39m][\u001B[38;5;124m\"\u001B[39m\u001B[38;5;124mtest_scores\u001B[39m\u001B[38;5;124m\"\u001B[39m]\n",
      "File \u001B[0;32m~/Desktop/Thesis/Thesis_Yimeng/venv/lib/python3.9/site-packages/sklearn/model_selection/_search.py:1769\u001B[0m, in \u001B[0;36mRandomizedSearchCV._run_search\u001B[0;34m(self, evaluate_candidates)\u001B[0m\n\u001B[1;32m   1767\u001B[0m \u001B[38;5;28;01mdef\u001B[39;00m \u001B[38;5;21m_run_search\u001B[39m(\u001B[38;5;28mself\u001B[39m, evaluate_candidates):\n\u001B[1;32m   1768\u001B[0m     \u001B[38;5;124;03m\"\"\"Search n_iter candidates from param_distributions\"\"\"\u001B[39;00m\n\u001B[0;32m-> 1769\u001B[0m     \u001B[43mevaluate_candidates\u001B[49m\u001B[43m(\u001B[49m\n\u001B[1;32m   1770\u001B[0m \u001B[43m        \u001B[49m\u001B[43mParameterSampler\u001B[49m\u001B[43m(\u001B[49m\n\u001B[1;32m   1771\u001B[0m \u001B[43m            \u001B[49m\u001B[38;5;28;43mself\u001B[39;49m\u001B[38;5;241;43m.\u001B[39;49m\u001B[43mparam_distributions\u001B[49m\u001B[43m,\u001B[49m\u001B[43m \u001B[49m\u001B[38;5;28;43mself\u001B[39;49m\u001B[38;5;241;43m.\u001B[39;49m\u001B[43mn_iter\u001B[49m\u001B[43m,\u001B[49m\u001B[43m \u001B[49m\u001B[43mrandom_state\u001B[49m\u001B[38;5;241;43m=\u001B[39;49m\u001B[38;5;28;43mself\u001B[39;49m\u001B[38;5;241;43m.\u001B[39;49m\u001B[43mrandom_state\u001B[49m\n\u001B[1;32m   1772\u001B[0m \u001B[43m        \u001B[49m\u001B[43m)\u001B[49m\n\u001B[1;32m   1773\u001B[0m \u001B[43m    \u001B[49m\u001B[43m)\u001B[49m\n",
      "File \u001B[0;32m~/Desktop/Thesis/Thesis_Yimeng/venv/lib/python3.9/site-packages/sklearn/model_selection/_search.py:822\u001B[0m, in \u001B[0;36mBaseSearchCV.fit.<locals>.evaluate_candidates\u001B[0;34m(candidate_params, cv, more_results)\u001B[0m\n\u001B[1;32m    814\u001B[0m \u001B[38;5;28;01mif\u001B[39;00m \u001B[38;5;28mself\u001B[39m\u001B[38;5;241m.\u001B[39mverbose \u001B[38;5;241m>\u001B[39m \u001B[38;5;241m0\u001B[39m:\n\u001B[1;32m    815\u001B[0m     \u001B[38;5;28mprint\u001B[39m(\n\u001B[1;32m    816\u001B[0m         \u001B[38;5;124m\"\u001B[39m\u001B[38;5;124mFitting \u001B[39m\u001B[38;5;132;01m{0}\u001B[39;00m\u001B[38;5;124m folds for each of \u001B[39m\u001B[38;5;132;01m{1}\u001B[39;00m\u001B[38;5;124m candidates,\u001B[39m\u001B[38;5;124m\"\u001B[39m\n\u001B[1;32m    817\u001B[0m         \u001B[38;5;124m\"\u001B[39m\u001B[38;5;124m totalling \u001B[39m\u001B[38;5;132;01m{2}\u001B[39;00m\u001B[38;5;124m fits\u001B[39m\u001B[38;5;124m\"\u001B[39m\u001B[38;5;241m.\u001B[39mformat(\n\u001B[1;32m    818\u001B[0m             n_splits, n_candidates, n_candidates \u001B[38;5;241m*\u001B[39m n_splits\n\u001B[1;32m    819\u001B[0m         )\n\u001B[1;32m    820\u001B[0m     )\n\u001B[0;32m--> 822\u001B[0m out \u001B[38;5;241m=\u001B[39m \u001B[43mparallel\u001B[49m\u001B[43m(\u001B[49m\n\u001B[1;32m    823\u001B[0m \u001B[43m    \u001B[49m\u001B[43mdelayed\u001B[49m\u001B[43m(\u001B[49m\u001B[43m_fit_and_score\u001B[49m\u001B[43m)\u001B[49m\u001B[43m(\u001B[49m\n\u001B[1;32m    824\u001B[0m \u001B[43m        \u001B[49m\u001B[43mclone\u001B[49m\u001B[43m(\u001B[49m\u001B[43mbase_estimator\u001B[49m\u001B[43m)\u001B[49m\u001B[43m,\u001B[49m\n\u001B[1;32m    825\u001B[0m \u001B[43m        \u001B[49m\u001B[43mX\u001B[49m\u001B[43m,\u001B[49m\n\u001B[1;32m    826\u001B[0m \u001B[43m        \u001B[49m\u001B[43my\u001B[49m\u001B[43m,\u001B[49m\n\u001B[1;32m    827\u001B[0m \u001B[43m        \u001B[49m\u001B[43mtrain\u001B[49m\u001B[38;5;241;43m=\u001B[39;49m\u001B[43mtrain\u001B[49m\u001B[43m,\u001B[49m\n\u001B[1;32m    828\u001B[0m \u001B[43m        \u001B[49m\u001B[43mtest\u001B[49m\u001B[38;5;241;43m=\u001B[39;49m\u001B[43mtest\u001B[49m\u001B[43m,\u001B[49m\n\u001B[1;32m    829\u001B[0m \u001B[43m        \u001B[49m\u001B[43mparameters\u001B[49m\u001B[38;5;241;43m=\u001B[39;49m\u001B[43mparameters\u001B[49m\u001B[43m,\u001B[49m\n\u001B[1;32m    830\u001B[0m \u001B[43m        \u001B[49m\u001B[43msplit_progress\u001B[49m\u001B[38;5;241;43m=\u001B[39;49m\u001B[43m(\u001B[49m\u001B[43msplit_idx\u001B[49m\u001B[43m,\u001B[49m\u001B[43m \u001B[49m\u001B[43mn_splits\u001B[49m\u001B[43m)\u001B[49m\u001B[43m,\u001B[49m\n\u001B[1;32m    831\u001B[0m \u001B[43m        \u001B[49m\u001B[43mcandidate_progress\u001B[49m\u001B[38;5;241;43m=\u001B[39;49m\u001B[43m(\u001B[49m\u001B[43mcand_idx\u001B[49m\u001B[43m,\u001B[49m\u001B[43m \u001B[49m\u001B[43mn_candidates\u001B[49m\u001B[43m)\u001B[49m\u001B[43m,\u001B[49m\n\u001B[1;32m    832\u001B[0m \u001B[43m        \u001B[49m\u001B[38;5;241;43m*\u001B[39;49m\u001B[38;5;241;43m*\u001B[39;49m\u001B[43mfit_and_score_kwargs\u001B[49m\u001B[43m,\u001B[49m\n\u001B[1;32m    833\u001B[0m \u001B[43m    \u001B[49m\u001B[43m)\u001B[49m\n\u001B[1;32m    834\u001B[0m \u001B[43m    \u001B[49m\u001B[38;5;28;43;01mfor\u001B[39;49;00m\u001B[43m \u001B[49m\u001B[43m(\u001B[49m\u001B[43mcand_idx\u001B[49m\u001B[43m,\u001B[49m\u001B[43m \u001B[49m\u001B[43mparameters\u001B[49m\u001B[43m)\u001B[49m\u001B[43m,\u001B[49m\u001B[43m \u001B[49m\u001B[43m(\u001B[49m\u001B[43msplit_idx\u001B[49m\u001B[43m,\u001B[49m\u001B[43m \u001B[49m\u001B[43m(\u001B[49m\u001B[43mtrain\u001B[49m\u001B[43m,\u001B[49m\u001B[43m \u001B[49m\u001B[43mtest\u001B[49m\u001B[43m)\u001B[49m\u001B[43m)\u001B[49m\u001B[43m \u001B[49m\u001B[38;5;129;43;01min\u001B[39;49;00m\u001B[43m \u001B[49m\u001B[43mproduct\u001B[49m\u001B[43m(\u001B[49m\n\u001B[1;32m    835\u001B[0m \u001B[43m        \u001B[49m\u001B[38;5;28;43menumerate\u001B[39;49m\u001B[43m(\u001B[49m\u001B[43mcandidate_params\u001B[49m\u001B[43m)\u001B[49m\u001B[43m,\u001B[49m\u001B[43m \u001B[49m\u001B[38;5;28;43menumerate\u001B[39;49m\u001B[43m(\u001B[49m\u001B[43mcv\u001B[49m\u001B[38;5;241;43m.\u001B[39;49m\u001B[43msplit\u001B[49m\u001B[43m(\u001B[49m\u001B[43mX\u001B[49m\u001B[43m,\u001B[49m\u001B[43m \u001B[49m\u001B[43my\u001B[49m\u001B[43m,\u001B[49m\u001B[43m \u001B[49m\u001B[43mgroups\u001B[49m\u001B[43m)\u001B[49m\u001B[43m)\u001B[49m\n\u001B[1;32m    836\u001B[0m \u001B[43m    \u001B[49m\u001B[43m)\u001B[49m\n\u001B[1;32m    837\u001B[0m \u001B[43m\u001B[49m\u001B[43m)\u001B[49m\n\u001B[1;32m    839\u001B[0m \u001B[38;5;28;01mif\u001B[39;00m \u001B[38;5;28mlen\u001B[39m(out) \u001B[38;5;241m<\u001B[39m \u001B[38;5;241m1\u001B[39m:\n\u001B[1;32m    840\u001B[0m     \u001B[38;5;28;01mraise\u001B[39;00m \u001B[38;5;167;01mValueError\u001B[39;00m(\n\u001B[1;32m    841\u001B[0m         \u001B[38;5;124m\"\u001B[39m\u001B[38;5;124mNo fits were performed. \u001B[39m\u001B[38;5;124m\"\u001B[39m\n\u001B[1;32m    842\u001B[0m         \u001B[38;5;124m\"\u001B[39m\u001B[38;5;124mWas the CV iterator empty? \u001B[39m\u001B[38;5;124m\"\u001B[39m\n\u001B[1;32m    843\u001B[0m         \u001B[38;5;124m\"\u001B[39m\u001B[38;5;124mWere there no candidates?\u001B[39m\u001B[38;5;124m\"\u001B[39m\n\u001B[1;32m    844\u001B[0m     )\n",
      "File \u001B[0;32m~/Desktop/Thesis/Thesis_Yimeng/venv/lib/python3.9/site-packages/joblib/parallel.py:1098\u001B[0m, in \u001B[0;36mParallel.__call__\u001B[0;34m(self, iterable)\u001B[0m\n\u001B[1;32m   1095\u001B[0m     \u001B[38;5;28mself\u001B[39m\u001B[38;5;241m.\u001B[39m_iterating \u001B[38;5;241m=\u001B[39m \u001B[38;5;28;01mFalse\u001B[39;00m\n\u001B[1;32m   1097\u001B[0m \u001B[38;5;28;01mwith\u001B[39;00m \u001B[38;5;28mself\u001B[39m\u001B[38;5;241m.\u001B[39m_backend\u001B[38;5;241m.\u001B[39mretrieval_context():\n\u001B[0;32m-> 1098\u001B[0m     \u001B[38;5;28;43mself\u001B[39;49m\u001B[38;5;241;43m.\u001B[39;49m\u001B[43mretrieve\u001B[49m\u001B[43m(\u001B[49m\u001B[43m)\u001B[49m\n\u001B[1;32m   1099\u001B[0m \u001B[38;5;66;03m# Make sure that we get a last message telling us we are done\u001B[39;00m\n\u001B[1;32m   1100\u001B[0m elapsed_time \u001B[38;5;241m=\u001B[39m time\u001B[38;5;241m.\u001B[39mtime() \u001B[38;5;241m-\u001B[39m \u001B[38;5;28mself\u001B[39m\u001B[38;5;241m.\u001B[39m_start_time\n",
      "File \u001B[0;32m~/Desktop/Thesis/Thesis_Yimeng/venv/lib/python3.9/site-packages/joblib/parallel.py:997\u001B[0m, in \u001B[0;36mParallel.retrieve\u001B[0;34m(self)\u001B[0m\n\u001B[1;32m    991\u001B[0m \u001B[38;5;28;01mif\u001B[39;00m (backend \u001B[38;5;129;01mis\u001B[39;00m \u001B[38;5;129;01mnot\u001B[39;00m \u001B[38;5;28;01mNone\u001B[39;00m \u001B[38;5;129;01mand\u001B[39;00m\n\u001B[1;32m    992\u001B[0m         \u001B[38;5;28mhasattr\u001B[39m(backend, \u001B[38;5;124m'\u001B[39m\u001B[38;5;124mabort_everything\u001B[39m\u001B[38;5;124m'\u001B[39m)):\n\u001B[1;32m    993\u001B[0m     \u001B[38;5;66;03m# If the backend is managed externally we need to make sure\u001B[39;00m\n\u001B[1;32m    994\u001B[0m     \u001B[38;5;66;03m# to leave it in a working state to allow for future jobs\u001B[39;00m\n\u001B[1;32m    995\u001B[0m     \u001B[38;5;66;03m# scheduling.\u001B[39;00m\n\u001B[1;32m    996\u001B[0m     ensure_ready \u001B[38;5;241m=\u001B[39m \u001B[38;5;28mself\u001B[39m\u001B[38;5;241m.\u001B[39m_managed_backend\n\u001B[0;32m--> 997\u001B[0m     \u001B[43mbackend\u001B[49m\u001B[38;5;241;43m.\u001B[39;49m\u001B[43mabort_everything\u001B[49m\u001B[43m(\u001B[49m\u001B[43mensure_ready\u001B[49m\u001B[38;5;241;43m=\u001B[39;49m\u001B[43mensure_ready\u001B[49m\u001B[43m)\u001B[49m\n\u001B[1;32m    998\u001B[0m \u001B[38;5;28;01mraise\u001B[39;00m\n",
      "File \u001B[0;32m~/Desktop/Thesis/Thesis_Yimeng/venv/lib/python3.9/site-packages/joblib/_parallel_backends.py:586\u001B[0m, in \u001B[0;36mLokyBackend.abort_everything\u001B[0;34m(self, ensure_ready)\u001B[0m\n\u001B[1;32m    583\u001B[0m \u001B[38;5;28;01mdef\u001B[39;00m \u001B[38;5;21mabort_everything\u001B[39m(\u001B[38;5;28mself\u001B[39m, ensure_ready\u001B[38;5;241m=\u001B[39m\u001B[38;5;28;01mTrue\u001B[39;00m):\n\u001B[1;32m    584\u001B[0m     \u001B[38;5;124;03m\"\"\"Shutdown the workers and restart a new one with the same parameters\u001B[39;00m\n\u001B[1;32m    585\u001B[0m \u001B[38;5;124;03m    \"\"\"\u001B[39;00m\n\u001B[0;32m--> 586\u001B[0m     \u001B[38;5;28;43mself\u001B[39;49m\u001B[38;5;241;43m.\u001B[39;49m\u001B[43m_workers\u001B[49m\u001B[38;5;241;43m.\u001B[39;49m\u001B[43mterminate\u001B[49m\u001B[43m(\u001B[49m\u001B[43mkill_workers\u001B[49m\u001B[38;5;241;43m=\u001B[39;49m\u001B[38;5;28;43;01mTrue\u001B[39;49;00m\u001B[43m)\u001B[49m\n\u001B[1;32m    587\u001B[0m     \u001B[38;5;28mself\u001B[39m\u001B[38;5;241m.\u001B[39m_workers \u001B[38;5;241m=\u001B[39m \u001B[38;5;28;01mNone\u001B[39;00m\n\u001B[1;32m    589\u001B[0m     \u001B[38;5;28;01mif\u001B[39;00m ensure_ready:\n",
      "File \u001B[0;32m~/Desktop/Thesis/Thesis_Yimeng/venv/lib/python3.9/site-packages/joblib/executor.py:74\u001B[0m, in \u001B[0;36mMemmappingExecutor.terminate\u001B[0;34m(self, kill_workers)\u001B[0m\n\u001B[1;32m     73\u001B[0m \u001B[38;5;28;01mdef\u001B[39;00m \u001B[38;5;21mterminate\u001B[39m(\u001B[38;5;28mself\u001B[39m, kill_workers\u001B[38;5;241m=\u001B[39m\u001B[38;5;28;01mFalse\u001B[39;00m):\n\u001B[0;32m---> 74\u001B[0m     \u001B[38;5;28;43mself\u001B[39;49m\u001B[38;5;241;43m.\u001B[39;49m\u001B[43mshutdown\u001B[49m\u001B[43m(\u001B[49m\u001B[43mkill_workers\u001B[49m\u001B[38;5;241;43m=\u001B[39;49m\u001B[43mkill_workers\u001B[49m\u001B[43m)\u001B[49m\n\u001B[1;32m     75\u001B[0m     \u001B[38;5;28;01mif\u001B[39;00m kill_workers:\n\u001B[1;32m     76\u001B[0m         \u001B[38;5;66;03m# When workers are killed in such a brutal manner, they cannot\u001B[39;00m\n\u001B[1;32m     77\u001B[0m         \u001B[38;5;66;03m# execute the finalizer of their shared memmaps. The refcount of\u001B[39;00m\n\u001B[0;32m   (...)\u001B[0m\n\u001B[1;32m     83\u001B[0m \n\u001B[1;32m     84\u001B[0m         \u001B[38;5;66;03m# unregister temporary resources from all contexts\u001B[39;00m\n\u001B[1;32m     85\u001B[0m         \u001B[38;5;28;01mwith\u001B[39;00m \u001B[38;5;28mself\u001B[39m\u001B[38;5;241m.\u001B[39m_submit_resize_lock:\n",
      "File \u001B[0;32m~/Desktop/Thesis/Thesis_Yimeng/venv/lib/python3.9/site-packages/joblib/externals/loky/process_executor.py:1199\u001B[0m, in \u001B[0;36mProcessPoolExecutor.shutdown\u001B[0;34m(self, wait, kill_workers)\u001B[0m\n\u001B[1;32m   1196\u001B[0m         \u001B[38;5;28mself\u001B[39m\u001B[38;5;241m.\u001B[39m_executor_manager_thread_wakeup\u001B[38;5;241m.\u001B[39mwakeup()\n\u001B[1;32m   1198\u001B[0m \u001B[38;5;28;01mif\u001B[39;00m executor_manager_thread \u001B[38;5;129;01mis\u001B[39;00m \u001B[38;5;129;01mnot\u001B[39;00m \u001B[38;5;28;01mNone\u001B[39;00m \u001B[38;5;129;01mand\u001B[39;00m wait:\n\u001B[0;32m-> 1199\u001B[0m     \u001B[43mexecutor_manager_thread\u001B[49m\u001B[38;5;241;43m.\u001B[39;49m\u001B[43mjoin\u001B[49m\u001B[43m(\u001B[49m\u001B[43m)\u001B[49m\n\u001B[1;32m   1201\u001B[0m \u001B[38;5;66;03m# To reduce the risk of opening too many files, remove references to\u001B[39;00m\n\u001B[1;32m   1202\u001B[0m \u001B[38;5;66;03m# objects that use file descriptors.\u001B[39;00m\n\u001B[1;32m   1203\u001B[0m \u001B[38;5;28mself\u001B[39m\u001B[38;5;241m.\u001B[39m_executor_manager_thread \u001B[38;5;241m=\u001B[39m \u001B[38;5;28;01mNone\u001B[39;00m\n",
      "File \u001B[0;32m/Library/Developer/CommandLineTools/Library/Frameworks/Python3.framework/Versions/3.9/lib/python3.9/threading.py:1053\u001B[0m, in \u001B[0;36mThread.join\u001B[0;34m(self, timeout)\u001B[0m\n\u001B[1;32m   1050\u001B[0m     \u001B[38;5;28;01mraise\u001B[39;00m \u001B[38;5;167;01mRuntimeError\u001B[39;00m(\u001B[38;5;124m\"\u001B[39m\u001B[38;5;124mcannot join current thread\u001B[39m\u001B[38;5;124m\"\u001B[39m)\n\u001B[1;32m   1052\u001B[0m \u001B[38;5;28;01mif\u001B[39;00m timeout \u001B[38;5;129;01mis\u001B[39;00m \u001B[38;5;28;01mNone\u001B[39;00m:\n\u001B[0;32m-> 1053\u001B[0m     \u001B[38;5;28;43mself\u001B[39;49m\u001B[38;5;241;43m.\u001B[39;49m\u001B[43m_wait_for_tstate_lock\u001B[49m\u001B[43m(\u001B[49m\u001B[43m)\u001B[49m\n\u001B[1;32m   1054\u001B[0m \u001B[38;5;28;01melse\u001B[39;00m:\n\u001B[1;32m   1055\u001B[0m     \u001B[38;5;66;03m# the behavior of a negative timeout isn't documented, but\u001B[39;00m\n\u001B[1;32m   1056\u001B[0m     \u001B[38;5;66;03m# historically .join(timeout=x) for x<0 has acted as if timeout=0\u001B[39;00m\n\u001B[1;32m   1057\u001B[0m     \u001B[38;5;28mself\u001B[39m\u001B[38;5;241m.\u001B[39m_wait_for_tstate_lock(timeout\u001B[38;5;241m=\u001B[39m\u001B[38;5;28mmax\u001B[39m(timeout, \u001B[38;5;241m0\u001B[39m))\n",
      "File \u001B[0;32m/Library/Developer/CommandLineTools/Library/Frameworks/Python3.framework/Versions/3.9/lib/python3.9/threading.py:1069\u001B[0m, in \u001B[0;36mThread._wait_for_tstate_lock\u001B[0;34m(self, block, timeout)\u001B[0m\n\u001B[1;32m   1067\u001B[0m \u001B[38;5;28;01mif\u001B[39;00m lock \u001B[38;5;129;01mis\u001B[39;00m \u001B[38;5;28;01mNone\u001B[39;00m:  \u001B[38;5;66;03m# already determined that the C code is done\u001B[39;00m\n\u001B[1;32m   1068\u001B[0m     \u001B[38;5;28;01massert\u001B[39;00m \u001B[38;5;28mself\u001B[39m\u001B[38;5;241m.\u001B[39m_is_stopped\n\u001B[0;32m-> 1069\u001B[0m \u001B[38;5;28;01melif\u001B[39;00m \u001B[43mlock\u001B[49m\u001B[38;5;241;43m.\u001B[39;49m\u001B[43macquire\u001B[49m\u001B[43m(\u001B[49m\u001B[43mblock\u001B[49m\u001B[43m,\u001B[49m\u001B[43m \u001B[49m\u001B[43mtimeout\u001B[49m\u001B[43m)\u001B[49m:\n\u001B[1;32m   1070\u001B[0m     lock\u001B[38;5;241m.\u001B[39mrelease()\n\u001B[1;32m   1071\u001B[0m     \u001B[38;5;28mself\u001B[39m\u001B[38;5;241m.\u001B[39m_stop()\n",
      "\u001B[0;31mKeyboardInterrupt\u001B[0m: "
     ]
    }
   ],
   "source": [
    "rf_op.fit(X_train,Y_train.values.ravel())"
   ],
   "metadata": {
    "collapsed": false
   }
  },
  {
   "cell_type": "code",
   "execution_count": null,
   "outputs": [],
   "source": [
    "rf_op.best_params_"
   ],
   "metadata": {
    "collapsed": false
   }
  },
  {
   "cell_type": "code",
   "execution_count": null,
   "outputs": [],
   "source": [
    "rf = RandomForestClassifier(random_state=0, n_estimators=rf_op.best_params_['n_estimators'], min_samples_split=rf_op.best_params_['min_samples_split'], min_samples_leaf=rf_op.best_params_['min_samples_leaf'], max_features=rf_op.best_params_['max_features'], max_depth=rf_op.best_params_['max_depth'], class_weight = rf_op.best_params_['class_weight'],bootstrap=rf_op.best_params_['bootstrap'])"
   ],
   "metadata": {
    "collapsed": false
   }
  },
  {
   "cell_type": "code",
   "execution_count": null,
   "outputs": [],
   "source": [
    "arr = cross_val_score(rf, X_train, Y_train.values.ravel(), cv=cv)\n",
    "arr"
   ],
   "metadata": {
    "collapsed": false
   }
  },
  {
   "cell_type": "code",
   "execution_count": null,
   "outputs": [],
   "source": [
    "np.mean(arr)"
   ],
   "metadata": {
    "collapsed": false
   }
  },
  {
   "cell_type": "code",
   "execution_count": null,
   "outputs": [],
   "source": [
    "rf.fit(X_train,Y_train.values.ravel())"
   ],
   "metadata": {
    "collapsed": false
   }
  },
  {
   "cell_type": "code",
   "execution_count": null,
   "outputs": [],
   "source": [
    "Y_predict_RF = rf.predict(X_train)\n",
    "confusion_matrix(Y_train,Y_predict_RF)"
   ],
   "metadata": {
    "collapsed": false
   }
  },
  {
   "cell_type": "markdown",
   "source": [
    "## Gaussian Process Classifier"
   ],
   "metadata": {
    "collapsed": false
   }
  },
  {
   "cell_type": "code",
   "execution_count": null,
   "outputs": [],
   "source": [
    "from sklearn.gaussian_process import GaussianProcessClassifier\n",
    "from sklearn.gaussian_process.kernels import RBF, Matern, DotProduct, RationalQuadratic, WhiteKernel\n",
    "from sklearn.model_selection import cross_val_score\n",
    "from sklearn.model_selection import RepeatedStratifiedKFold\n",
    "from sklearn.model_selection import GridSearchCV\n",
    "\n",
    "# kernel = Matern()\n",
    "gpc = GaussianProcessClassifier()"
   ],
   "metadata": {
    "collapsed": false
   }
  },
  {
   "cell_type": "code",
   "execution_count": null,
   "outputs": [],
   "source": [
    "params = {'kernel':[RBF(), DotProduct(), Matern(),  RationalQuadratic(), WhiteKernel()]}"
   ],
   "metadata": {
    "collapsed": false
   }
  },
  {
   "cell_type": "code",
   "execution_count": null,
   "outputs": [],
   "source": [
    "cv = RepeatedStratifiedKFold(n_splits=4, n_repeats=5, random_state=0)\n",
    "gpc_op = GridSearchCV(gpc, params, scoring='f1', cv=cv, n_jobs=-1)"
   ],
   "metadata": {
    "collapsed": false
   }
  },
  {
   "cell_type": "code",
   "execution_count": null,
   "outputs": [],
   "source": [
    "gpc_op.fit(X_train,Y_train.values.ravel())"
   ],
   "metadata": {
    "collapsed": false
   }
  },
  {
   "cell_type": "code",
   "execution_count": null,
   "outputs": [],
   "source": [
    "print(gpc_op.best_params_)\n",
    "print(gpc_op.best_score_)"
   ],
   "metadata": {
    "collapsed": false
   }
  },
  {
   "cell_type": "code",
   "execution_count": null,
   "outputs": [],
   "source": [
    "gpc_op = GaussianProcessClassifier(kernel = DotProduct())\n",
    "gpc_op.fit(X_train,Y_train.values.ravel())"
   ],
   "metadata": {
    "collapsed": false
   }
  },
  {
   "cell_type": "code",
   "execution_count": null,
   "outputs": [],
   "source": [
    "Y_predict_gpc = gpc_op.predict(X_train)\n",
    "Y_predict_gpc"
   ],
   "metadata": {
    "collapsed": false
   }
  },
  {
   "cell_type": "code",
   "execution_count": null,
   "outputs": [],
   "source": [
    "confusion_matrix(Y_train,Y_predict_gpc)"
   ],
   "metadata": {
    "collapsed": false
   }
  },
  {
   "cell_type": "markdown",
   "source": [
    "## Decision Tree"
   ],
   "metadata": {
    "collapsed": false
   }
  },
  {
   "cell_type": "code",
   "execution_count": 130,
   "outputs": [],
   "source": [
    "from sklearn.tree import DecisionTreeClassifier\n",
    "\n",
    "dtc = DecisionTreeClassifier()"
   ],
   "metadata": {
    "collapsed": false
   }
  },
  {
   "cell_type": "code",
   "execution_count": 131,
   "outputs": [],
   "source": [
    "params = {'max_depth': [2, 3, 5, 10, 20], 'min_samples_leaf': [5, 10, 20, 50, 100], 'criterion': [\"gini\", \"entropy\"],\n",
    "          'splitter': [\"best\", \"random\"], 'max_features': [\"auto\", \"sqrt\", \"log2\"], 'class_weight': ['balanced']}\n",
    "cv = RepeatedStratifiedKFold(n_splits=4, n_repeats=5, random_state=0)"
   ],
   "metadata": {
    "collapsed": false
   }
  },
  {
   "cell_type": "code",
   "execution_count": 132,
   "outputs": [
    {
     "name": "stdout",
     "output_type": "stream",
     "text": [
      "Fitting 20 folds for each of 20 candidates, totalling 400 fits\n"
     ]
    },
    {
     "name": "stderr",
     "output_type": "stream",
     "text": [
      "/Users/yimengjin/Desktop/Thesis/Thesis_Yimeng/venv/lib/python3.9/site-packages/sklearn/tree/_classes.py:269: FutureWarning: `max_features='auto'` has been deprecated in 1.1 and will be removed in 1.3. To keep the past behaviour, explicitly set `max_features='sqrt'`.\n",
      "  warnings.warn(\n",
      "/Users/yimengjin/Desktop/Thesis/Thesis_Yimeng/venv/lib/python3.9/site-packages/sklearn/tree/_classes.py:269: FutureWarning: `max_features='auto'` has been deprecated in 1.1 and will be removed in 1.3. To keep the past behaviour, explicitly set `max_features='sqrt'`.\n",
      "  warnings.warn(\n",
      "/Users/yimengjin/Desktop/Thesis/Thesis_Yimeng/venv/lib/python3.9/site-packages/sklearn/tree/_classes.py:269: FutureWarning: `max_features='auto'` has been deprecated in 1.1 and will be removed in 1.3. To keep the past behaviour, explicitly set `max_features='sqrt'`.\n",
      "  warnings.warn(\n",
      "/Users/yimengjin/Desktop/Thesis/Thesis_Yimeng/venv/lib/python3.9/site-packages/sklearn/tree/_classes.py:269: FutureWarning: `max_features='auto'` has been deprecated in 1.1 and will be removed in 1.3. To keep the past behaviour, explicitly set `max_features='sqrt'`.\n",
      "  warnings.warn(\n",
      "/Users/yimengjin/Desktop/Thesis/Thesis_Yimeng/venv/lib/python3.9/site-packages/sklearn/tree/_classes.py:269: FutureWarning: `max_features='auto'` has been deprecated in 1.1 and will be removed in 1.3. To keep the past behaviour, explicitly set `max_features='sqrt'`.\n",
      "  warnings.warn(\n",
      "/Users/yimengjin/Desktop/Thesis/Thesis_Yimeng/venv/lib/python3.9/site-packages/sklearn/tree/_classes.py:269: FutureWarning: `max_features='auto'` has been deprecated in 1.1 and will be removed in 1.3. To keep the past behaviour, explicitly set `max_features='sqrt'`.\n",
      "  warnings.warn(\n",
      "/Users/yimengjin/Desktop/Thesis/Thesis_Yimeng/venv/lib/python3.9/site-packages/sklearn/tree/_classes.py:269: FutureWarning: `max_features='auto'` has been deprecated in 1.1 and will be removed in 1.3. To keep the past behaviour, explicitly set `max_features='sqrt'`.\n",
      "  warnings.warn(\n",
      "/Users/yimengjin/Desktop/Thesis/Thesis_Yimeng/venv/lib/python3.9/site-packages/sklearn/tree/_classes.py:269: FutureWarning: `max_features='auto'` has been deprecated in 1.1 and will be removed in 1.3. To keep the past behaviour, explicitly set `max_features='sqrt'`.\n",
      "  warnings.warn(\n",
      "/Users/yimengjin/Desktop/Thesis/Thesis_Yimeng/venv/lib/python3.9/site-packages/sklearn/tree/_classes.py:269: FutureWarning: `max_features='auto'` has been deprecated in 1.1 and will be removed in 1.3. To keep the past behaviour, explicitly set `max_features='sqrt'`.\n",
      "  warnings.warn(\n",
      "/Users/yimengjin/Desktop/Thesis/Thesis_Yimeng/venv/lib/python3.9/site-packages/sklearn/tree/_classes.py:269: FutureWarning: `max_features='auto'` has been deprecated in 1.1 and will be removed in 1.3. To keep the past behaviour, explicitly set `max_features='sqrt'`.\n",
      "  warnings.warn(\n",
      "/Users/yimengjin/Desktop/Thesis/Thesis_Yimeng/venv/lib/python3.9/site-packages/sklearn/tree/_classes.py:269: FutureWarning: `max_features='auto'` has been deprecated in 1.1 and will be removed in 1.3. To keep the past behaviour, explicitly set `max_features='sqrt'`.\n",
      "  warnings.warn(\n",
      "/Users/yimengjin/Desktop/Thesis/Thesis_Yimeng/venv/lib/python3.9/site-packages/sklearn/tree/_classes.py:269: FutureWarning: `max_features='auto'` has been deprecated in 1.1 and will be removed in 1.3. To keep the past behaviour, explicitly set `max_features='sqrt'`.\n",
      "  warnings.warn(\n",
      "/Users/yimengjin/Desktop/Thesis/Thesis_Yimeng/venv/lib/python3.9/site-packages/sklearn/tree/_classes.py:269: FutureWarning: `max_features='auto'` has been deprecated in 1.1 and will be removed in 1.3. To keep the past behaviour, explicitly set `max_features='sqrt'`.\n",
      "  warnings.warn(\n",
      "/Users/yimengjin/Desktop/Thesis/Thesis_Yimeng/venv/lib/python3.9/site-packages/sklearn/tree/_classes.py:269: FutureWarning: `max_features='auto'` has been deprecated in 1.1 and will be removed in 1.3. To keep the past behaviour, explicitly set `max_features='sqrt'`.\n",
      "  warnings.warn(\n",
      "/Users/yimengjin/Desktop/Thesis/Thesis_Yimeng/venv/lib/python3.9/site-packages/sklearn/tree/_classes.py:269: FutureWarning: `max_features='auto'` has been deprecated in 1.1 and will be removed in 1.3. To keep the past behaviour, explicitly set `max_features='sqrt'`.\n",
      "  warnings.warn(\n",
      "/Users/yimengjin/Desktop/Thesis/Thesis_Yimeng/venv/lib/python3.9/site-packages/sklearn/tree/_classes.py:269: FutureWarning: `max_features='auto'` has been deprecated in 1.1 and will be removed in 1.3. To keep the past behaviour, explicitly set `max_features='sqrt'`.\n",
      "  warnings.warn(\n",
      "/Users/yimengjin/Desktop/Thesis/Thesis_Yimeng/venv/lib/python3.9/site-packages/sklearn/tree/_classes.py:269: FutureWarning: `max_features='auto'` has been deprecated in 1.1 and will be removed in 1.3. To keep the past behaviour, explicitly set `max_features='sqrt'`.\n",
      "  warnings.warn(\n",
      "/Users/yimengjin/Desktop/Thesis/Thesis_Yimeng/venv/lib/python3.9/site-packages/sklearn/tree/_classes.py:269: FutureWarning: `max_features='auto'` has been deprecated in 1.1 and will be removed in 1.3. To keep the past behaviour, explicitly set `max_features='sqrt'`.\n",
      "  warnings.warn(\n",
      "/Users/yimengjin/Desktop/Thesis/Thesis_Yimeng/venv/lib/python3.9/site-packages/sklearn/tree/_classes.py:269: FutureWarning: `max_features='auto'` has been deprecated in 1.1 and will be removed in 1.3. To keep the past behaviour, explicitly set `max_features='sqrt'`.\n",
      "  warnings.warn(\n",
      "/Users/yimengjin/Desktop/Thesis/Thesis_Yimeng/venv/lib/python3.9/site-packages/sklearn/tree/_classes.py:269: FutureWarning: `max_features='auto'` has been deprecated in 1.1 and will be removed in 1.3. To keep the past behaviour, explicitly set `max_features='sqrt'`.\n",
      "  warnings.warn(\n",
      "/Users/yimengjin/Desktop/Thesis/Thesis_Yimeng/venv/lib/python3.9/site-packages/sklearn/tree/_classes.py:269: FutureWarning: `max_features='auto'` has been deprecated in 1.1 and will be removed in 1.3. To keep the past behaviour, explicitly set `max_features='sqrt'`.\n",
      "  warnings.warn(\n",
      "/Users/yimengjin/Desktop/Thesis/Thesis_Yimeng/venv/lib/python3.9/site-packages/sklearn/tree/_classes.py:269: FutureWarning: `max_features='auto'` has been deprecated in 1.1 and will be removed in 1.3. To keep the past behaviour, explicitly set `max_features='sqrt'`.\n",
      "  warnings.warn(\n",
      "/Users/yimengjin/Desktop/Thesis/Thesis_Yimeng/venv/lib/python3.9/site-packages/sklearn/tree/_classes.py:269: FutureWarning: `max_features='auto'` has been deprecated in 1.1 and will be removed in 1.3. To keep the past behaviour, explicitly set `max_features='sqrt'`.\n",
      "  warnings.warn(\n",
      "/Users/yimengjin/Desktop/Thesis/Thesis_Yimeng/venv/lib/python3.9/site-packages/sklearn/tree/_classes.py:269: FutureWarning: `max_features='auto'` has been deprecated in 1.1 and will be removed in 1.3. To keep the past behaviour, explicitly set `max_features='sqrt'`.\n",
      "  warnings.warn(\n",
      "/Users/yimengjin/Desktop/Thesis/Thesis_Yimeng/venv/lib/python3.9/site-packages/sklearn/tree/_classes.py:269: FutureWarning: `max_features='auto'` has been deprecated in 1.1 and will be removed in 1.3. To keep the past behaviour, explicitly set `max_features='sqrt'`.\n",
      "  warnings.warn(\n",
      "/Users/yimengjin/Desktop/Thesis/Thesis_Yimeng/venv/lib/python3.9/site-packages/sklearn/tree/_classes.py:269: FutureWarning: `max_features='auto'` has been deprecated in 1.1 and will be removed in 1.3. To keep the past behaviour, explicitly set `max_features='sqrt'`.\n",
      "  warnings.warn(\n",
      "/Users/yimengjin/Desktop/Thesis/Thesis_Yimeng/venv/lib/python3.9/site-packages/sklearn/tree/_classes.py:269: FutureWarning: `max_features='auto'` has been deprecated in 1.1 and will be removed in 1.3. To keep the past behaviour, explicitly set `max_features='sqrt'`.\n",
      "  warnings.warn(\n",
      "/Users/yimengjin/Desktop/Thesis/Thesis_Yimeng/venv/lib/python3.9/site-packages/sklearn/tree/_classes.py:269: FutureWarning: `max_features='auto'` has been deprecated in 1.1 and will be removed in 1.3. To keep the past behaviour, explicitly set `max_features='sqrt'`.\n",
      "  warnings.warn(\n",
      "/Users/yimengjin/Desktop/Thesis/Thesis_Yimeng/venv/lib/python3.9/site-packages/sklearn/tree/_classes.py:269: FutureWarning: `max_features='auto'` has been deprecated in 1.1 and will be removed in 1.3. To keep the past behaviour, explicitly set `max_features='sqrt'`.\n",
      "  warnings.warn(\n",
      "/Users/yimengjin/Desktop/Thesis/Thesis_Yimeng/venv/lib/python3.9/site-packages/sklearn/tree/_classes.py:269: FutureWarning: `max_features='auto'` has been deprecated in 1.1 and will be removed in 1.3. To keep the past behaviour, explicitly set `max_features='sqrt'`.\n",
      "  warnings.warn(\n",
      "/Users/yimengjin/Desktop/Thesis/Thesis_Yimeng/venv/lib/python3.9/site-packages/sklearn/tree/_classes.py:269: FutureWarning: `max_features='auto'` has been deprecated in 1.1 and will be removed in 1.3. To keep the past behaviour, explicitly set `max_features='sqrt'`.\n",
      "  warnings.warn(\n",
      "/Users/yimengjin/Desktop/Thesis/Thesis_Yimeng/venv/lib/python3.9/site-packages/sklearn/tree/_classes.py:269: FutureWarning: `max_features='auto'` has been deprecated in 1.1 and will be removed in 1.3. To keep the past behaviour, explicitly set `max_features='sqrt'`.\n",
      "  warnings.warn(\n",
      "/Users/yimengjin/Desktop/Thesis/Thesis_Yimeng/venv/lib/python3.9/site-packages/sklearn/tree/_classes.py:269: FutureWarning: `max_features='auto'` has been deprecated in 1.1 and will be removed in 1.3. To keep the past behaviour, explicitly set `max_features='sqrt'`.\n",
      "  warnings.warn(\n",
      "/Users/yimengjin/Desktop/Thesis/Thesis_Yimeng/venv/lib/python3.9/site-packages/sklearn/tree/_classes.py:269: FutureWarning: `max_features='auto'` has been deprecated in 1.1 and will be removed in 1.3. To keep the past behaviour, explicitly set `max_features='sqrt'`.\n",
      "  warnings.warn(\n",
      "/Users/yimengjin/Desktop/Thesis/Thesis_Yimeng/venv/lib/python3.9/site-packages/sklearn/tree/_classes.py:269: FutureWarning: `max_features='auto'` has been deprecated in 1.1 and will be removed in 1.3. To keep the past behaviour, explicitly set `max_features='sqrt'`.\n",
      "  warnings.warn(\n",
      "/Users/yimengjin/Desktop/Thesis/Thesis_Yimeng/venv/lib/python3.9/site-packages/sklearn/tree/_classes.py:269: FutureWarning: `max_features='auto'` has been deprecated in 1.1 and will be removed in 1.3. To keep the past behaviour, explicitly set `max_features='sqrt'`.\n",
      "  warnings.warn(\n",
      "/Users/yimengjin/Desktop/Thesis/Thesis_Yimeng/venv/lib/python3.9/site-packages/sklearn/tree/_classes.py:269: FutureWarning: `max_features='auto'` has been deprecated in 1.1 and will be removed in 1.3. To keep the past behaviour, explicitly set `max_features='sqrt'`.\n",
      "  warnings.warn(\n",
      "/Users/yimengjin/Desktop/Thesis/Thesis_Yimeng/venv/lib/python3.9/site-packages/sklearn/tree/_classes.py:269: FutureWarning: `max_features='auto'` has been deprecated in 1.1 and will be removed in 1.3. To keep the past behaviour, explicitly set `max_features='sqrt'`.\n",
      "  warnings.warn(\n",
      "/Users/yimengjin/Desktop/Thesis/Thesis_Yimeng/venv/lib/python3.9/site-packages/sklearn/tree/_classes.py:269: FutureWarning: `max_features='auto'` has been deprecated in 1.1 and will be removed in 1.3. To keep the past behaviour, explicitly set `max_features='sqrt'`.\n",
      "  warnings.warn(\n",
      "/Users/yimengjin/Desktop/Thesis/Thesis_Yimeng/venv/lib/python3.9/site-packages/sklearn/tree/_classes.py:269: FutureWarning: `max_features='auto'` has been deprecated in 1.1 and will be removed in 1.3. To keep the past behaviour, explicitly set `max_features='sqrt'`.\n",
      "  warnings.warn(\n",
      "/Users/yimengjin/Desktop/Thesis/Thesis_Yimeng/venv/lib/python3.9/site-packages/sklearn/tree/_classes.py:269: FutureWarning: `max_features='auto'` has been deprecated in 1.1 and will be removed in 1.3. To keep the past behaviour, explicitly set `max_features='sqrt'`.\n",
      "  warnings.warn(\n",
      "/Users/yimengjin/Desktop/Thesis/Thesis_Yimeng/venv/lib/python3.9/site-packages/sklearn/tree/_classes.py:269: FutureWarning: `max_features='auto'` has been deprecated in 1.1 and will be removed in 1.3. To keep the past behaviour, explicitly set `max_features='sqrt'`.\n",
      "  warnings.warn(\n",
      "/Users/yimengjin/Desktop/Thesis/Thesis_Yimeng/venv/lib/python3.9/site-packages/sklearn/tree/_classes.py:269: FutureWarning: `max_features='auto'` has been deprecated in 1.1 and will be removed in 1.3. To keep the past behaviour, explicitly set `max_features='sqrt'`.\n",
      "  warnings.warn(\n",
      "/Users/yimengjin/Desktop/Thesis/Thesis_Yimeng/venv/lib/python3.9/site-packages/sklearn/tree/_classes.py:269: FutureWarning: `max_features='auto'` has been deprecated in 1.1 and will be removed in 1.3. To keep the past behaviour, explicitly set `max_features='sqrt'`.\n",
      "  warnings.warn(\n",
      "/Users/yimengjin/Desktop/Thesis/Thesis_Yimeng/venv/lib/python3.9/site-packages/sklearn/tree/_classes.py:269: FutureWarning: `max_features='auto'` has been deprecated in 1.1 and will be removed in 1.3. To keep the past behaviour, explicitly set `max_features='sqrt'`.\n",
      "  warnings.warn(\n",
      "/Users/yimengjin/Desktop/Thesis/Thesis_Yimeng/venv/lib/python3.9/site-packages/sklearn/tree/_classes.py:269: FutureWarning: `max_features='auto'` has been deprecated in 1.1 and will be removed in 1.3. To keep the past behaviour, explicitly set `max_features='sqrt'`.\n",
      "  warnings.warn(\n",
      "/Users/yimengjin/Desktop/Thesis/Thesis_Yimeng/venv/lib/python3.9/site-packages/sklearn/tree/_classes.py:269: FutureWarning: `max_features='auto'` has been deprecated in 1.1 and will be removed in 1.3. To keep the past behaviour, explicitly set `max_features='sqrt'`.\n",
      "  warnings.warn(\n",
      "/Users/yimengjin/Desktop/Thesis/Thesis_Yimeng/venv/lib/python3.9/site-packages/sklearn/tree/_classes.py:269: FutureWarning: `max_features='auto'` has been deprecated in 1.1 and will be removed in 1.3. To keep the past behaviour, explicitly set `max_features='sqrt'`.\n",
      "  warnings.warn(\n",
      "/Users/yimengjin/Desktop/Thesis/Thesis_Yimeng/venv/lib/python3.9/site-packages/sklearn/tree/_classes.py:269: FutureWarning: `max_features='auto'` has been deprecated in 1.1 and will be removed in 1.3. To keep the past behaviour, explicitly set `max_features='sqrt'`.\n",
      "  warnings.warn(\n",
      "/Users/yimengjin/Desktop/Thesis/Thesis_Yimeng/venv/lib/python3.9/site-packages/sklearn/tree/_classes.py:269: FutureWarning: `max_features='auto'` has been deprecated in 1.1 and will be removed in 1.3. To keep the past behaviour, explicitly set `max_features='sqrt'`.\n",
      "  warnings.warn(\n",
      "/Users/yimengjin/Desktop/Thesis/Thesis_Yimeng/venv/lib/python3.9/site-packages/sklearn/tree/_classes.py:269: FutureWarning: `max_features='auto'` has been deprecated in 1.1 and will be removed in 1.3. To keep the past behaviour, explicitly set `max_features='sqrt'`.\n",
      "  warnings.warn(\n",
      "/Users/yimengjin/Desktop/Thesis/Thesis_Yimeng/venv/lib/python3.9/site-packages/sklearn/tree/_classes.py:269: FutureWarning: `max_features='auto'` has been deprecated in 1.1 and will be removed in 1.3. To keep the past behaviour, explicitly set `max_features='sqrt'`.\n",
      "  warnings.warn(\n",
      "/Users/yimengjin/Desktop/Thesis/Thesis_Yimeng/venv/lib/python3.9/site-packages/sklearn/tree/_classes.py:269: FutureWarning: `max_features='auto'` has been deprecated in 1.1 and will be removed in 1.3. To keep the past behaviour, explicitly set `max_features='sqrt'`.\n",
      "  warnings.warn(\n",
      "/Users/yimengjin/Desktop/Thesis/Thesis_Yimeng/venv/lib/python3.9/site-packages/sklearn/tree/_classes.py:269: FutureWarning: `max_features='auto'` has been deprecated in 1.1 and will be removed in 1.3. To keep the past behaviour, explicitly set `max_features='sqrt'`.\n",
      "  warnings.warn(\n",
      "/Users/yimengjin/Desktop/Thesis/Thesis_Yimeng/venv/lib/python3.9/site-packages/sklearn/tree/_classes.py:269: FutureWarning: `max_features='auto'` has been deprecated in 1.1 and will be removed in 1.3. To keep the past behaviour, explicitly set `max_features='sqrt'`.\n",
      "  warnings.warn(\n",
      "/Users/yimengjin/Desktop/Thesis/Thesis_Yimeng/venv/lib/python3.9/site-packages/sklearn/tree/_classes.py:269: FutureWarning: `max_features='auto'` has been deprecated in 1.1 and will be removed in 1.3. To keep the past behaviour, explicitly set `max_features='sqrt'`.\n",
      "  warnings.warn(\n",
      "/Users/yimengjin/Desktop/Thesis/Thesis_Yimeng/venv/lib/python3.9/site-packages/sklearn/tree/_classes.py:269: FutureWarning: `max_features='auto'` has been deprecated in 1.1 and will be removed in 1.3. To keep the past behaviour, explicitly set `max_features='sqrt'`.\n",
      "  warnings.warn(\n",
      "/Users/yimengjin/Desktop/Thesis/Thesis_Yimeng/venv/lib/python3.9/site-packages/sklearn/tree/_classes.py:269: FutureWarning: `max_features='auto'` has been deprecated in 1.1 and will be removed in 1.3. To keep the past behaviour, explicitly set `max_features='sqrt'`.\n",
      "  warnings.warn(\n",
      "/Users/yimengjin/Desktop/Thesis/Thesis_Yimeng/venv/lib/python3.9/site-packages/sklearn/tree/_classes.py:269: FutureWarning: `max_features='auto'` has been deprecated in 1.1 and will be removed in 1.3. To keep the past behaviour, explicitly set `max_features='sqrt'`.\n",
      "  warnings.warn(\n",
      "/Users/yimengjin/Desktop/Thesis/Thesis_Yimeng/venv/lib/python3.9/site-packages/sklearn/tree/_classes.py:269: FutureWarning: `max_features='auto'` has been deprecated in 1.1 and will be removed in 1.3. To keep the past behaviour, explicitly set `max_features='sqrt'`.\n",
      "  warnings.warn(\n",
      "/Users/yimengjin/Desktop/Thesis/Thesis_Yimeng/venv/lib/python3.9/site-packages/sklearn/tree/_classes.py:269: FutureWarning: `max_features='auto'` has been deprecated in 1.1 and will be removed in 1.3. To keep the past behaviour, explicitly set `max_features='sqrt'`.\n",
      "  warnings.warn(\n",
      "/Users/yimengjin/Desktop/Thesis/Thesis_Yimeng/venv/lib/python3.9/site-packages/sklearn/tree/_classes.py:269: FutureWarning: `max_features='auto'` has been deprecated in 1.1 and will be removed in 1.3. To keep the past behaviour, explicitly set `max_features='sqrt'`.\n",
      "  warnings.warn(\n",
      "/Users/yimengjin/Desktop/Thesis/Thesis_Yimeng/venv/lib/python3.9/site-packages/sklearn/tree/_classes.py:269: FutureWarning: `max_features='auto'` has been deprecated in 1.1 and will be removed in 1.3. To keep the past behaviour, explicitly set `max_features='sqrt'`.\n",
      "  warnings.warn(\n",
      "/Users/yimengjin/Desktop/Thesis/Thesis_Yimeng/venv/lib/python3.9/site-packages/sklearn/tree/_classes.py:269: FutureWarning: `max_features='auto'` has been deprecated in 1.1 and will be removed in 1.3. To keep the past behaviour, explicitly set `max_features='sqrt'`.\n",
      "  warnings.warn(\n",
      "/Users/yimengjin/Desktop/Thesis/Thesis_Yimeng/venv/lib/python3.9/site-packages/sklearn/tree/_classes.py:269: FutureWarning: `max_features='auto'` has been deprecated in 1.1 and will be removed in 1.3. To keep the past behaviour, explicitly set `max_features='sqrt'`.\n",
      "  warnings.warn(\n",
      "/Users/yimengjin/Desktop/Thesis/Thesis_Yimeng/venv/lib/python3.9/site-packages/sklearn/tree/_classes.py:269: FutureWarning: `max_features='auto'` has been deprecated in 1.1 and will be removed in 1.3. To keep the past behaviour, explicitly set `max_features='sqrt'`.\n",
      "  warnings.warn(\n",
      "/Users/yimengjin/Desktop/Thesis/Thesis_Yimeng/venv/lib/python3.9/site-packages/sklearn/tree/_classes.py:269: FutureWarning: `max_features='auto'` has been deprecated in 1.1 and will be removed in 1.3. To keep the past behaviour, explicitly set `max_features='sqrt'`.\n",
      "  warnings.warn(\n",
      "/Users/yimengjin/Desktop/Thesis/Thesis_Yimeng/venv/lib/python3.9/site-packages/sklearn/tree/_classes.py:269: FutureWarning: `max_features='auto'` has been deprecated in 1.1 and will be removed in 1.3. To keep the past behaviour, explicitly set `max_features='sqrt'`.\n",
      "  warnings.warn(\n",
      "/Users/yimengjin/Desktop/Thesis/Thesis_Yimeng/venv/lib/python3.9/site-packages/sklearn/tree/_classes.py:269: FutureWarning: `max_features='auto'` has been deprecated in 1.1 and will be removed in 1.3. To keep the past behaviour, explicitly set `max_features='sqrt'`.\n",
      "  warnings.warn(\n",
      "/Users/yimengjin/Desktop/Thesis/Thesis_Yimeng/venv/lib/python3.9/site-packages/sklearn/tree/_classes.py:269: FutureWarning: `max_features='auto'` has been deprecated in 1.1 and will be removed in 1.3. To keep the past behaviour, explicitly set `max_features='sqrt'`.\n",
      "  warnings.warn(\n",
      "/Users/yimengjin/Desktop/Thesis/Thesis_Yimeng/venv/lib/python3.9/site-packages/sklearn/tree/_classes.py:269: FutureWarning: `max_features='auto'` has been deprecated in 1.1 and will be removed in 1.3. To keep the past behaviour, explicitly set `max_features='sqrt'`.\n",
      "  warnings.warn(\n",
      "/Users/yimengjin/Desktop/Thesis/Thesis_Yimeng/venv/lib/python3.9/site-packages/sklearn/tree/_classes.py:269: FutureWarning: `max_features='auto'` has been deprecated in 1.1 and will be removed in 1.3. To keep the past behaviour, explicitly set `max_features='sqrt'`.\n",
      "  warnings.warn(\n",
      "/Users/yimengjin/Desktop/Thesis/Thesis_Yimeng/venv/lib/python3.9/site-packages/sklearn/tree/_classes.py:269: FutureWarning: `max_features='auto'` has been deprecated in 1.1 and will be removed in 1.3. To keep the past behaviour, explicitly set `max_features='sqrt'`.\n",
      "  warnings.warn(\n",
      "/Users/yimengjin/Desktop/Thesis/Thesis_Yimeng/venv/lib/python3.9/site-packages/sklearn/tree/_classes.py:269: FutureWarning: `max_features='auto'` has been deprecated in 1.1 and will be removed in 1.3. To keep the past behaviour, explicitly set `max_features='sqrt'`.\n",
      "  warnings.warn(\n",
      "/Users/yimengjin/Desktop/Thesis/Thesis_Yimeng/venv/lib/python3.9/site-packages/sklearn/tree/_classes.py:269: FutureWarning: `max_features='auto'` has been deprecated in 1.1 and will be removed in 1.3. To keep the past behaviour, explicitly set `max_features='sqrt'`.\n",
      "  warnings.warn(\n",
      "/Users/yimengjin/Desktop/Thesis/Thesis_Yimeng/venv/lib/python3.9/site-packages/sklearn/tree/_classes.py:269: FutureWarning: `max_features='auto'` has been deprecated in 1.1 and will be removed in 1.3. To keep the past behaviour, explicitly set `max_features='sqrt'`.\n",
      "  warnings.warn(\n",
      "/Users/yimengjin/Desktop/Thesis/Thesis_Yimeng/venv/lib/python3.9/site-packages/sklearn/tree/_classes.py:269: FutureWarning: `max_features='auto'` has been deprecated in 1.1 and will be removed in 1.3. To keep the past behaviour, explicitly set `max_features='sqrt'`.\n",
      "  warnings.warn(\n",
      "/Users/yimengjin/Desktop/Thesis/Thesis_Yimeng/venv/lib/python3.9/site-packages/sklearn/tree/_classes.py:269: FutureWarning: `max_features='auto'` has been deprecated in 1.1 and will be removed in 1.3. To keep the past behaviour, explicitly set `max_features='sqrt'`.\n",
      "  warnings.warn(\n",
      "/Users/yimengjin/Desktop/Thesis/Thesis_Yimeng/venv/lib/python3.9/site-packages/sklearn/tree/_classes.py:269: FutureWarning: `max_features='auto'` has been deprecated in 1.1 and will be removed in 1.3. To keep the past behaviour, explicitly set `max_features='sqrt'`.\n",
      "  warnings.warn(\n",
      "/Users/yimengjin/Desktop/Thesis/Thesis_Yimeng/venv/lib/python3.9/site-packages/sklearn/tree/_classes.py:269: FutureWarning: `max_features='auto'` has been deprecated in 1.1 and will be removed in 1.3. To keep the past behaviour, explicitly set `max_features='sqrt'`.\n",
      "  warnings.warn(\n",
      "/Users/yimengjin/Desktop/Thesis/Thesis_Yimeng/venv/lib/python3.9/site-packages/sklearn/tree/_classes.py:269: FutureWarning: `max_features='auto'` has been deprecated in 1.1 and will be removed in 1.3. To keep the past behaviour, explicitly set `max_features='sqrt'`.\n",
      "  warnings.warn(\n",
      "/Users/yimengjin/Desktop/Thesis/Thesis_Yimeng/venv/lib/python3.9/site-packages/sklearn/tree/_classes.py:269: FutureWarning: `max_features='auto'` has been deprecated in 1.1 and will be removed in 1.3. To keep the past behaviour, explicitly set `max_features='sqrt'`.\n",
      "  warnings.warn(\n",
      "/Users/yimengjin/Desktop/Thesis/Thesis_Yimeng/venv/lib/python3.9/site-packages/sklearn/tree/_classes.py:269: FutureWarning: `max_features='auto'` has been deprecated in 1.1 and will be removed in 1.3. To keep the past behaviour, explicitly set `max_features='sqrt'`.\n",
      "  warnings.warn(\n",
      "/Users/yimengjin/Desktop/Thesis/Thesis_Yimeng/venv/lib/python3.9/site-packages/sklearn/tree/_classes.py:269: FutureWarning: `max_features='auto'` has been deprecated in 1.1 and will be removed in 1.3. To keep the past behaviour, explicitly set `max_features='sqrt'`.\n",
      "  warnings.warn(\n",
      "/Users/yimengjin/Desktop/Thesis/Thesis_Yimeng/venv/lib/python3.9/site-packages/sklearn/tree/_classes.py:269: FutureWarning: `max_features='auto'` has been deprecated in 1.1 and will be removed in 1.3. To keep the past behaviour, explicitly set `max_features='sqrt'`.\n",
      "  warnings.warn(\n",
      "/Users/yimengjin/Desktop/Thesis/Thesis_Yimeng/venv/lib/python3.9/site-packages/sklearn/tree/_classes.py:269: FutureWarning: `max_features='auto'` has been deprecated in 1.1 and will be removed in 1.3. To keep the past behaviour, explicitly set `max_features='sqrt'`.\n",
      "  warnings.warn(\n",
      "/Users/yimengjin/Desktop/Thesis/Thesis_Yimeng/venv/lib/python3.9/site-packages/sklearn/tree/_classes.py:269: FutureWarning: `max_features='auto'` has been deprecated in 1.1 and will be removed in 1.3. To keep the past behaviour, explicitly set `max_features='sqrt'`.\n",
      "  warnings.warn(\n",
      "/Users/yimengjin/Desktop/Thesis/Thesis_Yimeng/venv/lib/python3.9/site-packages/sklearn/tree/_classes.py:269: FutureWarning: `max_features='auto'` has been deprecated in 1.1 and will be removed in 1.3. To keep the past behaviour, explicitly set `max_features='sqrt'`.\n",
      "  warnings.warn(\n",
      "/Users/yimengjin/Desktop/Thesis/Thesis_Yimeng/venv/lib/python3.9/site-packages/sklearn/tree/_classes.py:269: FutureWarning: `max_features='auto'` has been deprecated in 1.1 and will be removed in 1.3. To keep the past behaviour, explicitly set `max_features='sqrt'`.\n",
      "  warnings.warn(\n",
      "/Users/yimengjin/Desktop/Thesis/Thesis_Yimeng/venv/lib/python3.9/site-packages/sklearn/tree/_classes.py:269: FutureWarning: `max_features='auto'` has been deprecated in 1.1 and will be removed in 1.3. To keep the past behaviour, explicitly set `max_features='sqrt'`.\n",
      "  warnings.warn(\n",
      "/Users/yimengjin/Desktop/Thesis/Thesis_Yimeng/venv/lib/python3.9/site-packages/sklearn/tree/_classes.py:269: FutureWarning: `max_features='auto'` has been deprecated in 1.1 and will be removed in 1.3. To keep the past behaviour, explicitly set `max_features='sqrt'`.\n",
      "  warnings.warn(\n",
      "/Users/yimengjin/Desktop/Thesis/Thesis_Yimeng/venv/lib/python3.9/site-packages/sklearn/tree/_classes.py:269: FutureWarning: `max_features='auto'` has been deprecated in 1.1 and will be removed in 1.3. To keep the past behaviour, explicitly set `max_features='sqrt'`.\n",
      "  warnings.warn(\n",
      "/Users/yimengjin/Desktop/Thesis/Thesis_Yimeng/venv/lib/python3.9/site-packages/sklearn/tree/_classes.py:269: FutureWarning: `max_features='auto'` has been deprecated in 1.1 and will be removed in 1.3. To keep the past behaviour, explicitly set `max_features='sqrt'`.\n",
      "  warnings.warn(\n",
      "/Users/yimengjin/Desktop/Thesis/Thesis_Yimeng/venv/lib/python3.9/site-packages/sklearn/tree/_classes.py:269: FutureWarning: `max_features='auto'` has been deprecated in 1.1 and will be removed in 1.3. To keep the past behaviour, explicitly set `max_features='sqrt'`.\n",
      "  warnings.warn(\n",
      "/Users/yimengjin/Desktop/Thesis/Thesis_Yimeng/venv/lib/python3.9/site-packages/sklearn/tree/_classes.py:269: FutureWarning: `max_features='auto'` has been deprecated in 1.1 and will be removed in 1.3. To keep the past behaviour, explicitly set `max_features='sqrt'`.\n",
      "  warnings.warn(\n",
      "/Users/yimengjin/Desktop/Thesis/Thesis_Yimeng/venv/lib/python3.9/site-packages/sklearn/tree/_classes.py:269: FutureWarning: `max_features='auto'` has been deprecated in 1.1 and will be removed in 1.3. To keep the past behaviour, explicitly set `max_features='sqrt'`.\n",
      "  warnings.warn(\n",
      "/Users/yimengjin/Desktop/Thesis/Thesis_Yimeng/venv/lib/python3.9/site-packages/sklearn/tree/_classes.py:269: FutureWarning: `max_features='auto'` has been deprecated in 1.1 and will be removed in 1.3. To keep the past behaviour, explicitly set `max_features='sqrt'`.\n",
      "  warnings.warn(\n",
      "/Users/yimengjin/Desktop/Thesis/Thesis_Yimeng/venv/lib/python3.9/site-packages/sklearn/tree/_classes.py:269: FutureWarning: `max_features='auto'` has been deprecated in 1.1 and will be removed in 1.3. To keep the past behaviour, explicitly set `max_features='sqrt'`.\n",
      "  warnings.warn(\n",
      "/Users/yimengjin/Desktop/Thesis/Thesis_Yimeng/venv/lib/python3.9/site-packages/sklearn/tree/_classes.py:269: FutureWarning: `max_features='auto'` has been deprecated in 1.1 and will be removed in 1.3. To keep the past behaviour, explicitly set `max_features='sqrt'`.\n",
      "  warnings.warn(\n",
      "/Users/yimengjin/Desktop/Thesis/Thesis_Yimeng/venv/lib/python3.9/site-packages/sklearn/tree/_classes.py:269: FutureWarning: `max_features='auto'` has been deprecated in 1.1 and will be removed in 1.3. To keep the past behaviour, explicitly set `max_features='sqrt'`.\n",
      "  warnings.warn(\n"
     ]
    },
    {
     "data": {
      "text/plain": "RandomizedSearchCV(cv=RepeatedStratifiedKFold(n_repeats=5, n_splits=4, random_state=0),\n                   estimator=DecisionTreeClassifier(), n_iter=20, n_jobs=-1,\n                   param_distributions={'class_weight': ['balanced'],\n                                        'criterion': ['gini', 'entropy'],\n                                        'max_depth': [2, 3, 5, 10, 20],\n                                        'max_features': ['auto', 'sqrt',\n                                                         'log2'],\n                                        'min_samples_leaf': [5, 10, 20, 50,\n                                                             100],\n                                        'splitter': ['best', 'random']},\n                   random_state=0, scoring='f1', verbose=1)",
      "text/html": "<style>#sk-container-id-7 {color: black;background-color: white;}#sk-container-id-7 pre{padding: 0;}#sk-container-id-7 div.sk-toggleable {background-color: white;}#sk-container-id-7 label.sk-toggleable__label {cursor: pointer;display: block;width: 100%;margin-bottom: 0;padding: 0.3em;box-sizing: border-box;text-align: center;}#sk-container-id-7 label.sk-toggleable__label-arrow:before {content: \"▸\";float: left;margin-right: 0.25em;color: #696969;}#sk-container-id-7 label.sk-toggleable__label-arrow:hover:before {color: black;}#sk-container-id-7 div.sk-estimator:hover label.sk-toggleable__label-arrow:before {color: black;}#sk-container-id-7 div.sk-toggleable__content {max-height: 0;max-width: 0;overflow: hidden;text-align: left;background-color: #f0f8ff;}#sk-container-id-7 div.sk-toggleable__content pre {margin: 0.2em;color: black;border-radius: 0.25em;background-color: #f0f8ff;}#sk-container-id-7 input.sk-toggleable__control:checked~div.sk-toggleable__content {max-height: 200px;max-width: 100%;overflow: auto;}#sk-container-id-7 input.sk-toggleable__control:checked~label.sk-toggleable__label-arrow:before {content: \"▾\";}#sk-container-id-7 div.sk-estimator input.sk-toggleable__control:checked~label.sk-toggleable__label {background-color: #d4ebff;}#sk-container-id-7 div.sk-label input.sk-toggleable__control:checked~label.sk-toggleable__label {background-color: #d4ebff;}#sk-container-id-7 input.sk-hidden--visually {border: 0;clip: rect(1px 1px 1px 1px);clip: rect(1px, 1px, 1px, 1px);height: 1px;margin: -1px;overflow: hidden;padding: 0;position: absolute;width: 1px;}#sk-container-id-7 div.sk-estimator {font-family: monospace;background-color: #f0f8ff;border: 1px dotted black;border-radius: 0.25em;box-sizing: border-box;margin-bottom: 0.5em;}#sk-container-id-7 div.sk-estimator:hover {background-color: #d4ebff;}#sk-container-id-7 div.sk-parallel-item::after {content: \"\";width: 100%;border-bottom: 1px solid gray;flex-grow: 1;}#sk-container-id-7 div.sk-label:hover label.sk-toggleable__label {background-color: #d4ebff;}#sk-container-id-7 div.sk-serial::before {content: \"\";position: absolute;border-left: 1px solid gray;box-sizing: border-box;top: 0;bottom: 0;left: 50%;z-index: 0;}#sk-container-id-7 div.sk-serial {display: flex;flex-direction: column;align-items: center;background-color: white;padding-right: 0.2em;padding-left: 0.2em;position: relative;}#sk-container-id-7 div.sk-item {position: relative;z-index: 1;}#sk-container-id-7 div.sk-parallel {display: flex;align-items: stretch;justify-content: center;background-color: white;position: relative;}#sk-container-id-7 div.sk-item::before, #sk-container-id-7 div.sk-parallel-item::before {content: \"\";position: absolute;border-left: 1px solid gray;box-sizing: border-box;top: 0;bottom: 0;left: 50%;z-index: -1;}#sk-container-id-7 div.sk-parallel-item {display: flex;flex-direction: column;z-index: 1;position: relative;background-color: white;}#sk-container-id-7 div.sk-parallel-item:first-child::after {align-self: flex-end;width: 50%;}#sk-container-id-7 div.sk-parallel-item:last-child::after {align-self: flex-start;width: 50%;}#sk-container-id-7 div.sk-parallel-item:only-child::after {width: 0;}#sk-container-id-7 div.sk-dashed-wrapped {border: 1px dashed gray;margin: 0 0.4em 0.5em 0.4em;box-sizing: border-box;padding-bottom: 0.4em;background-color: white;}#sk-container-id-7 div.sk-label label {font-family: monospace;font-weight: bold;display: inline-block;line-height: 1.2em;}#sk-container-id-7 div.sk-label-container {text-align: center;}#sk-container-id-7 div.sk-container {/* jupyter's `normalize.less` sets `[hidden] { display: none; }` but bootstrap.min.css set `[hidden] { display: none !important; }` so we also need the `!important` here to be able to override the default hidden behavior on the sphinx rendered scikit-learn.org. See: https://github.com/scikit-learn/scikit-learn/issues/21755 */display: inline-block !important;position: relative;}#sk-container-id-7 div.sk-text-repr-fallback {display: none;}</style><div id=\"sk-container-id-7\" class=\"sk-top-container\"><div class=\"sk-text-repr-fallback\"><pre>RandomizedSearchCV(cv=RepeatedStratifiedKFold(n_repeats=5, n_splits=4, random_state=0),\n                   estimator=DecisionTreeClassifier(), n_iter=20, n_jobs=-1,\n                   param_distributions={&#x27;class_weight&#x27;: [&#x27;balanced&#x27;],\n                                        &#x27;criterion&#x27;: [&#x27;gini&#x27;, &#x27;entropy&#x27;],\n                                        &#x27;max_depth&#x27;: [2, 3, 5, 10, 20],\n                                        &#x27;max_features&#x27;: [&#x27;auto&#x27;, &#x27;sqrt&#x27;,\n                                                         &#x27;log2&#x27;],\n                                        &#x27;min_samples_leaf&#x27;: [5, 10, 20, 50,\n                                                             100],\n                                        &#x27;splitter&#x27;: [&#x27;best&#x27;, &#x27;random&#x27;]},\n                   random_state=0, scoring=&#x27;f1&#x27;, verbose=1)</pre><b>In a Jupyter environment, please rerun this cell to show the HTML representation or trust the notebook. <br />On GitHub, the HTML representation is unable to render, please try loading this page with nbviewer.org.</b></div><div class=\"sk-container\" hidden><div class=\"sk-item sk-dashed-wrapped\"><div class=\"sk-label-container\"><div class=\"sk-label sk-toggleable\"><input class=\"sk-toggleable__control sk-hidden--visually\" id=\"sk-estimator-id-13\" type=\"checkbox\" ><label for=\"sk-estimator-id-13\" class=\"sk-toggleable__label sk-toggleable__label-arrow\">RandomizedSearchCV</label><div class=\"sk-toggleable__content\"><pre>RandomizedSearchCV(cv=RepeatedStratifiedKFold(n_repeats=5, n_splits=4, random_state=0),\n                   estimator=DecisionTreeClassifier(), n_iter=20, n_jobs=-1,\n                   param_distributions={&#x27;class_weight&#x27;: [&#x27;balanced&#x27;],\n                                        &#x27;criterion&#x27;: [&#x27;gini&#x27;, &#x27;entropy&#x27;],\n                                        &#x27;max_depth&#x27;: [2, 3, 5, 10, 20],\n                                        &#x27;max_features&#x27;: [&#x27;auto&#x27;, &#x27;sqrt&#x27;,\n                                                         &#x27;log2&#x27;],\n                                        &#x27;min_samples_leaf&#x27;: [5, 10, 20, 50,\n                                                             100],\n                                        &#x27;splitter&#x27;: [&#x27;best&#x27;, &#x27;random&#x27;]},\n                   random_state=0, scoring=&#x27;f1&#x27;, verbose=1)</pre></div></div></div><div class=\"sk-parallel\"><div class=\"sk-parallel-item\"><div class=\"sk-item\"><div class=\"sk-label-container\"><div class=\"sk-label sk-toggleable\"><input class=\"sk-toggleable__control sk-hidden--visually\" id=\"sk-estimator-id-14\" type=\"checkbox\" ><label for=\"sk-estimator-id-14\" class=\"sk-toggleable__label sk-toggleable__label-arrow\">estimator: DecisionTreeClassifier</label><div class=\"sk-toggleable__content\"><pre>DecisionTreeClassifier()</pre></div></div></div><div class=\"sk-serial\"><div class=\"sk-item\"><div class=\"sk-estimator sk-toggleable\"><input class=\"sk-toggleable__control sk-hidden--visually\" id=\"sk-estimator-id-15\" type=\"checkbox\" ><label for=\"sk-estimator-id-15\" class=\"sk-toggleable__label sk-toggleable__label-arrow\">DecisionTreeClassifier</label><div class=\"sk-toggleable__content\"><pre>DecisionTreeClassifier()</pre></div></div></div></div></div></div></div></div></div></div>"
     },
     "execution_count": 132,
     "metadata": {},
     "output_type": "execute_result"
    }
   ],
   "source": [
    "dtc_op = RandomizedSearchCV(dtc, params, n_iter=20, cv=cv, scoring='f1', verbose=1, random_state=0, n_jobs=-1)\n",
    "dtc_op.fit(X_train, Y_train.values.ravel())"
   ],
   "metadata": {
    "collapsed": false
   }
  },
  {
   "cell_type": "code",
   "execution_count": 133,
   "outputs": [
    {
     "data": {
      "text/plain": "{'splitter': 'best',\n 'min_samples_leaf': 5,\n 'max_features': 'log2',\n 'max_depth': 20,\n 'criterion': 'entropy',\n 'class_weight': 'balanced'}"
     },
     "execution_count": 133,
     "metadata": {},
     "output_type": "execute_result"
    }
   ],
   "source": [
    "dtc_op.best_params_"
   ],
   "metadata": {
    "collapsed": false
   }
  },
  {
   "cell_type": "code",
   "execution_count": 134,
   "outputs": [],
   "source": [
    "dtc = DecisionTreeClassifier(random_state=0, max_depth=dtc_op.best_params_['max_depth'],\n",
    "                             criterion=dtc_op.best_params_['criterion'],\n",
    "                             min_samples_leaf=dtc_op.best_params_['min_samples_leaf'],\n",
    "                             splitter=dtc_op.best_params_['splitter'], max_features=dtc_op.best_params_['max_features'],\n",
    "                             class_weight=dtc_op.best_params_['class_weight'])"
   ],
   "metadata": {
    "collapsed": false
   }
  },
  {
   "cell_type": "code",
   "execution_count": 135,
   "outputs": [
    {
     "data": {
      "text/plain": "0.7565064102564103"
     },
     "execution_count": 135,
     "metadata": {},
     "output_type": "execute_result"
    }
   ],
   "source": [
    "arr = cross_val_score(dtc, X_train, Y_train.values.ravel(), cv=cv)\n",
    "np.mean(arr)"
   ],
   "metadata": {
    "collapsed": false
   }
  },
  {
   "cell_type": "code",
   "execution_count": 136,
   "outputs": [
    {
     "data": {
      "text/plain": "DecisionTreeClassifier(class_weight='balanced', criterion='entropy',\n                       max_depth=20, max_features='log2', min_samples_leaf=5,\n                       random_state=0)",
      "text/html": "<style>#sk-container-id-8 {color: black;background-color: white;}#sk-container-id-8 pre{padding: 0;}#sk-container-id-8 div.sk-toggleable {background-color: white;}#sk-container-id-8 label.sk-toggleable__label {cursor: pointer;display: block;width: 100%;margin-bottom: 0;padding: 0.3em;box-sizing: border-box;text-align: center;}#sk-container-id-8 label.sk-toggleable__label-arrow:before {content: \"▸\";float: left;margin-right: 0.25em;color: #696969;}#sk-container-id-8 label.sk-toggleable__label-arrow:hover:before {color: black;}#sk-container-id-8 div.sk-estimator:hover label.sk-toggleable__label-arrow:before {color: black;}#sk-container-id-8 div.sk-toggleable__content {max-height: 0;max-width: 0;overflow: hidden;text-align: left;background-color: #f0f8ff;}#sk-container-id-8 div.sk-toggleable__content pre {margin: 0.2em;color: black;border-radius: 0.25em;background-color: #f0f8ff;}#sk-container-id-8 input.sk-toggleable__control:checked~div.sk-toggleable__content {max-height: 200px;max-width: 100%;overflow: auto;}#sk-container-id-8 input.sk-toggleable__control:checked~label.sk-toggleable__label-arrow:before {content: \"▾\";}#sk-container-id-8 div.sk-estimator input.sk-toggleable__control:checked~label.sk-toggleable__label {background-color: #d4ebff;}#sk-container-id-8 div.sk-label input.sk-toggleable__control:checked~label.sk-toggleable__label {background-color: #d4ebff;}#sk-container-id-8 input.sk-hidden--visually {border: 0;clip: rect(1px 1px 1px 1px);clip: rect(1px, 1px, 1px, 1px);height: 1px;margin: -1px;overflow: hidden;padding: 0;position: absolute;width: 1px;}#sk-container-id-8 div.sk-estimator {font-family: monospace;background-color: #f0f8ff;border: 1px dotted black;border-radius: 0.25em;box-sizing: border-box;margin-bottom: 0.5em;}#sk-container-id-8 div.sk-estimator:hover {background-color: #d4ebff;}#sk-container-id-8 div.sk-parallel-item::after {content: \"\";width: 100%;border-bottom: 1px solid gray;flex-grow: 1;}#sk-container-id-8 div.sk-label:hover label.sk-toggleable__label {background-color: #d4ebff;}#sk-container-id-8 div.sk-serial::before {content: \"\";position: absolute;border-left: 1px solid gray;box-sizing: border-box;top: 0;bottom: 0;left: 50%;z-index: 0;}#sk-container-id-8 div.sk-serial {display: flex;flex-direction: column;align-items: center;background-color: white;padding-right: 0.2em;padding-left: 0.2em;position: relative;}#sk-container-id-8 div.sk-item {position: relative;z-index: 1;}#sk-container-id-8 div.sk-parallel {display: flex;align-items: stretch;justify-content: center;background-color: white;position: relative;}#sk-container-id-8 div.sk-item::before, #sk-container-id-8 div.sk-parallel-item::before {content: \"\";position: absolute;border-left: 1px solid gray;box-sizing: border-box;top: 0;bottom: 0;left: 50%;z-index: -1;}#sk-container-id-8 div.sk-parallel-item {display: flex;flex-direction: column;z-index: 1;position: relative;background-color: white;}#sk-container-id-8 div.sk-parallel-item:first-child::after {align-self: flex-end;width: 50%;}#sk-container-id-8 div.sk-parallel-item:last-child::after {align-self: flex-start;width: 50%;}#sk-container-id-8 div.sk-parallel-item:only-child::after {width: 0;}#sk-container-id-8 div.sk-dashed-wrapped {border: 1px dashed gray;margin: 0 0.4em 0.5em 0.4em;box-sizing: border-box;padding-bottom: 0.4em;background-color: white;}#sk-container-id-8 div.sk-label label {font-family: monospace;font-weight: bold;display: inline-block;line-height: 1.2em;}#sk-container-id-8 div.sk-label-container {text-align: center;}#sk-container-id-8 div.sk-container {/* jupyter's `normalize.less` sets `[hidden] { display: none; }` but bootstrap.min.css set `[hidden] { display: none !important; }` so we also need the `!important` here to be able to override the default hidden behavior on the sphinx rendered scikit-learn.org. See: https://github.com/scikit-learn/scikit-learn/issues/21755 */display: inline-block !important;position: relative;}#sk-container-id-8 div.sk-text-repr-fallback {display: none;}</style><div id=\"sk-container-id-8\" class=\"sk-top-container\"><div class=\"sk-text-repr-fallback\"><pre>DecisionTreeClassifier(class_weight=&#x27;balanced&#x27;, criterion=&#x27;entropy&#x27;,\n                       max_depth=20, max_features=&#x27;log2&#x27;, min_samples_leaf=5,\n                       random_state=0)</pre><b>In a Jupyter environment, please rerun this cell to show the HTML representation or trust the notebook. <br />On GitHub, the HTML representation is unable to render, please try loading this page with nbviewer.org.</b></div><div class=\"sk-container\" hidden><div class=\"sk-item\"><div class=\"sk-estimator sk-toggleable\"><input class=\"sk-toggleable__control sk-hidden--visually\" id=\"sk-estimator-id-16\" type=\"checkbox\" checked><label for=\"sk-estimator-id-16\" class=\"sk-toggleable__label sk-toggleable__label-arrow\">DecisionTreeClassifier</label><div class=\"sk-toggleable__content\"><pre>DecisionTreeClassifier(class_weight=&#x27;balanced&#x27;, criterion=&#x27;entropy&#x27;,\n                       max_depth=20, max_features=&#x27;log2&#x27;, min_samples_leaf=5,\n                       random_state=0)</pre></div></div></div></div></div>"
     },
     "execution_count": 136,
     "metadata": {},
     "output_type": "execute_result"
    }
   ],
   "source": [
    "dtc.fit(X_train, Y_train.values.ravel())"
   ],
   "metadata": {
    "collapsed": false
   }
  },
  {
   "cell_type": "code",
   "execution_count": 137,
   "outputs": [
    {
     "data": {
      "text/plain": "array([[110,  20],\n       [  2,  25]])"
     },
     "execution_count": 137,
     "metadata": {},
     "output_type": "execute_result"
    }
   ],
   "source": [
    "Y_predict_dtc = dtc.predict(X_train)\n",
    "confusion_matrix(Y_train, Y_predict_dtc)"
   ],
   "metadata": {
    "collapsed": false
   }
  },
  {
   "cell_type": "markdown",
   "source": [
    "## ADA Boost"
   ],
   "metadata": {
    "collapsed": false
   }
  },
  {
   "cell_type": "code",
   "execution_count": null,
   "outputs": [],
   "source": [
    "from sklearn.ensemble import AdaBoostClassifier\n",
    "\n",
    "ada = AdaBoostClassifier()"
   ],
   "metadata": {
    "collapsed": false
   }
  },
  {
   "cell_type": "code",
   "execution_count": null,
   "outputs": [],
   "source": [
    "params = {'n_estimators': [1, 10, 20, 30, 50, 100, 200, 1000, 2000, 3000, 5000], 'algorithm': ['SAMME', 'SAMME.R'],\n",
    "          'learning_rate': [1.0, 1.1, 1.2, 1.3, 1.4, 1.5, 2.0, 2.5]}\n",
    "cv = RepeatedStratifiedKFold(n_splits=4, n_repeats=5, random_state=0)"
   ],
   "metadata": {
    "collapsed": false
   }
  },
  {
   "cell_type": "code",
   "execution_count": null,
   "outputs": [],
   "source": [
    "ada_op = RandomizedSearchCV(ada, params, n_iter=20, cv=cv, scoring='f1', verbose=1, random_state=0, n_jobs=-1)"
   ],
   "metadata": {
    "collapsed": false
   }
  },
  {
   "cell_type": "code",
   "execution_count": null,
   "outputs": [],
   "source": [
    "ada_op.fit(X_train, Y_train.values.ravel())"
   ],
   "metadata": {
    "collapsed": false
   }
  },
  {
   "cell_type": "code",
   "execution_count": null,
   "outputs": [],
   "source": [
    "ada_op.best_params_"
   ],
   "metadata": {
    "collapsed": false
   }
  },
  {
   "cell_type": "code",
   "execution_count": null,
   "outputs": [],
   "source": [
    "ada = AdaBoostClassifier(random_state=0, n_estimators=ada_op.best_params_['n_estimators'], learning_rate=ada_op.best_params_['learning_rate'], algorithm=ada_op.best_params_['algorithm'])"
   ],
   "metadata": {
    "collapsed": false
   }
  },
  {
   "cell_type": "code",
   "execution_count": null,
   "outputs": [],
   "source": [
    "arr = cross_val_score(ada, X_train, Y_train.values.ravel(), cv=cv)\n",
    "np.mean(arr)"
   ],
   "metadata": {
    "collapsed": false
   }
  },
  {
   "cell_type": "code",
   "execution_count": null,
   "outputs": [],
   "source": [
    "ada.fit(X_train, Y_train.values.ravel())"
   ],
   "metadata": {
    "collapsed": false
   }
  },
  {
   "cell_type": "code",
   "execution_count": null,
   "outputs": [],
   "source": [
    "Y_predict_ada = ada.predict(X_train)\n",
    "confusion_matrix(Y_train, Y_predict_ada)"
   ],
   "metadata": {
    "collapsed": false
   }
  },
  {
   "cell_type": "markdown",
   "source": [
    "## Bayesian Optimisation"
   ],
   "metadata": {
    "collapsed": false
   }
  },
  {
   "cell_type": "code",
   "execution_count": 138,
   "outputs": [
    {
     "data": {
      "text/plain": "     type_A  type_B1  type_B2  type_C  composition_A  composition_B1  \\\n0         2        0        0       0            0.5            0.30   \n1         2        0        0       0            0.5            0.30   \n2         2        0        0       0            0.5            0.30   \n3         2        0        0       1            0.7            0.30   \n4         2        0        0       1            0.7            0.30   \n..      ...      ...      ...     ...            ...             ...   \n152       2        0        1       0            0.3            0.00   \n153       2        0        1       0            0.3            0.70   \n154       2        0        1       0            0.3            0.47   \n155       2        0        1       0            0.3            0.23   \n156       2        0        1       0            0.3            0.00   \n\n     composition_B2  composition_C  Number of blocks  dpn  ...   B2   C2   A3  \\\n0              0.00           0.20                 1  100  ...  0.0  0.0  0.0   \n1              0.00           0.20                 1   40  ...  0.0  0.0  0.0   \n2              0.00           0.20                 1   20  ...  0.0  0.0  0.0   \n3              0.00           0.00                 1  100  ...  0.0  0.0  0.0   \n4              0.00           0.00                 1   40  ...  0.0  0.0  0.0   \n..              ...            ...               ...  ...  ...  ...  ...  ...   \n152            0.47           0.23                 1   40  ...  0.0  0.0  0.0   \n153            0.00           0.00                 1   40  ...  0.0  0.0  0.0   \n154            0.23           0.00                 1   40  ...  0.0  0.0  0.0   \n155            0.47           0.00                 1   40  ...  0.0  0.0  0.0   \n156            0.70           0.00                 1   40  ...  0.0  0.0  0.0   \n\n      B3   C3  A4   B4   C4  cLogP_predicted  Category  \n0    0.0  0.0   0  0.0  0.0          0.67630         1  \n1    0.0  0.0   0  0.0  0.0          0.67630         1  \n2    0.0  0.0   0  0.0  0.0          0.67630         1  \n3    0.0  0.0   0  0.0  0.0          1.05270         0  \n4    0.0  0.0   0  0.0  0.0          1.05270         1  \n..   ...  ...  ..  ...  ...              ...       ...  \n152  0.0  0.0   0  0.0  0.0         -1.33796         0  \n153  0.0  0.0   0  0.0  0.0         -0.16180         0  \n154  0.0  0.0   0  0.0  0.0         -0.45137         0  \n155  0.0  0.0   0  0.0  0.0         -0.75353         0  \n156  0.0  0.0   0  0.0  0.0         -1.04310         0  \n\n[157 rows x 24 columns]",
      "text/html": "<div>\n<style scoped>\n    .dataframe tbody tr th:only-of-type {\n        vertical-align: middle;\n    }\n\n    .dataframe tbody tr th {\n        vertical-align: top;\n    }\n\n    .dataframe thead th {\n        text-align: right;\n    }\n</style>\n<table border=\"1\" class=\"dataframe\">\n  <thead>\n    <tr style=\"text-align: right;\">\n      <th></th>\n      <th>type_A</th>\n      <th>type_B1</th>\n      <th>type_B2</th>\n      <th>type_C</th>\n      <th>composition_A</th>\n      <th>composition_B1</th>\n      <th>composition_B2</th>\n      <th>composition_C</th>\n      <th>Number of blocks</th>\n      <th>dpn</th>\n      <th>...</th>\n      <th>B2</th>\n      <th>C2</th>\n      <th>A3</th>\n      <th>B3</th>\n      <th>C3</th>\n      <th>A4</th>\n      <th>B4</th>\n      <th>C4</th>\n      <th>cLogP_predicted</th>\n      <th>Category</th>\n    </tr>\n  </thead>\n  <tbody>\n    <tr>\n      <th>0</th>\n      <td>2</td>\n      <td>0</td>\n      <td>0</td>\n      <td>0</td>\n      <td>0.5</td>\n      <td>0.30</td>\n      <td>0.00</td>\n      <td>0.20</td>\n      <td>1</td>\n      <td>100</td>\n      <td>...</td>\n      <td>0.0</td>\n      <td>0.0</td>\n      <td>0.0</td>\n      <td>0.0</td>\n      <td>0.0</td>\n      <td>0</td>\n      <td>0.0</td>\n      <td>0.0</td>\n      <td>0.67630</td>\n      <td>1</td>\n    </tr>\n    <tr>\n      <th>1</th>\n      <td>2</td>\n      <td>0</td>\n      <td>0</td>\n      <td>0</td>\n      <td>0.5</td>\n      <td>0.30</td>\n      <td>0.00</td>\n      <td>0.20</td>\n      <td>1</td>\n      <td>40</td>\n      <td>...</td>\n      <td>0.0</td>\n      <td>0.0</td>\n      <td>0.0</td>\n      <td>0.0</td>\n      <td>0.0</td>\n      <td>0</td>\n      <td>0.0</td>\n      <td>0.0</td>\n      <td>0.67630</td>\n      <td>1</td>\n    </tr>\n    <tr>\n      <th>2</th>\n      <td>2</td>\n      <td>0</td>\n      <td>0</td>\n      <td>0</td>\n      <td>0.5</td>\n      <td>0.30</td>\n      <td>0.00</td>\n      <td>0.20</td>\n      <td>1</td>\n      <td>20</td>\n      <td>...</td>\n      <td>0.0</td>\n      <td>0.0</td>\n      <td>0.0</td>\n      <td>0.0</td>\n      <td>0.0</td>\n      <td>0</td>\n      <td>0.0</td>\n      <td>0.0</td>\n      <td>0.67630</td>\n      <td>1</td>\n    </tr>\n    <tr>\n      <th>3</th>\n      <td>2</td>\n      <td>0</td>\n      <td>0</td>\n      <td>1</td>\n      <td>0.7</td>\n      <td>0.30</td>\n      <td>0.00</td>\n      <td>0.00</td>\n      <td>1</td>\n      <td>100</td>\n      <td>...</td>\n      <td>0.0</td>\n      <td>0.0</td>\n      <td>0.0</td>\n      <td>0.0</td>\n      <td>0.0</td>\n      <td>0</td>\n      <td>0.0</td>\n      <td>0.0</td>\n      <td>1.05270</td>\n      <td>0</td>\n    </tr>\n    <tr>\n      <th>4</th>\n      <td>2</td>\n      <td>0</td>\n      <td>0</td>\n      <td>1</td>\n      <td>0.7</td>\n      <td>0.30</td>\n      <td>0.00</td>\n      <td>0.00</td>\n      <td>1</td>\n      <td>40</td>\n      <td>...</td>\n      <td>0.0</td>\n      <td>0.0</td>\n      <td>0.0</td>\n      <td>0.0</td>\n      <td>0.0</td>\n      <td>0</td>\n      <td>0.0</td>\n      <td>0.0</td>\n      <td>1.05270</td>\n      <td>1</td>\n    </tr>\n    <tr>\n      <th>...</th>\n      <td>...</td>\n      <td>...</td>\n      <td>...</td>\n      <td>...</td>\n      <td>...</td>\n      <td>...</td>\n      <td>...</td>\n      <td>...</td>\n      <td>...</td>\n      <td>...</td>\n      <td>...</td>\n      <td>...</td>\n      <td>...</td>\n      <td>...</td>\n      <td>...</td>\n      <td>...</td>\n      <td>...</td>\n      <td>...</td>\n      <td>...</td>\n      <td>...</td>\n      <td>...</td>\n    </tr>\n    <tr>\n      <th>152</th>\n      <td>2</td>\n      <td>0</td>\n      <td>1</td>\n      <td>0</td>\n      <td>0.3</td>\n      <td>0.00</td>\n      <td>0.47</td>\n      <td>0.23</td>\n      <td>1</td>\n      <td>40</td>\n      <td>...</td>\n      <td>0.0</td>\n      <td>0.0</td>\n      <td>0.0</td>\n      <td>0.0</td>\n      <td>0.0</td>\n      <td>0</td>\n      <td>0.0</td>\n      <td>0.0</td>\n      <td>-1.33796</td>\n      <td>0</td>\n    </tr>\n    <tr>\n      <th>153</th>\n      <td>2</td>\n      <td>0</td>\n      <td>1</td>\n      <td>0</td>\n      <td>0.3</td>\n      <td>0.70</td>\n      <td>0.00</td>\n      <td>0.00</td>\n      <td>1</td>\n      <td>40</td>\n      <td>...</td>\n      <td>0.0</td>\n      <td>0.0</td>\n      <td>0.0</td>\n      <td>0.0</td>\n      <td>0.0</td>\n      <td>0</td>\n      <td>0.0</td>\n      <td>0.0</td>\n      <td>-0.16180</td>\n      <td>0</td>\n    </tr>\n    <tr>\n      <th>154</th>\n      <td>2</td>\n      <td>0</td>\n      <td>1</td>\n      <td>0</td>\n      <td>0.3</td>\n      <td>0.47</td>\n      <td>0.23</td>\n      <td>0.00</td>\n      <td>1</td>\n      <td>40</td>\n      <td>...</td>\n      <td>0.0</td>\n      <td>0.0</td>\n      <td>0.0</td>\n      <td>0.0</td>\n      <td>0.0</td>\n      <td>0</td>\n      <td>0.0</td>\n      <td>0.0</td>\n      <td>-0.45137</td>\n      <td>0</td>\n    </tr>\n    <tr>\n      <th>155</th>\n      <td>2</td>\n      <td>0</td>\n      <td>1</td>\n      <td>0</td>\n      <td>0.3</td>\n      <td>0.23</td>\n      <td>0.47</td>\n      <td>0.00</td>\n      <td>1</td>\n      <td>40</td>\n      <td>...</td>\n      <td>0.0</td>\n      <td>0.0</td>\n      <td>0.0</td>\n      <td>0.0</td>\n      <td>0.0</td>\n      <td>0</td>\n      <td>0.0</td>\n      <td>0.0</td>\n      <td>-0.75353</td>\n      <td>0</td>\n    </tr>\n    <tr>\n      <th>156</th>\n      <td>2</td>\n      <td>0</td>\n      <td>1</td>\n      <td>0</td>\n      <td>0.3</td>\n      <td>0.00</td>\n      <td>0.70</td>\n      <td>0.00</td>\n      <td>1</td>\n      <td>40</td>\n      <td>...</td>\n      <td>0.0</td>\n      <td>0.0</td>\n      <td>0.0</td>\n      <td>0.0</td>\n      <td>0.0</td>\n      <td>0</td>\n      <td>0.0</td>\n      <td>0.0</td>\n      <td>-1.04310</td>\n      <td>0</td>\n    </tr>\n  </tbody>\n</table>\n<p>157 rows × 24 columns</p>\n</div>"
     },
     "execution_count": 138,
     "metadata": {},
     "output_type": "execute_result"
    }
   ],
   "source": [
    "data # non-standardised with dummy variables"
   ],
   "metadata": {
    "collapsed": false
   }
  },
  {
   "cell_type": "markdown",
   "source": [
    "X_train_BO"
   ],
   "metadata": {
    "collapsed": false
   }
  },
  {
   "cell_type": "code",
   "execution_count": 139,
   "outputs": [
    {
     "data": {
      "text/plain": "     cLogP_predicted  composition_A  composition_B1  composition_B2  \\\n0            0.67630            0.5            0.30            0.00   \n1            0.67630            0.5            0.30            0.00   \n2            0.67630            0.5            0.30            0.00   \n3            1.05270            0.7            0.30            0.00   \n4            1.05270            0.7            0.30            0.00   \n..               ...            ...             ...             ...   \n152         -1.33796            0.3            0.00            0.47   \n153         -0.16180            0.3            0.70            0.00   \n154         -0.45137            0.3            0.47            0.23   \n155         -0.75353            0.3            0.23            0.47   \n156         -1.04310            0.3            0.00            0.70   \n\n     composition_C  type_B2  \n0             0.20        0  \n1             0.20        0  \n2             0.20        0  \n3             0.00        0  \n4             0.00        0  \n..             ...      ...  \n152           0.23        1  \n153           0.00        1  \n154           0.00        1  \n155           0.00        1  \n156           0.00        1  \n\n[157 rows x 6 columns]",
      "text/html": "<div>\n<style scoped>\n    .dataframe tbody tr th:only-of-type {\n        vertical-align: middle;\n    }\n\n    .dataframe tbody tr th {\n        vertical-align: top;\n    }\n\n    .dataframe thead th {\n        text-align: right;\n    }\n</style>\n<table border=\"1\" class=\"dataframe\">\n  <thead>\n    <tr style=\"text-align: right;\">\n      <th></th>\n      <th>cLogP_predicted</th>\n      <th>composition_A</th>\n      <th>composition_B1</th>\n      <th>composition_B2</th>\n      <th>composition_C</th>\n      <th>type_B2</th>\n    </tr>\n  </thead>\n  <tbody>\n    <tr>\n      <th>0</th>\n      <td>0.67630</td>\n      <td>0.5</td>\n      <td>0.30</td>\n      <td>0.00</td>\n      <td>0.20</td>\n      <td>0</td>\n    </tr>\n    <tr>\n      <th>1</th>\n      <td>0.67630</td>\n      <td>0.5</td>\n      <td>0.30</td>\n      <td>0.00</td>\n      <td>0.20</td>\n      <td>0</td>\n    </tr>\n    <tr>\n      <th>2</th>\n      <td>0.67630</td>\n      <td>0.5</td>\n      <td>0.30</td>\n      <td>0.00</td>\n      <td>0.20</td>\n      <td>0</td>\n    </tr>\n    <tr>\n      <th>3</th>\n      <td>1.05270</td>\n      <td>0.7</td>\n      <td>0.30</td>\n      <td>0.00</td>\n      <td>0.00</td>\n      <td>0</td>\n    </tr>\n    <tr>\n      <th>4</th>\n      <td>1.05270</td>\n      <td>0.7</td>\n      <td>0.30</td>\n      <td>0.00</td>\n      <td>0.00</td>\n      <td>0</td>\n    </tr>\n    <tr>\n      <th>...</th>\n      <td>...</td>\n      <td>...</td>\n      <td>...</td>\n      <td>...</td>\n      <td>...</td>\n      <td>...</td>\n    </tr>\n    <tr>\n      <th>152</th>\n      <td>-1.33796</td>\n      <td>0.3</td>\n      <td>0.00</td>\n      <td>0.47</td>\n      <td>0.23</td>\n      <td>1</td>\n    </tr>\n    <tr>\n      <th>153</th>\n      <td>-0.16180</td>\n      <td>0.3</td>\n      <td>0.70</td>\n      <td>0.00</td>\n      <td>0.00</td>\n      <td>1</td>\n    </tr>\n    <tr>\n      <th>154</th>\n      <td>-0.45137</td>\n      <td>0.3</td>\n      <td>0.47</td>\n      <td>0.23</td>\n      <td>0.00</td>\n      <td>1</td>\n    </tr>\n    <tr>\n      <th>155</th>\n      <td>-0.75353</td>\n      <td>0.3</td>\n      <td>0.23</td>\n      <td>0.47</td>\n      <td>0.00</td>\n      <td>1</td>\n    </tr>\n    <tr>\n      <th>156</th>\n      <td>-1.04310</td>\n      <td>0.3</td>\n      <td>0.00</td>\n      <td>0.70</td>\n      <td>0.00</td>\n      <td>1</td>\n    </tr>\n  </tbody>\n</table>\n<p>157 rows × 6 columns</p>\n</div>"
     },
     "execution_count": 139,
     "metadata": {},
     "output_type": "execute_result"
    }
   ],
   "source": [
    "data_BO = data[[\"cLogP_predicted\", \"composition_A\",\"composition_B1\",  \"composition_B2\",\"composition_C\",\"type_B2\"]]\n",
    "data_BO"
   ],
   "metadata": {
    "collapsed": false
   }
  },
  {
   "cell_type": "code",
   "execution_count": 140,
   "outputs": [
    {
     "data": {
      "text/plain": "tensor([[ 0.6763,  0.5000,  0.3000,  0.0000,  0.2000,  0.0000],\n        [ 0.6763,  0.5000,  0.3000,  0.0000,  0.2000,  0.0000],\n        [ 0.6763,  0.5000,  0.3000,  0.0000,  0.2000,  0.0000],\n        [ 1.0527,  0.7000,  0.3000,  0.0000,  0.0000,  0.0000],\n        [ 1.0527,  0.7000,  0.3000,  0.0000,  0.0000,  0.0000],\n        [ 1.0527,  0.7000,  0.3000,  0.0000,  0.0000,  0.0000],\n        [ 0.6763,  0.5000,  0.3000,  0.0000,  0.2000,  0.0000],\n        [ 0.6763,  0.5000,  0.3000,  0.0000,  0.2000,  0.0000],\n        [ 0.6763,  0.5000,  0.3000,  0.0000,  0.2000,  0.0000],\n        [ 0.6763,  0.5000,  0.3000,  0.0000,  0.2000,  0.0000],\n        [ 0.6763,  0.5000,  0.3000,  0.0000,  0.2000,  0.0000],\n        [ 1.0527,  0.7000,  0.3000,  0.0000,  0.0000,  0.0000],\n        [ 1.0527,  0.7000,  0.3000,  0.0000,  0.0000,  0.0000],\n        [ 0.6763,  0.5000,  0.3000,  0.0000,  0.2000,  0.0000],\n        [ 0.6763,  0.5000,  0.3000,  0.0000,  0.2000,  0.0000],\n        [ 0.6763,  0.5000,  0.3000,  0.0000,  0.2000,  0.0000],\n        [ 0.6763,  0.5000,  0.3000,  0.0000,  0.2000,  0.0000],\n        [ 0.6763,  0.5000,  0.3000,  0.0000,  0.2000,  0.0000],\n        [ 0.6763,  0.5000,  0.3000,  0.0000,  0.2000,  0.0000],\n        [ 0.6763,  0.5000,  0.3000,  0.0000,  0.2000,  0.0000],\n        [ 0.6763,  0.5000,  0.3000,  0.0000,  0.2000,  0.0000],\n        [ 0.6763,  0.5000,  0.3000,  0.0000,  0.2000,  0.0000],\n        [ 0.6763,  0.5000,  0.3000,  0.0000,  0.2000,  0.0000],\n        [ 0.6763,  0.5000,  0.3000,  0.0000,  0.2000,  0.0000],\n        [ 0.6763,  0.5000,  0.3000,  0.0000,  0.2000,  0.0000],\n        [ 0.6763,  0.5000,  0.3000,  0.0000,  0.2000,  0.0000],\n        [ 0.6763,  0.5000,  0.3000,  0.0000,  0.2000,  0.0000],\n        [ 0.6763,  0.5000,  0.3000,  0.0000,  0.2000,  0.0000],\n        [ 0.6763,  0.5000,  0.3000,  0.0000,  0.2000,  0.0000],\n        [ 0.2952,  0.5000,  0.1500,  0.0000,  0.3500,  0.0000],\n        [ 0.2952,  0.5000,  0.1500,  0.0000,  0.3500,  0.0000],\n        [ 0.6763,  0.5000,  0.3000,  0.0000,  0.2000,  0.0000],\n        [ 0.7521,  0.5000,  0.3000,  0.0000,  0.2000,  0.0000],\n        [ 1.0757,  0.5000,  0.3000,  0.0000,  0.2000,  0.0000],\n        [ 1.5331,  0.5000,  0.3000,  0.0000,  0.2000,  0.0000],\n        [ 1.6089,  0.5000,  0.3000,  0.0000,  0.2000,  0.0000],\n        [ 1.9325,  0.5000,  0.3000,  0.0000,  0.2000,  0.0000],\n        [ 0.8550,  1.0000,  0.0000,  0.0000,  0.0000,  1.0000],\n        [ 0.2904,  0.7000,  0.0000,  0.0000,  0.3000,  1.0000],\n        [ 0.5445,  0.7000,  0.1000,  0.0000,  0.2000,  1.0000],\n        [ 0.5067,  0.7000,  0.0700,  0.0300,  0.2000,  1.0000],\n        [ 0.4564,  0.7000,  0.0300,  0.0700,  0.2000,  1.0000],\n        [ 0.4186,  0.7000,  0.0000,  0.1000,  0.2000,  1.0000],\n        [ 0.7986,  0.7000,  0.2000,  0.0000,  0.1000,  1.0000],\n        [ 0.7105,  0.7000,  0.1300,  0.0700,  0.1000,  1.0000],\n        [ 0.6349,  0.7000,  0.0700,  0.1300,  0.1000,  1.0000],\n        [ 0.5468,  0.7000,  0.0000,  0.2000,  0.1000,  1.0000],\n        [ 1.0527,  0.7000,  0.3000,  0.0000,  0.0000,  1.0000],\n        [ 0.9268,  0.7000,  0.2000,  0.1000,  0.0000,  1.0000],\n        [ 0.8009,  0.7000,  0.1000,  0.2000,  0.0000,  1.0000],\n        [ 0.6750,  0.7000,  0.0000,  0.3000,  0.0000,  1.0000],\n        [-0.0860,  0.5000,  0.0000,  0.0000,  0.5000,  1.0000],\n        [ 0.3460,  0.5000,  0.1700,  0.0000,  0.3300,  1.0000],\n        [ 0.2704,  0.5000,  0.1100,  0.0600,  0.3300,  1.0000],\n        [ 0.2075,  0.5000,  0.0600,  0.1100,  0.3300,  1.0000],\n        [ 0.1319,  0.5000,  0.0000,  0.1700,  0.3300,  1.0000],\n        [ 0.7525,  0.5000,  0.3300,  0.0000,  0.1700,  1.0000],\n        [ 0.6140,  0.5000,  0.2200,  0.1100,  0.1700,  1.0000],\n        [ 0.4756,  0.5000,  0.1100,  0.2200,  0.1700,  1.0000],\n        [ 0.3371,  0.5000,  0.0000,  0.3300,  0.1700,  1.0000],\n        [ 1.1845,  0.5000,  0.5000,  0.0000,  0.0000,  1.0000],\n        [ 0.9705,  0.5000,  0.3300,  0.1700,  0.0000,  1.0000],\n        [ 0.7690,  0.5000,  0.1700,  0.3300,  0.0000,  1.0000],\n        [ 0.5550,  0.5000,  0.0000,  0.5000,  0.0000,  1.0000],\n        [-0.4624,  0.3000,  0.0000,  0.0000,  0.7000,  1.0000],\n        [ 0.1220,  0.3000,  0.2300,  0.0000,  0.4700,  1.0000],\n        [ 0.0339,  0.3000,  0.1600,  0.0700,  0.4700,  1.0000],\n        [-0.0668,  0.3000,  0.0800,  0.1500,  0.4700,  1.0000],\n        [-0.1675,  0.3000,  0.0000,  0.2300,  0.4700,  1.0000],\n        [ 0.7319,  0.3000,  0.4700,  0.0000,  0.2300,  1.0000],\n        [ 0.5304,  0.3000,  0.3100,  0.1600,  0.2300,  1.0000],\n        [ 0.3416,  0.3000,  0.1600,  0.3100,  0.2300,  1.0000],\n        [ 0.1401,  0.3000,  0.0000,  0.4700,  0.2300,  1.0000],\n        [ 1.3163,  0.3000,  0.7000,  0.0000,  0.0000,  1.0000],\n        [ 1.0267,  0.3000,  0.4700,  0.2300,  0.0000,  1.0000],\n        [ 0.7246,  0.3000,  0.2300,  0.4700,  0.0000,  1.0000],\n        [ 0.4350,  0.3000,  0.0000,  0.7000,  0.0000,  1.0000],\n        [ 0.9660,  1.0000,  0.0000,  0.0000,  0.0000,  1.0000],\n        [ 0.3681,  0.7000,  0.0000,  0.0000,  0.3000,  1.0000],\n        [ 0.6222,  0.7000,  0.1000,  0.0000,  0.2000,  1.0000],\n        [ 0.5844,  0.7000,  0.0700,  0.0300,  0.2000,  1.0000],\n        [ 0.5341,  0.7000,  0.0300,  0.0700,  0.2000,  1.0000],\n        [ 0.4963,  0.7000,  0.0000,  0.1000,  0.2000,  1.0000],\n        [ 0.8763,  0.7000,  0.2000,  0.0000,  0.1000,  1.0000],\n        [ 0.7882,  0.7000,  0.1300,  0.0700,  0.1000,  1.0000],\n        [ 0.7126,  0.7000,  0.0700,  0.1300,  0.1000,  1.0000],\n        [ 0.6245,  0.7000,  0.0000,  0.2000,  0.1000,  1.0000],\n        [ 1.1304,  0.7000,  0.3000,  0.0000,  0.0000,  1.0000],\n        [ 1.0045,  0.7000,  0.2000,  0.1000,  0.0000,  1.0000],\n        [ 0.8786,  0.7000,  0.1000,  0.2000,  0.0000,  1.0000],\n        [ 0.7527,  0.7000,  0.0000,  0.3000,  0.0000,  1.0000],\n        [-0.0305,  0.5000,  0.0000,  0.0000,  0.5000,  1.0000],\n        [ 0.4015,  0.5000,  0.1700,  0.0000,  0.3300,  1.0000],\n        [ 0.3259,  0.5000,  0.1100,  0.0600,  0.3300,  1.0000],\n        [ 0.2630,  0.5000,  0.0600,  0.1100,  0.3300,  1.0000],\n        [ 0.1874,  0.5000,  0.0000,  0.1700,  0.3300,  1.0000],\n        [ 0.8080,  0.5000,  0.3300,  0.0000,  0.1700,  1.0000],\n        [ 0.6695,  0.5000,  0.2200,  0.1100,  0.1700,  1.0000],\n        [ 0.5311,  0.5000,  0.1100,  0.2200,  0.1700,  1.0000],\n        [ 0.3926,  0.5000,  0.0000,  0.3300,  0.1700,  1.0000],\n        [ 1.2400,  0.5000,  0.5000,  0.0000,  0.0000,  1.0000],\n        [ 1.0260,  0.5000,  0.3300,  0.1700,  0.0000,  1.0000],\n        [ 0.8245,  0.5000,  0.1700,  0.3300,  0.0000,  1.0000],\n        [ 0.6105,  0.5000,  0.0000,  0.5000,  0.0000,  1.0000],\n        [-0.4291,  0.3000,  0.0000,  0.0000,  0.7000,  1.0000],\n        [ 0.1553,  0.3000,  0.2300,  0.0000,  0.4700,  1.0000],\n        [ 0.0672,  0.3000,  0.1600,  0.0700,  0.4700,  1.0000],\n        [-0.0335,  0.3000,  0.0800,  0.1500,  0.4700,  1.0000],\n        [-0.1342,  0.3000,  0.0000,  0.2300,  0.4700,  1.0000],\n        [ 0.7652,  0.3000,  0.4700,  0.0000,  0.2300,  1.0000],\n        [ 0.5637,  0.3000,  0.3100,  0.1600,  0.2300,  1.0000],\n        [ 0.3749,  0.3000,  0.1600,  0.3100,  0.2300,  1.0000],\n        [ 0.1734,  0.3000,  0.0000,  0.4700,  0.2300,  1.0000],\n        [ 1.3496,  0.3000,  0.7000,  0.0000,  0.0000,  1.0000],\n        [ 1.0600,  0.3000,  0.4700,  0.2300,  0.0000,  1.0000],\n        [ 0.7579,  0.3000,  0.2300,  0.4700,  0.0000,  1.0000],\n        [ 0.4683,  0.3000,  0.0000,  0.7000,  0.0000,  1.0000],\n        [-4.0720,  1.0000,  0.0000,  0.0000,  0.0000,  1.0000],\n        [-3.1585,  0.7000,  0.0000,  0.0000,  0.3000,  1.0000],\n        [-2.9044,  0.7000,  0.1000,  0.0000,  0.2000,  1.0000],\n        [-2.9422,  0.7000,  0.0700,  0.0300,  0.2000,  1.0000],\n        [-2.9925,  0.7000,  0.0300,  0.0700,  0.2000,  1.0000],\n        [-3.0303,  0.7000,  0.0000,  0.1000,  0.2000,  1.0000],\n        [-2.6503,  0.7000,  0.2000,  0.0000,  0.1000,  1.0000],\n        [-2.7384,  0.7000,  0.1300,  0.0700,  0.1000,  1.0000],\n        [-2.8140,  0.7000,  0.0700,  0.1300,  0.1000,  1.0000],\n        [-2.9021,  0.7000,  0.0000,  0.2000,  0.1000,  1.0000],\n        [-2.3962,  0.7000,  0.3000,  0.0000,  0.0000,  1.0000],\n        [-2.5221,  0.7000,  0.2000,  0.1000,  0.0000,  1.0000],\n        [-2.6480,  0.7000,  0.1000,  0.2000,  0.0000,  1.0000],\n        [-2.7739,  0.7000,  0.0000,  0.3000,  0.0000,  1.0000],\n        [-2.5495,  0.5000,  0.0000,  0.0000,  0.5000,  1.0000],\n        [-2.1175,  0.5000,  0.1700,  0.0000,  0.3300,  1.0000],\n        [-2.1931,  0.5000,  0.1100,  0.0600,  0.3300,  1.0000],\n        [-2.2560,  0.5000,  0.0600,  0.1100,  0.3300,  1.0000],\n        [-2.3316,  0.5000,  0.0000,  0.1700,  0.3300,  1.0000],\n        [-1.7110,  0.5000,  0.3300,  0.0000,  0.1700,  1.0000],\n        [-1.8495,  0.5000,  0.2200,  0.1100,  0.1700,  1.0000],\n        [-1.9880,  0.5000,  0.1100,  0.2200,  0.1700,  1.0000],\n        [-2.1264,  0.5000,  0.0000,  0.3300,  0.1700,  1.0000],\n        [-1.2790,  0.5000,  0.5000,  0.0000,  0.0000,  1.0000],\n        [-1.4930,  0.5000,  0.3300,  0.1700,  0.0000,  1.0000],\n        [-1.6945,  0.5000,  0.1700,  0.3300,  0.0000,  1.0000],\n        [-1.9085,  0.5000,  0.0000,  0.5000,  0.0000,  1.0000],\n        [-1.9405,  0.3000,  0.0000,  0.0000,  0.7000,  1.0000],\n        [-1.3561,  0.3000,  0.2300,  0.0000,  0.4700,  1.0000],\n        [-1.4442,  0.3000,  0.1600,  0.0700,  0.4700,  1.0000],\n        [-1.5449,  0.3000,  0.0800,  0.1500,  0.4700,  1.0000],\n        [-1.6456,  0.3000,  0.0000,  0.2300,  0.4700,  1.0000],\n        [-0.7462,  0.3000,  0.4700,  0.0000,  0.2300,  1.0000],\n        [-0.9477,  0.3000,  0.3100,  0.1600,  0.2300,  1.0000],\n        [-1.1365,  0.3000,  0.1600,  0.3100,  0.2300,  1.0000],\n        [-1.3380,  0.3000,  0.0000,  0.4700,  0.2300,  1.0000],\n        [-0.1618,  0.3000,  0.7000,  0.0000,  0.0000,  1.0000],\n        [-0.4514,  0.3000,  0.4700,  0.2300,  0.0000,  1.0000],\n        [-0.7535,  0.3000,  0.2300,  0.4700,  0.0000,  1.0000],\n        [-1.0431,  0.3000,  0.0000,  0.7000,  0.0000,  1.0000]],\n       dtype=torch.float64)"
     },
     "execution_count": 140,
     "metadata": {},
     "output_type": "execute_result"
    }
   ],
   "source": [
    "X_train_BO = torch.tensor(data_BO.values)\n",
    "# X_train_BO = X_train_BO.float()\n",
    "# X_train_BO = data_BO\n",
    "X_train_BO"
   ],
   "metadata": {
    "collapsed": false
   }
  },
  {
   "cell_type": "markdown",
   "source": [
    "Y-train needs to be the probability of being good"
   ],
   "metadata": {
    "collapsed": false
   }
  },
  {
   "cell_type": "code",
   "execution_count": 141,
   "outputs": [
    {
     "name": "stderr",
     "output_type": "stream",
     "text": [
      "/Users/yimengjin/Desktop/Thesis/Thesis_Yimeng/venv/lib/python3.9/site-packages/sklearn/base.py:409: UserWarning: X does not have valid feature names, but DecisionTreeClassifier was fitted with feature names\n",
      "  warnings.warn(\n"
     ]
    },
    {
     "data": {
      "text/plain": "tensor([[0.8500],\n        [0.8500],\n        [0.8500],\n        [0.8500],\n        [0.8500],\n        [0.8500],\n        [0.8500],\n        [0.8500],\n        [0.8500],\n        [0.8500],\n        [0.8500],\n        [0.8500],\n        [0.8500],\n        [0.8500],\n        [0.8500],\n        [0.8500],\n        [0.8500],\n        [0.8500],\n        [0.8500],\n        [0.8500],\n        [0.8500],\n        [0.8500],\n        [0.8500],\n        [0.8500],\n        [0.8500],\n        [0.8500],\n        [0.8500],\n        [0.8500],\n        [0.8500],\n        [0.8500],\n        [0.8500],\n        [0.8500],\n        [0.8500],\n        [0.8500],\n        [0.8500],\n        [0.8500],\n        [0.8500],\n        [0.0000],\n        [0.0000],\n        [0.0000],\n        [0.0000],\n        [0.0000],\n        [0.0000],\n        [0.0000],\n        [0.0000],\n        [0.0000],\n        [0.0000],\n        [0.0000],\n        [0.0000],\n        [0.0000],\n        [0.0000],\n        [0.0000],\n        [0.7065],\n        [0.0000],\n        [0.0000],\n        [0.0000],\n        [0.8280],\n        [0.8280],\n        [0.0000],\n        [0.0000],\n        [0.0000],\n        [0.8280],\n        [0.8280],\n        [0.0000],\n        [0.0000],\n        [0.0000],\n        [0.0000],\n        [0.0000],\n        [0.0000],\n        [0.0000],\n        [0.7065],\n        [0.7065],\n        [0.0000],\n        [0.0000],\n        [0.0000],\n        [0.8280],\n        [0.0000],\n        [0.0000],\n        [0.0000],\n        [0.0000],\n        [0.0000],\n        [0.0000],\n        [0.0000],\n        [0.0000],\n        [0.0000],\n        [0.0000],\n        [0.0000],\n        [0.0000],\n        [0.0000],\n        [0.0000],\n        [0.0000],\n        [0.0000],\n        [0.7065],\n        [0.0000],\n        [0.0000],\n        [0.0000],\n        [0.8280],\n        [0.8280],\n        [0.0000],\n        [0.0000],\n        [0.0000],\n        [0.8280],\n        [0.8280],\n        [0.0000],\n        [0.0000],\n        [0.0000],\n        [0.0000],\n        [0.0000],\n        [0.0000],\n        [0.0000],\n        [0.7065],\n        [0.7065],\n        [0.0000],\n        [0.0000],\n        [0.0000],\n        [0.8280],\n        [0.0000],\n        [0.0000],\n        [0.0000],\n        [0.0000],\n        [0.0000],\n        [0.0000],\n        [0.0000],\n        [0.0000],\n        [0.0000],\n        [0.0000],\n        [0.0000],\n        [0.0000],\n        [0.0000],\n        [0.0000],\n        [0.0000],\n        [0.0000],\n        [0.0000],\n        [0.0000],\n        [0.0000],\n        [0.0000],\n        [0.0000],\n        [0.0000],\n        [0.0000],\n        [0.0000],\n        [0.0000],\n        [0.0000],\n        [0.0000],\n        [0.0000],\n        [0.0000],\n        [0.0000],\n        [0.0000],\n        [0.0000],\n        [0.0000],\n        [0.0000],\n        [0.0000],\n        [0.0000],\n        [0.0000],\n        [0.0000],\n        [0.0000],\n        [0.0000],\n        [0.0000]], dtype=torch.float64)"
     },
     "execution_count": 141,
     "metadata": {},
     "output_type": "execute_result"
    }
   ],
   "source": [
    "Y_train_BO = dtc_op.predict_proba(X_train_BO)\n",
    "# depend on what classifier we are using, currently using decision tree classifier\n",
    "Y_train_BO = Y_train_BO[:,1]\n",
    "Y_train_BO = torch.tensor(Y_train_BO)\n",
    "Y_train_BO = torch.reshape(Y_train_BO,(len(Y_train_BO),1))\n",
    "Y_train_BO"
   ],
   "metadata": {
    "collapsed": false
   }
  },
  {
   "cell_type": "code",
   "execution_count": 142,
   "outputs": [
    {
     "data": {
      "text/plain": "tensor([0.8500], dtype=torch.float64)"
     },
     "execution_count": 142,
     "metadata": {},
     "output_type": "execute_result"
    }
   ],
   "source": [
    "best_y = max(Y_train_BO)\n",
    "best_y"
   ],
   "metadata": {
    "collapsed": false
   }
  },
  {
   "cell_type": "markdown",
   "source": [
    "# Fit BO model\n",
    "Physical constraints must be applied\n",
    "### SingleTaskGP:\n",
    "Only considers continuous inputs\n",
    "### MixedSingleTaskGP:\n",
    "Include discrete inputs and combines using a categorical kernel"
   ],
   "metadata": {
    "collapsed": false
   }
  },
  {
   "cell_type": "code",
   "execution_count": 143,
   "outputs": [
    {
     "data": {
      "text/plain": "ExactMarginalLogLikelihood(\n  (likelihood): GaussianLikelihood(\n    (noise_covar): HomoskedasticNoise(\n      (noise_prior): GammaPrior()\n      (raw_noise_constraint): GreaterThan(1.000E-06)\n    )\n  )\n  (model): MixedSingleTaskGP(\n    (likelihood): GaussianLikelihood(\n      (noise_covar): HomoskedasticNoise(\n        (noise_prior): GammaPrior()\n        (raw_noise_constraint): GreaterThan(1.000E-06)\n      )\n    )\n    (mean_module): ConstantMean()\n    (covar_module): AdditiveKernel(\n      (kernels): ModuleList(\n        (0): ScaleKernel(\n          (base_kernel): AdditiveKernel(\n            (kernels): ModuleList(\n              (0): MaternKernel(\n                (raw_lengthscale_constraint): GreaterThan(1.000E-04)\n                (distance_module): Distance()\n              )\n              (1): ScaleKernel(\n                (base_kernel): CategoricalKernel(\n                  (raw_lengthscale_constraint): GreaterThan(1.000E-06)\n                )\n                (raw_outputscale_constraint): Positive()\n              )\n            )\n          )\n          (raw_outputscale_constraint): Positive()\n        )\n        (1): ScaleKernel(\n          (base_kernel): ProductKernel(\n            (kernels): ModuleList(\n              (0): MaternKernel(\n                (raw_lengthscale_constraint): GreaterThan(1.000E-04)\n                (distance_module): Distance()\n              )\n              (1): CategoricalKernel(\n                (raw_lengthscale_constraint): GreaterThan(1.000E-06)\n              )\n            )\n          )\n          (raw_outputscale_constraint): Positive()\n        )\n      )\n    )\n  )\n)"
     },
     "execution_count": 143,
     "metadata": {},
     "output_type": "execute_result"
    }
   ],
   "source": [
    "# model=SingleTaskGP(X_train_BO, Y_train_BO)\n",
    "# mll=ExactMarginalLogLikelihood(model.likelihood, model)\n",
    "# fit_gpytorch_mll(mll)\n",
    "# model = fully_bayesian.SaasFullyBayesianSingleTaskGP(X_train_BO, Y_train_BO)\n",
    "# fit_fully_bayesian_model_nuts(model)\n",
    "\n",
    "model=MixedSingleTaskGP(X_train_BO,Y_train_BO,cat_dims=[-1])\n",
    "mll=ExactMarginalLogLikelihood(model.likelihood, model)\n",
    "fit_gpytorch_mll(mll)"
   ],
   "metadata": {
    "collapsed": false
   }
  },
  {
   "cell_type": "markdown",
   "source": [
    "# Acquisition Function\n",
    "## EI"
   ],
   "metadata": {
    "collapsed": false
   }
  },
  {
   "cell_type": "code",
   "execution_count": 144,
   "outputs": [],
   "source": [
    "from botorch.sampling.normal import SobolQMCNormalSampler\n",
    "# Sobol sequences use a base of two to form successively finer uniform partitions of the unit interval and then reorder the coordinates in each dimension. (Wiki)\n",
    "\n",
    "EI = qExpectedImprovement(\n",
    "    model = model,\n",
    "    best_f = best_y,\n",
    "    sampler = SobolQMCNormalSampler(1024)\n",
    ")"
   ],
   "metadata": {
    "collapsed": false
   }
  },
  {
   "cell_type": "markdown",
   "source": [
    "## UCB"
   ],
   "metadata": {
    "collapsed": false
   }
  },
  {
   "cell_type": "code",
   "execution_count": null,
   "outputs": [],
   "source": [
    "UCB = qUpperConfidenceBound(\n",
    "    model = model,\n",
    "    beta = 0.6,\n",
    ")"
   ],
   "metadata": {
    "collapsed": false
   }
  },
  {
   "cell_type": "code",
   "execution_count": 56,
   "outputs": [],
   "source": [
    "# Constraints and bounds\n",
    "bounds = torch.tensor([[-5., 0., 0., 0., 0., 0.],[5., 1., 1., 1., 1., 1.]])"
   ],
   "metadata": {
    "collapsed": false
   }
  },
  {
   "cell_type": "markdown",
   "source": [
    "optimize_acqf_mixed: Optimize over a list of fixed_features and returns the best solution.\n",
    "Gradient is not implied to categorical features."
   ],
   "metadata": {
    "collapsed": false
   }
  },
  {
   "cell_type": "code",
   "execution_count": 145,
   "outputs": [
    {
     "data": {
      "text/plain": "tensor([[ 7.9272e-01,  4.1859e-01,  1.9563e-01,  3.8578e-01,  0.0000e+00,\n          0.0000e+00],\n        [ 7.2842e-01,  3.9654e-01,  1.9322e-01,  3.8479e-01,  2.5447e-02,\n          1.0000e+00],\n        [ 5.0000e+00,  6.1596e-01,  3.8404e-01,  0.0000e+00,  2.5388e-11,\n          0.0000e+00],\n        [ 4.8963e-01,  1.6576e-17,  1.0000e+00,  4.9794e-17,  5.2360e-17,\n          0.0000e+00],\n        [ 7.7198e-01,  2.6177e-01,  1.5141e-01,  5.8682e-01,  1.6201e-14,\n          0.0000e+00],\n        [ 5.0000e+00,  7.9135e-01,  2.0865e-01,  0.0000e+00,  0.0000e+00,\n          0.0000e+00],\n        [ 1.3245e+00,  5.5693e-01,  3.9754e-01,  4.5530e-02,  1.6066e-14,\n          0.0000e+00],\n        [-5.0000e+00,  8.2008e-01,  1.7992e-01,  3.0394e-15,  3.9072e-16,\n          0.0000e+00],\n        [-5.0000e+00,  0.0000e+00,  8.6408e-01,  2.4803e-14,  1.3592e-01,\n          0.0000e+00],\n        [ 5.0000e+00,  3.7027e-17,  9.0434e-01,  9.5662e-02,  0.0000e+00,\n          0.0000e+00]])"
     },
     "execution_count": 145,
     "metadata": {},
     "output_type": "execute_result"
    }
   ],
   "source": [
    "X_candidates,_ = optimize_acqf_mixed(\n",
    "    acq_function = EI,\n",
    "    bounds = bounds,\n",
    "    q = 10, # Number of suggested candidates\n",
    "    num_restarts = 20,\n",
    "    raw_samples = 64,\n",
    "    equality_constraints = [(torch.tensor([1, 2, 3, 4]), torch.tensor([1.]*4), 1.0)],\n",
    "    fixed_features_list = [{5:0},{5:1}]\n",
    ")\n",
    "X_candidates"
   ],
   "metadata": {
    "collapsed": false
   }
  },
  {
   "cell_type": "markdown",
   "source": [
    "## Substitute generated candidates to random forest classifier"
   ],
   "metadata": {
    "collapsed": false
   }
  },
  {
   "cell_type": "markdown",
   "source": [
    "The outcome of Y-rf should be the probability, and keep maximising\n",
    "rf.probability"
   ],
   "metadata": {
    "collapsed": false
   }
  },
  {
   "cell_type": "code",
   "execution_count": 146,
   "outputs": [
    {
     "name": "stderr",
     "output_type": "stream",
     "text": [
      "/Users/yimengjin/Desktop/Thesis/Thesis_Yimeng/venv/lib/python3.9/site-packages/sklearn/base.py:409: UserWarning: X does not have valid feature names, but DecisionTreeClassifier was fitted with feature names\n",
      "  warnings.warn(\n"
     ]
    },
    {
     "data": {
      "text/plain": "array([[0.15004904, 0.84995096],\n       [0.17197452, 0.82802548],\n       [0.15004904, 0.84995096],\n       [0.15004904, 0.84995096],\n       [0.15004904, 0.84995096],\n       [0.15004904, 0.84995096],\n       [0.15004904, 0.84995096],\n       [0.15004904, 0.84995096],\n       [0.15004904, 0.84995096],\n       [0.15004904, 0.84995096]])"
     },
     "execution_count": 146,
     "metadata": {},
     "output_type": "execute_result"
    }
   ],
   "source": [
    "Y_dtc = dtc_op.predict_proba(X_candidates)\n",
    "Y_dtc"
   ],
   "metadata": {
    "collapsed": false
   }
  },
  {
   "cell_type": "code",
   "execution_count": 147,
   "outputs": [
    {
     "data": {
      "text/plain": "10"
     },
     "execution_count": 147,
     "metadata": {},
     "output_type": "execute_result"
    }
   ],
   "source": [
    "np.count_nonzero(Y_dtc[:,1] > 0.5)"
   ],
   "metadata": {
    "collapsed": false
   }
  },
  {
   "cell_type": "code",
   "execution_count": 148,
   "outputs": [
    {
     "data": {
      "text/plain": "0.8499509643674403"
     },
     "execution_count": 148,
     "metadata": {},
     "output_type": "execute_result"
    }
   ],
   "source": [
    "max(Y_dtc[:,1]) # Max. probability achieved"
   ],
   "metadata": {
    "collapsed": false
   }
  },
  {
   "cell_type": "code",
   "execution_count": 41,
   "outputs": [
    {
     "data": {
      "text/plain": "tensor([[1.0000],\n        [0.8539],\n        [1.0000],\n        [0.8539],\n        [1.0000]], dtype=torch.float64)"
     },
     "execution_count": 41,
     "metadata": {},
     "output_type": "execute_result"
    }
   ],
   "source": [
    "Y_dtc = torch.tensor(Y_dtc[:, 1])\n",
    "Y_rf = torch.reshape(Y_dtc,(len(Y_dtc),1))\n",
    "Y_rf"
   ],
   "metadata": {
    "collapsed": false
   }
  },
  {
   "cell_type": "markdown",
   "source": [
    "## Second Round"
   ],
   "metadata": {
    "collapsed": false
   }
  },
  {
   "cell_type": "code",
   "execution_count": null,
   "outputs": [],
   "source": [
    "X_train_2 = (X_train_BO,X_candidates)\n",
    "X_train_2 = torch.cat(X_train_2, dim = 0)\n",
    "X_train_2 = X_train_2.float()\n",
    "X_train_2"
   ],
   "metadata": {
    "collapsed": false
   }
  },
  {
   "cell_type": "code",
   "execution_count": null,
   "outputs": [],
   "source": [
    "Y_train_2 = (Y_train_BO,Y_rf)\n",
    "Y_train_2 = torch.cat(Y_train_2, dim = 0)\n",
    "Y_train_2 = Y_train_2.float()\n",
    "Y_train_2\n",
    "# len(Y_train_2)"
   ],
   "metadata": {
    "collapsed": false
   }
  },
  {
   "cell_type": "code",
   "execution_count": null,
   "outputs": [],
   "source": [
    "model=SingleTaskGP(X_train_2, Y_train_2)\n",
    "mll=ExactMarginalLogLikelihood(model.likelihood, model)\n",
    "fit_gpytorch_mll(mll)\n",
    "\n",
    "# model = fully_bayesian.SaasFullyBayesianSingleTaskGP(X_train_2, Y_train_2)\n",
    "# fit_fully_bayesian_model_nuts(model)"
   ],
   "metadata": {
    "collapsed": false
   }
  },
  {
   "cell_type": "code",
   "execution_count": null,
   "outputs": [],
   "source": [
    "EI = qExpectedImprovement(\n",
    "    model = model,\n",
    "    best_f = best_y\n",
    ")\n",
    "\n",
    "UCB = qUpperConfidenceBound(\n",
    "    model = model,\n",
    "    beta = 0.6,\n",
    ")"
   ],
   "metadata": {
    "collapsed": false
   }
  },
  {
   "cell_type": "code",
   "execution_count": null,
   "outputs": [],
   "source": [
    "X_candidates,_ = optimize_acqf(\n",
    "    acq_function = EI,\n",
    "    bounds = torch.tensor([[-5., 0., 0., 0., 0.],[5., 1., 1., 1., 1.]]),\n",
    "    q = 20, # Number of suggested candidates\n",
    "    num_restarts = 200,\n",
    "    raw_samples = 512\n",
    ")\n",
    "X_candidates"
   ],
   "metadata": {
    "collapsed": false
   }
  },
  {
   "cell_type": "code",
   "execution_count": null,
   "outputs": [],
   "source": [
    "Y_rf = rf.predict_proba(X_candidates)\n",
    "Y_rf"
   ],
   "metadata": {
    "collapsed": false
   }
  },
  {
   "cell_type": "code",
   "execution_count": null,
   "outputs": [],
   "source": [
    "np.count_nonzero(Y_rf[:,1] > 0.5)"
   ],
   "metadata": {
    "collapsed": false
   }
  },
  {
   "cell_type": "markdown",
   "source": [
    "1. Change Y-train (y_rf) done\n",
    "2. Apply constraints (parameter constraints)\n",
    "3. think about the dummy variables, whether that's doable in BO"
   ],
   "metadata": {
    "collapsed": false
   }
  },
  {
   "cell_type": "code",
   "execution_count": null,
   "outputs": [],
   "source": [
    "max(Y_rf[:,1])"
   ],
   "metadata": {
    "collapsed": false
   }
  },
  {
   "cell_type": "code",
   "execution_count": null,
   "outputs": [],
   "source": [],
   "metadata": {
    "collapsed": false
   }
  }
 ],
 "metadata": {
  "kernelspec": {
   "display_name": "Python 3",
   "language": "python",
   "name": "python3"
  },
  "language_info": {
   "codemirror_mode": {
    "name": "ipython",
    "version": 2
   },
   "file_extension": ".py",
   "mimetype": "text/x-python",
   "name": "python",
   "nbconvert_exporter": "python",
   "pygments_lexer": "ipython2",
   "version": "2.7.6"
  }
 },
 "nbformat": 4,
 "nbformat_minor": 0
}
